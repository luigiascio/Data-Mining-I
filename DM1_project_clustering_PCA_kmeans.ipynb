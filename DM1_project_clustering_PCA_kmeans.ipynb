{
 "cells": [
  {
   "cell_type": "code",
   "execution_count": 1,
   "metadata": {},
   "outputs": [
    {
     "data": {
      "text/html": [
       "<div>\n",
       "<style scoped>\n",
       "    .dataframe tbody tr th:only-of-type {\n",
       "        vertical-align: middle;\n",
       "    }\n",
       "\n",
       "    .dataframe tbody tr th {\n",
       "        vertical-align: top;\n",
       "    }\n",
       "\n",
       "    .dataframe thead th {\n",
       "        text-align: right;\n",
       "    }\n",
       "</style>\n",
       "<table border=\"1\" class=\"dataframe\">\n",
       "  <thead>\n",
       "    <tr style=\"text-align: right;\">\n",
       "      <th></th>\n",
       "      <th>Popularity and Visibility</th>\n",
       "      <th>Quality and Production Year</th>\n",
       "      <th>Awards and Duration</th>\n",
       "      <th>Year and Duration</th>\n",
       "      <th>Duration and Rating</th>\n",
       "    </tr>\n",
       "  </thead>\n",
       "  <tbody>\n",
       "    <tr>\n",
       "      <th>0</th>\n",
       "      <td>-0.346579</td>\n",
       "      <td>0.098145</td>\n",
       "      <td>-0.806746</td>\n",
       "      <td>-0.427913</td>\n",
       "      <td>0.328098</td>\n",
       "    </tr>\n",
       "    <tr>\n",
       "      <th>1</th>\n",
       "      <td>-1.618868</td>\n",
       "      <td>-0.365689</td>\n",
       "      <td>0.405130</td>\n",
       "      <td>-0.254094</td>\n",
       "      <td>-0.970461</td>\n",
       "    </tr>\n",
       "    <tr>\n",
       "      <th>2</th>\n",
       "      <td>-0.763450</td>\n",
       "      <td>-0.721884</td>\n",
       "      <td>0.720200</td>\n",
       "      <td>0.806694</td>\n",
       "      <td>0.062175</td>\n",
       "    </tr>\n",
       "    <tr>\n",
       "      <th>3</th>\n",
       "      <td>-0.506804</td>\n",
       "      <td>0.166461</td>\n",
       "      <td>-0.184220</td>\n",
       "      <td>1.056516</td>\n",
       "      <td>-0.478649</td>\n",
       "    </tr>\n",
       "    <tr>\n",
       "      <th>4</th>\n",
       "      <td>7.945215</td>\n",
       "      <td>-0.716464</td>\n",
       "      <td>-1.416758</td>\n",
       "      <td>-0.013609</td>\n",
       "      <td>0.743721</td>\n",
       "    </tr>\n",
       "    <tr>\n",
       "      <th>...</th>\n",
       "      <td>...</td>\n",
       "      <td>...</td>\n",
       "      <td>...</td>\n",
       "      <td>...</td>\n",
       "      <td>...</td>\n",
       "    </tr>\n",
       "    <tr>\n",
       "      <th>15920</th>\n",
       "      <td>0.898226</td>\n",
       "      <td>-2.430100</td>\n",
       "      <td>0.605703</td>\n",
       "      <td>-0.643798</td>\n",
       "      <td>0.342123</td>\n",
       "    </tr>\n",
       "    <tr>\n",
       "      <th>15921</th>\n",
       "      <td>-0.837187</td>\n",
       "      <td>-1.080911</td>\n",
       "      <td>1.081214</td>\n",
       "      <td>1.001772</td>\n",
       "      <td>-0.389527</td>\n",
       "    </tr>\n",
       "    <tr>\n",
       "      <th>15922</th>\n",
       "      <td>5.465723</td>\n",
       "      <td>0.093960</td>\n",
       "      <td>0.320247</td>\n",
       "      <td>2.075547</td>\n",
       "      <td>-0.373623</td>\n",
       "    </tr>\n",
       "    <tr>\n",
       "      <th>15923</th>\n",
       "      <td>4.999930</td>\n",
       "      <td>-3.485802</td>\n",
       "      <td>-0.475646</td>\n",
       "      <td>0.735213</td>\n",
       "      <td>-0.731691</td>\n",
       "    </tr>\n",
       "    <tr>\n",
       "      <th>15924</th>\n",
       "      <td>-1.278654</td>\n",
       "      <td>1.922242</td>\n",
       "      <td>-1.437391</td>\n",
       "      <td>-0.318627</td>\n",
       "      <td>0.676352</td>\n",
       "    </tr>\n",
       "  </tbody>\n",
       "</table>\n",
       "<p>15925 rows × 5 columns</p>\n",
       "</div>"
      ],
      "text/plain": [
       "       Popularity and Visibility  Quality and Production Year  \\\n",
       "0                      -0.346579                     0.098145   \n",
       "1                      -1.618868                    -0.365689   \n",
       "2                      -0.763450                    -0.721884   \n",
       "3                      -0.506804                     0.166461   \n",
       "4                       7.945215                    -0.716464   \n",
       "...                          ...                          ...   \n",
       "15920                   0.898226                    -2.430100   \n",
       "15921                  -0.837187                    -1.080911   \n",
       "15922                   5.465723                     0.093960   \n",
       "15923                   4.999930                    -3.485802   \n",
       "15924                  -1.278654                     1.922242   \n",
       "\n",
       "       Awards and Duration  Year and Duration  Duration and Rating  \n",
       "0                -0.806746          -0.427913             0.328098  \n",
       "1                 0.405130          -0.254094            -0.970461  \n",
       "2                 0.720200           0.806694             0.062175  \n",
       "3                -0.184220           1.056516            -0.478649  \n",
       "4                -1.416758          -0.013609             0.743721  \n",
       "...                    ...                ...                  ...  \n",
       "15920             0.605703          -0.643798             0.342123  \n",
       "15921             1.081214           1.001772            -0.389527  \n",
       "15922             0.320247           2.075547            -0.373623  \n",
       "15923            -0.475646           0.735213            -0.731691  \n",
       "15924            -1.437391          -0.318627             0.676352  \n",
       "\n",
       "[15925 rows x 5 columns]"
      ]
     },
     "execution_count": 1,
     "metadata": {},
     "output_type": "execute_result"
    }
   ],
   "source": [
    "import pandas as pd\n",
    "from sklearn.decomposition import PCA\n",
    "from sklearn.preprocessing import StandardScaler\n",
    "from sklearn.cluster import KMeans\n",
    "from sklearn.metrics import silhouette_score\n",
    "import matplotlib.pyplot as plt\n",
    "import numpy as np\n",
    "from mpl_toolkits.mplot3d import Axes3D\n",
    "import plotly.graph_objects as go\n",
    "from plotly.subplots import make_subplots\n",
    "\n",
    "train_pca = pd.read_csv('train_pca.csv')\n",
    "del train_pca['Unnamed: 0']\n",
    "train_pca"
   ]
  },
  {
   "cell_type": "code",
   "execution_count": 2,
   "metadata": {},
   "outputs": [
    {
     "name": "stderr",
     "output_type": "stream",
     "text": [
      "c:\\Users\\Lavigi\\AppData\\Local\\Programs\\Python\\Python313\\Lib\\site-packages\\joblib\\externals\\loky\\backend\\context.py:136: UserWarning: Could not find the number of physical cores for the following reason:\n",
      "found 0 physical cores < 1\n",
      "Returning the number of logical cores instead. You can silence this warning by setting LOKY_MAX_CPU_COUNT to the number of cores you want to use.\n",
      "  warnings.warn(\n",
      "  File \"c:\\Users\\Lavigi\\AppData\\Local\\Programs\\Python\\Python313\\Lib\\site-packages\\joblib\\externals\\loky\\backend\\context.py\", line 282, in _count_physical_cores\n",
      "    raise ValueError(f\"found {cpu_count_physical} physical cores < 1\")\n"
     ]
    },
    {
     "data": {
      "application/vnd.plotly.v1+json": {
       "config": {
        "plotlyServerURL": "https://plot.ly"
       },
       "data": [
        {
         "mode": "lines+markers",
         "name": "SSE",
         "type": "scatter",
         "x": [
          2,
          3,
          4,
          5,
          6,
          7,
          8,
          9,
          10,
          11,
          12,
          13,
          14,
          15,
          16,
          17,
          18,
          19,
          20
         ],
         "xaxis": "x",
         "y": [
          68253.99886590033,
          57880.023639879335,
          49686.83628374876,
          43950.84778912504,
          39247.896880291635,
          36811.21691691677,
          34524.0527801315,
          32145.670739665693,
          30779.65333620794,
          29352.962300705476,
          27939.12877460534,
          26462.659374234026,
          25490.10096743441,
          24467.485352006897,
          23707.61460957669,
          22807.2017046176,
          22308.67019835522,
          21761.247137945455,
          21160.29393963293
         ],
         "yaxis": "y"
        },
        {
         "mode": "lines+markers",
         "name": "Silhouette",
         "type": "scatter",
         "x": [
          2,
          3,
          4,
          5,
          6,
          7,
          8,
          9,
          10,
          11,
          12,
          13,
          14,
          15,
          16,
          17,
          18,
          19,
          20
         ],
         "xaxis": "x2",
         "y": [
          0.2033173472726493,
          0.21420957704414645,
          0.2214392060470561,
          0.2296138546599899,
          0.2232634841106628,
          0.22954668721979726,
          0.23475937060819324,
          0.2057786171514763,
          0.19897363247401076,
          0.20570156598555753,
          0.20721043996859068,
          0.21079733699289813,
          0.2089875754928943,
          0.20846155329135255,
          0.21060921011246417,
          0.21158755597095205,
          0.20743558256462946,
          0.20532823003698117,
          0.20096732126469508
         ],
         "yaxis": "y2"
        }
       ],
       "layout": {
        "annotations": [
         {
          "font": {
           "size": 16
          },
          "showarrow": false,
          "text": "SSE vs k",
          "x": 0.225,
          "xanchor": "center",
          "xref": "paper",
          "y": 1,
          "yanchor": "bottom",
          "yref": "paper"
         },
         {
          "font": {
           "size": 16
          },
          "showarrow": false,
          "text": "Silhouette Score vs k",
          "x": 0.775,
          "xanchor": "center",
          "xref": "paper",
          "y": 1,
          "yanchor": "bottom",
          "yref": "paper"
         }
        ],
        "showlegend": false,
        "template": {
         "data": {
          "bar": [
           {
            "error_x": {
             "color": "#2a3f5f"
            },
            "error_y": {
             "color": "#2a3f5f"
            },
            "marker": {
             "line": {
              "color": "#E5ECF6",
              "width": 0.5
             },
             "pattern": {
              "fillmode": "overlay",
              "size": 10,
              "solidity": 0.2
             }
            },
            "type": "bar"
           }
          ],
          "barpolar": [
           {
            "marker": {
             "line": {
              "color": "#E5ECF6",
              "width": 0.5
             },
             "pattern": {
              "fillmode": "overlay",
              "size": 10,
              "solidity": 0.2
             }
            },
            "type": "barpolar"
           }
          ],
          "carpet": [
           {
            "aaxis": {
             "endlinecolor": "#2a3f5f",
             "gridcolor": "white",
             "linecolor": "white",
             "minorgridcolor": "white",
             "startlinecolor": "#2a3f5f"
            },
            "baxis": {
             "endlinecolor": "#2a3f5f",
             "gridcolor": "white",
             "linecolor": "white",
             "minorgridcolor": "white",
             "startlinecolor": "#2a3f5f"
            },
            "type": "carpet"
           }
          ],
          "choropleth": [
           {
            "colorbar": {
             "outlinewidth": 0,
             "ticks": ""
            },
            "type": "choropleth"
           }
          ],
          "contour": [
           {
            "colorbar": {
             "outlinewidth": 0,
             "ticks": ""
            },
            "colorscale": [
             [
              0,
              "#0d0887"
             ],
             [
              0.1111111111111111,
              "#46039f"
             ],
             [
              0.2222222222222222,
              "#7201a8"
             ],
             [
              0.3333333333333333,
              "#9c179e"
             ],
             [
              0.4444444444444444,
              "#bd3786"
             ],
             [
              0.5555555555555556,
              "#d8576b"
             ],
             [
              0.6666666666666666,
              "#ed7953"
             ],
             [
              0.7777777777777778,
              "#fb9f3a"
             ],
             [
              0.8888888888888888,
              "#fdca26"
             ],
             [
              1,
              "#f0f921"
             ]
            ],
            "type": "contour"
           }
          ],
          "contourcarpet": [
           {
            "colorbar": {
             "outlinewidth": 0,
             "ticks": ""
            },
            "type": "contourcarpet"
           }
          ],
          "heatmap": [
           {
            "colorbar": {
             "outlinewidth": 0,
             "ticks": ""
            },
            "colorscale": [
             [
              0,
              "#0d0887"
             ],
             [
              0.1111111111111111,
              "#46039f"
             ],
             [
              0.2222222222222222,
              "#7201a8"
             ],
             [
              0.3333333333333333,
              "#9c179e"
             ],
             [
              0.4444444444444444,
              "#bd3786"
             ],
             [
              0.5555555555555556,
              "#d8576b"
             ],
             [
              0.6666666666666666,
              "#ed7953"
             ],
             [
              0.7777777777777778,
              "#fb9f3a"
             ],
             [
              0.8888888888888888,
              "#fdca26"
             ],
             [
              1,
              "#f0f921"
             ]
            ],
            "type": "heatmap"
           }
          ],
          "heatmapgl": [
           {
            "colorbar": {
             "outlinewidth": 0,
             "ticks": ""
            },
            "colorscale": [
             [
              0,
              "#0d0887"
             ],
             [
              0.1111111111111111,
              "#46039f"
             ],
             [
              0.2222222222222222,
              "#7201a8"
             ],
             [
              0.3333333333333333,
              "#9c179e"
             ],
             [
              0.4444444444444444,
              "#bd3786"
             ],
             [
              0.5555555555555556,
              "#d8576b"
             ],
             [
              0.6666666666666666,
              "#ed7953"
             ],
             [
              0.7777777777777778,
              "#fb9f3a"
             ],
             [
              0.8888888888888888,
              "#fdca26"
             ],
             [
              1,
              "#f0f921"
             ]
            ],
            "type": "heatmapgl"
           }
          ],
          "histogram": [
           {
            "marker": {
             "pattern": {
              "fillmode": "overlay",
              "size": 10,
              "solidity": 0.2
             }
            },
            "type": "histogram"
           }
          ],
          "histogram2d": [
           {
            "colorbar": {
             "outlinewidth": 0,
             "ticks": ""
            },
            "colorscale": [
             [
              0,
              "#0d0887"
             ],
             [
              0.1111111111111111,
              "#46039f"
             ],
             [
              0.2222222222222222,
              "#7201a8"
             ],
             [
              0.3333333333333333,
              "#9c179e"
             ],
             [
              0.4444444444444444,
              "#bd3786"
             ],
             [
              0.5555555555555556,
              "#d8576b"
             ],
             [
              0.6666666666666666,
              "#ed7953"
             ],
             [
              0.7777777777777778,
              "#fb9f3a"
             ],
             [
              0.8888888888888888,
              "#fdca26"
             ],
             [
              1,
              "#f0f921"
             ]
            ],
            "type": "histogram2d"
           }
          ],
          "histogram2dcontour": [
           {
            "colorbar": {
             "outlinewidth": 0,
             "ticks": ""
            },
            "colorscale": [
             [
              0,
              "#0d0887"
             ],
             [
              0.1111111111111111,
              "#46039f"
             ],
             [
              0.2222222222222222,
              "#7201a8"
             ],
             [
              0.3333333333333333,
              "#9c179e"
             ],
             [
              0.4444444444444444,
              "#bd3786"
             ],
             [
              0.5555555555555556,
              "#d8576b"
             ],
             [
              0.6666666666666666,
              "#ed7953"
             ],
             [
              0.7777777777777778,
              "#fb9f3a"
             ],
             [
              0.8888888888888888,
              "#fdca26"
             ],
             [
              1,
              "#f0f921"
             ]
            ],
            "type": "histogram2dcontour"
           }
          ],
          "mesh3d": [
           {
            "colorbar": {
             "outlinewidth": 0,
             "ticks": ""
            },
            "type": "mesh3d"
           }
          ],
          "parcoords": [
           {
            "line": {
             "colorbar": {
              "outlinewidth": 0,
              "ticks": ""
             }
            },
            "type": "parcoords"
           }
          ],
          "pie": [
           {
            "automargin": true,
            "type": "pie"
           }
          ],
          "scatter": [
           {
            "fillpattern": {
             "fillmode": "overlay",
             "size": 10,
             "solidity": 0.2
            },
            "type": "scatter"
           }
          ],
          "scatter3d": [
           {
            "line": {
             "colorbar": {
              "outlinewidth": 0,
              "ticks": ""
             }
            },
            "marker": {
             "colorbar": {
              "outlinewidth": 0,
              "ticks": ""
             }
            },
            "type": "scatter3d"
           }
          ],
          "scattercarpet": [
           {
            "marker": {
             "colorbar": {
              "outlinewidth": 0,
              "ticks": ""
             }
            },
            "type": "scattercarpet"
           }
          ],
          "scattergeo": [
           {
            "marker": {
             "colorbar": {
              "outlinewidth": 0,
              "ticks": ""
             }
            },
            "type": "scattergeo"
           }
          ],
          "scattergl": [
           {
            "marker": {
             "colorbar": {
              "outlinewidth": 0,
              "ticks": ""
             }
            },
            "type": "scattergl"
           }
          ],
          "scattermapbox": [
           {
            "marker": {
             "colorbar": {
              "outlinewidth": 0,
              "ticks": ""
             }
            },
            "type": "scattermapbox"
           }
          ],
          "scatterpolar": [
           {
            "marker": {
             "colorbar": {
              "outlinewidth": 0,
              "ticks": ""
             }
            },
            "type": "scatterpolar"
           }
          ],
          "scatterpolargl": [
           {
            "marker": {
             "colorbar": {
              "outlinewidth": 0,
              "ticks": ""
             }
            },
            "type": "scatterpolargl"
           }
          ],
          "scatterternary": [
           {
            "marker": {
             "colorbar": {
              "outlinewidth": 0,
              "ticks": ""
             }
            },
            "type": "scatterternary"
           }
          ],
          "surface": [
           {
            "colorbar": {
             "outlinewidth": 0,
             "ticks": ""
            },
            "colorscale": [
             [
              0,
              "#0d0887"
             ],
             [
              0.1111111111111111,
              "#46039f"
             ],
             [
              0.2222222222222222,
              "#7201a8"
             ],
             [
              0.3333333333333333,
              "#9c179e"
             ],
             [
              0.4444444444444444,
              "#bd3786"
             ],
             [
              0.5555555555555556,
              "#d8576b"
             ],
             [
              0.6666666666666666,
              "#ed7953"
             ],
             [
              0.7777777777777778,
              "#fb9f3a"
             ],
             [
              0.8888888888888888,
              "#fdca26"
             ],
             [
              1,
              "#f0f921"
             ]
            ],
            "type": "surface"
           }
          ],
          "table": [
           {
            "cells": {
             "fill": {
              "color": "#EBF0F8"
             },
             "line": {
              "color": "white"
             }
            },
            "header": {
             "fill": {
              "color": "#C8D4E3"
             },
             "line": {
              "color": "white"
             }
            },
            "type": "table"
           }
          ]
         },
         "layout": {
          "annotationdefaults": {
           "arrowcolor": "#2a3f5f",
           "arrowhead": 0,
           "arrowwidth": 1
          },
          "autotypenumbers": "strict",
          "coloraxis": {
           "colorbar": {
            "outlinewidth": 0,
            "ticks": ""
           }
          },
          "colorscale": {
           "diverging": [
            [
             0,
             "#8e0152"
            ],
            [
             0.1,
             "#c51b7d"
            ],
            [
             0.2,
             "#de77ae"
            ],
            [
             0.3,
             "#f1b6da"
            ],
            [
             0.4,
             "#fde0ef"
            ],
            [
             0.5,
             "#f7f7f7"
            ],
            [
             0.6,
             "#e6f5d0"
            ],
            [
             0.7,
             "#b8e186"
            ],
            [
             0.8,
             "#7fbc41"
            ],
            [
             0.9,
             "#4d9221"
            ],
            [
             1,
             "#276419"
            ]
           ],
           "sequential": [
            [
             0,
             "#0d0887"
            ],
            [
             0.1111111111111111,
             "#46039f"
            ],
            [
             0.2222222222222222,
             "#7201a8"
            ],
            [
             0.3333333333333333,
             "#9c179e"
            ],
            [
             0.4444444444444444,
             "#bd3786"
            ],
            [
             0.5555555555555556,
             "#d8576b"
            ],
            [
             0.6666666666666666,
             "#ed7953"
            ],
            [
             0.7777777777777778,
             "#fb9f3a"
            ],
            [
             0.8888888888888888,
             "#fdca26"
            ],
            [
             1,
             "#f0f921"
            ]
           ],
           "sequentialminus": [
            [
             0,
             "#0d0887"
            ],
            [
             0.1111111111111111,
             "#46039f"
            ],
            [
             0.2222222222222222,
             "#7201a8"
            ],
            [
             0.3333333333333333,
             "#9c179e"
            ],
            [
             0.4444444444444444,
             "#bd3786"
            ],
            [
             0.5555555555555556,
             "#d8576b"
            ],
            [
             0.6666666666666666,
             "#ed7953"
            ],
            [
             0.7777777777777778,
             "#fb9f3a"
            ],
            [
             0.8888888888888888,
             "#fdca26"
            ],
            [
             1,
             "#f0f921"
            ]
           ]
          },
          "colorway": [
           "#636efa",
           "#EF553B",
           "#00cc96",
           "#ab63fa",
           "#FFA15A",
           "#19d3f3",
           "#FF6692",
           "#B6E880",
           "#FF97FF",
           "#FECB52"
          ],
          "font": {
           "color": "#2a3f5f"
          },
          "geo": {
           "bgcolor": "white",
           "lakecolor": "white",
           "landcolor": "#E5ECF6",
           "showlakes": true,
           "showland": true,
           "subunitcolor": "white"
          },
          "hoverlabel": {
           "align": "left"
          },
          "hovermode": "closest",
          "mapbox": {
           "style": "light"
          },
          "paper_bgcolor": "white",
          "plot_bgcolor": "#E5ECF6",
          "polar": {
           "angularaxis": {
            "gridcolor": "white",
            "linecolor": "white",
            "ticks": ""
           },
           "bgcolor": "#E5ECF6",
           "radialaxis": {
            "gridcolor": "white",
            "linecolor": "white",
            "ticks": ""
           }
          },
          "scene": {
           "xaxis": {
            "backgroundcolor": "#E5ECF6",
            "gridcolor": "white",
            "gridwidth": 2,
            "linecolor": "white",
            "showbackground": true,
            "ticks": "",
            "zerolinecolor": "white"
           },
           "yaxis": {
            "backgroundcolor": "#E5ECF6",
            "gridcolor": "white",
            "gridwidth": 2,
            "linecolor": "white",
            "showbackground": true,
            "ticks": "",
            "zerolinecolor": "white"
           },
           "zaxis": {
            "backgroundcolor": "#E5ECF6",
            "gridcolor": "white",
            "gridwidth": 2,
            "linecolor": "white",
            "showbackground": true,
            "ticks": "",
            "zerolinecolor": "white"
           }
          },
          "shapedefaults": {
           "line": {
            "color": "#2a3f5f"
           }
          },
          "ternary": {
           "aaxis": {
            "gridcolor": "white",
            "linecolor": "white",
            "ticks": ""
           },
           "baxis": {
            "gridcolor": "white",
            "linecolor": "white",
            "ticks": ""
           },
           "bgcolor": "#E5ECF6",
           "caxis": {
            "gridcolor": "white",
            "linecolor": "white",
            "ticks": ""
           }
          },
          "title": {
           "x": 0.05
          },
          "xaxis": {
           "automargin": true,
           "gridcolor": "white",
           "linecolor": "white",
           "ticks": "",
           "title": {
            "standoff": 15
           },
           "zerolinecolor": "white",
           "zerolinewidth": 2
          },
          "yaxis": {
           "automargin": true,
           "gridcolor": "white",
           "linecolor": "white",
           "ticks": "",
           "title": {
            "standoff": 15
           },
           "zerolinecolor": "white",
           "zerolinewidth": 2
          }
         }
        },
        "title": {
         "text": "SSE e Silhouette Score per il clustering K-Means"
        },
        "xaxis": {
         "anchor": "y",
         "domain": [
          0,
          0.45
         ],
         "title": {
          "text": "k"
         }
        },
        "xaxis2": {
         "anchor": "y2",
         "domain": [
          0.55,
          1
         ],
         "title": {
          "text": "k"
         }
        },
        "yaxis": {
         "anchor": "x",
         "domain": [
          0,
          1
         ],
         "title": {
          "text": "SSE"
         }
        },
        "yaxis2": {
         "anchor": "x2",
         "domain": [
          0,
          1
         ],
         "title": {
          "text": "Silhouette Score"
         }
        }
       }
      }
     },
     "metadata": {},
     "output_type": "display_data"
    }
   ],
   "source": [
    "scaler = StandardScaler()\n",
    "#scaler = StandardScaler()\n",
    "train_data = scaler.fit_transform(train_pca)\n",
    "\n",
    "# Calcola SSE e Silhouette Score per diversi valori di k per scegliere il numero di cluster\n",
    "sse_list = []\n",
    "sil_list = []\n",
    "k_values = range(2, 21)  # Prova valori di k da 2 a 20\n",
    "\n",
    "for k in k_values:\n",
    "    kmeans = KMeans(n_clusters=k, random_state=42)\n",
    "    clusters = kmeans.fit_predict(train_data)\n",
    "    sse_list.append(kmeans.inertia_)\n",
    "    sil_list.append(silhouette_score(train_data, clusters))\n",
    "\n",
    "# Crea la figura con due sottotrame (subplots)\n",
    "fig = make_subplots(rows=1, cols=2, subplot_titles=(\"SSE vs k\", \"Silhouette Score vs k\"))\n",
    "\n",
    "# Grafico SSE vs k\n",
    "fig.add_trace(\n",
    "    go.Scatter(x=list(k_values), y=sse_list, mode='lines+markers', name=\"SSE\"),\n",
    "    row=1, col=1\n",
    ")\n",
    "fig.update_xaxes(title_text=\"k\", row=1, col=1)\n",
    "fig.update_yaxes(title_text=\"SSE\", row=1, col=1)\n",
    "\n",
    "# Grafico Silhouette Score vs k\n",
    "fig.add_trace(\n",
    "    go.Scatter(x=list(k_values), y=sil_list, mode='lines+markers', name=\"Silhouette\"),\n",
    "    row=1, col=2\n",
    ")\n",
    "fig.update_xaxes(title_text=\"k\", row=1, col=2)\n",
    "fig.update_yaxes(title_text=\"Silhouette Score\", row=1, col=2)\n",
    "\n",
    "# Layout generale della figura\n",
    "fig.update_layout(title_text=\"SSE e Silhouette Score per il clustering K-Means\",\n",
    "                  showlegend=False)\n",
    "\n",
    "# Mostra il grafico\n",
    "fig.show()"
   ]
  },
  {
   "cell_type": "code",
   "execution_count": 3,
   "metadata": {},
   "outputs": [
    {
     "name": "stdout",
     "output_type": "stream",
     "text": [
      "SSE (Sum of Squared Errors): 34524.0527801315\n",
      "Silhouette Score: 0.23475937060819324\n"
     ]
    }
   ],
   "source": [
    "# Esegui il clustering K-means sui dati trasformati dalla PCA\n",
    "kmeans = KMeans(n_clusters=8, random_state=42)\n",
    "clusters = kmeans.fit_predict(train_data)\n",
    "\n",
    "# Aggiungi i cluster al DataFrame delle componenti principali\n",
    "train_pca['Cluster'] = clusters\n",
    "\n",
    "# Calcola l'SSE (Sum of Squared Errors)\n",
    "sse = kmeans.inertia_\n",
    "print(f\"SSE (Sum of Squared Errors): {sse}\")\n",
    "\n",
    "# Calcola il Silhouette Score\n",
    "silhouette_avg = silhouette_score(train_data, clusters)\n",
    "print(f\"Silhouette Score: {silhouette_avg}\")"
   ]
  },
  {
   "cell_type": "code",
   "execution_count": 4,
   "metadata": {},
   "outputs": [
    {
     "data": {
      "image/png": "[encoded data removed]",
      "text/plain": [
       "<Figure size 1500x800 with 1 Axes>"
      ]
     },
     "metadata": {},
     "output_type": "display_data"
    }
   ],
   "source": [
    "# Visualizza i risultati del clustering su 3 componenti principali (grafico 3D)\n",
    "fig = plt.figure(figsize=(15, 8))  # Aumenta la larghezza del grafico\n",
    "ax = fig.add_subplot(111, projection='3d')\n",
    "scatter = ax.scatter(train_pca['Popularity and Visibility'], train_pca['Quality and Production Year'], train_pca['Awards and Duration'], c=train_pca['Cluster'], cmap='plasma', marker='o')\n",
    "ax.scatter(kmeans.cluster_centers_[:, 0], kmeans.cluster_centers_[:, 1], kmeans.cluster_centers_[:, 2], s=300, c='red', marker='x')\n",
    "ax.set_title('Clustering K-means dopo PCA')\n",
    "ax.set_xlabel('Popularity and Visibility')\n",
    "ax.set_ylabel('Quality and Production Year')\n",
    "ax.set_zlabel('Awards and Duration')\n",
    "\n",
    "plt.show()"
   ]
  },
  {
   "cell_type": "code",
   "execution_count": 5,
   "metadata": {},
   "outputs": [],
   "source": [
    "import seaborn as sns\n",
    "\n",
    "# Numero di simulazioni per i dati randomizzati\n",
    "n_simulations = 100\n",
    "sse_random_results = []\n",
    "silhouette_random_results = []\n",
    "\n",
    "# Loop per creare dati randomizzati e calcolare SSE e Silhouette\n",
    "for _ in range(n_simulations):\n",
    "    random_data = np.random.permutation(train_data)  # Shuffle dei dati standardizzati\n",
    "    random_kmeans = KMeans(n_clusters=8, random_state=42)\n",
    "    random_clusters = random_kmeans.fit_predict(random_data)\n",
    "    sse_random_results.append(random_kmeans.inertia_)\n",
    "    silhouette_random_results.append(silhouette_score(random_data, random_clusters))\n",
    "\n",
    "# SSE e Silhouette Score sui dati reali\n",
    "sse_real = kmeans.inertia_\n",
    "silhouette_real = silhouette_score(train_data, clusters)\n",
    "\n",
    "# # Visualizza i risultati di SSE per i dati reali e randomizzati\n",
    "# plt.figure(figsize=(12, 10))  # Aumenta la larghezza della figura\n",
    "\n",
    "# # Plotta gli histogrammi per SSE\n",
    "# plt.subplot(2, 1, 1)\n",
    "# sns.histplot(sse_random_results, kde=True, label='Randomized SSE', color='blue', stat='density', bins=10)\n",
    "# plt.axvline(x=sse_real, color='red', linestyle='--', label='Real SSE')\n",
    "# plt.legend()\n",
    "# plt.title('SSE Comparison')\n",
    "\n",
    "# # Plotta gli histogrammi per Silhouette\n",
    "# plt.subplot(2, 1, 2)\n",
    "# sns.histplot(silhouette_random_results, kde=True, label='Randomized Silhouette', color='blue', stat='density', bins=30)\n",
    "# plt.axvline(x=silhouette_real, color='red', linestyle='--', label='Real Silhouette')\n",
    "# plt.legend()\n",
    "# plt.title('Silhouette Score Comparison')\n",
    "\n",
    "# plt.tight_layout()\n",
    "# plt.show()"
   ]
  },
  {
   "cell_type": "code",
   "execution_count": 6,
   "metadata": {},
   "outputs": [
    {
     "data": {
      "application/vnd.plotly.v1+json": {
       "config": {
        "plotlyServerURL": "https://plot.ly"
       },
       "data": [
        {
         "alignmentgroup": "True",
         "bingroup": "x",
         "histnorm": "density",
         "hovertemplate": "variable=0<br>value=%{x}<br>density=%{y}<extra></extra>",
         "legendgroup": "0",
         "marker": {
          "color": "#636efa",
          "pattern": {
           "shape": ""
          }
         },
         "name": "0",
         "nbinsx": 10,
         "offsetgroup": "0",
         "orientation": "v",
         "showlegend": true,
         "type": "histogram",
         "x": [
          34344.98841989156,
          34120.33279468019,
          34524.28828169123,
          34515.18686561095,
          34314.3786178026,
          34343.04545697523,
          34120.442849675994,
          34330.50695754603,
          34122.830402507025,
          34120.309729399814,
          34120.736991829675,
          34342.99502176198,
          34122.94272083131,
          34123.12388978451,
          35028.832074750084,
          34297.44629538565,
          34120.98337771188,
          34344.98966563154,
          34524.4436954717,
          35066.839919555765,
          34524.4436954717,
          34344.9842493322,
          34513.210865884794,
          34344.98424933221,
          34344.98815114312,
          34123.2875652597,
          34119.76534795806,
          34120.97757055709,
          34119.63380836144,
          34525.32416902768,
          34324.27464584967,
          34326.529572688705,
          34119.84516638745,
          34986.76575839245,
          34324.2598796116,
          34515.15477251543,
          34120.37910898896,
          34119.290573410646,
          34123.124431900316,
          34297.48845184273,
          34324.25987961161,
          35220.41560304766,
          34120.95052248651,
          35027.69766141858,
          34123.09604449951,
          34120.510363435045,
          34120.09996883915,
          35076.04069676877,
          34324.297023970954,
          34122.400213253015,
          34324.09567105395,
          35075.287031867265,
          34345.06630964695,
          34344.991644962545,
          34524.052780131504,
          34119.077544360654,
          34119.5519498774,
          34344.39512588891,
          35020.6470164395,
          35302.27424650588,
          34119.85595685216,
          34119.89396324126,
          34119.711223204526,
          34324.27114885792,
          34978.40946496959,
          35082.35988537133,
          34300.02328958606,
          34513.397819628386,
          34120.09620102448,
          34120.895076544824,
          35051.13091197051,
          34119.44336159513,
          34762.79805070484,
          34120.0171169775,
          35028.51765246406,
          34344.9842493322,
          34119.684118309,
          34513.28194958709,
          34344.40417938061,
          35087.082131470925,
          34530.67548165811,
          35021.29769030949,
          34541.85278190836,
          34121.027006368575,
          35116.501193771015,
          34326.52957268869,
          34524.124129375676,
          34324.224444379644,
          34119.33195043996,
          34119.68283750413,
          34121.06531442249,
          34326.17725409883,
          34120.996595479075,
          34119.84260009042,
          34513.083671509805,
          34329.18631378309,
          34513.00049846282,
          35173.28349604207,
          34324.4390253836,
          34121.08821529742
         ],
         "xaxis": "x",
         "yaxis": "y"
        }
       ],
       "layout": {
        "annotations": [
         {
          "showarrow": false,
          "text": "Real SSE",
          "x": 34524.0527801315,
          "xanchor": "left",
          "xref": "x",
          "y": 1,
          "yanchor": "top",
          "yref": "y domain"
         }
        ],
        "barmode": "relative",
        "legend": {
         "title": {
          "text": "variable"
         },
         "tracegroupgap": 0
        },
        "shapes": [
         {
          "line": {
           "color": "red",
           "dash": "dash"
          },
          "type": "line",
          "x0": 34524.0527801315,
          "x1": 34524.0527801315,
          "xref": "x",
          "y0": 0,
          "y1": 1,
          "yref": "y domain"
         }
        ],
        "template": {
         "data": {
          "bar": [
           {
            "error_x": {
             "color": "#2a3f5f"
            },
            "error_y": {
             "color": "#2a3f5f"
            },
            "marker": {
             "line": {
              "color": "#E5ECF6",
              "width": 0.5
             },
             "pattern": {
              "fillmode": "overlay",
              "size": 10,
              "solidity": 0.2
             }
            },
            "type": "bar"
           }
          ],
          "barpolar": [
           {
            "marker": {
             "line": {
              "color": "#E5ECF6",
              "width": 0.5
             },
             "pattern": {
              "fillmode": "overlay",
              "size": 10,
              "solidity": 0.2
             }
            },
            "type": "barpolar"
           }
          ],
          "carpet": [
           {
            "aaxis": {
             "endlinecolor": "#2a3f5f",
             "gridcolor": "white",
             "linecolor": "white",
             "minorgridcolor": "white",
             "startlinecolor": "#2a3f5f"
            },
            "baxis": {
             "endlinecolor": "#2a3f5f",
             "gridcolor": "white",
             "linecolor": "white",
             "minorgridcolor": "white",
             "startlinecolor": "#2a3f5f"
            },
            "type": "carpet"
           }
          ],
          "choropleth": [
           {
            "colorbar": {
             "outlinewidth": 0,
             "ticks": ""
            },
            "type": "choropleth"
           }
          ],
          "contour": [
           {
            "colorbar": {
             "outlinewidth": 0,
             "ticks": ""
            },
            "colorscale": [
             [
              0,
              "#0d0887"
             ],
             [
              0.1111111111111111,
              "#46039f"
             ],
             [
              0.2222222222222222,
              "#7201a8"
             ],
             [
              0.3333333333333333,
              "#9c179e"
             ],
             [
              0.4444444444444444,
              "#bd3786"
             ],
             [
              0.5555555555555556,
              "#d8576b"
             ],
             [
              0.6666666666666666,
              "#ed7953"
             ],
             [
              0.7777777777777778,
              "#fb9f3a"
             ],
             [
              0.8888888888888888,
              "#fdca26"
             ],
             [
              1,
              "#f0f921"
             ]
            ],
            "type": "contour"
           }
          ],
          "contourcarpet": [
           {
            "colorbar": {
             "outlinewidth": 0,
             "ticks": ""
            },
            "type": "contourcarpet"
           }
          ],
          "heatmap": [
           {
            "colorbar": {
             "outlinewidth": 0,
             "ticks": ""
            },
            "colorscale": [
             [
              0,
              "#0d0887"
             ],
             [
              0.1111111111111111,
              "#46039f"
             ],
             [
              0.2222222222222222,
              "#7201a8"
             ],
             [
              0.3333333333333333,
              "#9c179e"
             ],
             [
              0.4444444444444444,
              "#bd3786"
             ],
             [
              0.5555555555555556,
              "#d8576b"
             ],
             [
              0.6666666666666666,
              "#ed7953"
             ],
             [
              0.7777777777777778,
              "#fb9f3a"
             ],
             [
              0.8888888888888888,
              "#fdca26"
             ],
             [
              1,
              "#f0f921"
             ]
            ],
            "type": "heatmap"
           }
          ],
          "heatmapgl": [
           {
            "colorbar": {
             "outlinewidth": 0,
             "ticks": ""
            },
            "colorscale": [
             [
              0,
              "#0d0887"
             ],
             [
              0.1111111111111111,
              "#46039f"
             ],
             [
              0.2222222222222222,
              "#7201a8"
             ],
             [
              0.3333333333333333,
              "#9c179e"
             ],
             [
              0.4444444444444444,
              "#bd3786"
             ],
             [
              0.5555555555555556,
              "#d8576b"
             ],
             [
              0.6666666666666666,
              "#ed7953"
             ],
             [
              0.7777777777777778,
              "#fb9f3a"
             ],
             [
              0.8888888888888888,
              "#fdca26"
             ],
             [
              1,
              "#f0f921"
             ]
            ],
            "type": "heatmapgl"
           }
          ],
          "histogram": [
           {
            "marker": {
             "pattern": {
              "fillmode": "overlay",
              "size": 10,
              "solidity": 0.2
             }
            },
            "type": "histogram"
           }
          ],
          "histogram2d": [
           {
            "colorbar": {
             "outlinewidth": 0,
             "ticks": ""
            },
            "colorscale": [
             [
              0,
              "#0d0887"
             ],
             [
              0.1111111111111111,
              "#46039f"
             ],
             [
              0.2222222222222222,
              "#7201a8"
             ],
             [
              0.3333333333333333,
              "#9c179e"
             ],
             [
              0.4444444444444444,
              "#bd3786"
             ],
             [
              0.5555555555555556,
              "#d8576b"
             ],
             [
              0.6666666666666666,
              "#ed7953"
             ],
             [
              0.7777777777777778,
              "#fb9f3a"
             ],
             [
              0.8888888888888888,
              "#fdca26"
             ],
             [
              1,
              "#f0f921"
             ]
            ],
            "type": "histogram2d"
           }
          ],
          "histogram2dcontour": [
           {
            "colorbar": {
             "outlinewidth": 0,
             "ticks": ""
            },
            "colorscale": [
             [
              0,
              "#0d0887"
             ],
             [
              0.1111111111111111,
              "#46039f"
             ],
             [
              0.2222222222222222,
              "#7201a8"
             ],
             [
              0.3333333333333333,
              "#9c179e"
             ],
             [
              0.4444444444444444,
              "#bd3786"
             ],
             [
              0.5555555555555556,
              "#d8576b"
             ],
             [
              0.6666666666666666,
              "#ed7953"
             ],
             [
              0.7777777777777778,
              "#fb9f3a"
             ],
             [
              0.8888888888888888,
              "#fdca26"
             ],
             [
              1,
              "#f0f921"
             ]
            ],
            "type": "histogram2dcontour"
           }
          ],
          "mesh3d": [
           {
            "colorbar": {
             "outlinewidth": 0,
             "ticks": ""
            },
            "type": "mesh3d"
           }
          ],
          "parcoords": [
           {
            "line": {
             "colorbar": {
              "outlinewidth": 0,
              "ticks": ""
             }
            },
            "type": "parcoords"
           }
          ],
          "pie": [
           {
            "automargin": true,
            "type": "pie"
           }
          ],
          "scatter": [
           {
            "fillpattern": {
             "fillmode": "overlay",
             "size": 10,
             "solidity": 0.2
            },
            "type": "scatter"
           }
          ],
          "scatter3d": [
           {
            "line": {
             "colorbar": {
              "outlinewidth": 0,
              "ticks": ""
             }
            },
            "marker": {
             "colorbar": {
              "outlinewidth": 0,
              "ticks": ""
             }
            },
            "type": "scatter3d"
           }
          ],
          "scattercarpet": [
           {
            "marker": {
             "colorbar": {
              "outlinewidth": 0,
              "ticks": ""
             }
            },
            "type": "scattercarpet"
           }
          ],
          "scattergeo": [
           {
            "marker": {
             "colorbar": {
              "outlinewidth": 0,
              "ticks": ""
             }
            },
            "type": "scattergeo"
           }
          ],
          "scattergl": [
           {
            "marker": {
             "colorbar": {
              "outlinewidth": 0,
              "ticks": ""
             }
            },
            "type": "scattergl"
           }
          ],
          "scattermapbox": [
           {
            "marker": {
             "colorbar": {
              "outlinewidth": 0,
              "ticks": ""
             }
            },
            "type": "scattermapbox"
           }
          ],
          "scatterpolar": [
           {
            "marker": {
             "colorbar": {
              "outlinewidth": 0,
              "ticks": ""
             }
            },
            "type": "scatterpolar"
           }
          ],
          "scatterpolargl": [
           {
            "marker": {
             "colorbar": {
              "outlinewidth": 0,
              "ticks": ""
             }
            },
            "type": "scatterpolargl"
           }
          ],
          "scatterternary": [
           {
            "marker": {
             "colorbar": {
              "outlinewidth": 0,
              "ticks": ""
             }
            },
            "type": "scatterternary"
           }
          ],
          "surface": [
           {
            "colorbar": {
             "outlinewidth": 0,
             "ticks": ""
            },
            "colorscale": [
             [
              0,
              "#0d0887"
             ],
             [
              0.1111111111111111,
              "#46039f"
             ],
             [
              0.2222222222222222,
              "#7201a8"
             ],
             [
              0.3333333333333333,
              "#9c179e"
             ],
             [
              0.4444444444444444,
              "#bd3786"
             ],
             [
              0.5555555555555556,
              "#d8576b"
             ],
             [
              0.6666666666666666,
              "#ed7953"
             ],
             [
              0.7777777777777778,
              "#fb9f3a"
             ],
             [
              0.8888888888888888,
              "#fdca26"
             ],
             [
              1,
              "#f0f921"
             ]
            ],
            "type": "surface"
           }
          ],
          "table": [
           {
            "cells": {
             "fill": {
              "color": "#EBF0F8"
             },
             "line": {
              "color": "white"
             }
            },
            "header": {
             "fill": {
              "color": "#C8D4E3"
             },
             "line": {
              "color": "white"
             }
            },
            "type": "table"
           }
          ]
         },
         "layout": {
          "annotationdefaults": {
           "arrowcolor": "#2a3f5f",
           "arrowhead": 0,
           "arrowwidth": 1
          },
          "autotypenumbers": "strict",
          "coloraxis": {
           "colorbar": {
            "outlinewidth": 0,
            "ticks": ""
           }
          },
          "colorscale": {
           "diverging": [
            [
             0,
             "#8e0152"
            ],
            [
             0.1,
             "#c51b7d"
            ],
            [
             0.2,
             "#de77ae"
            ],
            [
             0.3,
             "#f1b6da"
            ],
            [
             0.4,
             "#fde0ef"
            ],
            [
             0.5,
             "#f7f7f7"
            ],
            [
             0.6,
             "#e6f5d0"
            ],
            [
             0.7,
             "#b8e186"
            ],
            [
             0.8,
             "#7fbc41"
            ],
            [
             0.9,
             "#4d9221"
            ],
            [
             1,
             "#276419"
            ]
           ],
           "sequential": [
            [
             0,
             "#0d0887"
            ],
            [
             0.1111111111111111,
             "#46039f"
            ],
            [
             0.2222222222222222,
             "#7201a8"
            ],
            [
             0.3333333333333333,
             "#9c179e"
            ],
            [
             0.4444444444444444,
             "#bd3786"
            ],
            [
             0.5555555555555556,
             "#d8576b"
            ],
            [
             0.6666666666666666,
             "#ed7953"
            ],
            [
             0.7777777777777778,
             "#fb9f3a"
            ],
            [
             0.8888888888888888,
             "#fdca26"
            ],
            [
             1,
             "#f0f921"
            ]
           ],
           "sequentialminus": [
            [
             0,
             "#0d0887"
            ],
            [
             0.1111111111111111,
             "#46039f"
            ],
            [
             0.2222222222222222,
             "#7201a8"
            ],
            [
             0.3333333333333333,
             "#9c179e"
            ],
            [
             0.4444444444444444,
             "#bd3786"
            ],
            [
             0.5555555555555556,
             "#d8576b"
            ],
            [
             0.6666666666666666,
             "#ed7953"
            ],
            [
             0.7777777777777778,
             "#fb9f3a"
            ],
            [
             0.8888888888888888,
             "#fdca26"
            ],
            [
             1,
             "#f0f921"
            ]
           ]
          },
          "colorway": [
           "#636efa",
           "#EF553B",
           "#00cc96",
           "#ab63fa",
           "#FFA15A",
           "#19d3f3",
           "#FF6692",
           "#B6E880",
           "#FF97FF",
           "#FECB52"
          ],
          "font": {
           "color": "#2a3f5f"
          },
          "geo": {
           "bgcolor": "white",
           "lakecolor": "white",
           "landcolor": "#E5ECF6",
           "showlakes": true,
           "showland": true,
           "subunitcolor": "white"
          },
          "hoverlabel": {
           "align": "left"
          },
          "hovermode": "closest",
          "mapbox": {
           "style": "light"
          },
          "paper_bgcolor": "white",
          "plot_bgcolor": "#E5ECF6",
          "polar": {
           "angularaxis": {
            "gridcolor": "white",
            "linecolor": "white",
            "ticks": ""
           },
           "bgcolor": "#E5ECF6",
           "radialaxis": {
            "gridcolor": "white",
            "linecolor": "white",
            "ticks": ""
           }
          },
          "scene": {
           "xaxis": {
            "backgroundcolor": "#E5ECF6",
            "gridcolor": "white",
            "gridwidth": 2,
            "linecolor": "white",
            "showbackground": true,
            "ticks": "",
            "zerolinecolor": "white"
           },
           "yaxis": {
            "backgroundcolor": "#E5ECF6",
            "gridcolor": "white",
            "gridwidth": 2,
            "linecolor": "white",
            "showbackground": true,
            "ticks": "",
            "zerolinecolor": "white"
           },
           "zaxis": {
            "backgroundcolor": "#E5ECF6",
            "gridcolor": "white",
            "gridwidth": 2,
            "linecolor": "white",
            "showbackground": true,
            "ticks": "",
            "zerolinecolor": "white"
           }
          },
          "shapedefaults": {
           "line": {
            "color": "#2a3f5f"
           }
          },
          "ternary": {
           "aaxis": {
            "gridcolor": "white",
            "linecolor": "white",
            "ticks": ""
           },
           "baxis": {
            "gridcolor": "white",
            "linecolor": "white",
            "ticks": ""
           },
           "bgcolor": "#E5ECF6",
           "caxis": {
            "gridcolor": "white",
            "linecolor": "white",
            "ticks": ""
           }
          },
          "title": {
           "x": 0.05
          },
          "xaxis": {
           "automargin": true,
           "gridcolor": "white",
           "linecolor": "white",
           "ticks": "",
           "title": {
            "standoff": 15
           },
           "zerolinecolor": "white",
           "zerolinewidth": 2
          },
          "yaxis": {
           "automargin": true,
           "gridcolor": "white",
           "linecolor": "white",
           "ticks": "",
           "title": {
            "standoff": 15
           },
           "zerolinecolor": "white",
           "zerolinewidth": 2
          }
         }
        },
        "title": {
         "text": "SSE Comparison"
        },
        "xaxis": {
         "anchor": "y",
         "domain": [
          0,
          1
         ],
         "range": [
          31119.077544360654,
          38302.27424650588
         ],
         "title": {
          "text": "value"
         }
        },
        "yaxis": {
         "anchor": "x",
         "domain": [
          0,
          1
         ],
         "title": {
          "text": "density"
         }
        }
       }
      }
     },
     "metadata": {},
     "output_type": "display_data"
    },
    {
     "data": {
      "application/vnd.plotly.v1+json": {
       "config": {
        "plotlyServerURL": "https://plot.ly"
       },
       "data": [
        {
         "alignmentgroup": "True",
         "bingroup": "x",
         "histnorm": "density",
         "hovertemplate": "variable=0<br>value=%{x}<br>density=%{y}<extra></extra>",
         "legendgroup": "0",
         "marker": {
          "color": "#636efa",
          "pattern": {
           "shape": ""
          }
         },
         "name": "0",
         "nbinsx": 30,
         "offsetgroup": "0",
         "orientation": "v",
         "showlegend": true,
         "type": "histogram",
         "x": [
          0.19832785207756495,
          0.2021378067523203,
          0.23480828300690568,
          0.2349140183843823,
          0.19981654248933922,
          0.19843074780162093,
          0.20177747956391354,
          0.1996841719809293,
          0.20240900860552996,
          0.20215574563305386,
          0.20192924081460775,
          0.19841169618507126,
          0.2023989532909475,
          0.20171884102124027,
          0.18019665423204886,
          0.19995610902814165,
          0.2016511843305045,
          0.1983223158044556,
          0.23481654948837827,
          0.17821497557131474,
          0.23481654948837824,
          0.1983313457871539,
          0.23477011385302593,
          0.1983313457871539,
          0.19831777046234642,
          0.20157639416125858,
          0.20220705701540578,
          0.2017249353006032,
          0.2020944652866535,
          0.23447438264978812,
          0.19915747077452833,
          0.1992564912515081,
          0.2021571910670655,
          0.22491174785613988,
          0.19912848990508872,
          0.2347642846032665,
          0.2022568736414915,
          0.20220376119150066,
          0.20171074727925242,
          0.20001105118679244,
          0.19912848990508875,
          0.22334307766062977,
          0.20162008879578322,
          0.18025888899959938,
          0.20168101913424394,
          0.20218233854785192,
          0.20212880903009423,
          0.2217383059101246,
          0.19915692640740548,
          0.20210351064828486,
          0.1991390871366761,
          0.21276252251108552,
          0.19837274505794744,
          0.1983193161899901,
          0.23475937060819307,
          0.20209152512810266,
          0.20220071852632188,
          0.19834787050508404,
          0.18270080829192836,
          0.2297032524896326,
          0.20220340946366797,
          0.20219020628590492,
          0.20195682462259792,
          0.19917898685332738,
          0.18879859472007707,
          0.21960307211818197,
          0.19982569186029092,
          0.2347025707462845,
          0.20215218026314424,
          0.2016957404033087,
          0.1964926569805882,
          0.20216396220240362,
          0.2343539927677469,
          0.2021882578657806,
          0.1805205123279398,
          0.1983313457871539,
          0.202083805459208,
          0.23469047804386167,
          0.19838043214773207,
          0.19601035074243056,
          0.2347843252244919,
          0.1817972247311688,
          0.2334810752889561,
          0.20166174876988582,
          0.19285819288228806,
          0.19925649125150807,
          0.23474568560417536,
          0.19910208835741597,
          0.2022046110025263,
          0.2020852300258454,
          0.20165463684777746,
          0.19918209868066916,
          0.20168319999649112,
          0.20220365213167052,
          0.23497909868020558,
          0.19927187393750015,
          0.23450299364769142,
          0.2207027417864982,
          0.19917656341562937,
          0.20167557554976429
         ],
         "xaxis": "x",
         "yaxis": "y"
        }
       ],
       "layout": {
        "annotations": [
         {
          "showarrow": false,
          "text": "Real Silhouette",
          "x": 0.23475937060819324,
          "xanchor": "left",
          "xref": "x",
          "y": 1,
          "yanchor": "top",
          "yref": "y domain"
         }
        ],
        "barmode": "relative",
        "legend": {
         "title": {
          "text": "variable"
         },
         "tracegroupgap": 0
        },
        "shapes": [
         {
          "line": {
           "color": "red",
           "dash": "dash"
          },
          "type": "line",
          "x0": 0.23475937060819324,
          "x1": 0.23475937060819324,
          "xref": "x",
          "y0": 0,
          "y1": 1,
          "yref": "y domain"
         }
        ],
        "template": {
         "data": {
          "bar": [
           {
            "error_x": {
             "color": "#2a3f5f"
            },
            "error_y": {
             "color": "#2a3f5f"
            },
            "marker": {
             "line": {
              "color": "#E5ECF6",
              "width": 0.5
             },
             "pattern": {
              "fillmode": "overlay",
              "size": 10,
              "solidity": 0.2
             }
            },
            "type": "bar"
           }
          ],
          "barpolar": [
           {
            "marker": {
             "line": {
              "color": "#E5ECF6",
              "width": 0.5
             },
             "pattern": {
              "fillmode": "overlay",
              "size": 10,
              "solidity": 0.2
             }
            },
            "type": "barpolar"
           }
          ],
          "carpet": [
           {
            "aaxis": {
             "endlinecolor": "#2a3f5f",
             "gridcolor": "white",
             "linecolor": "white",
             "minorgridcolor": "white",
             "startlinecolor": "#2a3f5f"
            },
            "baxis": {
             "endlinecolor": "#2a3f5f",
             "gridcolor": "white",
             "linecolor": "white",
             "minorgridcolor": "white",
             "startlinecolor": "#2a3f5f"
            },
            "type": "carpet"
           }
          ],
          "choropleth": [
           {
            "colorbar": {
             "outlinewidth": 0,
             "ticks": ""
            },
            "type": "choropleth"
           }
          ],
          "contour": [
           {
            "colorbar": {
             "outlinewidth": 0,
             "ticks": ""
            },
            "colorscale": [
             [
              0,
              "#0d0887"
             ],
             [
              0.1111111111111111,
              "#46039f"
             ],
             [
              0.2222222222222222,
              "#7201a8"
             ],
             [
              0.3333333333333333,
              "#9c179e"
             ],
             [
              0.4444444444444444,
              "#bd3786"
             ],
             [
              0.5555555555555556,
              "#d8576b"
             ],
             [
              0.6666666666666666,
              "#ed7953"
             ],
             [
              0.7777777777777778,
              "#fb9f3a"
             ],
             [
              0.8888888888888888,
              "#fdca26"
             ],
             [
              1,
              "#f0f921"
             ]
            ],
            "type": "contour"
           }
          ],
          "contourcarpet": [
           {
            "colorbar": {
             "outlinewidth": 0,
             "ticks": ""
            },
            "type": "contourcarpet"
           }
          ],
          "heatmap": [
           {
            "colorbar": {
             "outlinewidth": 0,
             "ticks": ""
            },
            "colorscale": [
             [
              0,
              "#0d0887"
             ],
             [
              0.1111111111111111,
              "#46039f"
             ],
             [
              0.2222222222222222,
              "#7201a8"
             ],
             [
              0.3333333333333333,
              "#9c179e"
             ],
             [
              0.4444444444444444,
              "#bd3786"
             ],
             [
              0.5555555555555556,
              "#d8576b"
             ],
             [
              0.6666666666666666,
              "#ed7953"
             ],
             [
              0.7777777777777778,
              "#fb9f3a"
             ],
             [
              0.8888888888888888,
              "#fdca26"
             ],
             [
              1,
              "#f0f921"
             ]
            ],
            "type": "heatmap"
           }
          ],
          "heatmapgl": [
           {
            "colorbar": {
             "outlinewidth": 0,
             "ticks": ""
            },
            "colorscale": [
             [
              0,
              "#0d0887"
             ],
             [
              0.1111111111111111,
              "#46039f"
             ],
             [
              0.2222222222222222,
              "#7201a8"
             ],
             [
              0.3333333333333333,
              "#9c179e"
             ],
             [
              0.4444444444444444,
              "#bd3786"
             ],
             [
              0.5555555555555556,
              "#d8576b"
             ],
             [
              0.6666666666666666,
              "#ed7953"
             ],
             [
              0.7777777777777778,
              "#fb9f3a"
             ],
             [
              0.8888888888888888,
              "#fdca26"
             ],
             [
              1,
              "#f0f921"
             ]
            ],
            "type": "heatmapgl"
           }
          ],
          "histogram": [
           {
            "marker": {
             "pattern": {
              "fillmode": "overlay",
              "size": 10,
              "solidity": 0.2
             }
            },
            "type": "histogram"
           }
          ],
          "histogram2d": [
           {
            "colorbar": {
             "outlinewidth": 0,
             "ticks": ""
            },
            "colorscale": [
             [
              0,
              "#0d0887"
             ],
             [
              0.1111111111111111,
              "#46039f"
             ],
             [
              0.2222222222222222,
              "#7201a8"
             ],
             [
              0.3333333333333333,
              "#9c179e"
             ],
             [
              0.4444444444444444,
              "#bd3786"
             ],
             [
              0.5555555555555556,
              "#d8576b"
             ],
             [
              0.6666666666666666,
              "#ed7953"
             ],
             [
              0.7777777777777778,
              "#fb9f3a"
             ],
             [
              0.8888888888888888,
              "#fdca26"
             ],
             [
              1,
              "#f0f921"
             ]
            ],
            "type": "histogram2d"
           }
          ],
          "histogram2dcontour": [
           {
            "colorbar": {
             "outlinewidth": 0,
             "ticks": ""
            },
            "colorscale": [
             [
              0,
              "#0d0887"
             ],
             [
              0.1111111111111111,
              "#46039f"
             ],
             [
              0.2222222222222222,
              "#7201a8"
             ],
             [
              0.3333333333333333,
              "#9c179e"
             ],
             [
              0.4444444444444444,
              "#bd3786"
             ],
             [
              0.5555555555555556,
              "#d8576b"
             ],
             [
              0.6666666666666666,
              "#ed7953"
             ],
             [
              0.7777777777777778,
              "#fb9f3a"
             ],
             [
              0.8888888888888888,
              "#fdca26"
             ],
             [
              1,
              "#f0f921"
             ]
            ],
            "type": "histogram2dcontour"
           }
          ],
          "mesh3d": [
           {
            "colorbar": {
             "outlinewidth": 0,
             "ticks": ""
            },
            "type": "mesh3d"
           }
          ],
          "parcoords": [
           {
            "line": {
             "colorbar": {
              "outlinewidth": 0,
              "ticks": ""
             }
            },
            "type": "parcoords"
           }
          ],
          "pie": [
           {
            "automargin": true,
            "type": "pie"
           }
          ],
          "scatter": [
           {
            "fillpattern": {
             "fillmode": "overlay",
             "size": 10,
             "solidity": 0.2
            },
            "type": "scatter"
           }
          ],
          "scatter3d": [
           {
            "line": {
             "colorbar": {
              "outlinewidth": 0,
              "ticks": ""
             }
            },
            "marker": {
             "colorbar": {
              "outlinewidth": 0,
              "ticks": ""
             }
            },
            "type": "scatter3d"
           }
          ],
          "scattercarpet": [
           {
            "marker": {
             "colorbar": {
              "outlinewidth": 0,
              "ticks": ""
             }
            },
            "type": "scattercarpet"
           }
          ],
          "scattergeo": [
           {
            "marker": {
             "colorbar": {
              "outlinewidth": 0,
              "ticks": ""
             }
            },
            "type": "scattergeo"
           }
          ],
          "scattergl": [
           {
            "marker": {
             "colorbar": {
              "outlinewidth": 0,
              "ticks": ""
             }
            },
            "type": "scattergl"
           }
          ],
          "scattermapbox": [
           {
            "marker": {
             "colorbar": {
              "outlinewidth": 0,
              "ticks": ""
             }
            },
            "type": "scattermapbox"
           }
          ],
          "scatterpolar": [
           {
            "marker": {
             "colorbar": {
              "outlinewidth": 0,
              "ticks": ""
             }
            },
            "type": "scatterpolar"
           }
          ],
          "scatterpolargl": [
           {
            "marker": {
             "colorbar": {
              "outlinewidth": 0,
              "ticks": ""
             }
            },
            "type": "scatterpolargl"
           }
          ],
          "scatterternary": [
           {
            "marker": {
             "colorbar": {
              "outlinewidth": 0,
              "ticks": ""
             }
            },
            "type": "scatterternary"
           }
          ],
          "surface": [
           {
            "colorbar": {
             "outlinewidth": 0,
             "ticks": ""
            },
            "colorscale": [
             [
              0,
              "#0d0887"
             ],
             [
              0.1111111111111111,
              "#46039f"
             ],
             [
              0.2222222222222222,
              "#7201a8"
             ],
             [
              0.3333333333333333,
              "#9c179e"
             ],
             [
              0.4444444444444444,
              "#bd3786"
             ],
             [
              0.5555555555555556,
              "#d8576b"
             ],
             [
              0.6666666666666666,
              "#ed7953"
             ],
             [
              0.7777777777777778,
              "#fb9f3a"
             ],
             [
              0.8888888888888888,
              "#fdca26"
             ],
             [
              1,
              "#f0f921"
             ]
            ],
            "type": "surface"
           }
          ],
          "table": [
           {
            "cells": {
             "fill": {
              "color": "#EBF0F8"
             },
             "line": {
              "color": "white"
             }
            },
            "header": {
             "fill": {
              "color": "#C8D4E3"
             },
             "line": {
              "color": "white"
             }
            },
            "type": "table"
           }
          ]
         },
         "layout": {
          "annotationdefaults": {
           "arrowcolor": "#2a3f5f",
           "arrowhead": 0,
           "arrowwidth": 1
          },
          "autotypenumbers": "strict",
          "coloraxis": {
           "colorbar": {
            "outlinewidth": 0,
            "ticks": ""
           }
          },
          "colorscale": {
           "diverging": [
            [
             0,
             "#8e0152"
            ],
            [
             0.1,
             "#c51b7d"
            ],
            [
             0.2,
             "#de77ae"
            ],
            [
             0.3,
             "#f1b6da"
            ],
            [
             0.4,
             "#fde0ef"
            ],
            [
             0.5,
             "#f7f7f7"
            ],
            [
             0.6,
             "#e6f5d0"
            ],
            [
             0.7,
             "#b8e186"
            ],
            [
             0.8,
             "#7fbc41"
            ],
            [
             0.9,
             "#4d9221"
            ],
            [
             1,
             "#276419"
            ]
           ],
           "sequential": [
            [
             0,
             "#0d0887"
            ],
            [
             0.1111111111111111,
             "#46039f"
            ],
            [
             0.2222222222222222,
             "#7201a8"
            ],
            [
             0.3333333333333333,
             "#9c179e"
            ],
            [
             0.4444444444444444,
             "#bd3786"
            ],
            [
             0.5555555555555556,
             "#d8576b"
            ],
            [
             0.6666666666666666,
             "#ed7953"
            ],
            [
             0.7777777777777778,
             "#fb9f3a"
            ],
            [
             0.8888888888888888,
             "#fdca26"
            ],
            [
             1,
             "#f0f921"
            ]
           ],
           "sequentialminus": [
            [
             0,
             "#0d0887"
            ],
            [
             0.1111111111111111,
             "#46039f"
            ],
            [
             0.2222222222222222,
             "#7201a8"
            ],
            [
             0.3333333333333333,
             "#9c179e"
            ],
            [
             0.4444444444444444,
             "#bd3786"
            ],
            [
             0.5555555555555556,
             "#d8576b"
            ],
            [
             0.6666666666666666,
             "#ed7953"
            ],
            [
             0.7777777777777778,
             "#fb9f3a"
            ],
            [
             0.8888888888888888,
             "#fdca26"
            ],
            [
             1,
             "#f0f921"
            ]
           ]
          },
          "colorway": [
           "#636efa",
           "#EF553B",
           "#00cc96",
           "#ab63fa",
           "#FFA15A",
           "#19d3f3",
           "#FF6692",
           "#B6E880",
           "#FF97FF",
           "#FECB52"
          ],
          "font": {
           "color": "#2a3f5f"
          },
          "geo": {
           "bgcolor": "white",
           "lakecolor": "white",
           "landcolor": "#E5ECF6",
           "showlakes": true,
           "showland": true,
           "subunitcolor": "white"
          },
          "hoverlabel": {
           "align": "left"
          },
          "hovermode": "closest",
          "mapbox": {
           "style": "light"
          },
          "paper_bgcolor": "white",
          "plot_bgcolor": "#E5ECF6",
          "polar": {
           "angularaxis": {
            "gridcolor": "white",
            "linecolor": "white",
            "ticks": ""
           },
           "bgcolor": "#E5ECF6",
           "radialaxis": {
            "gridcolor": "white",
            "linecolor": "white",
            "ticks": ""
           }
          },
          "scene": {
           "xaxis": {
            "backgroundcolor": "#E5ECF6",
            "gridcolor": "white",
            "gridwidth": 2,
            "linecolor": "white",
            "showbackground": true,
            "ticks": "",
            "zerolinecolor": "white"
           },
           "yaxis": {
            "backgroundcolor": "#E5ECF6",
            "gridcolor": "white",
            "gridwidth": 2,
            "linecolor": "white",
            "showbackground": true,
            "ticks": "",
            "zerolinecolor": "white"
           },
           "zaxis": {
            "backgroundcolor": "#E5ECF6",
            "gridcolor": "white",
            "gridwidth": 2,
            "linecolor": "white",
            "showbackground": true,
            "ticks": "",
            "zerolinecolor": "white"
           }
          },
          "shapedefaults": {
           "line": {
            "color": "#2a3f5f"
           }
          },
          "ternary": {
           "aaxis": {
            "gridcolor": "white",
            "linecolor": "white",
            "ticks": ""
           },
           "baxis": {
            "gridcolor": "white",
            "linecolor": "white",
            "ticks": ""
           },
           "bgcolor": "#E5ECF6",
           "caxis": {
            "gridcolor": "white",
            "linecolor": "white",
            "ticks": ""
           }
          },
          "title": {
           "x": 0.05
          },
          "xaxis": {
           "automargin": true,
           "gridcolor": "white",
           "linecolor": "white",
           "ticks": "",
           "title": {
            "standoff": 15
           },
           "zerolinecolor": "white",
           "zerolinewidth": 2
          },
          "yaxis": {
           "automargin": true,
           "gridcolor": "white",
           "linecolor": "white",
           "ticks": "",
           "title": {
            "standoff": 15
           },
           "zerolinecolor": "white",
           "zerolinewidth": 2
          }
         }
        },
        "title": {
         "text": "Silhouette Score Comparison"
        },
        "xaxis": {
         "anchor": "y",
         "domain": [
          0,
          1
         ],
         "range": [
          0.14821497557131474,
          0.2649790986802056
         ],
         "title": {
          "text": "value"
         }
        },
        "yaxis": {
         "anchor": "x",
         "domain": [
          0,
          1
         ],
         "title": {
          "text": "density"
         }
        }
       }
      }
     },
     "metadata": {},
     "output_type": "display_data"
    }
   ],
   "source": [
    "import plotly.graph_objects as go\n",
    "import plotly.express as px\n",
    "\n",
    "# Crea istogrammi per SSE\n",
    "fig_sse = px.histogram(sse_random_results, nbins=10, title='SSE Comparison', histnorm='density')\n",
    "fig_sse.add_vline(x=sse_real, line=dict(color='red', dash='dash'), annotation_text='Real SSE', annotation_position='top right')\n",
    "\n",
    "# Crea istogrammi per Silhouette\n",
    "fig_silhouette = px.histogram(silhouette_random_results, nbins=30, title='Silhouette Score Comparison', histnorm='density')\n",
    "fig_silhouette.add_vline(x=silhouette_real, line=dict(color='red', dash='dash'), annotation_text='Real Silhouette', annotation_position='top right')\n",
    "\n",
    "# Aggiorna layout per allargare l'asse x\n",
    "fig_sse.update_layout(xaxis=dict(range=[min(sse_random_results)-3000, max(sse_random_results)+3000]))\n",
    "fig_silhouette.update_layout(xaxis=dict(range=[min(silhouette_random_results)-0.03, max(silhouette_random_results)+0.03]))\n",
    "\n",
    "# Mostra i grafici\n",
    "fig_sse.show()\n",
    "fig_silhouette.show()"
   ]
  },
  {
   "cell_type": "markdown",
   "metadata": {},
   "source": [
    "Vengono scelti 4 cluster perchè il valore del silhoutte score è piu alto di quello randomico mantenendo comunque sse molto piu basso di quelli randomici"
   ]
  },
  {
   "cell_type": "code",
   "execution_count": 7,
   "metadata": {},
   "outputs": [],
   "source": [
    "from plotly.subplots import make_subplots\n",
    "\n",
    "#scaling, normalization\n",
    "from sklearn.preprocessing import StandardScaler, MinMaxScaler\n",
    "\n",
    "#kmeans, dbscan, hierarchical (sklearn)\n",
    "from sklearn.cluster import KMeans, DBSCAN, AgglomerativeClustering\n",
    "#evaluation\n",
    "from sklearn.metrics import silhouette_score\n",
    "\n",
    "#distance matrix (dbscan elbow, hierarchical)\n",
    "from scipy.spatial.distance import pdist, squareform\n",
    "from scipy.stats import pearsonr\n",
    "\n",
    "# hierarchical (scipy)\n",
    "from scipy.cluster.hierarchy import linkage, dendrogram, fcluster\n",
    "\n",
    "from kneed import KneeLocator"
   ]
  },
  {
   "cell_type": "code",
   "execution_count": 8,
   "metadata": {},
   "outputs": [
    {
     "name": "stdout",
     "output_type": "stream",
     "text": [
      "Correlation between distance and ideal similarity matrices: -0.5954775895093614\n"
     ]
    }
   ],
   "source": [
    "from sklearn.cluster import KMeans\n",
    "from sklearn.metrics import silhouette_score\n",
    "import pandas as pd\n",
    "\n",
    "n_points = train_pca.shape[0]\n",
    "#generate distance matrix\n",
    "distance_matrix = squareform(pdist(train_pca, metric='euclidean')) \n",
    "\n",
    "#Otteniamo le etichette di cluster dal modello k-means\n",
    "labels = kmeans.labels_\n",
    "\n",
    "#generate ideal similarity matrix\n",
    "similarity_matrix = np.equal.outer(labels, labels).astype(int)\n",
    "\n",
    "\n",
    "# Convertiamo la matrice delle distanze in una matrice di similarità\n",
    "# (simply similarity_matrix = max_distance - distance_matrix)\n",
    "max_distance = np.max(distance_matrix)\n",
    "similarity_from_distance = distance_matrix - max_distance \n",
    "\n",
    "'''\n",
    "# Rendi entrambe le matrici 1D per il calcolo della correlazione\n",
    "similarity_from_distance_flat = similarity_from_distance.flatten()\n",
    "similarity_matrix_flat = similarity_matrix.flatten()\n",
    "\n",
    "# Calcola la correlazione di Pearson\n",
    "correlation, _ = pearsonr(similarity_from_distance_flat, similarity_matrix_flat)\n",
    "\n",
    "print(\"Correlation between distance and ideal similarity matrices:\", correlation)\n",
    "'''\n",
    "# Selezioniamo solo la parte inferiore della matrice, inclusa la diagonale\n",
    "lower_triangle_indices = np.tril_indices(n_points)\n",
    "\n",
    "# Appiattiamo solo la parte inferiore della matrice\n",
    "similarity_from_distance_flat = similarity_from_distance[lower_triangle_indices]\n",
    "similarity_matrix_flat = similarity_matrix[lower_triangle_indices]\n",
    "\n",
    "# Calcolare la correlazione di Pearson tra i vettori appiattiti\n",
    "correlation, _ = pearsonr(similarity_from_distance_flat, similarity_matrix_flat)\n",
    "\n",
    "print(\"Correlation between distance and ideal similarity matrices:\", correlation)"
   ]
  },
  {
   "cell_type": "code",
   "execution_count": 9,
   "metadata": {},
   "outputs": [
    {
     "data": {
      "text/html": [
       "<div>\n",
       "<style scoped>\n",
       "    .dataframe tbody tr th:only-of-type {\n",
       "        vertical-align: middle;\n",
       "    }\n",
       "\n",
       "    .dataframe tbody tr th {\n",
       "        vertical-align: top;\n",
       "    }\n",
       "\n",
       "    .dataframe thead th {\n",
       "        text-align: right;\n",
       "    }\n",
       "</style>\n",
       "<table border=\"1\" class=\"dataframe\">\n",
       "  <thead>\n",
       "    <tr style=\"text-align: right;\">\n",
       "      <th></th>\n",
       "      <th>Popularity and Visibility</th>\n",
       "      <th>Quality and Production Year</th>\n",
       "      <th>Awards and Duration</th>\n",
       "      <th>Year and Duration</th>\n",
       "      <th>Duration and Rating</th>\n",
       "      <th>Cluster</th>\n",
       "    </tr>\n",
       "  </thead>\n",
       "  <tbody>\n",
       "    <tr>\n",
       "      <th>count</th>\n",
       "      <td>1.592500e+04</td>\n",
       "      <td>1.592500e+04</td>\n",
       "      <td>1.592500e+04</td>\n",
       "      <td>1.592500e+04</td>\n",
       "      <td>1.592500e+04</td>\n",
       "      <td>15925.000000</td>\n",
       "    </tr>\n",
       "    <tr>\n",
       "      <th>mean</th>\n",
       "      <td>4.640279e-17</td>\n",
       "      <td>-2.097049e-17</td>\n",
       "      <td>5.309550e-17</td>\n",
       "      <td>1.784723e-18</td>\n",
       "      <td>-8.923614e-18</td>\n",
       "      <td>4.293815</td>\n",
       "    </tr>\n",
       "    <tr>\n",
       "      <th>std</th>\n",
       "      <td>2.063024e+00</td>\n",
       "      <td>1.196257e+00</td>\n",
       "      <td>1.043604e+00</td>\n",
       "      <td>9.702996e-01</td>\n",
       "      <td>9.016430e-01</td>\n",
       "      <td>2.413412</td>\n",
       "    </tr>\n",
       "    <tr>\n",
       "      <th>min</th>\n",
       "      <td>-2.125705e+00</td>\n",
       "      <td>-4.153832e+00</td>\n",
       "      <td>-5.442170e+00</td>\n",
       "      <td>-4.154836e+00</td>\n",
       "      <td>-5.957225e+00</td>\n",
       "      <td>0.000000</td>\n",
       "    </tr>\n",
       "    <tr>\n",
       "      <th>25%</th>\n",
       "      <td>-1.222967e+00</td>\n",
       "      <td>-7.264520e-01</td>\n",
       "      <td>-6.123275e-01</td>\n",
       "      <td>-5.709878e-01</td>\n",
       "      <td>-5.172481e-01</td>\n",
       "      <td>2.000000</td>\n",
       "    </tr>\n",
       "    <tr>\n",
       "      <th>50%</th>\n",
       "      <td>-6.266554e-01</td>\n",
       "      <td>1.064962e-01</td>\n",
       "      <td>-6.461689e-02</td>\n",
       "      <td>2.753387e-02</td>\n",
       "      <td>3.319548e-02</td>\n",
       "      <td>4.000000</td>\n",
       "    </tr>\n",
       "    <tr>\n",
       "      <th>75%</th>\n",
       "      <td>4.488364e-01</td>\n",
       "      <td>7.346950e-01</td>\n",
       "      <td>5.516331e-01</td>\n",
       "      <td>5.937905e-01</td>\n",
       "      <td>5.329868e-01</td>\n",
       "      <td>7.000000</td>\n",
       "    </tr>\n",
       "    <tr>\n",
       "      <th>max</th>\n",
       "      <td>2.071558e+01</td>\n",
       "      <td>7.826389e+00</td>\n",
       "      <td>7.451328e+00</td>\n",
       "      <td>8.326927e+00</td>\n",
       "      <td>8.310961e+00</td>\n",
       "      <td>7.000000</td>\n",
       "    </tr>\n",
       "  </tbody>\n",
       "</table>\n",
       "</div>"
      ],
      "text/plain": [
       "       Popularity and Visibility  Quality and Production Year  \\\n",
       "count               1.592500e+04                 1.592500e+04   \n",
       "mean                4.640279e-17                -2.097049e-17   \n",
       "std                 2.063024e+00                 1.196257e+00   \n",
       "min                -2.125705e+00                -4.153832e+00   \n",
       "25%                -1.222967e+00                -7.264520e-01   \n",
       "50%                -6.266554e-01                 1.064962e-01   \n",
       "75%                 4.488364e-01                 7.346950e-01   \n",
       "max                 2.071558e+01                 7.826389e+00   \n",
       "\n",
       "       Awards and Duration  Year and Duration  Duration and Rating  \\\n",
       "count         1.592500e+04       1.592500e+04         1.592500e+04   \n",
       "mean          5.309550e-17       1.784723e-18        -8.923614e-18   \n",
       "std           1.043604e+00       9.702996e-01         9.016430e-01   \n",
       "min          -5.442170e+00      -4.154836e+00        -5.957225e+00   \n",
       "25%          -6.123275e-01      -5.709878e-01        -5.172481e-01   \n",
       "50%          -6.461689e-02       2.753387e-02         3.319548e-02   \n",
       "75%           5.516331e-01       5.937905e-01         5.329868e-01   \n",
       "max           7.451328e+00       8.326927e+00         8.310961e+00   \n",
       "\n",
       "            Cluster  \n",
       "count  15925.000000  \n",
       "mean       4.293815  \n",
       "std        2.413412  \n",
       "min        0.000000  \n",
       "25%        2.000000  \n",
       "50%        4.000000  \n",
       "75%        7.000000  \n",
       "max        7.000000  "
      ]
     },
     "execution_count": 9,
     "metadata": {},
     "output_type": "execute_result"
    }
   ],
   "source": [
    "principal_components_df = pd.DataFrame(train_pca)\n",
    "principal_components_df.describe()"
   ]
  },
  {
   "cell_type": "code",
   "execution_count": 10,
   "metadata": {},
   "outputs": [
    {
     "name": "stdout",
     "output_type": "stream",
     "text": [
      "Statistiche per ciascun cluster:\n"
     ]
    },
    {
     "data": {
      "text/html": [
       "<div>\n",
       "<style scoped>\n",
       "    .dataframe tbody tr th:only-of-type {\n",
       "        vertical-align: middle;\n",
       "    }\n",
       "\n",
       "    .dataframe tbody tr th {\n",
       "        vertical-align: top;\n",
       "    }\n",
       "\n",
       "    .dataframe thead th {\n",
       "        text-align: right;\n",
       "    }\n",
       "</style>\n",
       "<table border=\"1\" class=\"dataframe\">\n",
       "  <thead>\n",
       "    <tr style=\"text-align: right;\">\n",
       "      <th></th>\n",
       "      <th>Cluster</th>\n",
       "      <th>0</th>\n",
       "      <th>1</th>\n",
       "      <th>2</th>\n",
       "      <th>3</th>\n",
       "      <th>4</th>\n",
       "      <th>5</th>\n",
       "      <th>6</th>\n",
       "      <th>7</th>\n",
       "    </tr>\n",
       "  </thead>\n",
       "  <tbody>\n",
       "    <tr>\n",
       "      <th rowspan=\"8\" valign=\"top\">Popularity and Visibility</th>\n",
       "      <th>count</th>\n",
       "      <td>1199.00</td>\n",
       "      <td>764.00</td>\n",
       "      <td>2609.00</td>\n",
       "      <td>2683.00</td>\n",
       "      <td>807.00</td>\n",
       "      <td>1892.00</td>\n",
       "      <td>137.00</td>\n",
       "      <td>5834.00</td>\n",
       "    </tr>\n",
       "    <tr>\n",
       "      <th>mean</th>\n",
       "      <td>-0.97</td>\n",
       "      <td>3.65</td>\n",
       "      <td>-0.37</td>\n",
       "      <td>-0.65</td>\n",
       "      <td>2.78</td>\n",
       "      <td>1.07</td>\n",
       "      <td>11.87</td>\n",
       "      <td>-0.82</td>\n",
       "    </tr>\n",
       "    <tr>\n",
       "      <th>std</th>\n",
       "      <td>0.76</td>\n",
       "      <td>1.91</td>\n",
       "      <td>0.97</td>\n",
       "      <td>0.95</td>\n",
       "      <td>2.45</td>\n",
       "      <td>1.63</td>\n",
       "      <td>3.42</td>\n",
       "      <td>0.78</td>\n",
       "    </tr>\n",
       "    <tr>\n",
       "      <th>min</th>\n",
       "      <td>-2.13</td>\n",
       "      <td>0.53</td>\n",
       "      <td>-1.74</td>\n",
       "      <td>-2.04</td>\n",
       "      <td>-0.91</td>\n",
       "      <td>-1.69</td>\n",
       "      <td>5.14</td>\n",
       "      <td>-2.09</td>\n",
       "    </tr>\n",
       "    <tr>\n",
       "      <th>25%</th>\n",
       "      <td>-1.55</td>\n",
       "      <td>2.21</td>\n",
       "      <td>-1.08</td>\n",
       "      <td>-1.31</td>\n",
       "      <td>0.91</td>\n",
       "      <td>-0.08</td>\n",
       "      <td>9.58</td>\n",
       "      <td>-1.40</td>\n",
       "    </tr>\n",
       "    <tr>\n",
       "      <th>50%</th>\n",
       "      <td>-1.12</td>\n",
       "      <td>3.19</td>\n",
       "      <td>-0.62</td>\n",
       "      <td>-0.94</td>\n",
       "      <td>2.30</td>\n",
       "      <td>0.64</td>\n",
       "      <td>11.25</td>\n",
       "      <td>-0.99</td>\n",
       "    </tr>\n",
       "    <tr>\n",
       "      <th>75%</th>\n",
       "      <td>-0.52</td>\n",
       "      <td>4.72</td>\n",
       "      <td>0.09</td>\n",
       "      <td>-0.22</td>\n",
       "      <td>4.08</td>\n",
       "      <td>1.89</td>\n",
       "      <td>13.99</td>\n",
       "      <td>-0.43</td>\n",
       "    </tr>\n",
       "    <tr>\n",
       "      <th>max</th>\n",
       "      <td>3.89</td>\n",
       "      <td>10.23</td>\n",
       "      <td>5.36</td>\n",
       "      <td>4.14</td>\n",
       "      <td>13.47</td>\n",
       "      <td>9.78</td>\n",
       "      <td>20.72</td>\n",
       "      <td>3.63</td>\n",
       "    </tr>\n",
       "    <tr>\n",
       "      <th rowspan=\"8\" valign=\"top\">Quality and Production Year</th>\n",
       "      <th>count</th>\n",
       "      <td>1199.00</td>\n",
       "      <td>764.00</td>\n",
       "      <td>2609.00</td>\n",
       "      <td>2683.00</td>\n",
       "      <td>807.00</td>\n",
       "      <td>1892.00</td>\n",
       "      <td>137.00</td>\n",
       "      <td>5834.00</td>\n",
       "    </tr>\n",
       "    <tr>\n",
       "      <th>mean</th>\n",
       "      <td>-1.29</td>\n",
       "      <td>-0.47</td>\n",
       "      <td>0.02</td>\n",
       "      <td>-0.54</td>\n",
       "      <td>2.10</td>\n",
       "      <td>-1.37</td>\n",
       "      <td>1.77</td>\n",
       "      <td>0.68</td>\n",
       "    </tr>\n",
       "    <tr>\n",
       "      <th>std</th>\n",
       "      <td>0.83</td>\n",
       "      <td>1.17</td>\n",
       "      <td>0.71</td>\n",
       "      <td>0.77</td>\n",
       "      <td>1.26</td>\n",
       "      <td>0.80</td>\n",
       "      <td>2.10</td>\n",
       "      <td>0.55</td>\n",
       "    </tr>\n",
       "    <tr>\n",
       "      <th>min</th>\n",
       "      <td>-3.57</td>\n",
       "      <td>-3.84</td>\n",
       "      <td>-4.08</td>\n",
       "      <td>-3.46</td>\n",
       "      <td>-0.75</td>\n",
       "      <td>-4.15</td>\n",
       "      <td>-2.18</td>\n",
       "      <td>-0.80</td>\n",
       "    </tr>\n",
       "    <tr>\n",
       "      <th>25%</th>\n",
       "      <td>-1.94</td>\n",
       "      <td>-1.31</td>\n",
       "      <td>-0.44</td>\n",
       "      <td>-1.08</td>\n",
       "      <td>1.20</td>\n",
       "      <td>-1.96</td>\n",
       "      <td>0.32</td>\n",
       "      <td>0.27</td>\n",
       "    </tr>\n",
       "    <tr>\n",
       "      <th>50%</th>\n",
       "      <td>-1.25</td>\n",
       "      <td>-0.36</td>\n",
       "      <td>0.05</td>\n",
       "      <td>-0.51</td>\n",
       "      <td>2.00</td>\n",
       "      <td>-1.35</td>\n",
       "      <td>1.26</td>\n",
       "      <td>0.65</td>\n",
       "    </tr>\n",
       "    <tr>\n",
       "      <th>75%</th>\n",
       "      <td>-0.59</td>\n",
       "      <td>0.40</td>\n",
       "      <td>0.50</td>\n",
       "      <td>0.04</td>\n",
       "      <td>2.81</td>\n",
       "      <td>-0.71</td>\n",
       "      <td>3.23</td>\n",
       "      <td>1.03</td>\n",
       "    </tr>\n",
       "    <tr>\n",
       "      <th>max</th>\n",
       "      <td>1.07</td>\n",
       "      <td>2.62</td>\n",
       "      <td>1.94</td>\n",
       "      <td>1.81</td>\n",
       "      <td>7.83</td>\n",
       "      <td>0.95</td>\n",
       "      <td>7.14</td>\n",
       "      <td>3.42</td>\n",
       "    </tr>\n",
       "    <tr>\n",
       "      <th rowspan=\"8\" valign=\"top\">Awards and Duration</th>\n",
       "      <th>count</th>\n",
       "      <td>1199.00</td>\n",
       "      <td>764.00</td>\n",
       "      <td>2609.00</td>\n",
       "      <td>2683.00</td>\n",
       "      <td>807.00</td>\n",
       "      <td>1892.00</td>\n",
       "      <td>137.00</td>\n",
       "      <td>5834.00</td>\n",
       "    </tr>\n",
       "    <tr>\n",
       "      <th>mean</th>\n",
       "      <td>0.22</td>\n",
       "      <td>-1.42</td>\n",
       "      <td>0.41</td>\n",
       "      <td>0.64</td>\n",
       "      <td>2.33</td>\n",
       "      <td>-0.16</td>\n",
       "      <td>-0.56</td>\n",
       "      <td>-0.60</td>\n",
       "    </tr>\n",
       "    <tr>\n",
       "      <th>std</th>\n",
       "      <td>0.55</td>\n",
       "      <td>1.05</td>\n",
       "      <td>0.66</td>\n",
       "      <td>0.56</td>\n",
       "      <td>1.10</td>\n",
       "      <td>0.76</td>\n",
       "      <td>2.14</td>\n",
       "      <td>0.55</td>\n",
       "    </tr>\n",
       "    <tr>\n",
       "      <th>min</th>\n",
       "      <td>-1.31</td>\n",
       "      <td>-5.44</td>\n",
       "      <td>-1.55</td>\n",
       "      <td>-1.09</td>\n",
       "      <td>-0.54</td>\n",
       "      <td>-2.85</td>\n",
       "      <td>-4.97</td>\n",
       "      <td>-2.93</td>\n",
       "    </tr>\n",
       "    <tr>\n",
       "      <th>25%</th>\n",
       "      <td>-0.17</td>\n",
       "      <td>-2.12</td>\n",
       "      <td>-0.02</td>\n",
       "      <td>0.24</td>\n",
       "      <td>1.57</td>\n",
       "      <td>-0.69</td>\n",
       "      <td>-2.23</td>\n",
       "      <td>-0.92</td>\n",
       "    </tr>\n",
       "    <tr>\n",
       "      <th>50%</th>\n",
       "      <td>0.19</td>\n",
       "      <td>-1.34</td>\n",
       "      <td>0.36</td>\n",
       "      <td>0.62</td>\n",
       "      <td>2.16</td>\n",
       "      <td>-0.11</td>\n",
       "      <td>-0.45</td>\n",
       "      <td>-0.56</td>\n",
       "    </tr>\n",
       "    <tr>\n",
       "      <th>75%</th>\n",
       "      <td>0.57</td>\n",
       "      <td>-0.65</td>\n",
       "      <td>0.73</td>\n",
       "      <td>1.00</td>\n",
       "      <td>2.91</td>\n",
       "      <td>0.38</td>\n",
       "      <td>0.93</td>\n",
       "      <td>-0.24</td>\n",
       "    </tr>\n",
       "    <tr>\n",
       "      <th>max</th>\n",
       "      <td>2.24</td>\n",
       "      <td>1.38</td>\n",
       "      <td>6.83</td>\n",
       "      <td>2.89</td>\n",
       "      <td>7.45</td>\n",
       "      <td>2.18</td>\n",
       "      <td>4.51</td>\n",
       "      <td>1.36</td>\n",
       "    </tr>\n",
       "    <tr>\n",
       "      <th rowspan=\"8\" valign=\"top\">Year and Duration</th>\n",
       "      <th>count</th>\n",
       "      <td>1199.00</td>\n",
       "      <td>764.00</td>\n",
       "      <td>2609.00</td>\n",
       "      <td>2683.00</td>\n",
       "      <td>807.00</td>\n",
       "      <td>1892.00</td>\n",
       "      <td>137.00</td>\n",
       "      <td>5834.00</td>\n",
       "    </tr>\n",
       "    <tr>\n",
       "      <th>mean</th>\n",
       "      <td>-1.56</td>\n",
       "      <td>0.92</td>\n",
       "      <td>0.75</td>\n",
       "      <td>0.79</td>\n",
       "      <td>-0.95</td>\n",
       "      <td>-0.68</td>\n",
       "      <td>-0.03</td>\n",
       "      <td>-0.15</td>\n",
       "    </tr>\n",
       "    <tr>\n",
       "      <th>std</th>\n",
       "      <td>0.67</td>\n",
       "      <td>0.79</td>\n",
       "      <td>0.74</td>\n",
       "      <td>0.62</td>\n",
       "      <td>0.83</td>\n",
       "      <td>0.65</td>\n",
       "      <td>1.50</td>\n",
       "      <td>0.49</td>\n",
       "    </tr>\n",
       "    <tr>\n",
       "      <th>min</th>\n",
       "      <td>-3.67</td>\n",
       "      <td>-1.65</td>\n",
       "      <td>-1.28</td>\n",
       "      <td>-0.80</td>\n",
       "      <td>-4.15</td>\n",
       "      <td>-3.41</td>\n",
       "      <td>-3.22</td>\n",
       "      <td>-1.90</td>\n",
       "    </tr>\n",
       "    <tr>\n",
       "      <th>25%</th>\n",
       "      <td>-2.07</td>\n",
       "      <td>0.37</td>\n",
       "      <td>0.30</td>\n",
       "      <td>0.34</td>\n",
       "      <td>-1.44</td>\n",
       "      <td>-1.13</td>\n",
       "      <td>-1.13</td>\n",
       "      <td>-0.49</td>\n",
       "    </tr>\n",
       "    <tr>\n",
       "      <th>50%</th>\n",
       "      <td>-1.46</td>\n",
       "      <td>0.88</td>\n",
       "      <td>0.65</td>\n",
       "      <td>0.76</td>\n",
       "      <td>-0.89</td>\n",
       "      <td>-0.67</td>\n",
       "      <td>-0.06</td>\n",
       "      <td>-0.14</td>\n",
       "    </tr>\n",
       "    <tr>\n",
       "      <th>75%</th>\n",
       "      <td>-1.00</td>\n",
       "      <td>1.45</td>\n",
       "      <td>1.10</td>\n",
       "      <td>1.18</td>\n",
       "      <td>-0.37</td>\n",
       "      <td>-0.22</td>\n",
       "      <td>1.09</td>\n",
       "      <td>0.20</td>\n",
       "    </tr>\n",
       "    <tr>\n",
       "      <th>max</th>\n",
       "      <td>-0.20</td>\n",
       "      <td>4.02</td>\n",
       "      <td>8.33</td>\n",
       "      <td>3.23</td>\n",
       "      <td>1.48</td>\n",
       "      <td>1.20</td>\n",
       "      <td>4.02</td>\n",
       "      <td>1.44</td>\n",
       "    </tr>\n",
       "    <tr>\n",
       "      <th rowspan=\"8\" valign=\"top\">Duration and Rating</th>\n",
       "      <th>count</th>\n",
       "      <td>1199.00</td>\n",
       "      <td>764.00</td>\n",
       "      <td>2609.00</td>\n",
       "      <td>2683.00</td>\n",
       "      <td>807.00</td>\n",
       "      <td>1892.00</td>\n",
       "      <td>137.00</td>\n",
       "      <td>5834.00</td>\n",
       "    </tr>\n",
       "    <tr>\n",
       "      <th>mean</th>\n",
       "      <td>-0.73</td>\n",
       "      <td>-0.51</td>\n",
       "      <td>0.92</td>\n",
       "      <td>-0.81</td>\n",
       "      <td>0.13</td>\n",
       "      <td>0.65</td>\n",
       "      <td>-1.98</td>\n",
       "      <td>-0.00</td>\n",
       "    </tr>\n",
       "    <tr>\n",
       "      <th>std</th>\n",
       "      <td>0.56</td>\n",
       "      <td>0.89</td>\n",
       "      <td>0.78</td>\n",
       "      <td>0.68</td>\n",
       "      <td>0.89</td>\n",
       "      <td>0.49</td>\n",
       "      <td>1.61</td>\n",
       "      <td>0.51</td>\n",
       "    </tr>\n",
       "    <tr>\n",
       "      <th>min</th>\n",
       "      <td>-2.95</td>\n",
       "      <td>-4.77</td>\n",
       "      <td>-0.23</td>\n",
       "      <td>-3.70</td>\n",
       "      <td>-2.57</td>\n",
       "      <td>-0.97</td>\n",
       "      <td>-5.96</td>\n",
       "      <td>-1.70</td>\n",
       "    </tr>\n",
       "    <tr>\n",
       "      <th>25%</th>\n",
       "      <td>-1.13</td>\n",
       "      <td>-1.03</td>\n",
       "      <td>0.43</td>\n",
       "      <td>-1.24</td>\n",
       "      <td>-0.45</td>\n",
       "      <td>0.31</td>\n",
       "      <td>-3.02</td>\n",
       "      <td>-0.36</td>\n",
       "    </tr>\n",
       "    <tr>\n",
       "      <th>50%</th>\n",
       "      <td>-0.70</td>\n",
       "      <td>-0.46</td>\n",
       "      <td>0.75</td>\n",
       "      <td>-0.70</td>\n",
       "      <td>0.19</td>\n",
       "      <td>0.60</td>\n",
       "      <td>-2.01</td>\n",
       "      <td>-0.00</td>\n",
       "    </tr>\n",
       "    <tr>\n",
       "      <th>75%</th>\n",
       "      <td>-0.32</td>\n",
       "      <td>0.06</td>\n",
       "      <td>1.23</td>\n",
       "      <td>-0.26</td>\n",
       "      <td>0.70</td>\n",
       "      <td>0.93</td>\n",
       "      <td>-0.78</td>\n",
       "      <td>0.34</td>\n",
       "    </tr>\n",
       "    <tr>\n",
       "      <th>max</th>\n",
       "      <td>0.65</td>\n",
       "      <td>1.95</td>\n",
       "      <td>8.31</td>\n",
       "      <td>0.54</td>\n",
       "      <td>4.95</td>\n",
       "      <td>3.72</td>\n",
       "      <td>2.14</td>\n",
       "      <td>1.73</td>\n",
       "    </tr>\n",
       "  </tbody>\n",
       "</table>\n",
       "</div>"
      ],
      "text/plain": [
       "Cluster                                  0       1        2        3       4  \\\n",
       "Popularity and Visibility   count  1199.00  764.00  2609.00  2683.00  807.00   \n",
       "                            mean     -0.97    3.65    -0.37    -0.65    2.78   \n",
       "                            std       0.76    1.91     0.97     0.95    2.45   \n",
       "                            min      -2.13    0.53    -1.74    -2.04   -0.91   \n",
       "                            25%      -1.55    2.21    -1.08    -1.31    0.91   \n",
       "                            50%      -1.12    3.19    -0.62    -0.94    2.30   \n",
       "                            75%      -0.52    4.72     0.09    -0.22    4.08   \n",
       "                            max       3.89   10.23     5.36     4.14   13.47   \n",
       "Quality and Production Year count  1199.00  764.00  2609.00  2683.00  807.00   \n",
       "                            mean     -1.29   -0.47     0.02    -0.54    2.10   \n",
       "                            std       0.83    1.17     0.71     0.77    1.26   \n",
       "                            min      -3.57   -3.84    -4.08    -3.46   -0.75   \n",
       "                            25%      -1.94   -1.31    -0.44    -1.08    1.20   \n",
       "                            50%      -1.25   -0.36     0.05    -0.51    2.00   \n",
       "                            75%      -0.59    0.40     0.50     0.04    2.81   \n",
       "                            max       1.07    2.62     1.94     1.81    7.83   \n",
       "Awards and Duration         count  1199.00  764.00  2609.00  2683.00  807.00   \n",
       "                            mean      0.22   -1.42     0.41     0.64    2.33   \n",
       "                            std       0.55    1.05     0.66     0.56    1.10   \n",
       "                            min      -1.31   -5.44    -1.55    -1.09   -0.54   \n",
       "                            25%      -0.17   -2.12    -0.02     0.24    1.57   \n",
       "                            50%       0.19   -1.34     0.36     0.62    2.16   \n",
       "                            75%       0.57   -0.65     0.73     1.00    2.91   \n",
       "                            max       2.24    1.38     6.83     2.89    7.45   \n",
       "Year and Duration           count  1199.00  764.00  2609.00  2683.00  807.00   \n",
       "                            mean     -1.56    0.92     0.75     0.79   -0.95   \n",
       "                            std       0.67    0.79     0.74     0.62    0.83   \n",
       "                            min      -3.67   -1.65    -1.28    -0.80   -4.15   \n",
       "                            25%      -2.07    0.37     0.30     0.34   -1.44   \n",
       "                            50%      -1.46    0.88     0.65     0.76   -0.89   \n",
       "                            75%      -1.00    1.45     1.10     1.18   -0.37   \n",
       "                            max      -0.20    4.02     8.33     3.23    1.48   \n",
       "Duration and Rating         count  1199.00  764.00  2609.00  2683.00  807.00   \n",
       "                            mean     -0.73   -0.51     0.92    -0.81    0.13   \n",
       "                            std       0.56    0.89     0.78     0.68    0.89   \n",
       "                            min      -2.95   -4.77    -0.23    -3.70   -2.57   \n",
       "                            25%      -1.13   -1.03     0.43    -1.24   -0.45   \n",
       "                            50%      -0.70   -0.46     0.75    -0.70    0.19   \n",
       "                            75%      -0.32    0.06     1.23    -0.26    0.70   \n",
       "                            max       0.65    1.95     8.31     0.54    4.95   \n",
       "\n",
       "Cluster                                  5       6        7  \n",
       "Popularity and Visibility   count  1892.00  137.00  5834.00  \n",
       "                            mean      1.07   11.87    -0.82  \n",
       "                            std       1.63    3.42     0.78  \n",
       "                            min      -1.69    5.14    -2.09  \n",
       "                            25%      -0.08    9.58    -1.40  \n",
       "                            50%       0.64   11.25    -0.99  \n",
       "                            75%       1.89   13.99    -0.43  \n",
       "                            max       9.78   20.72     3.63  \n",
       "Quality and Production Year count  1892.00  137.00  5834.00  \n",
       "                            mean     -1.37    1.77     0.68  \n",
       "                            std       0.80    2.10     0.55  \n",
       "                            min      -4.15   -2.18    -0.80  \n",
       "                            25%      -1.96    0.32     0.27  \n",
       "                            50%      -1.35    1.26     0.65  \n",
       "                            75%      -0.71    3.23     1.03  \n",
       "                            max       0.95    7.14     3.42  \n",
       "Awards and Duration         count  1892.00  137.00  5834.00  \n",
       "                            mean     -0.16   -0.56    -0.60  \n",
       "                            std       0.76    2.14     0.55  \n",
       "                            min      -2.85   -4.97    -2.93  \n",
       "                            25%      -0.69   -2.23    -0.92  \n",
       "                            50%      -0.11   -0.45    -0.56  \n",
       "                            75%       0.38    0.93    -0.24  \n",
       "                            max       2.18    4.51     1.36  \n",
       "Year and Duration           count  1892.00  137.00  5834.00  \n",
       "                            mean     -0.68   -0.03    -0.15  \n",
       "                            std       0.65    1.50     0.49  \n",
       "                            min      -3.41   -3.22    -1.90  \n",
       "                            25%      -1.13   -1.13    -0.49  \n",
       "                            50%      -0.67   -0.06    -0.14  \n",
       "                            75%      -0.22    1.09     0.20  \n",
       "                            max       1.20    4.02     1.44  \n",
       "Duration and Rating         count  1892.00  137.00  5834.00  \n",
       "                            mean      0.65   -1.98    -0.00  \n",
       "                            std       0.49    1.61     0.51  \n",
       "                            min      -0.97   -5.96    -1.70  \n",
       "                            25%       0.31   -3.02    -0.36  \n",
       "                            50%       0.60   -2.01    -0.00  \n",
       "                            75%       0.93   -0.78     0.34  \n",
       "                            max       3.72    2.14     1.73  "
      ]
     },
     "execution_count": 10,
     "metadata": {},
     "output_type": "execute_result"
    }
   ],
   "source": [
    "# Calcola le statistiche per ciascun cluster\n",
    "cluster_stats = train_pca.groupby('Cluster').describe()\n",
    "print(\"Statistiche per ciascun cluster:\")\n",
    "cluster_stats.transpose().round(2)"
   ]
  }
 ],
 "metadata": {
  "kernelspec": {
   "display_name": "Python 3",
   "language": "python",
   "name": "python3"
  },
  "language_info": {
   "codemirror_mode": {
    "name": "ipython",
    "version": 3
   },
   "file_extension": ".py",
   "mimetype": "text/x-python",
   "name": "python",
   "nbconvert_exporter": "python",
   "pygments_lexer": "ipython3",
   "version": "3.13.0"
  }
 },
 "nbformat": 4,
 "nbformat_minor": 2
}
