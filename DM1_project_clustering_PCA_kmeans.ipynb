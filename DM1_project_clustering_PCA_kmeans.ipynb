{
 "cells": [
  {
   "cell_type": "code",
   "execution_count": 41,
   "metadata": {},
   "outputs": [],
   "source": [
    "import pandas as pd\n",
    "from sklearn.decomposition import PCA\n",
    "from sklearn.preprocessing import StandardScaler\n",
    "from sklearn.cluster import KMeans\n",
    "from sklearn.metrics import silhouette_score\n",
    "import matplotlib.pyplot as plt\n",
    "import numpy as np\n",
    "from mpl_toolkits.mplot3d import Axes3D\n",
    "import plotly.graph_objects as go\n",
    "from plotly.subplots import make_subplots\n",
    "\n",
    "df_log = pd.read_csv('train_cleaned_v.2.csv')\n",
    "df_unscaled = pd.read_csv('train_cleaned_v.1.csv')"
   ]
  },
  {
   "cell_type": "code",
   "execution_count": 42,
   "metadata": {},
   "outputs": [
    {
     "name": "stdout",
     "output_type": "stream",
     "text": [
      "Total Explained Variance: 0.7652830822852068\n",
      "                 Communalities\n",
      "startYear             0.835363\n",
      "runtimeMinutes        0.801539\n",
      "awardWins             0.864078\n",
      "numVotes              0.800600\n",
      "totalImages           0.644825\n",
      "totalVideos           0.776888\n",
      "totalCredits          0.525670\n",
      "AwNmExWins            0.823553\n",
      "numRegions            0.710280\n",
      "ratingMean            0.781926\n",
      "ReviewsTotal          0.804658\n",
      "popularityIndex       0.814593\n",
      "                 Principal Component 1  Principal Component 2  \\\n",
      "startYear                     0.070400               0.649453   \n",
      "runtimeMinutes                0.313851              -0.320829   \n",
      "awardWins                     0.529479               0.390197   \n",
      "numVotes                      0.796760              -0.225597   \n",
      "totalImages                   0.701491              -0.164419   \n",
      "totalVideos                   0.719083               0.130729   \n",
      "totalCredits                  0.643103               0.172292   \n",
      "AwNmExWins                    0.645426               0.380120   \n",
      "numRegions                    0.815414              -0.205314   \n",
      "ratingMean                   -0.034190               0.584327   \n",
      "ReviewsTotal                  0.817886              -0.302471   \n",
      "popularityIndex               0.753067               0.170092   \n",
      "\n",
      "                 Principal Component 3  Principal Component 4  \\\n",
      "startYear                    -0.091387              -0.460884   \n",
      "runtimeMinutes                0.431237              -0.376979   \n",
      "awardWins                     0.608523               0.213382   \n",
      "numVotes                     -0.153994               0.225552   \n",
      "totalImages                  -0.126474               0.195227   \n",
      "totalVideos                  -0.241325              -0.354310   \n",
      "totalCredits                 -0.275400              -0.078380   \n",
      "AwNmExWins                    0.479933               0.107411   \n",
      "numRegions                   -0.002286               0.008078   \n",
      "ratingMean                   -0.303626               0.491550   \n",
      "ReviewsTotal                 -0.051451               0.166391   \n",
      "popularityIndex              -0.219433              -0.224271   \n",
      "\n",
      "                 Principal Component 5  \n",
      "startYear                     0.433419  \n",
      "runtimeMinutes                0.521562  \n",
      "awardWins                    -0.125074  \n",
      "numVotes                      0.200727  \n",
      "totalImages                   0.267569  \n",
      "totalVideos                  -0.242784  \n",
      "totalCredits                  0.020390  \n",
      "AwNmExWins                   -0.143576  \n",
      "numRegions                   -0.056176  \n",
      "ratingMean                    0.324819  \n",
      "ReviewsTotal                  0.117890  \n",
      "popularityIndex              -0.346559  \n"
     ]
    },
    {
     "data": {
      "application/vnd.plotly.v1+json": {
       "config": {
        "plotlyServerURL": "https://plot.ly"
       },
       "data": [
        {
         "mode": "lines+markers",
         "name": "Explained Variance Ratio",
         "type": "scatter",
         "x": [
          "Principal Component 1",
          "Principal Component 2",
          "Principal Component 3",
          "Principal Component 4",
          "Principal Component 5"
         ],
         "y": [
          0.39664812177935443,
          0.12084075504519287,
          0.09263910052498117,
          0.07932275692727563,
          0.0758323480084026
         ]
        }
       ],
       "layout": {
        "template": {
         "data": {
          "bar": [
           {
            "error_x": {
             "color": "#2a3f5f"
            },
            "error_y": {
             "color": "#2a3f5f"
            },
            "marker": {
             "line": {
              "color": "#E5ECF6",
              "width": 0.5
             },
             "pattern": {
              "fillmode": "overlay",
              "size": 10,
              "solidity": 0.2
             }
            },
            "type": "bar"
           }
          ],
          "barpolar": [
           {
            "marker": {
             "line": {
              "color": "#E5ECF6",
              "width": 0.5
             },
             "pattern": {
              "fillmode": "overlay",
              "size": 10,
              "solidity": 0.2
             }
            },
            "type": "barpolar"
           }
          ],
          "carpet": [
           {
            "aaxis": {
             "endlinecolor": "#2a3f5f",
             "gridcolor": "white",
             "linecolor": "white",
             "minorgridcolor": "white",
             "startlinecolor": "#2a3f5f"
            },
            "baxis": {
             "endlinecolor": "#2a3f5f",
             "gridcolor": "white",
             "linecolor": "white",
             "minorgridcolor": "white",
             "startlinecolor": "#2a3f5f"
            },
            "type": "carpet"
           }
          ],
          "choropleth": [
           {
            "colorbar": {
             "outlinewidth": 0,
             "ticks": ""
            },
            "type": "choropleth"
           }
          ],
          "contour": [
           {
            "colorbar": {
             "outlinewidth": 0,
             "ticks": ""
            },
            "colorscale": [
             [
              0,
              "#0d0887"
             ],
             [
              0.1111111111111111,
              "#46039f"
             ],
             [
              0.2222222222222222,
              "#7201a8"
             ],
             [
              0.3333333333333333,
              "#9c179e"
             ],
             [
              0.4444444444444444,
              "#bd3786"
             ],
             [
              0.5555555555555556,
              "#d8576b"
             ],
             [
              0.6666666666666666,
              "#ed7953"
             ],
             [
              0.7777777777777778,
              "#fb9f3a"
             ],
             [
              0.8888888888888888,
              "#fdca26"
             ],
             [
              1,
              "#f0f921"
             ]
            ],
            "type": "contour"
           }
          ],
          "contourcarpet": [
           {
            "colorbar": {
             "outlinewidth": 0,
             "ticks": ""
            },
            "type": "contourcarpet"
           }
          ],
          "heatmap": [
           {
            "colorbar": {
             "outlinewidth": 0,
             "ticks": ""
            },
            "colorscale": [
             [
              0,
              "#0d0887"
             ],
             [
              0.1111111111111111,
              "#46039f"
             ],
             [
              0.2222222222222222,
              "#7201a8"
             ],
             [
              0.3333333333333333,
              "#9c179e"
             ],
             [
              0.4444444444444444,
              "#bd3786"
             ],
             [
              0.5555555555555556,
              "#d8576b"
             ],
             [
              0.6666666666666666,
              "#ed7953"
             ],
             [
              0.7777777777777778,
              "#fb9f3a"
             ],
             [
              0.8888888888888888,
              "#fdca26"
             ],
             [
              1,
              "#f0f921"
             ]
            ],
            "type": "heatmap"
           }
          ],
          "heatmapgl": [
           {
            "colorbar": {
             "outlinewidth": 0,
             "ticks": ""
            },
            "colorscale": [
             [
              0,
              "#0d0887"
             ],
             [
              0.1111111111111111,
              "#46039f"
             ],
             [
              0.2222222222222222,
              "#7201a8"
             ],
             [
              0.3333333333333333,
              "#9c179e"
             ],
             [
              0.4444444444444444,
              "#bd3786"
             ],
             [
              0.5555555555555556,
              "#d8576b"
             ],
             [
              0.6666666666666666,
              "#ed7953"
             ],
             [
              0.7777777777777778,
              "#fb9f3a"
             ],
             [
              0.8888888888888888,
              "#fdca26"
             ],
             [
              1,
              "#f0f921"
             ]
            ],
            "type": "heatmapgl"
           }
          ],
          "histogram": [
           {
            "marker": {
             "pattern": {
              "fillmode": "overlay",
              "size": 10,
              "solidity": 0.2
             }
            },
            "type": "histogram"
           }
          ],
          "histogram2d": [
           {
            "colorbar": {
             "outlinewidth": 0,
             "ticks": ""
            },
            "colorscale": [
             [
              0,
              "#0d0887"
             ],
             [
              0.1111111111111111,
              "#46039f"
             ],
             [
              0.2222222222222222,
              "#7201a8"
             ],
             [
              0.3333333333333333,
              "#9c179e"
             ],
             [
              0.4444444444444444,
              "#bd3786"
             ],
             [
              0.5555555555555556,
              "#d8576b"
             ],
             [
              0.6666666666666666,
              "#ed7953"
             ],
             [
              0.7777777777777778,
              "#fb9f3a"
             ],
             [
              0.8888888888888888,
              "#fdca26"
             ],
             [
              1,
              "#f0f921"
             ]
            ],
            "type": "histogram2d"
           }
          ],
          "histogram2dcontour": [
           {
            "colorbar": {
             "outlinewidth": 0,
             "ticks": ""
            },
            "colorscale": [
             [
              0,
              "#0d0887"
             ],
             [
              0.1111111111111111,
              "#46039f"
             ],
             [
              0.2222222222222222,
              "#7201a8"
             ],
             [
              0.3333333333333333,
              "#9c179e"
             ],
             [
              0.4444444444444444,
              "#bd3786"
             ],
             [
              0.5555555555555556,
              "#d8576b"
             ],
             [
              0.6666666666666666,
              "#ed7953"
             ],
             [
              0.7777777777777778,
              "#fb9f3a"
             ],
             [
              0.8888888888888888,
              "#fdca26"
             ],
             [
              1,
              "#f0f921"
             ]
            ],
            "type": "histogram2dcontour"
           }
          ],
          "mesh3d": [
           {
            "colorbar": {
             "outlinewidth": 0,
             "ticks": ""
            },
            "type": "mesh3d"
           }
          ],
          "parcoords": [
           {
            "line": {
             "colorbar": {
              "outlinewidth": 0,
              "ticks": ""
             }
            },
            "type": "parcoords"
           }
          ],
          "pie": [
           {
            "automargin": true,
            "type": "pie"
           }
          ],
          "scatter": [
           {
            "fillpattern": {
             "fillmode": "overlay",
             "size": 10,
             "solidity": 0.2
            },
            "type": "scatter"
           }
          ],
          "scatter3d": [
           {
            "line": {
             "colorbar": {
              "outlinewidth": 0,
              "ticks": ""
             }
            },
            "marker": {
             "colorbar": {
              "outlinewidth": 0,
              "ticks": ""
             }
            },
            "type": "scatter3d"
           }
          ],
          "scattercarpet": [
           {
            "marker": {
             "colorbar": {
              "outlinewidth": 0,
              "ticks": ""
             }
            },
            "type": "scattercarpet"
           }
          ],
          "scattergeo": [
           {
            "marker": {
             "colorbar": {
              "outlinewidth": 0,
              "ticks": ""
             }
            },
            "type": "scattergeo"
           }
          ],
          "scattergl": [
           {
            "marker": {
             "colorbar": {
              "outlinewidth": 0,
              "ticks": ""
             }
            },
            "type": "scattergl"
           }
          ],
          "scattermapbox": [
           {
            "marker": {
             "colorbar": {
              "outlinewidth": 0,
              "ticks": ""
             }
            },
            "type": "scattermapbox"
           }
          ],
          "scatterpolar": [
           {
            "marker": {
             "colorbar": {
              "outlinewidth": 0,
              "ticks": ""
             }
            },
            "type": "scatterpolar"
           }
          ],
          "scatterpolargl": [
           {
            "marker": {
             "colorbar": {
              "outlinewidth": 0,
              "ticks": ""
             }
            },
            "type": "scatterpolargl"
           }
          ],
          "scatterternary": [
           {
            "marker": {
             "colorbar": {
              "outlinewidth": 0,
              "ticks": ""
             }
            },
            "type": "scatterternary"
           }
          ],
          "surface": [
           {
            "colorbar": {
             "outlinewidth": 0,
             "ticks": ""
            },
            "colorscale": [
             [
              0,
              "#0d0887"
             ],
             [
              0.1111111111111111,
              "#46039f"
             ],
             [
              0.2222222222222222,
              "#7201a8"
             ],
             [
              0.3333333333333333,
              "#9c179e"
             ],
             [
              0.4444444444444444,
              "#bd3786"
             ],
             [
              0.5555555555555556,
              "#d8576b"
             ],
             [
              0.6666666666666666,
              "#ed7953"
             ],
             [
              0.7777777777777778,
              "#fb9f3a"
             ],
             [
              0.8888888888888888,
              "#fdca26"
             ],
             [
              1,
              "#f0f921"
             ]
            ],
            "type": "surface"
           }
          ],
          "table": [
           {
            "cells": {
             "fill": {
              "color": "#EBF0F8"
             },
             "line": {
              "color": "white"
             }
            },
            "header": {
             "fill": {
              "color": "#C8D4E3"
             },
             "line": {
              "color": "white"
             }
            },
            "type": "table"
           }
          ]
         },
         "layout": {
          "annotationdefaults": {
           "arrowcolor": "#2a3f5f",
           "arrowhead": 0,
           "arrowwidth": 1
          },
          "autotypenumbers": "strict",
          "coloraxis": {
           "colorbar": {
            "outlinewidth": 0,
            "ticks": ""
           }
          },
          "colorscale": {
           "diverging": [
            [
             0,
             "#8e0152"
            ],
            [
             0.1,
             "#c51b7d"
            ],
            [
             0.2,
             "#de77ae"
            ],
            [
             0.3,
             "#f1b6da"
            ],
            [
             0.4,
             "#fde0ef"
            ],
            [
             0.5,
             "#f7f7f7"
            ],
            [
             0.6,
             "#e6f5d0"
            ],
            [
             0.7,
             "#b8e186"
            ],
            [
             0.8,
             "#7fbc41"
            ],
            [
             0.9,
             "#4d9221"
            ],
            [
             1,
             "#276419"
            ]
           ],
           "sequential": [
            [
             0,
             "#0d0887"
            ],
            [
             0.1111111111111111,
             "#46039f"
            ],
            [
             0.2222222222222222,
             "#7201a8"
            ],
            [
             0.3333333333333333,
             "#9c179e"
            ],
            [
             0.4444444444444444,
             "#bd3786"
            ],
            [
             0.5555555555555556,
             "#d8576b"
            ],
            [
             0.6666666666666666,
             "#ed7953"
            ],
            [
             0.7777777777777778,
             "#fb9f3a"
            ],
            [
             0.8888888888888888,
             "#fdca26"
            ],
            [
             1,
             "#f0f921"
            ]
           ],
           "sequentialminus": [
            [
             0,
             "#0d0887"
            ],
            [
             0.1111111111111111,
             "#46039f"
            ],
            [
             0.2222222222222222,
             "#7201a8"
            ],
            [
             0.3333333333333333,
             "#9c179e"
            ],
            [
             0.4444444444444444,
             "#bd3786"
            ],
            [
             0.5555555555555556,
             "#d8576b"
            ],
            [
             0.6666666666666666,
             "#ed7953"
            ],
            [
             0.7777777777777778,
             "#fb9f3a"
            ],
            [
             0.8888888888888888,
             "#fdca26"
            ],
            [
             1,
             "#f0f921"
            ]
           ]
          },
          "colorway": [
           "#636efa",
           "#EF553B",
           "#00cc96",
           "#ab63fa",
           "#FFA15A",
           "#19d3f3",
           "#FF6692",
           "#B6E880",
           "#FF97FF",
           "#FECB52"
          ],
          "font": {
           "color": "#2a3f5f"
          },
          "geo": {
           "bgcolor": "white",
           "lakecolor": "white",
           "landcolor": "#E5ECF6",
           "showlakes": true,
           "showland": true,
           "subunitcolor": "white"
          },
          "hoverlabel": {
           "align": "left"
          },
          "hovermode": "closest",
          "mapbox": {
           "style": "light"
          },
          "paper_bgcolor": "white",
          "plot_bgcolor": "#E5ECF6",
          "polar": {
           "angularaxis": {
            "gridcolor": "white",
            "linecolor": "white",
            "ticks": ""
           },
           "bgcolor": "#E5ECF6",
           "radialaxis": {
            "gridcolor": "white",
            "linecolor": "white",
            "ticks": ""
           }
          },
          "scene": {
           "xaxis": {
            "backgroundcolor": "#E5ECF6",
            "gridcolor": "white",
            "gridwidth": 2,
            "linecolor": "white",
            "showbackground": true,
            "ticks": "",
            "zerolinecolor": "white"
           },
           "yaxis": {
            "backgroundcolor": "#E5ECF6",
            "gridcolor": "white",
            "gridwidth": 2,
            "linecolor": "white",
            "showbackground": true,
            "ticks": "",
            "zerolinecolor": "white"
           },
           "zaxis": {
            "backgroundcolor": "#E5ECF6",
            "gridcolor": "white",
            "gridwidth": 2,
            "linecolor": "white",
            "showbackground": true,
            "ticks": "",
            "zerolinecolor": "white"
           }
          },
          "shapedefaults": {
           "line": {
            "color": "#2a3f5f"
           }
          },
          "ternary": {
           "aaxis": {
            "gridcolor": "white",
            "linecolor": "white",
            "ticks": ""
           },
           "baxis": {
            "gridcolor": "white",
            "linecolor": "white",
            "ticks": ""
           },
           "bgcolor": "#E5ECF6",
           "caxis": {
            "gridcolor": "white",
            "linecolor": "white",
            "ticks": ""
           }
          },
          "title": {
           "x": 0.05
          },
          "xaxis": {
           "automargin": true,
           "gridcolor": "white",
           "linecolor": "white",
           "ticks": "",
           "title": {
            "standoff": 15
           },
           "zerolinecolor": "white",
           "zerolinewidth": 2
          },
          "yaxis": {
           "automargin": true,
           "gridcolor": "white",
           "linecolor": "white",
           "ticks": "",
           "title": {
            "standoff": 15
           },
           "zerolinecolor": "white",
           "zerolinewidth": 2
          }
         }
        },
        "title": {
         "text": "Scree Plot"
        },
        "xaxis": {
         "title": {
          "text": "Principal Component"
         }
        },
        "yaxis": {
         "title": {
          "text": "Explained Variance Ratio"
         }
        }
       }
      }
     },
     "metadata": {},
     "output_type": "display_data"
    }
   ],
   "source": [
    "import pandas as pd\n",
    "from sklearn.preprocessing import StandardScaler\n",
    "from sklearn.decomposition import PCA\n",
    "import numpy as np\n",
    "import plotly.graph_objects as go\n",
    "\n",
    "# Supponiamo che 'df_log' sia il DataFrame contenente le variabili log trasformate\n",
    "# Selezionare solo le variabili numeriche\n",
    "df_numeric = df_log.select_dtypes(include=[float, int])\n",
    "\n",
    "# Standardizzare i dati prima di applicare la PCA\n",
    "scaler = StandardScaler()\n",
    "df_standardized = scaler.fit_transform(df_numeric)\n",
    "\n",
    "# Applicare la PCA con 5 componenti principali\n",
    "num_components = 5\n",
    "pca = PCA(n_components=num_components)\n",
    "principal_components = pca.fit_transform(df_standardized)\n",
    "\n",
    "# Creare un DataFrame con le componenti principali\n",
    "df_pca = pd.DataFrame(data=principal_components, columns=[f'Principal Component {i+1}' for i in range(num_components)])\n",
    "\n",
    "# Aggiungere i nomi delle variabili originali come indice del DataFrame\n",
    "df_pca.index = df_numeric.index\n",
    "\n",
    "# Visualizzare la variabilità spiegata delle variabili\n",
    "explained_variance_ratio = pca.explained_variance_ratio_\n",
    "explained_variance_df = pd.DataFrame({\n",
    "    'Principal Component': [f'Principal Component {i+1}' for i in range(num_components)],\n",
    "    'Explained Variance Ratio': explained_variance_ratio[:num_components]\n",
    "})\n",
    "\n",
    "# Calcolare la somma totale della variabilità spiegata\n",
    "total_explained_variance = explained_variance_ratio.sum()\n",
    "print(f\"Total Explained Variance: {total_explained_variance}\")\n",
    "\n",
    "# Loadings (senza rotazione)\n",
    "loadings = pca.components_.T * np.sqrt(pca.explained_variance_)\n",
    "\n",
    "# Creare un DataFrame per i loadings con i nomi delle variabili\n",
    "loadings_df = pd.DataFrame(loadings, index=df_numeric.columns, columns=[f'Principal Component {i+1}' for i in range(num_components)])\n",
    "\n",
    "# Calcolare la stima delle comunanze finali\n",
    "communalities = np.sum(loadings_df**2, axis=1)\n",
    "communalities_df = pd.DataFrame(communalities, columns=['Communalities'])\n",
    "\n",
    "# Visualizzare le comunanze finali\n",
    "print(communalities_df)\n",
    "\n",
    "# Visualizzare i loadings\n",
    "print(loadings_df)\n",
    "\n",
    "# Creare lo scree plot con linee e punti utilizzando Plotly\n",
    "fig = go.Figure()\n",
    "\n",
    "fig.add_trace(go.Scatter(\n",
    "    x=explained_variance_df['Principal Component'],\n",
    "    y=explained_variance_df['Explained Variance Ratio'],\n",
    "    mode='lines+markers',\n",
    "    name='Explained Variance Ratio'\n",
    "))\n",
    "\n",
    "fig.update_layout(\n",
    "    title='Scree Plot',\n",
    "    xaxis_title='Principal Component',\n",
    "    yaxis_title='Explained Variance Ratio'\n",
    ")\n",
    "\n",
    "fig.show()"
   ]
  },
  {
   "cell_type": "markdown",
   "metadata": {},
   "source": [
    "The number of components have been choosen based on the explained variability. Based on screeplot the component were 2 or 3, but 5 component represent the 77% of the informations.  \n",
    "  \n",
    "From the estimate of the final communalities all variable are well explained. Only totalCredits have a lower value.  \n",
    "From the PCA it can be seen that the first component is representative of many instances: numVotes, totalImages, totalVideos, totalCredits, AwNmExWins, numRegions, ReviewsTotal, popularityIndex. So it's a general misure of popularity.  \n",
    "The second component is representative of startYear and ratingMean so it's a misure of how recently and the rating of a film.\n",
    "The PC3 have a high value in awardWins and AwNmExWins so it's a dimension of the success of the title.\n",
    "The PC4 make the Distinzione tra film più vecchi e lunghi con meno video e rating medi più alti\n",
    "The fifth component is a measure of modernity and duration."
   ]
  },
  {
   "cell_type": "code",
   "execution_count": 43,
   "metadata": {},
   "outputs": [
    {
     "data": {
      "application/vnd.plotly.v1+json": {
       "config": {
        "plotlyServerURL": "https://plot.ly"
       },
       "data": [
        {
         "mode": "lines+markers",
         "name": "SSE",
         "type": "scatter",
         "x": [
          2,
          3,
          4,
          5,
          6,
          7,
          8,
          9,
          10,
          11,
          12,
          13,
          14,
          15,
          16,
          17,
          18,
          19,
          20
         ],
         "xaxis": "x",
         "y": [
          102774.08223759844,
          83507.1926178296,
          72827.08887991062,
          64530.24456022133,
          56259.70056330337,
          51841.81388750913,
          46399.51293984675,
          43753.41953239041,
          41557.704580227204,
          39029.70327920566,
          37287.466395564305,
          35601.06706082249,
          34024.7517624975,
          32780.80658572308,
          31569.818138786457,
          30762.47746057939,
          29629.029550674615,
          28980.046703501437,
          28304.164122545884
         ],
         "yaxis": "y"
        },
        {
         "mode": "lines+markers",
         "name": "Silhouette",
         "type": "scatter",
         "x": [
          2,
          3,
          4,
          5,
          6,
          7,
          8,
          9,
          10,
          11,
          12,
          13,
          14,
          15,
          16,
          17,
          18,
          19,
          20
         ],
         "xaxis": "x2",
         "y": [
          0.5807156293712404,
          0.4127352222375481,
          0.37378465497202856,
          0.2819433412990831,
          0.24953087402475344,
          0.2260515422269212,
          0.24753746486330488,
          0.2445042957410633,
          0.20079732744758982,
          0.20297292041682222,
          0.20746291897730712,
          0.20510956686234436,
          0.2088314738473991,
          0.2065856848710328,
          0.20953218714123859,
          0.2022924256818775,
          0.20682231424700473,
          0.20834286456968587,
          0.20828146069647316
         ],
         "yaxis": "y2"
        }
       ],
       "layout": {
        "annotations": [
         {
          "font": {
           "size": 16
          },
          "showarrow": false,
          "text": "SSE vs k",
          "x": 0.225,
          "xanchor": "center",
          "xref": "paper",
          "y": 1,
          "yanchor": "bottom",
          "yref": "paper"
         },
         {
          "font": {
           "size": 16
          },
          "showarrow": false,
          "text": "Silhouette Score vs k",
          "x": 0.775,
          "xanchor": "center",
          "xref": "paper",
          "y": 1,
          "yanchor": "bottom",
          "yref": "paper"
         }
        ],
        "showlegend": false,
        "template": {
         "data": {
          "bar": [
           {
            "error_x": {
             "color": "#2a3f5f"
            },
            "error_y": {
             "color": "#2a3f5f"
            },
            "marker": {
             "line": {
              "color": "#E5ECF6",
              "width": 0.5
             },
             "pattern": {
              "fillmode": "overlay",
              "size": 10,
              "solidity": 0.2
             }
            },
            "type": "bar"
           }
          ],
          "barpolar": [
           {
            "marker": {
             "line": {
              "color": "#E5ECF6",
              "width": 0.5
             },
             "pattern": {
              "fillmode": "overlay",
              "size": 10,
              "solidity": 0.2
             }
            },
            "type": "barpolar"
           }
          ],
          "carpet": [
           {
            "aaxis": {
             "endlinecolor": "#2a3f5f",
             "gridcolor": "white",
             "linecolor": "white",
             "minorgridcolor": "white",
             "startlinecolor": "#2a3f5f"
            },
            "baxis": {
             "endlinecolor": "#2a3f5f",
             "gridcolor": "white",
             "linecolor": "white",
             "minorgridcolor": "white",
             "startlinecolor": "#2a3f5f"
            },
            "type": "carpet"
           }
          ],
          "choropleth": [
           {
            "colorbar": {
             "outlinewidth": 0,
             "ticks": ""
            },
            "type": "choropleth"
           }
          ],
          "contour": [
           {
            "colorbar": {
             "outlinewidth": 0,
             "ticks": ""
            },
            "colorscale": [
             [
              0,
              "#0d0887"
             ],
             [
              0.1111111111111111,
              "#46039f"
             ],
             [
              0.2222222222222222,
              "#7201a8"
             ],
             [
              0.3333333333333333,
              "#9c179e"
             ],
             [
              0.4444444444444444,
              "#bd3786"
             ],
             [
              0.5555555555555556,
              "#d8576b"
             ],
             [
              0.6666666666666666,
              "#ed7953"
             ],
             [
              0.7777777777777778,
              "#fb9f3a"
             ],
             [
              0.8888888888888888,
              "#fdca26"
             ],
             [
              1,
              "#f0f921"
             ]
            ],
            "type": "contour"
           }
          ],
          "contourcarpet": [
           {
            "colorbar": {
             "outlinewidth": 0,
             "ticks": ""
            },
            "type": "contourcarpet"
           }
          ],
          "heatmap": [
           {
            "colorbar": {
             "outlinewidth": 0,
             "ticks": ""
            },
            "colorscale": [
             [
              0,
              "#0d0887"
             ],
             [
              0.1111111111111111,
              "#46039f"
             ],
             [
              0.2222222222222222,
              "#7201a8"
             ],
             [
              0.3333333333333333,
              "#9c179e"
             ],
             [
              0.4444444444444444,
              "#bd3786"
             ],
             [
              0.5555555555555556,
              "#d8576b"
             ],
             [
              0.6666666666666666,
              "#ed7953"
             ],
             [
              0.7777777777777778,
              "#fb9f3a"
             ],
             [
              0.8888888888888888,
              "#fdca26"
             ],
             [
              1,
              "#f0f921"
             ]
            ],
            "type": "heatmap"
           }
          ],
          "heatmapgl": [
           {
            "colorbar": {
             "outlinewidth": 0,
             "ticks": ""
            },
            "colorscale": [
             [
              0,
              "#0d0887"
             ],
             [
              0.1111111111111111,
              "#46039f"
             ],
             [
              0.2222222222222222,
              "#7201a8"
             ],
             [
              0.3333333333333333,
              "#9c179e"
             ],
             [
              0.4444444444444444,
              "#bd3786"
             ],
             [
              0.5555555555555556,
              "#d8576b"
             ],
             [
              0.6666666666666666,
              "#ed7953"
             ],
             [
              0.7777777777777778,
              "#fb9f3a"
             ],
             [
              0.8888888888888888,
              "#fdca26"
             ],
             [
              1,
              "#f0f921"
             ]
            ],
            "type": "heatmapgl"
           }
          ],
          "histogram": [
           {
            "marker": {
             "pattern": {
              "fillmode": "overlay",
              "size": 10,
              "solidity": 0.2
             }
            },
            "type": "histogram"
           }
          ],
          "histogram2d": [
           {
            "colorbar": {
             "outlinewidth": 0,
             "ticks": ""
            },
            "colorscale": [
             [
              0,
              "#0d0887"
             ],
             [
              0.1111111111111111,
              "#46039f"
             ],
             [
              0.2222222222222222,
              "#7201a8"
             ],
             [
              0.3333333333333333,
              "#9c179e"
             ],
             [
              0.4444444444444444,
              "#bd3786"
             ],
             [
              0.5555555555555556,
              "#d8576b"
             ],
             [
              0.6666666666666666,
              "#ed7953"
             ],
             [
              0.7777777777777778,
              "#fb9f3a"
             ],
             [
              0.8888888888888888,
              "#fdca26"
             ],
             [
              1,
              "#f0f921"
             ]
            ],
            "type": "histogram2d"
           }
          ],
          "histogram2dcontour": [
           {
            "colorbar": {
             "outlinewidth": 0,
             "ticks": ""
            },
            "colorscale": [
             [
              0,
              "#0d0887"
             ],
             [
              0.1111111111111111,
              "#46039f"
             ],
             [
              0.2222222222222222,
              "#7201a8"
             ],
             [
              0.3333333333333333,
              "#9c179e"
             ],
             [
              0.4444444444444444,
              "#bd3786"
             ],
             [
              0.5555555555555556,
              "#d8576b"
             ],
             [
              0.6666666666666666,
              "#ed7953"
             ],
             [
              0.7777777777777778,
              "#fb9f3a"
             ],
             [
              0.8888888888888888,
              "#fdca26"
             ],
             [
              1,
              "#f0f921"
             ]
            ],
            "type": "histogram2dcontour"
           }
          ],
          "mesh3d": [
           {
            "colorbar": {
             "outlinewidth": 0,
             "ticks": ""
            },
            "type": "mesh3d"
           }
          ],
          "parcoords": [
           {
            "line": {
             "colorbar": {
              "outlinewidth": 0,
              "ticks": ""
             }
            },
            "type": "parcoords"
           }
          ],
          "pie": [
           {
            "automargin": true,
            "type": "pie"
           }
          ],
          "scatter": [
           {
            "fillpattern": {
             "fillmode": "overlay",
             "size": 10,
             "solidity": 0.2
            },
            "type": "scatter"
           }
          ],
          "scatter3d": [
           {
            "line": {
             "colorbar": {
              "outlinewidth": 0,
              "ticks": ""
             }
            },
            "marker": {
             "colorbar": {
              "outlinewidth": 0,
              "ticks": ""
             }
            },
            "type": "scatter3d"
           }
          ],
          "scattercarpet": [
           {
            "marker": {
             "colorbar": {
              "outlinewidth": 0,
              "ticks": ""
             }
            },
            "type": "scattercarpet"
           }
          ],
          "scattergeo": [
           {
            "marker": {
             "colorbar": {
              "outlinewidth": 0,
              "ticks": ""
             }
            },
            "type": "scattergeo"
           }
          ],
          "scattergl": [
           {
            "marker": {
             "colorbar": {
              "outlinewidth": 0,
              "ticks": ""
             }
            },
            "type": "scattergl"
           }
          ],
          "scattermapbox": [
           {
            "marker": {
             "colorbar": {
              "outlinewidth": 0,
              "ticks": ""
             }
            },
            "type": "scattermapbox"
           }
          ],
          "scatterpolar": [
           {
            "marker": {
             "colorbar": {
              "outlinewidth": 0,
              "ticks": ""
             }
            },
            "type": "scatterpolar"
           }
          ],
          "scatterpolargl": [
           {
            "marker": {
             "colorbar": {
              "outlinewidth": 0,
              "ticks": ""
             }
            },
            "type": "scatterpolargl"
           }
          ],
          "scatterternary": [
           {
            "marker": {
             "colorbar": {
              "outlinewidth": 0,
              "ticks": ""
             }
            },
            "type": "scatterternary"
           }
          ],
          "surface": [
           {
            "colorbar": {
             "outlinewidth": 0,
             "ticks": ""
            },
            "colorscale": [
             [
              0,
              "#0d0887"
             ],
             [
              0.1111111111111111,
              "#46039f"
             ],
             [
              0.2222222222222222,
              "#7201a8"
             ],
             [
              0.3333333333333333,
              "#9c179e"
             ],
             [
              0.4444444444444444,
              "#bd3786"
             ],
             [
              0.5555555555555556,
              "#d8576b"
             ],
             [
              0.6666666666666666,
              "#ed7953"
             ],
             [
              0.7777777777777778,
              "#fb9f3a"
             ],
             [
              0.8888888888888888,
              "#fdca26"
             ],
             [
              1,
              "#f0f921"
             ]
            ],
            "type": "surface"
           }
          ],
          "table": [
           {
            "cells": {
             "fill": {
              "color": "#EBF0F8"
             },
             "line": {
              "color": "white"
             }
            },
            "header": {
             "fill": {
              "color": "#C8D4E3"
             },
             "line": {
              "color": "white"
             }
            },
            "type": "table"
           }
          ]
         },
         "layout": {
          "annotationdefaults": {
           "arrowcolor": "#2a3f5f",
           "arrowhead": 0,
           "arrowwidth": 1
          },
          "autotypenumbers": "strict",
          "coloraxis": {
           "colorbar": {
            "outlinewidth": 0,
            "ticks": ""
           }
          },
          "colorscale": {
           "diverging": [
            [
             0,
             "#8e0152"
            ],
            [
             0.1,
             "#c51b7d"
            ],
            [
             0.2,
             "#de77ae"
            ],
            [
             0.3,
             "#f1b6da"
            ],
            [
             0.4,
             "#fde0ef"
            ],
            [
             0.5,
             "#f7f7f7"
            ],
            [
             0.6,
             "#e6f5d0"
            ],
            [
             0.7,
             "#b8e186"
            ],
            [
             0.8,
             "#7fbc41"
            ],
            [
             0.9,
             "#4d9221"
            ],
            [
             1,
             "#276419"
            ]
           ],
           "sequential": [
            [
             0,
             "#0d0887"
            ],
            [
             0.1111111111111111,
             "#46039f"
            ],
            [
             0.2222222222222222,
             "#7201a8"
            ],
            [
             0.3333333333333333,
             "#9c179e"
            ],
            [
             0.4444444444444444,
             "#bd3786"
            ],
            [
             0.5555555555555556,
             "#d8576b"
            ],
            [
             0.6666666666666666,
             "#ed7953"
            ],
            [
             0.7777777777777778,
             "#fb9f3a"
            ],
            [
             0.8888888888888888,
             "#fdca26"
            ],
            [
             1,
             "#f0f921"
            ]
           ],
           "sequentialminus": [
            [
             0,
             "#0d0887"
            ],
            [
             0.1111111111111111,
             "#46039f"
            ],
            [
             0.2222222222222222,
             "#7201a8"
            ],
            [
             0.3333333333333333,
             "#9c179e"
            ],
            [
             0.4444444444444444,
             "#bd3786"
            ],
            [
             0.5555555555555556,
             "#d8576b"
            ],
            [
             0.6666666666666666,
             "#ed7953"
            ],
            [
             0.7777777777777778,
             "#fb9f3a"
            ],
            [
             0.8888888888888888,
             "#fdca26"
            ],
            [
             1,
             "#f0f921"
            ]
           ]
          },
          "colorway": [
           "#636efa",
           "#EF553B",
           "#00cc96",
           "#ab63fa",
           "#FFA15A",
           "#19d3f3",
           "#FF6692",
           "#B6E880",
           "#FF97FF",
           "#FECB52"
          ],
          "font": {
           "color": "#2a3f5f"
          },
          "geo": {
           "bgcolor": "white",
           "lakecolor": "white",
           "landcolor": "#E5ECF6",
           "showlakes": true,
           "showland": true,
           "subunitcolor": "white"
          },
          "hoverlabel": {
           "align": "left"
          },
          "hovermode": "closest",
          "mapbox": {
           "style": "light"
          },
          "paper_bgcolor": "white",
          "plot_bgcolor": "#E5ECF6",
          "polar": {
           "angularaxis": {
            "gridcolor": "white",
            "linecolor": "white",
            "ticks": ""
           },
           "bgcolor": "#E5ECF6",
           "radialaxis": {
            "gridcolor": "white",
            "linecolor": "white",
            "ticks": ""
           }
          },
          "scene": {
           "xaxis": {
            "backgroundcolor": "#E5ECF6",
            "gridcolor": "white",
            "gridwidth": 2,
            "linecolor": "white",
            "showbackground": true,
            "ticks": "",
            "zerolinecolor": "white"
           },
           "yaxis": {
            "backgroundcolor": "#E5ECF6",
            "gridcolor": "white",
            "gridwidth": 2,
            "linecolor": "white",
            "showbackground": true,
            "ticks": "",
            "zerolinecolor": "white"
           },
           "zaxis": {
            "backgroundcolor": "#E5ECF6",
            "gridcolor": "white",
            "gridwidth": 2,
            "linecolor": "white",
            "showbackground": true,
            "ticks": "",
            "zerolinecolor": "white"
           }
          },
          "shapedefaults": {
           "line": {
            "color": "#2a3f5f"
           }
          },
          "ternary": {
           "aaxis": {
            "gridcolor": "white",
            "linecolor": "white",
            "ticks": ""
           },
           "baxis": {
            "gridcolor": "white",
            "linecolor": "white",
            "ticks": ""
           },
           "bgcolor": "#E5ECF6",
           "caxis": {
            "gridcolor": "white",
            "linecolor": "white",
            "ticks": ""
           }
          },
          "title": {
           "x": 0.05
          },
          "xaxis": {
           "automargin": true,
           "gridcolor": "white",
           "linecolor": "white",
           "ticks": "",
           "title": {
            "standoff": 15
           },
           "zerolinecolor": "white",
           "zerolinewidth": 2
          },
          "yaxis": {
           "automargin": true,
           "gridcolor": "white",
           "linecolor": "white",
           "ticks": "",
           "title": {
            "standoff": 15
           },
           "zerolinecolor": "white",
           "zerolinewidth": 2
          }
         }
        },
        "title": {
         "text": "SSE e Silhouette Score per il clustering K-Means"
        },
        "xaxis": {
         "anchor": "y",
         "domain": [
          0,
          0.45
         ],
         "title": {
          "text": "k"
         }
        },
        "xaxis2": {
         "anchor": "y2",
         "domain": [
          0.55,
          1
         ],
         "title": {
          "text": "k"
         }
        },
        "yaxis": {
         "anchor": "x",
         "domain": [
          0,
          1
         ],
         "title": {
          "text": "SSE"
         }
        },
        "yaxis2": {
         "anchor": "x2",
         "domain": [
          0,
          1
         ],
         "title": {
          "text": "Silhouette Score"
         }
        }
       }
      }
     },
     "metadata": {},
     "output_type": "display_data"
    }
   ],
   "source": [
    "# Calcola SSE e Silhouette Score per diversi valori di k per scegliere il numero di cluster\n",
    "sse_list = []\n",
    "sil_list = []\n",
    "k_values = range(2, 21)  # Prova valori di k da 2 a 20\n",
    "\n",
    "for k in k_values:\n",
    "    kmeans = KMeans(n_clusters=k, random_state=42)\n",
    "    clusters = kmeans.fit_predict(principal_components)\n",
    "    sse_list.append(kmeans.inertia_)\n",
    "    sil_list.append(silhouette_score(principal_components, clusters))\n",
    "\n",
    "# Crea la figura con due sottotrame (subplots)\n",
    "fig = make_subplots(rows=1, cols=2, subplot_titles=(\"SSE vs k\", \"Silhouette Score vs k\"))\n",
    "\n",
    "# Grafico SSE vs k\n",
    "fig.add_trace(\n",
    "    go.Scatter(x=list(k_values), y=sse_list, mode='lines+markers', name=\"SSE\"),\n",
    "    row=1, col=1\n",
    ")\n",
    "fig.update_xaxes(title_text=\"k\", row=1, col=1)\n",
    "fig.update_yaxes(title_text=\"SSE\", row=1, col=1)\n",
    "\n",
    "# Grafico Silhouette Score vs k\n",
    "fig.add_trace(\n",
    "    go.Scatter(x=list(k_values), y=sil_list, mode='lines+markers', name=\"Silhouette\"),\n",
    "    row=1, col=2\n",
    ")\n",
    "fig.update_xaxes(title_text=\"k\", row=1, col=2)\n",
    "fig.update_yaxes(title_text=\"Silhouette Score\", row=1, col=2)\n",
    "\n",
    "# Layout generale della figura\n",
    "fig.update_layout(title_text=\"SSE e Silhouette Score per il clustering K-Means\",\n",
    "                  showlegend=False)\n",
    "\n",
    "# Mostra il grafico\n",
    "fig.show()"
   ]
  },
  {
   "cell_type": "code",
   "execution_count": 44,
   "metadata": {},
   "outputs": [
    {
     "name": "stdout",
     "output_type": "stream",
     "text": [
      "SSE (Sum of Squared Errors): 46399.51293984675\n",
      "Silhouette Score: 0.24753746486330488\n"
     ]
    }
   ],
   "source": [
    "# Esegui il clustering K-means sui dati trasformati dalla PCA\n",
    "kmeans = KMeans(n_clusters=8, random_state=42)\n",
    "clusters = kmeans.fit_predict(principal_components)\n",
    "\n",
    "# Aggiungi i cluster al DataFrame delle componenti principali\n",
    "df_pca['Cluster'] = clusters\n",
    "\n",
    "# Calcola l'SSE (Sum of Squared Errors)\n",
    "sse = kmeans.inertia_\n",
    "print(f\"SSE (Sum of Squared Errors): {sse}\")\n",
    "\n",
    "# Calcola il Silhouette Score\n",
    "silhouette_avg = silhouette_score(principal_components, clusters)\n",
    "print(f\"Silhouette Score: {silhouette_avg}\")"
   ]
  },
  {
   "cell_type": "code",
   "execution_count": 45,
   "metadata": {},
   "outputs": [
    {
     "data": {
      "image/png": "[encoded data removed]",
      "text/plain": [
       "<Figure size 1500x800 with 1 Axes>"
      ]
     },
     "metadata": {},
     "output_type": "display_data"
    }
   ],
   "source": [
    "# Visualizza i risultati del clustering su 3 componenti principali (grafico 3D)\n",
    "fig = plt.figure(figsize=(15, 8))  # Aumenta la larghezza del grafico\n",
    "ax = fig.add_subplot(111, projection='3d')\n",
    "scatter = ax.scatter(df_pca['Principal Component 1'], df_pca['Principal Component 2'], df_pca['Principal Component 3'], c=df_pca['Cluster'], cmap='viridis', marker='o')\n",
    "ax.scatter(kmeans.cluster_centers_[:, 0], kmeans.cluster_centers_[:, 1], kmeans.cluster_centers_[:, 2], s=300, c='red', marker='x')\n",
    "ax.set_title('Clustering K-means dopo PCA')\n",
    "ax.set_xlabel('Prima componente principale')\n",
    "ax.set_ylabel('Seconda componente principale')\n",
    "ax.set_zlabel('Terza componente principale')\n",
    "\n",
    "plt.show()"
   ]
  },
  {
   "cell_type": "code",
   "execution_count": null,
   "metadata": {},
   "outputs": [
    {
     "data": {
      "image/png": "[encoded data removed]",
      "text/plain": [
       "<Figure size 1200x1000 with 2 Axes>"
      ]
     },
     "metadata": {},
     "output_type": "display_data"
    }
   ],
   "source": [
    "import seaborn as sns\n",
    "\n",
    "# Numero di simulazioni per i dati randomizzati\n",
    "n_simulations = 50\n",
    "sse_random_results = []\n",
    "silhouette_random_results = []\n",
    "\n",
    "# Loop per creare dati randomizzati e calcolare SSE e Silhouette\n",
    "for _ in range(n_simulations):\n",
    "    random_data = np.random.permutation(principal_components)  # Shuffle dei dati standardizzati\n",
    "    random_kmeans = KMeans(n_clusters=8, random_state=42)\n",
    "    random_clusters = random_kmeans.fit_predict(random_data)\n",
    "    sse_random_results.append(random_kmeans.inertia_)\n",
    "    silhouette_random_results.append(silhouette_score(random_data, random_clusters))\n",
    "\n",
    "# SSE e Silhouette Score sui dati reali\n",
    "sse_real = kmeans.inertia_\n",
    "silhouette_real = silhouette_score(principal_components, clusters)\n",
    "\n",
    "# # Visualizza i risultati di SSE per i dati reali e randomizzati\n",
    "# plt.figure(figsize=(12, 10))  # Aumenta la larghezza della figura\n",
    "\n",
    "# # Plotta gli histogrammi per SSE\n",
    "# plt.subplot(2, 1, 1)\n",
    "# sns.histplot(sse_random_results, kde=True, label='Randomized SSE', color='blue', stat='density', bins=10)\n",
    "# plt.axvline(x=sse_real, color='red', linestyle='--', label='Real SSE')\n",
    "# plt.legend()\n",
    "# plt.title('SSE Comparison')\n",
    "\n",
    "# # Plotta gli histogrammi per Silhouette\n",
    "# plt.subplot(2, 1, 2)\n",
    "# sns.histplot(silhouette_random_results, kde=True, label='Randomized Silhouette', color='blue', stat='density', bins=30)\n",
    "# plt.axvline(x=silhouette_real, color='red', linestyle='--', label='Real Silhouette')\n",
    "# plt.legend()\n",
    "# plt.title('Silhouette Score Comparison')\n",
    "\n",
    "# plt.tight_layout()\n",
    "# plt.show()"
   ]
  },
  {
   "cell_type": "code",
   "execution_count": 59,
   "metadata": {},
   "outputs": [
    {
     "data": {
      "application/vnd.plotly.v1+json": {
       "config": {
        "plotlyServerURL": "https://plot.ly"
       },
       "data": [
        {
         "alignmentgroup": "True",
         "bingroup": "x",
         "histnorm": "density",
         "hovertemplate": "variable=0<br>value=%{x}<br>density=%{y}<extra></extra>",
         "legendgroup": "0",
         "marker": {
          "color": "#636efa",
          "pattern": {
           "shape": ""
          }
         },
         "name": "0",
         "nbinsx": 10,
         "offsetgroup": "0",
         "orientation": "v",
         "showlegend": true,
         "type": "histogram",
         "x": [
          47390.84525672829,
          46398.086803159145,
          46399.49073193362,
          46396.452783281304,
          46399.49073193362,
          46396.93339000313,
          46397.067295608584,
          46399.54060220201,
          46398.44157745669,
          46399.572783806456,
          46396.28691715869,
          46399.49073193363,
          46401.21406026787,
          47480.00201095628,
          46396.3964162847,
          46396.831198370026,
          47412.8271082905,
          47438.73694932668,
          46397.04489761808,
          47480.18941291123,
          46396.6454781109,
          46398.55763256986,
          47308.10597429434,
          46399.49073193362,
          47479.123132756125,
          46395.685401312534,
          47308.49617597807,
          47344.30978477195,
          46396.28691715871,
          46399.49073193361,
          46399.49073193362,
          47757.041455270686,
          46396.28691715871,
          46399.49073193361,
          46399.129370130526,
          46396.396416284704,
          46401.25835075642,
          46399.598754549894,
          46400.92503626558,
          46396.2869171587,
          46396.286917158715,
          47344.30978477195,
          46396.273126824104,
          46401.021366674606,
          47765.46516051006,
          46400.963372390754,
          46399.784150739,
          46399.49073193363,
          46401.0125519285,
          46399.572783806456
         ],
         "xaxis": "x",
         "yaxis": "y"
        }
       ],
       "layout": {
        "annotations": [
         {
          "showarrow": false,
          "text": "Real SSE",
          "x": 46399.51293984675,
          "xanchor": "left",
          "xref": "x",
          "y": 1,
          "yanchor": "top",
          "yref": "y domain"
         }
        ],
        "barmode": "relative",
        "legend": {
         "title": {
          "text": "variable"
         },
         "tracegroupgap": 0
        },
        "shapes": [
         {
          "line": {
           "color": "red",
           "dash": "dash"
          },
          "type": "line",
          "x0": 46399.51293984675,
          "x1": 46399.51293984675,
          "xref": "x",
          "y0": 0,
          "y1": 1,
          "yref": "y domain"
         }
        ],
        "template": {
         "data": {
          "bar": [
           {
            "error_x": {
             "color": "#2a3f5f"
            },
            "error_y": {
             "color": "#2a3f5f"
            },
            "marker": {
             "line": {
              "color": "#E5ECF6",
              "width": 0.5
             },
             "pattern": {
              "fillmode": "overlay",
              "size": 10,
              "solidity": 0.2
             }
            },
            "type": "bar"
           }
          ],
          "barpolar": [
           {
            "marker": {
             "line": {
              "color": "#E5ECF6",
              "width": 0.5
             },
             "pattern": {
              "fillmode": "overlay",
              "size": 10,
              "solidity": 0.2
             }
            },
            "type": "barpolar"
           }
          ],
          "carpet": [
           {
            "aaxis": {
             "endlinecolor": "#2a3f5f",
             "gridcolor": "white",
             "linecolor": "white",
             "minorgridcolor": "white",
             "startlinecolor": "#2a3f5f"
            },
            "baxis": {
             "endlinecolor": "#2a3f5f",
             "gridcolor": "white",
             "linecolor": "white",
             "minorgridcolor": "white",
             "startlinecolor": "#2a3f5f"
            },
            "type": "carpet"
           }
          ],
          "choropleth": [
           {
            "colorbar": {
             "outlinewidth": 0,
             "ticks": ""
            },
            "type": "choropleth"
           }
          ],
          "contour": [
           {
            "colorbar": {
             "outlinewidth": 0,
             "ticks": ""
            },
            "colorscale": [
             [
              0,
              "#0d0887"
             ],
             [
              0.1111111111111111,
              "#46039f"
             ],
             [
              0.2222222222222222,
              "#7201a8"
             ],
             [
              0.3333333333333333,
              "#9c179e"
             ],
             [
              0.4444444444444444,
              "#bd3786"
             ],
             [
              0.5555555555555556,
              "#d8576b"
             ],
             [
              0.6666666666666666,
              "#ed7953"
             ],
             [
              0.7777777777777778,
              "#fb9f3a"
             ],
             [
              0.8888888888888888,
              "#fdca26"
             ],
             [
              1,
              "#f0f921"
             ]
            ],
            "type": "contour"
           }
          ],
          "contourcarpet": [
           {
            "colorbar": {
             "outlinewidth": 0,
             "ticks": ""
            },
            "type": "contourcarpet"
           }
          ],
          "heatmap": [
           {
            "colorbar": {
             "outlinewidth": 0,
             "ticks": ""
            },
            "colorscale": [
             [
              0,
              "#0d0887"
             ],
             [
              0.1111111111111111,
              "#46039f"
             ],
             [
              0.2222222222222222,
              "#7201a8"
             ],
             [
              0.3333333333333333,
              "#9c179e"
             ],
             [
              0.4444444444444444,
              "#bd3786"
             ],
             [
              0.5555555555555556,
              "#d8576b"
             ],
             [
              0.6666666666666666,
              "#ed7953"
             ],
             [
              0.7777777777777778,
              "#fb9f3a"
             ],
             [
              0.8888888888888888,
              "#fdca26"
             ],
             [
              1,
              "#f0f921"
             ]
            ],
            "type": "heatmap"
           }
          ],
          "heatmapgl": [
           {
            "colorbar": {
             "outlinewidth": 0,
             "ticks": ""
            },
            "colorscale": [
             [
              0,
              "#0d0887"
             ],
             [
              0.1111111111111111,
              "#46039f"
             ],
             [
              0.2222222222222222,
              "#7201a8"
             ],
             [
              0.3333333333333333,
              "#9c179e"
             ],
             [
              0.4444444444444444,
              "#bd3786"
             ],
             [
              0.5555555555555556,
              "#d8576b"
             ],
             [
              0.6666666666666666,
              "#ed7953"
             ],
             [
              0.7777777777777778,
              "#fb9f3a"
             ],
             [
              0.8888888888888888,
              "#fdca26"
             ],
             [
              1,
              "#f0f921"
             ]
            ],
            "type": "heatmapgl"
           }
          ],
          "histogram": [
           {
            "marker": {
             "pattern": {
              "fillmode": "overlay",
              "size": 10,
              "solidity": 0.2
             }
            },
            "type": "histogram"
           }
          ],
          "histogram2d": [
           {
            "colorbar": {
             "outlinewidth": 0,
             "ticks": ""
            },
            "colorscale": [
             [
              0,
              "#0d0887"
             ],
             [
              0.1111111111111111,
              "#46039f"
             ],
             [
              0.2222222222222222,
              "#7201a8"
             ],
             [
              0.3333333333333333,
              "#9c179e"
             ],
             [
              0.4444444444444444,
              "#bd3786"
             ],
             [
              0.5555555555555556,
              "#d8576b"
             ],
             [
              0.6666666666666666,
              "#ed7953"
             ],
             [
              0.7777777777777778,
              "#fb9f3a"
             ],
             [
              0.8888888888888888,
              "#fdca26"
             ],
             [
              1,
              "#f0f921"
             ]
            ],
            "type": "histogram2d"
           }
          ],
          "histogram2dcontour": [
           {
            "colorbar": {
             "outlinewidth": 0,
             "ticks": ""
            },
            "colorscale": [
             [
              0,
              "#0d0887"
             ],
             [
              0.1111111111111111,
              "#46039f"
             ],
             [
              0.2222222222222222,
              "#7201a8"
             ],
             [
              0.3333333333333333,
              "#9c179e"
             ],
             [
              0.4444444444444444,
              "#bd3786"
             ],
             [
              0.5555555555555556,
              "#d8576b"
             ],
             [
              0.6666666666666666,
              "#ed7953"
             ],
             [
              0.7777777777777778,
              "#fb9f3a"
             ],
             [
              0.8888888888888888,
              "#fdca26"
             ],
             [
              1,
              "#f0f921"
             ]
            ],
            "type": "histogram2dcontour"
           }
          ],
          "mesh3d": [
           {
            "colorbar": {
             "outlinewidth": 0,
             "ticks": ""
            },
            "type": "mesh3d"
           }
          ],
          "parcoords": [
           {
            "line": {
             "colorbar": {
              "outlinewidth": 0,
              "ticks": ""
             }
            },
            "type": "parcoords"
           }
          ],
          "pie": [
           {
            "automargin": true,
            "type": "pie"
           }
          ],
          "scatter": [
           {
            "fillpattern": {
             "fillmode": "overlay",
             "size": 10,
             "solidity": 0.2
            },
            "type": "scatter"
           }
          ],
          "scatter3d": [
           {
            "line": {
             "colorbar": {
              "outlinewidth": 0,
              "ticks": ""
             }
            },
            "marker": {
             "colorbar": {
              "outlinewidth": 0,
              "ticks": ""
             }
            },
            "type": "scatter3d"
           }
          ],
          "scattercarpet": [
           {
            "marker": {
             "colorbar": {
              "outlinewidth": 0,
              "ticks": ""
             }
            },
            "type": "scattercarpet"
           }
          ],
          "scattergeo": [
           {
            "marker": {
             "colorbar": {
              "outlinewidth": 0,
              "ticks": ""
             }
            },
            "type": "scattergeo"
           }
          ],
          "scattergl": [
           {
            "marker": {
             "colorbar": {
              "outlinewidth": 0,
              "ticks": ""
             }
            },
            "type": "scattergl"
           }
          ],
          "scattermapbox": [
           {
            "marker": {
             "colorbar": {
              "outlinewidth": 0,
              "ticks": ""
             }
            },
            "type": "scattermapbox"
           }
          ],
          "scatterpolar": [
           {
            "marker": {
             "colorbar": {
              "outlinewidth": 0,
              "ticks": ""
             }
            },
            "type": "scatterpolar"
           }
          ],
          "scatterpolargl": [
           {
            "marker": {
             "colorbar": {
              "outlinewidth": 0,
              "ticks": ""
             }
            },
            "type": "scatterpolargl"
           }
          ],
          "scatterternary": [
           {
            "marker": {
             "colorbar": {
              "outlinewidth": 0,
              "ticks": ""
             }
            },
            "type": "scatterternary"
           }
          ],
          "surface": [
           {
            "colorbar": {
             "outlinewidth": 0,
             "ticks": ""
            },
            "colorscale": [
             [
              0,
              "#0d0887"
             ],
             [
              0.1111111111111111,
              "#46039f"
             ],
             [
              0.2222222222222222,
              "#7201a8"
             ],
             [
              0.3333333333333333,
              "#9c179e"
             ],
             [
              0.4444444444444444,
              "#bd3786"
             ],
             [
              0.5555555555555556,
              "#d8576b"
             ],
             [
              0.6666666666666666,
              "#ed7953"
             ],
             [
              0.7777777777777778,
              "#fb9f3a"
             ],
             [
              0.8888888888888888,
              "#fdca26"
             ],
             [
              1,
              "#f0f921"
             ]
            ],
            "type": "surface"
           }
          ],
          "table": [
           {
            "cells": {
             "fill": {
              "color": "#EBF0F8"
             },
             "line": {
              "color": "white"
             }
            },
            "header": {
             "fill": {
              "color": "#C8D4E3"
             },
             "line": {
              "color": "white"
             }
            },
            "type": "table"
           }
          ]
         },
         "layout": {
          "annotationdefaults": {
           "arrowcolor": "#2a3f5f",
           "arrowhead": 0,
           "arrowwidth": 1
          },
          "autotypenumbers": "strict",
          "coloraxis": {
           "colorbar": {
            "outlinewidth": 0,
            "ticks": ""
           }
          },
          "colorscale": {
           "diverging": [
            [
             0,
             "#8e0152"
            ],
            [
             0.1,
             "#c51b7d"
            ],
            [
             0.2,
             "#de77ae"
            ],
            [
             0.3,
             "#f1b6da"
            ],
            [
             0.4,
             "#fde0ef"
            ],
            [
             0.5,
             "#f7f7f7"
            ],
            [
             0.6,
             "#e6f5d0"
            ],
            [
             0.7,
             "#b8e186"
            ],
            [
             0.8,
             "#7fbc41"
            ],
            [
             0.9,
             "#4d9221"
            ],
            [
             1,
             "#276419"
            ]
           ],
           "sequential": [
            [
             0,
             "#0d0887"
            ],
            [
             0.1111111111111111,
             "#46039f"
            ],
            [
             0.2222222222222222,
             "#7201a8"
            ],
            [
             0.3333333333333333,
             "#9c179e"
            ],
            [
             0.4444444444444444,
             "#bd3786"
            ],
            [
             0.5555555555555556,
             "#d8576b"
            ],
            [
             0.6666666666666666,
             "#ed7953"
            ],
            [
             0.7777777777777778,
             "#fb9f3a"
            ],
            [
             0.8888888888888888,
             "#fdca26"
            ],
            [
             1,
             "#f0f921"
            ]
           ],
           "sequentialminus": [
            [
             0,
             "#0d0887"
            ],
            [
             0.1111111111111111,
             "#46039f"
            ],
            [
             0.2222222222222222,
             "#7201a8"
            ],
            [
             0.3333333333333333,
             "#9c179e"
            ],
            [
             0.4444444444444444,
             "#bd3786"
            ],
            [
             0.5555555555555556,
             "#d8576b"
            ],
            [
             0.6666666666666666,
             "#ed7953"
            ],
            [
             0.7777777777777778,
             "#fb9f3a"
            ],
            [
             0.8888888888888888,
             "#fdca26"
            ],
            [
             1,
             "#f0f921"
            ]
           ]
          },
          "colorway": [
           "#636efa",
           "#EF553B",
           "#00cc96",
           "#ab63fa",
           "#FFA15A",
           "#19d3f3",
           "#FF6692",
           "#B6E880",
           "#FF97FF",
           "#FECB52"
          ],
          "font": {
           "color": "#2a3f5f"
          },
          "geo": {
           "bgcolor": "white",
           "lakecolor": "white",
           "landcolor": "#E5ECF6",
           "showlakes": true,
           "showland": true,
           "subunitcolor": "white"
          },
          "hoverlabel": {
           "align": "left"
          },
          "hovermode": "closest",
          "mapbox": {
           "style": "light"
          },
          "paper_bgcolor": "white",
          "plot_bgcolor": "#E5ECF6",
          "polar": {
           "angularaxis": {
            "gridcolor": "white",
            "linecolor": "white",
            "ticks": ""
           },
           "bgcolor": "#E5ECF6",
           "radialaxis": {
            "gridcolor": "white",
            "linecolor": "white",
            "ticks": ""
           }
          },
          "scene": {
           "xaxis": {
            "backgroundcolor": "#E5ECF6",
            "gridcolor": "white",
            "gridwidth": 2,
            "linecolor": "white",
            "showbackground": true,
            "ticks": "",
            "zerolinecolor": "white"
           },
           "yaxis": {
            "backgroundcolor": "#E5ECF6",
            "gridcolor": "white",
            "gridwidth": 2,
            "linecolor": "white",
            "showbackground": true,
            "ticks": "",
            "zerolinecolor": "white"
           },
           "zaxis": {
            "backgroundcolor": "#E5ECF6",
            "gridcolor": "white",
            "gridwidth": 2,
            "linecolor": "white",
            "showbackground": true,
            "ticks": "",
            "zerolinecolor": "white"
           }
          },
          "shapedefaults": {
           "line": {
            "color": "#2a3f5f"
           }
          },
          "ternary": {
           "aaxis": {
            "gridcolor": "white",
            "linecolor": "white",
            "ticks": ""
           },
           "baxis": {
            "gridcolor": "white",
            "linecolor": "white",
            "ticks": ""
           },
           "bgcolor": "#E5ECF6",
           "caxis": {
            "gridcolor": "white",
            "linecolor": "white",
            "ticks": ""
           }
          },
          "title": {
           "x": 0.05
          },
          "xaxis": {
           "automargin": true,
           "gridcolor": "white",
           "linecolor": "white",
           "ticks": "",
           "title": {
            "standoff": 15
           },
           "zerolinecolor": "white",
           "zerolinewidth": 2
          },
          "yaxis": {
           "automargin": true,
           "gridcolor": "white",
           "linecolor": "white",
           "ticks": "",
           "title": {
            "standoff": 15
           },
           "zerolinecolor": "white",
           "zerolinewidth": 2
          }
         }
        },
        "title": {
         "text": "SSE Comparison"
        },
        "xaxis": {
         "anchor": "y",
         "domain": [
          0,
          1
         ],
         "range": [
          43395.685401312534,
          50765.46516051006
         ],
         "title": {
          "text": "value"
         }
        },
        "yaxis": {
         "anchor": "x",
         "domain": [
          0,
          1
         ],
         "title": {
          "text": "density"
         }
        }
       }
      }
     },
     "metadata": {},
     "output_type": "display_data"
    },
    {
     "data": {
      "application/vnd.plotly.v1+json": {
       "config": {
        "plotlyServerURL": "https://plot.ly"
       },
       "data": [
        {
         "alignmentgroup": "True",
         "bingroup": "x",
         "histnorm": "density",
         "hovertemplate": "variable=0<br>value=%{x}<br>density=%{y}<extra></extra>",
         "legendgroup": "0",
         "marker": {
          "color": "#636efa",
          "pattern": {
           "shape": ""
          }
         },
         "name": "0",
         "nbinsx": 30,
         "offsetgroup": "0",
         "orientation": "v",
         "showlegend": true,
         "type": "histogram",
         "x": [
          0.25044037563994886,
          0.2457451917906344,
          0.24755340542401558,
          0.2472213782036011,
          0.24755340542401558,
          0.24633007645695074,
          0.24631399402988716,
          0.24750550478007546,
          0.2461458426526025,
          0.2473665618353983,
          0.24728419632326887,
          0.24755340542401552,
          0.244816353551888,
          0.25204026534879,
          0.24728415229203682,
          0.24667927142890236,
          0.2502114341873038,
          0.25018306376668353,
          0.2462724466792809,
          0.2520019120994822,
          0.24615659799181885,
          0.24616252841129024,
          0.2528186396062527,
          0.24755340542401558,
          0.2530281263060073,
          0.24685237609703853,
          0.25259203120973744,
          0.25294687420881484,
          0.24728419632326887,
          0.24755340542401552,
          0.24755340542401555,
          0.21410565885198465,
          0.24728419632326887,
          0.24755340542401555,
          0.24593837595296622,
          0.24728415229203685,
          0.24573140563587634,
          0.24726330767196075,
          0.24561201815007544,
          0.24728419632326887,
          0.24728419632326887,
          0.25294687420881484,
          0.24716780595619903,
          0.245698153624352,
          0.20510665481606097,
          0.2446836616756343,
          0.24556457173685217,
          0.24755340542401555,
          0.24573933227556066,
          0.24736656183539832
         ],
         "xaxis": "x",
         "yaxis": "y"
        }
       ],
       "layout": {
        "annotations": [
         {
          "showarrow": false,
          "text": "Real Silhouette",
          "x": 0.24753746486330488,
          "xanchor": "left",
          "xref": "x",
          "y": 1,
          "yanchor": "top",
          "yref": "y domain"
         }
        ],
        "barmode": "relative",
        "legend": {
         "title": {
          "text": "variable"
         },
         "tracegroupgap": 0
        },
        "shapes": [
         {
          "line": {
           "color": "red",
           "dash": "dash"
          },
          "type": "line",
          "x0": 0.24753746486330488,
          "x1": 0.24753746486330488,
          "xref": "x",
          "y0": 0,
          "y1": 1,
          "yref": "y domain"
         }
        ],
        "template": {
         "data": {
          "bar": [
           {
            "error_x": {
             "color": "#2a3f5f"
            },
            "error_y": {
             "color": "#2a3f5f"
            },
            "marker": {
             "line": {
              "color": "#E5ECF6",
              "width": 0.5
             },
             "pattern": {
              "fillmode": "overlay",
              "size": 10,
              "solidity": 0.2
             }
            },
            "type": "bar"
           }
          ],
          "barpolar": [
           {
            "marker": {
             "line": {
              "color": "#E5ECF6",
              "width": 0.5
             },
             "pattern": {
              "fillmode": "overlay",
              "size": 10,
              "solidity": 0.2
             }
            },
            "type": "barpolar"
           }
          ],
          "carpet": [
           {
            "aaxis": {
             "endlinecolor": "#2a3f5f",
             "gridcolor": "white",
             "linecolor": "white",
             "minorgridcolor": "white",
             "startlinecolor": "#2a3f5f"
            },
            "baxis": {
             "endlinecolor": "#2a3f5f",
             "gridcolor": "white",
             "linecolor": "white",
             "minorgridcolor": "white",
             "startlinecolor": "#2a3f5f"
            },
            "type": "carpet"
           }
          ],
          "choropleth": [
           {
            "colorbar": {
             "outlinewidth": 0,
             "ticks": ""
            },
            "type": "choropleth"
           }
          ],
          "contour": [
           {
            "colorbar": {
             "outlinewidth": 0,
             "ticks": ""
            },
            "colorscale": [
             [
              0,
              "#0d0887"
             ],
             [
              0.1111111111111111,
              "#46039f"
             ],
             [
              0.2222222222222222,
              "#7201a8"
             ],
             [
              0.3333333333333333,
              "#9c179e"
             ],
             [
              0.4444444444444444,
              "#bd3786"
             ],
             [
              0.5555555555555556,
              "#d8576b"
             ],
             [
              0.6666666666666666,
              "#ed7953"
             ],
             [
              0.7777777777777778,
              "#fb9f3a"
             ],
             [
              0.8888888888888888,
              "#fdca26"
             ],
             [
              1,
              "#f0f921"
             ]
            ],
            "type": "contour"
           }
          ],
          "contourcarpet": [
           {
            "colorbar": {
             "outlinewidth": 0,
             "ticks": ""
            },
            "type": "contourcarpet"
           }
          ],
          "heatmap": [
           {
            "colorbar": {
             "outlinewidth": 0,
             "ticks": ""
            },
            "colorscale": [
             [
              0,
              "#0d0887"
             ],
             [
              0.1111111111111111,
              "#46039f"
             ],
             [
              0.2222222222222222,
              "#7201a8"
             ],
             [
              0.3333333333333333,
              "#9c179e"
             ],
             [
              0.4444444444444444,
              "#bd3786"
             ],
             [
              0.5555555555555556,
              "#d8576b"
             ],
             [
              0.6666666666666666,
              "#ed7953"
             ],
             [
              0.7777777777777778,
              "#fb9f3a"
             ],
             [
              0.8888888888888888,
              "#fdca26"
             ],
             [
              1,
              "#f0f921"
             ]
            ],
            "type": "heatmap"
           }
          ],
          "heatmapgl": [
           {
            "colorbar": {
             "outlinewidth": 0,
             "ticks": ""
            },
            "colorscale": [
             [
              0,
              "#0d0887"
             ],
             [
              0.1111111111111111,
              "#46039f"
             ],
             [
              0.2222222222222222,
              "#7201a8"
             ],
             [
              0.3333333333333333,
              "#9c179e"
             ],
             [
              0.4444444444444444,
              "#bd3786"
             ],
             [
              0.5555555555555556,
              "#d8576b"
             ],
             [
              0.6666666666666666,
              "#ed7953"
             ],
             [
              0.7777777777777778,
              "#fb9f3a"
             ],
             [
              0.8888888888888888,
              "#fdca26"
             ],
             [
              1,
              "#f0f921"
             ]
            ],
            "type": "heatmapgl"
           }
          ],
          "histogram": [
           {
            "marker": {
             "pattern": {
              "fillmode": "overlay",
              "size": 10,
              "solidity": 0.2
             }
            },
            "type": "histogram"
           }
          ],
          "histogram2d": [
           {
            "colorbar": {
             "outlinewidth": 0,
             "ticks": ""
            },
            "colorscale": [
             [
              0,
              "#0d0887"
             ],
             [
              0.1111111111111111,
              "#46039f"
             ],
             [
              0.2222222222222222,
              "#7201a8"
             ],
             [
              0.3333333333333333,
              "#9c179e"
             ],
             [
              0.4444444444444444,
              "#bd3786"
             ],
             [
              0.5555555555555556,
              "#d8576b"
             ],
             [
              0.6666666666666666,
              "#ed7953"
             ],
             [
              0.7777777777777778,
              "#fb9f3a"
             ],
             [
              0.8888888888888888,
              "#fdca26"
             ],
             [
              1,
              "#f0f921"
             ]
            ],
            "type": "histogram2d"
           }
          ],
          "histogram2dcontour": [
           {
            "colorbar": {
             "outlinewidth": 0,
             "ticks": ""
            },
            "colorscale": [
             [
              0,
              "#0d0887"
             ],
             [
              0.1111111111111111,
              "#46039f"
             ],
             [
              0.2222222222222222,
              "#7201a8"
             ],
             [
              0.3333333333333333,
              "#9c179e"
             ],
             [
              0.4444444444444444,
              "#bd3786"
             ],
             [
              0.5555555555555556,
              "#d8576b"
             ],
             [
              0.6666666666666666,
              "#ed7953"
             ],
             [
              0.7777777777777778,
              "#fb9f3a"
             ],
             [
              0.8888888888888888,
              "#fdca26"
             ],
             [
              1,
              "#f0f921"
             ]
            ],
            "type": "histogram2dcontour"
           }
          ],
          "mesh3d": [
           {
            "colorbar": {
             "outlinewidth": 0,
             "ticks": ""
            },
            "type": "mesh3d"
           }
          ],
          "parcoords": [
           {
            "line": {
             "colorbar": {
              "outlinewidth": 0,
              "ticks": ""
             }
            },
            "type": "parcoords"
           }
          ],
          "pie": [
           {
            "automargin": true,
            "type": "pie"
           }
          ],
          "scatter": [
           {
            "fillpattern": {
             "fillmode": "overlay",
             "size": 10,
             "solidity": 0.2
            },
            "type": "scatter"
           }
          ],
          "scatter3d": [
           {
            "line": {
             "colorbar": {
              "outlinewidth": 0,
              "ticks": ""
             }
            },
            "marker": {
             "colorbar": {
              "outlinewidth": 0,
              "ticks": ""
             }
            },
            "type": "scatter3d"
           }
          ],
          "scattercarpet": [
           {
            "marker": {
             "colorbar": {
              "outlinewidth": 0,
              "ticks": ""
             }
            },
            "type": "scattercarpet"
           }
          ],
          "scattergeo": [
           {
            "marker": {
             "colorbar": {
              "outlinewidth": 0,
              "ticks": ""
             }
            },
            "type": "scattergeo"
           }
          ],
          "scattergl": [
           {
            "marker": {
             "colorbar": {
              "outlinewidth": 0,
              "ticks": ""
             }
            },
            "type": "scattergl"
           }
          ],
          "scattermapbox": [
           {
            "marker": {
             "colorbar": {
              "outlinewidth": 0,
              "ticks": ""
             }
            },
            "type": "scattermapbox"
           }
          ],
          "scatterpolar": [
           {
            "marker": {
             "colorbar": {
              "outlinewidth": 0,
              "ticks": ""
             }
            },
            "type": "scatterpolar"
           }
          ],
          "scatterpolargl": [
           {
            "marker": {
             "colorbar": {
              "outlinewidth": 0,
              "ticks": ""
             }
            },
            "type": "scatterpolargl"
           }
          ],
          "scatterternary": [
           {
            "marker": {
             "colorbar": {
              "outlinewidth": 0,
              "ticks": ""
             }
            },
            "type": "scatterternary"
           }
          ],
          "surface": [
           {
            "colorbar": {
             "outlinewidth": 0,
             "ticks": ""
            },
            "colorscale": [
             [
              0,
              "#0d0887"
             ],
             [
              0.1111111111111111,
              "#46039f"
             ],
             [
              0.2222222222222222,
              "#7201a8"
             ],
             [
              0.3333333333333333,
              "#9c179e"
             ],
             [
              0.4444444444444444,
              "#bd3786"
             ],
             [
              0.5555555555555556,
              "#d8576b"
             ],
             [
              0.6666666666666666,
              "#ed7953"
             ],
             [
              0.7777777777777778,
              "#fb9f3a"
             ],
             [
              0.8888888888888888,
              "#fdca26"
             ],
             [
              1,
              "#f0f921"
             ]
            ],
            "type": "surface"
           }
          ],
          "table": [
           {
            "cells": {
             "fill": {
              "color": "#EBF0F8"
             },
             "line": {
              "color": "white"
             }
            },
            "header": {
             "fill": {
              "color": "#C8D4E3"
             },
             "line": {
              "color": "white"
             }
            },
            "type": "table"
           }
          ]
         },
         "layout": {
          "annotationdefaults": {
           "arrowcolor": "#2a3f5f",
           "arrowhead": 0,
           "arrowwidth": 1
          },
          "autotypenumbers": "strict",
          "coloraxis": {
           "colorbar": {
            "outlinewidth": 0,
            "ticks": ""
           }
          },
          "colorscale": {
           "diverging": [
            [
             0,
             "#8e0152"
            ],
            [
             0.1,
             "#c51b7d"
            ],
            [
             0.2,
             "#de77ae"
            ],
            [
             0.3,
             "#f1b6da"
            ],
            [
             0.4,
             "#fde0ef"
            ],
            [
             0.5,
             "#f7f7f7"
            ],
            [
             0.6,
             "#e6f5d0"
            ],
            [
             0.7,
             "#b8e186"
            ],
            [
             0.8,
             "#7fbc41"
            ],
            [
             0.9,
             "#4d9221"
            ],
            [
             1,
             "#276419"
            ]
           ],
           "sequential": [
            [
             0,
             "#0d0887"
            ],
            [
             0.1111111111111111,
             "#46039f"
            ],
            [
             0.2222222222222222,
             "#7201a8"
            ],
            [
             0.3333333333333333,
             "#9c179e"
            ],
            [
             0.4444444444444444,
             "#bd3786"
            ],
            [
             0.5555555555555556,
             "#d8576b"
            ],
            [
             0.6666666666666666,
             "#ed7953"
            ],
            [
             0.7777777777777778,
             "#fb9f3a"
            ],
            [
             0.8888888888888888,
             "#fdca26"
            ],
            [
             1,
             "#f0f921"
            ]
           ],
           "sequentialminus": [
            [
             0,
             "#0d0887"
            ],
            [
             0.1111111111111111,
             "#46039f"
            ],
            [
             0.2222222222222222,
             "#7201a8"
            ],
            [
             0.3333333333333333,
             "#9c179e"
            ],
            [
             0.4444444444444444,
             "#bd3786"
            ],
            [
             0.5555555555555556,
             "#d8576b"
            ],
            [
             0.6666666666666666,
             "#ed7953"
            ],
            [
             0.7777777777777778,
             "#fb9f3a"
            ],
            [
             0.8888888888888888,
             "#fdca26"
            ],
            [
             1,
             "#f0f921"
            ]
           ]
          },
          "colorway": [
           "#636efa",
           "#EF553B",
           "#00cc96",
           "#ab63fa",
           "#FFA15A",
           "#19d3f3",
           "#FF6692",
           "#B6E880",
           "#FF97FF",
           "#FECB52"
          ],
          "font": {
           "color": "#2a3f5f"
          },
          "geo": {
           "bgcolor": "white",
           "lakecolor": "white",
           "landcolor": "#E5ECF6",
           "showlakes": true,
           "showland": true,
           "subunitcolor": "white"
          },
          "hoverlabel": {
           "align": "left"
          },
          "hovermode": "closest",
          "mapbox": {
           "style": "light"
          },
          "paper_bgcolor": "white",
          "plot_bgcolor": "#E5ECF6",
          "polar": {
           "angularaxis": {
            "gridcolor": "white",
            "linecolor": "white",
            "ticks": ""
           },
           "bgcolor": "#E5ECF6",
           "radialaxis": {
            "gridcolor": "white",
            "linecolor": "white",
            "ticks": ""
           }
          },
          "scene": {
           "xaxis": {
            "backgroundcolor": "#E5ECF6",
            "gridcolor": "white",
            "gridwidth": 2,
            "linecolor": "white",
            "showbackground": true,
            "ticks": "",
            "zerolinecolor": "white"
           },
           "yaxis": {
            "backgroundcolor": "#E5ECF6",
            "gridcolor": "white",
            "gridwidth": 2,
            "linecolor": "white",
            "showbackground": true,
            "ticks": "",
            "zerolinecolor": "white"
           },
           "zaxis": {
            "backgroundcolor": "#E5ECF6",
            "gridcolor": "white",
            "gridwidth": 2,
            "linecolor": "white",
            "showbackground": true,
            "ticks": "",
            "zerolinecolor": "white"
           }
          },
          "shapedefaults": {
           "line": {
            "color": "#2a3f5f"
           }
          },
          "ternary": {
           "aaxis": {
            "gridcolor": "white",
            "linecolor": "white",
            "ticks": ""
           },
           "baxis": {
            "gridcolor": "white",
            "linecolor": "white",
            "ticks": ""
           },
           "bgcolor": "#E5ECF6",
           "caxis": {
            "gridcolor": "white",
            "linecolor": "white",
            "ticks": ""
           }
          },
          "title": {
           "x": 0.05
          },
          "xaxis": {
           "automargin": true,
           "gridcolor": "white",
           "linecolor": "white",
           "ticks": "",
           "title": {
            "standoff": 15
           },
           "zerolinecolor": "white",
           "zerolinewidth": 2
          },
          "yaxis": {
           "automargin": true,
           "gridcolor": "white",
           "linecolor": "white",
           "ticks": "",
           "title": {
            "standoff": 15
           },
           "zerolinecolor": "white",
           "zerolinewidth": 2
          }
         }
        },
        "title": {
         "text": "Silhouette Score Comparison"
        },
        "xaxis": {
         "anchor": "y",
         "domain": [
          0,
          1
         ],
         "range": [
          0.17510665481606097,
          0.28302812630600727
         ],
         "title": {
          "text": "value"
         }
        },
        "yaxis": {
         "anchor": "x",
         "domain": [
          0,
          1
         ],
         "title": {
          "text": "density"
         }
        }
       }
      }
     },
     "metadata": {},
     "output_type": "display_data"
    }
   ],
   "source": [
    "import plotly.graph_objects as go\n",
    "import plotly.express as px\n",
    "\n",
    "# Crea istogrammi per SSE\n",
    "fig_sse = px.histogram(sse_random_results, nbins=10, title='SSE Comparison', histnorm='density')\n",
    "fig_sse.add_vline(x=sse_real, line=dict(color='red', dash='dash'), annotation_text='Real SSE', annotation_position='top right')\n",
    "\n",
    "# Crea istogrammi per Silhouette\n",
    "fig_silhouette = px.histogram(silhouette_random_results, nbins=30, title='Silhouette Score Comparison', histnorm='density')\n",
    "fig_silhouette.add_vline(x=silhouette_real, line=dict(color='red', dash='dash'), annotation_text='Real Silhouette', annotation_position='top right')\n",
    "\n",
    "# Aggiorna layout per allargare l'asse x\n",
    "fig_sse.update_layout(xaxis=dict(range=[min(sse_random_results)-3000, max(sse_random_results)+3000]))\n",
    "fig_silhouette.update_layout(xaxis=dict(range=[min(silhouette_random_results)-0.03, max(silhouette_random_results)+0.03]))\n",
    "\n",
    "# Mostra i grafici\n",
    "fig_sse.show()\n",
    "fig_silhouette.show()"
   ]
  },
  {
   "cell_type": "markdown",
   "metadata": {},
   "source": [
    "Vengono scelti 4 cluster perchè il valore del silhoutte score è piu alto di quello randomico mantenendo comunque sse molto piu basso di quelli randomici"
   ]
  },
  {
   "cell_type": "code",
   "execution_count": 47,
   "metadata": {},
   "outputs": [],
   "source": [
    "from plotly.subplots import make_subplots\n",
    "\n",
    "#scaling, normalization\n",
    "from sklearn.preprocessing import StandardScaler, MinMaxScaler\n",
    "\n",
    "#kmeans, dbscan, hierarchical (sklearn)\n",
    "from sklearn.cluster import KMeans, DBSCAN, AgglomerativeClustering\n",
    "#evaluation\n",
    "from sklearn.metrics import silhouette_score\n",
    "\n",
    "#distance matrix (dbscan elbow, hierarchical)\n",
    "from scipy.spatial.distance import pdist, squareform\n",
    "from scipy.stats import pearsonr\n",
    "\n",
    "# hierarchical (scipy)\n",
    "from scipy.cluster.hierarchy import linkage, dendrogram, fcluster\n",
    "\n",
    "from kneed import KneeLocator"
   ]
  },
  {
   "cell_type": "code",
   "execution_count": 48,
   "metadata": {},
   "outputs": [
    {
     "name": "stdout",
     "output_type": "stream",
     "text": [
      "Correlation between distance and ideal similarity matrices: -0.3528116916741521\n"
     ]
    }
   ],
   "source": [
    "from sklearn.cluster import KMeans\n",
    "from sklearn.metrics import silhouette_score\n",
    "import pandas as pd\n",
    "\n",
    "n_points = principal_components.shape[0]\n",
    "#generate distance matrix\n",
    "distance_matrix = squareform(pdist(principal_components, metric='euclidean')) \n",
    "\n",
    "#Otteniamo le etichette di cluster dal modello k-means\n",
    "labels = kmeans.labels_\n",
    "\n",
    "#generate ideal similarity matrix\n",
    "similarity_matrix = np.equal.outer(labels, labels).astype(int)\n",
    "\n",
    "\n",
    "# Convertiamo la matrice delle distanze in una matrice di similarità\n",
    "# (simply similarity_matrix = max_distance - distance_matrix)\n",
    "max_distance = np.max(distance_matrix)\n",
    "similarity_from_distance = distance_matrix - max_distance \n",
    "\n",
    "'''\n",
    "# Rendi entrambe le matrici 1D per il calcolo della correlazione\n",
    "similarity_from_distance_flat = similarity_from_distance.flatten()\n",
    "similarity_matrix_flat = similarity_matrix.flatten()\n",
    "\n",
    "# Calcola la correlazione di Pearson\n",
    "correlation, _ = pearsonr(similarity_from_distance_flat, similarity_matrix_flat)\n",
    "\n",
    "print(\"Correlation between distance and ideal similarity matrices:\", correlation)\n",
    "'''\n",
    "# Selezioniamo solo la parte inferiore della matrice, inclusa la diagonale\n",
    "lower_triangle_indices = np.tril_indices(n_points)\n",
    "\n",
    "# Appiattiamo solo la parte inferiore della matrice\n",
    "similarity_from_distance_flat = similarity_from_distance[lower_triangle_indices]\n",
    "similarity_matrix_flat = similarity_matrix[lower_triangle_indices]\n",
    "\n",
    "# Calcolare la correlazione di Pearson tra i vettori appiattiti\n",
    "correlation, _ = pearsonr(similarity_from_distance_flat, similarity_matrix_flat)\n",
    "\n",
    "print(\"Correlation between distance and ideal similarity matrices:\", correlation)"
   ]
  },
  {
   "cell_type": "code",
   "execution_count": 49,
   "metadata": {},
   "outputs": [
    {
     "data": {
      "text/html": [
       "<div>\n",
       "<style scoped>\n",
       "    .dataframe tbody tr th:only-of-type {\n",
       "        vertical-align: middle;\n",
       "    }\n",
       "\n",
       "    .dataframe tbody tr th {\n",
       "        vertical-align: top;\n",
       "    }\n",
       "\n",
       "    .dataframe thead th {\n",
       "        text-align: right;\n",
       "    }\n",
       "</style>\n",
       "<table border=\"1\" class=\"dataframe\">\n",
       "  <thead>\n",
       "    <tr style=\"text-align: right;\">\n",
       "      <th></th>\n",
       "      <th>0</th>\n",
       "      <th>1</th>\n",
       "      <th>2</th>\n",
       "      <th>3</th>\n",
       "      <th>4</th>\n",
       "    </tr>\n",
       "  </thead>\n",
       "  <tbody>\n",
       "    <tr>\n",
       "      <th>count</th>\n",
       "      <td>1.592500e+04</td>\n",
       "      <td>1.592500e+04</td>\n",
       "      <td>1.592500e+04</td>\n",
       "      <td>1.592500e+04</td>\n",
       "      <td>1.592500e+04</td>\n",
       "    </tr>\n",
       "    <tr>\n",
       "      <th>mean</th>\n",
       "      <td>-4.818751e-17</td>\n",
       "      <td>8.031252e-18</td>\n",
       "      <td>1.226997e-17</td>\n",
       "      <td>-1.829341e-17</td>\n",
       "      <td>7.138891e-18</td>\n",
       "    </tr>\n",
       "    <tr>\n",
       "      <th>std</th>\n",
       "      <td>2.181760e+00</td>\n",
       "      <td>1.204234e+00</td>\n",
       "      <td>1.054390e+00</td>\n",
       "      <td>9.756705e-01</td>\n",
       "      <td>9.539630e-01</td>\n",
       "    </tr>\n",
       "    <tr>\n",
       "      <th>min</th>\n",
       "      <td>-2.035522e+00</td>\n",
       "      <td>-4.498423e+00</td>\n",
       "      <td>-8.966716e+00</td>\n",
       "      <td>-7.281044e+00</td>\n",
       "      <td>-1.142142e+01</td>\n",
       "    </tr>\n",
       "    <tr>\n",
       "      <th>25%</th>\n",
       "      <td>-1.188627e+00</td>\n",
       "      <td>-7.356971e-01</td>\n",
       "      <td>-5.724487e-01</td>\n",
       "      <td>-5.906491e-01</td>\n",
       "      <td>-4.708865e-01</td>\n",
       "    </tr>\n",
       "    <tr>\n",
       "      <th>50%</th>\n",
       "      <td>-6.414801e-01</td>\n",
       "      <td>1.211618e-01</td>\n",
       "      <td>-1.180095e-01</td>\n",
       "      <td>3.169159e-02</td>\n",
       "      <td>3.744217e-02</td>\n",
       "    </tr>\n",
       "    <tr>\n",
       "      <th>75%</th>\n",
       "      <td>3.607751e-01</td>\n",
       "      <td>7.627275e-01</td>\n",
       "      <td>4.360890e-01</td>\n",
       "      <td>6.272481e-01</td>\n",
       "      <td>5.347183e-01</td>\n",
       "    </tr>\n",
       "    <tr>\n",
       "      <th>max</th>\n",
       "      <td>2.849269e+01</td>\n",
       "      <td>9.533924e+00</td>\n",
       "      <td>8.472327e+00</td>\n",
       "      <td>4.173104e+00</td>\n",
       "      <td>7.233131e+00</td>\n",
       "    </tr>\n",
       "  </tbody>\n",
       "</table>\n",
       "</div>"
      ],
      "text/plain": [
       "                  0             1             2             3             4\n",
       "count  1.592500e+04  1.592500e+04  1.592500e+04  1.592500e+04  1.592500e+04\n",
       "mean  -4.818751e-17  8.031252e-18  1.226997e-17 -1.829341e-17  7.138891e-18\n",
       "std    2.181760e+00  1.204234e+00  1.054390e+00  9.756705e-01  9.539630e-01\n",
       "min   -2.035522e+00 -4.498423e+00 -8.966716e+00 -7.281044e+00 -1.142142e+01\n",
       "25%   -1.188627e+00 -7.356971e-01 -5.724487e-01 -5.906491e-01 -4.708865e-01\n",
       "50%   -6.414801e-01  1.211618e-01 -1.180095e-01  3.169159e-02  3.744217e-02\n",
       "75%    3.607751e-01  7.627275e-01  4.360890e-01  6.272481e-01  5.347183e-01\n",
       "max    2.849269e+01  9.533924e+00  8.472327e+00  4.173104e+00  7.233131e+00"
      ]
     },
     "execution_count": 49,
     "metadata": {},
     "output_type": "execute_result"
    }
   ],
   "source": [
    "principal_components_df = pd.DataFrame(principal_components)\n",
    "principal_components_df.describe()"
   ]
  },
  {
   "cell_type": "code",
   "execution_count": 50,
   "metadata": {},
   "outputs": [
    {
     "name": "stdout",
     "output_type": "stream",
     "text": [
      "Statistiche per ciascun cluster:\n"
     ]
    },
    {
     "data": {
      "text/html": [
       "<div>\n",
       "<style scoped>\n",
       "    .dataframe tbody tr th:only-of-type {\n",
       "        vertical-align: middle;\n",
       "    }\n",
       "\n",
       "    .dataframe tbody tr th {\n",
       "        vertical-align: top;\n",
       "    }\n",
       "\n",
       "    .dataframe thead th {\n",
       "        text-align: right;\n",
       "    }\n",
       "</style>\n",
       "<table border=\"1\" class=\"dataframe\">\n",
       "  <thead>\n",
       "    <tr style=\"text-align: right;\">\n",
       "      <th></th>\n",
       "      <th>Cluster</th>\n",
       "      <th>0</th>\n",
       "      <th>1</th>\n",
       "      <th>2</th>\n",
       "      <th>3</th>\n",
       "      <th>4</th>\n",
       "      <th>5</th>\n",
       "      <th>6</th>\n",
       "      <th>7</th>\n",
       "    </tr>\n",
       "  </thead>\n",
       "  <tbody>\n",
       "    <tr>\n",
       "      <th rowspan=\"8\" valign=\"top\">Principal Component 1</th>\n",
       "      <th>count</th>\n",
       "      <td>1775.000000</td>\n",
       "      <td>1388.000000</td>\n",
       "      <td>107.000000</td>\n",
       "      <td>5773.000000</td>\n",
       "      <td>722.000000</td>\n",
       "      <td>3395.000000</td>\n",
       "      <td>2287.000000</td>\n",
       "      <td>478.000000</td>\n",
       "    </tr>\n",
       "    <tr>\n",
       "      <th>mean</th>\n",
       "      <td>-0.772678</td>\n",
       "      <td>1.861723</td>\n",
       "      <td>15.572026</td>\n",
       "      <td>-1.113134</td>\n",
       "      <td>2.349155</td>\n",
       "      <td>-0.635524</td>\n",
       "      <td>0.438446</td>\n",
       "      <td>6.288983</td>\n",
       "    </tr>\n",
       "    <tr>\n",
       "      <th>std</th>\n",
       "      <td>0.675281</td>\n",
       "      <td>1.009848</td>\n",
       "      <td>4.561248</td>\n",
       "      <td>0.430019</td>\n",
       "      <td>1.715587</td>\n",
       "      <td>0.622397</td>\n",
       "      <td>0.806497</td>\n",
       "      <td>1.892829</td>\n",
       "    </tr>\n",
       "    <tr>\n",
       "      <th>min</th>\n",
       "      <td>-2.035522</td>\n",
       "      <td>-0.055185</td>\n",
       "      <td>8.641296</td>\n",
       "      <td>-2.000231</td>\n",
       "      <td>-0.597029</td>\n",
       "      <td>-1.899998</td>\n",
       "      <td>-0.785646</td>\n",
       "      <td>3.298634</td>\n",
       "    </tr>\n",
       "    <tr>\n",
       "      <th>25%</th>\n",
       "      <td>-1.298665</td>\n",
       "      <td>1.047346</td>\n",
       "      <td>12.244156</td>\n",
       "      <td>-1.425680</td>\n",
       "      <td>1.050508</td>\n",
       "      <td>-1.105757</td>\n",
       "      <td>-0.168952</td>\n",
       "      <td>4.815984</td>\n",
       "    </tr>\n",
       "    <tr>\n",
       "      <th>50%</th>\n",
       "      <td>-0.804578</td>\n",
       "      <td>1.714671</td>\n",
       "      <td>14.551016</td>\n",
       "      <td>-1.169008</td>\n",
       "      <td>2.098282</td>\n",
       "      <td>-0.759987</td>\n",
       "      <td>0.240513</td>\n",
       "      <td>5.815195</td>\n",
       "    </tr>\n",
       "    <tr>\n",
       "      <th>75%</th>\n",
       "      <td>-0.296129</td>\n",
       "      <td>2.550051</td>\n",
       "      <td>17.974805</td>\n",
       "      <td>-0.838510</td>\n",
       "      <td>3.260829</td>\n",
       "      <td>-0.251711</td>\n",
       "      <td>0.840727</td>\n",
       "      <td>7.437984</td>\n",
       "    </tr>\n",
       "    <tr>\n",
       "      <th>max</th>\n",
       "      <td>1.499397</td>\n",
       "      <td>5.269792</td>\n",
       "      <td>28.492688</td>\n",
       "      <td>2.437143</td>\n",
       "      <td>10.433569</td>\n",
       "      <td>1.851658</td>\n",
       "      <td>3.723394</td>\n",
       "      <td>12.824256</td>\n",
       "    </tr>\n",
       "    <tr>\n",
       "      <th rowspan=\"8\" valign=\"top\">Principal Component 2</th>\n",
       "      <th>count</th>\n",
       "      <td>1775.000000</td>\n",
       "      <td>1388.000000</td>\n",
       "      <td>107.000000</td>\n",
       "      <td>5773.000000</td>\n",
       "      <td>722.000000</td>\n",
       "      <td>3395.000000</td>\n",
       "      <td>2287.000000</td>\n",
       "      <td>478.000000</td>\n",
       "    </tr>\n",
       "    <tr>\n",
       "      <th>mean</th>\n",
       "      <td>-1.253017</td>\n",
       "      <td>-1.685539</td>\n",
       "      <td>2.518964</td>\n",
       "      <td>0.768296</td>\n",
       "      <td>1.756506</td>\n",
       "      <td>-0.485595</td>\n",
       "      <td>0.219288</td>\n",
       "      <td>-0.548914</td>\n",
       "    </tr>\n",
       "    <tr>\n",
       "      <th>std</th>\n",
       "      <td>0.751233</td>\n",
       "      <td>0.872444</td>\n",
       "      <td>2.447410</td>\n",
       "      <td>0.544819</td>\n",
       "      <td>1.257464</td>\n",
       "      <td>0.641308</td>\n",
       "      <td>0.624243</td>\n",
       "      <td>1.560703</td>\n",
       "    </tr>\n",
       "    <tr>\n",
       "      <th>min</th>\n",
       "      <td>-3.365114</td>\n",
       "      <td>-4.498423</td>\n",
       "      <td>-1.304872</td>\n",
       "      <td>-0.454258</td>\n",
       "      <td>-1.956236</td>\n",
       "      <td>-4.194227</td>\n",
       "      <td>-1.565502</td>\n",
       "      <td>-3.644115</td>\n",
       "    </tr>\n",
       "    <tr>\n",
       "      <th>25%</th>\n",
       "      <td>-1.831447</td>\n",
       "      <td>-2.323339</td>\n",
       "      <td>0.743612</td>\n",
       "      <td>0.368354</td>\n",
       "      <td>0.860191</td>\n",
       "      <td>-0.926943</td>\n",
       "      <td>-0.219479</td>\n",
       "      <td>-1.733418</td>\n",
       "    </tr>\n",
       "    <tr>\n",
       "      <th>50%</th>\n",
       "      <td>-1.238583</td>\n",
       "      <td>-1.694059</td>\n",
       "      <td>1.995788</td>\n",
       "      <td>0.728026</td>\n",
       "      <td>1.643106</td>\n",
       "      <td>-0.464888</td>\n",
       "      <td>0.226910</td>\n",
       "      <td>-0.638981</td>\n",
       "    </tr>\n",
       "    <tr>\n",
       "      <th>75%</th>\n",
       "      <td>-0.588597</td>\n",
       "      <td>-1.084763</td>\n",
       "      <td>3.780611</td>\n",
       "      <td>1.121316</td>\n",
       "      <td>2.450790</td>\n",
       "      <td>-0.032811</td>\n",
       "      <td>0.647380</td>\n",
       "      <td>0.440005</td>\n",
       "    </tr>\n",
       "    <tr>\n",
       "      <th>max</th>\n",
       "      <td>0.734793</td>\n",
       "      <td>1.101084</td>\n",
       "      <td>9.533924</td>\n",
       "      <td>3.392250</td>\n",
       "      <td>7.004439</td>\n",
       "      <td>1.526052</td>\n",
       "      <td>2.422312</td>\n",
       "      <td>4.931392</td>\n",
       "    </tr>\n",
       "    <tr>\n",
       "      <th rowspan=\"8\" valign=\"top\">Principal Component 3</th>\n",
       "      <th>count</th>\n",
       "      <td>1775.000000</td>\n",
       "      <td>1388.000000</td>\n",
       "      <td>107.000000</td>\n",
       "      <td>5773.000000</td>\n",
       "      <td>722.000000</td>\n",
       "      <td>3395.000000</td>\n",
       "      <td>2287.000000</td>\n",
       "      <td>478.000000</td>\n",
       "    </tr>\n",
       "    <tr>\n",
       "      <th>mean</th>\n",
       "      <td>0.040392</td>\n",
       "      <td>0.111900</td>\n",
       "      <td>-2.161498</td>\n",
       "      <td>-0.316489</td>\n",
       "      <td>2.811889</td>\n",
       "      <td>0.589291</td>\n",
       "      <td>-0.846291</td>\n",
       "      <td>-0.552305</td>\n",
       "    </tr>\n",
       "    <tr>\n",
       "      <th>std</th>\n",
       "      <td>0.463280</td>\n",
       "      <td>0.759131</td>\n",
       "      <td>2.953289</td>\n",
       "      <td>0.464130</td>\n",
       "      <td>1.266838</td>\n",
       "      <td>0.510381</td>\n",
       "      <td>0.657719</td>\n",
       "      <td>1.805776</td>\n",
       "    </tr>\n",
       "    <tr>\n",
       "      <th>min</th>\n",
       "      <td>-1.408584</td>\n",
       "      <td>-2.411351</td>\n",
       "      <td>-8.966716</td>\n",
       "      <td>-2.104952</td>\n",
       "      <td>-0.306549</td>\n",
       "      <td>-1.440181</td>\n",
       "      <td>-3.787750</td>\n",
       "      <td>-5.156957</td>\n",
       "    </tr>\n",
       "    <tr>\n",
       "      <th>25%</th>\n",
       "      <td>-0.298964</td>\n",
       "      <td>-0.295126</td>\n",
       "      <td>-4.455285</td>\n",
       "      <td>-0.607669</td>\n",
       "      <td>1.985157</td>\n",
       "      <td>0.276226</td>\n",
       "      <td>-1.190432</td>\n",
       "      <td>-1.755726</td>\n",
       "    </tr>\n",
       "    <tr>\n",
       "      <th>50%</th>\n",
       "      <td>0.022290</td>\n",
       "      <td>0.078491</td>\n",
       "      <td>-2.475109</td>\n",
       "      <td>-0.361849</td>\n",
       "      <td>2.609404</td>\n",
       "      <td>0.518465</td>\n",
       "      <td>-0.858946</td>\n",
       "      <td>-0.793139</td>\n",
       "    </tr>\n",
       "    <tr>\n",
       "      <th>75%</th>\n",
       "      <td>0.333530</td>\n",
       "      <td>0.455410</td>\n",
       "      <td>0.277946</td>\n",
       "      <td>-0.097391</td>\n",
       "      <td>3.429094</td>\n",
       "      <td>0.808593</td>\n",
       "      <td>-0.501520</td>\n",
       "      <td>0.596901</td>\n",
       "    </tr>\n",
       "    <tr>\n",
       "      <th>max</th>\n",
       "      <td>2.168139</td>\n",
       "      <td>4.528437</td>\n",
       "      <td>3.792155</td>\n",
       "      <td>2.141083</td>\n",
       "      <td>8.472327</td>\n",
       "      <td>4.409234</td>\n",
       "      <td>1.632761</td>\n",
       "      <td>4.708183</td>\n",
       "    </tr>\n",
       "    <tr>\n",
       "      <th rowspan=\"8\" valign=\"top\">Principal Component 4</th>\n",
       "      <th>count</th>\n",
       "      <td>1775.000000</td>\n",
       "      <td>1388.000000</td>\n",
       "      <td>107.000000</td>\n",
       "      <td>5773.000000</td>\n",
       "      <td>722.000000</td>\n",
       "      <td>3395.000000</td>\n",
       "      <td>2287.000000</td>\n",
       "      <td>478.000000</td>\n",
       "    </tr>\n",
       "    <tr>\n",
       "      <th>mean</th>\n",
       "      <td>0.823823</td>\n",
       "      <td>0.017927</td>\n",
       "      <td>-2.227891</td>\n",
       "      <td>0.006657</td>\n",
       "      <td>0.918333</td>\n",
       "      <td>-0.943333</td>\n",
       "      <td>0.551884</td>\n",
       "      <td>-0.020482</td>\n",
       "    </tr>\n",
       "    <tr>\n",
       "      <th>std</th>\n",
       "      <td>0.650770</td>\n",
       "      <td>1.167451</td>\n",
       "      <td>2.201839</td>\n",
       "      <td>0.540369</td>\n",
       "      <td>0.933198</td>\n",
       "      <td>0.669128</td>\n",
       "      <td>0.757287</td>\n",
       "      <td>1.291678</td>\n",
       "    </tr>\n",
       "    <tr>\n",
       "      <th>min</th>\n",
       "      <td>-1.716220</td>\n",
       "      <td>-6.323643</td>\n",
       "      <td>-7.281044</td>\n",
       "      <td>-3.059704</td>\n",
       "      <td>-2.994389</td>\n",
       "      <td>-4.592210</td>\n",
       "      <td>-3.088281</td>\n",
       "      <td>-3.659407</td>\n",
       "    </tr>\n",
       "    <tr>\n",
       "      <th>25%</th>\n",
       "      <td>0.399659</td>\n",
       "      <td>-0.729450</td>\n",
       "      <td>-3.790267</td>\n",
       "      <td>-0.362763</td>\n",
       "      <td>0.257499</td>\n",
       "      <td>-1.343956</td>\n",
       "      <td>0.105149</td>\n",
       "      <td>-0.841986</td>\n",
       "    </tr>\n",
       "    <tr>\n",
       "      <th>50%</th>\n",
       "      <td>0.812146</td>\n",
       "      <td>0.058102</td>\n",
       "      <td>-2.403225</td>\n",
       "      <td>0.019168</td>\n",
       "      <td>0.896831</td>\n",
       "      <td>-0.876023</td>\n",
       "      <td>0.586911</td>\n",
       "      <td>-0.018962</td>\n",
       "    </tr>\n",
       "    <tr>\n",
       "      <th>75%</th>\n",
       "      <td>1.243614</td>\n",
       "      <td>0.787307</td>\n",
       "      <td>-0.577396</td>\n",
       "      <td>0.384486</td>\n",
       "      <td>1.509261</td>\n",
       "      <td>-0.487514</td>\n",
       "      <td>1.036069</td>\n",
       "      <td>0.807315</td>\n",
       "    </tr>\n",
       "    <tr>\n",
       "      <th>max</th>\n",
       "      <td>3.199112</td>\n",
       "      <td>3.604946</td>\n",
       "      <td>2.297900</td>\n",
       "      <td>1.652428</td>\n",
       "      <td>3.770001</td>\n",
       "      <td>0.909650</td>\n",
       "      <td>3.100004</td>\n",
       "      <td>4.173104</td>\n",
       "    </tr>\n",
       "    <tr>\n",
       "      <th rowspan=\"8\" valign=\"top\">Principal Component 5</th>\n",
       "      <th>count</th>\n",
       "      <td>1775.000000</td>\n",
       "      <td>1388.000000</td>\n",
       "      <td>107.000000</td>\n",
       "      <td>5773.000000</td>\n",
       "      <td>722.000000</td>\n",
       "      <td>3395.000000</td>\n",
       "      <td>2287.000000</td>\n",
       "      <td>478.000000</td>\n",
       "    </tr>\n",
       "    <tr>\n",
       "      <th>mean</th>\n",
       "      <td>-1.215998</td>\n",
       "      <td>0.683378</td>\n",
       "      <td>-3.818902</td>\n",
       "      <td>-0.111042</td>\n",
       "      <td>0.041520</td>\n",
       "      <td>0.126873</td>\n",
       "      <td>0.743031</td>\n",
       "      <td>0.208183</td>\n",
       "    </tr>\n",
       "    <tr>\n",
       "      <th>std</th>\n",
       "      <td>0.807598</td>\n",
       "      <td>0.812881</td>\n",
       "      <td>2.398889</td>\n",
       "      <td>0.558993</td>\n",
       "      <td>0.870643</td>\n",
       "      <td>0.761452</td>\n",
       "      <td>0.630386</td>\n",
       "      <td>0.841634</td>\n",
       "    </tr>\n",
       "    <tr>\n",
       "      <th>min</th>\n",
       "      <td>-3.687256</td>\n",
       "      <td>-1.599904</td>\n",
       "      <td>-11.421423</td>\n",
       "      <td>-2.277236</td>\n",
       "      <td>-2.707898</td>\n",
       "      <td>-2.230262</td>\n",
       "      <td>-2.589325</td>\n",
       "      <td>-2.972387</td>\n",
       "    </tr>\n",
       "    <tr>\n",
       "      <th>25%</th>\n",
       "      <td>-1.725678</td>\n",
       "      <td>0.205291</td>\n",
       "      <td>-5.240504</td>\n",
       "      <td>-0.476340</td>\n",
       "      <td>-0.470583</td>\n",
       "      <td>-0.314710</td>\n",
       "      <td>0.313527</td>\n",
       "      <td>-0.255803</td>\n",
       "    </tr>\n",
       "    <tr>\n",
       "      <th>50%</th>\n",
       "      <td>-1.071503</td>\n",
       "      <td>0.581387</td>\n",
       "      <td>-3.173581</td>\n",
       "      <td>-0.110233</td>\n",
       "      <td>0.038165</td>\n",
       "      <td>0.099955</td>\n",
       "      <td>0.704075</td>\n",
       "      <td>0.235440</td>\n",
       "    </tr>\n",
       "    <tr>\n",
       "      <th>75%</th>\n",
       "      <td>-0.586350</td>\n",
       "      <td>1.025408</td>\n",
       "      <td>-2.287572</td>\n",
       "      <td>0.253229</td>\n",
       "      <td>0.566319</td>\n",
       "      <td>0.519745</td>\n",
       "      <td>1.135570</td>\n",
       "      <td>0.687722</td>\n",
       "    </tr>\n",
       "    <tr>\n",
       "      <th>max</th>\n",
       "      <td>0.315136</td>\n",
       "      <td>7.233131</td>\n",
       "      <td>0.765958</td>\n",
       "      <td>2.092404</td>\n",
       "      <td>6.680476</td>\n",
       "      <td>7.217417</td>\n",
       "      <td>3.501389</td>\n",
       "      <td>3.497502</td>\n",
       "    </tr>\n",
       "  </tbody>\n",
       "</table>\n",
       "</div>"
      ],
      "text/plain": [
       "Cluster                                0            1           2  \\\n",
       "Principal Component 1 count  1775.000000  1388.000000  107.000000   \n",
       "                      mean     -0.772678     1.861723   15.572026   \n",
       "                      std       0.675281     1.009848    4.561248   \n",
       "                      min      -2.035522    -0.055185    8.641296   \n",
       "                      25%      -1.298665     1.047346   12.244156   \n",
       "                      50%      -0.804578     1.714671   14.551016   \n",
       "                      75%      -0.296129     2.550051   17.974805   \n",
       "                      max       1.499397     5.269792   28.492688   \n",
       "Principal Component 2 count  1775.000000  1388.000000  107.000000   \n",
       "                      mean     -1.253017    -1.685539    2.518964   \n",
       "                      std       0.751233     0.872444    2.447410   \n",
       "                      min      -3.365114    -4.498423   -1.304872   \n",
       "                      25%      -1.831447    -2.323339    0.743612   \n",
       "                      50%      -1.238583    -1.694059    1.995788   \n",
       "                      75%      -0.588597    -1.084763    3.780611   \n",
       "                      max       0.734793     1.101084    9.533924   \n",
       "Principal Component 3 count  1775.000000  1388.000000  107.000000   \n",
       "                      mean      0.040392     0.111900   -2.161498   \n",
       "                      std       0.463280     0.759131    2.953289   \n",
       "                      min      -1.408584    -2.411351   -8.966716   \n",
       "                      25%      -0.298964    -0.295126   -4.455285   \n",
       "                      50%       0.022290     0.078491   -2.475109   \n",
       "                      75%       0.333530     0.455410    0.277946   \n",
       "                      max       2.168139     4.528437    3.792155   \n",
       "Principal Component 4 count  1775.000000  1388.000000  107.000000   \n",
       "                      mean      0.823823     0.017927   -2.227891   \n",
       "                      std       0.650770     1.167451    2.201839   \n",
       "                      min      -1.716220    -6.323643   -7.281044   \n",
       "                      25%       0.399659    -0.729450   -3.790267   \n",
       "                      50%       0.812146     0.058102   -2.403225   \n",
       "                      75%       1.243614     0.787307   -0.577396   \n",
       "                      max       3.199112     3.604946    2.297900   \n",
       "Principal Component 5 count  1775.000000  1388.000000  107.000000   \n",
       "                      mean     -1.215998     0.683378   -3.818902   \n",
       "                      std       0.807598     0.812881    2.398889   \n",
       "                      min      -3.687256    -1.599904  -11.421423   \n",
       "                      25%      -1.725678     0.205291   -5.240504   \n",
       "                      50%      -1.071503     0.581387   -3.173581   \n",
       "                      75%      -0.586350     1.025408   -2.287572   \n",
       "                      max       0.315136     7.233131    0.765958   \n",
       "\n",
       "Cluster                                3           4            5  \\\n",
       "Principal Component 1 count  5773.000000  722.000000  3395.000000   \n",
       "                      mean     -1.113134    2.349155    -0.635524   \n",
       "                      std       0.430019    1.715587     0.622397   \n",
       "                      min      -2.000231   -0.597029    -1.899998   \n",
       "                      25%      -1.425680    1.050508    -1.105757   \n",
       "                      50%      -1.169008    2.098282    -0.759987   \n",
       "                      75%      -0.838510    3.260829    -0.251711   \n",
       "                      max       2.437143   10.433569     1.851658   \n",
       "Principal Component 2 count  5773.000000  722.000000  3395.000000   \n",
       "                      mean      0.768296    1.756506    -0.485595   \n",
       "                      std       0.544819    1.257464     0.641308   \n",
       "                      min      -0.454258   -1.956236    -4.194227   \n",
       "                      25%       0.368354    0.860191    -0.926943   \n",
       "                      50%       0.728026    1.643106    -0.464888   \n",
       "                      75%       1.121316    2.450790    -0.032811   \n",
       "                      max       3.392250    7.004439     1.526052   \n",
       "Principal Component 3 count  5773.000000  722.000000  3395.000000   \n",
       "                      mean     -0.316489    2.811889     0.589291   \n",
       "                      std       0.464130    1.266838     0.510381   \n",
       "                      min      -2.104952   -0.306549    -1.440181   \n",
       "                      25%      -0.607669    1.985157     0.276226   \n",
       "                      50%      -0.361849    2.609404     0.518465   \n",
       "                      75%      -0.097391    3.429094     0.808593   \n",
       "                      max       2.141083    8.472327     4.409234   \n",
       "Principal Component 4 count  5773.000000  722.000000  3395.000000   \n",
       "                      mean      0.006657    0.918333    -0.943333   \n",
       "                      std       0.540369    0.933198     0.669128   \n",
       "                      min      -3.059704   -2.994389    -4.592210   \n",
       "                      25%      -0.362763    0.257499    -1.343956   \n",
       "                      50%       0.019168    0.896831    -0.876023   \n",
       "                      75%       0.384486    1.509261    -0.487514   \n",
       "                      max       1.652428    3.770001     0.909650   \n",
       "Principal Component 5 count  5773.000000  722.000000  3395.000000   \n",
       "                      mean     -0.111042    0.041520     0.126873   \n",
       "                      std       0.558993    0.870643     0.761452   \n",
       "                      min      -2.277236   -2.707898    -2.230262   \n",
       "                      25%      -0.476340   -0.470583    -0.314710   \n",
       "                      50%      -0.110233    0.038165     0.099955   \n",
       "                      75%       0.253229    0.566319     0.519745   \n",
       "                      max       2.092404    6.680476     7.217417   \n",
       "\n",
       "Cluster                                6           7  \n",
       "Principal Component 1 count  2287.000000  478.000000  \n",
       "                      mean      0.438446    6.288983  \n",
       "                      std       0.806497    1.892829  \n",
       "                      min      -0.785646    3.298634  \n",
       "                      25%      -0.168952    4.815984  \n",
       "                      50%       0.240513    5.815195  \n",
       "                      75%       0.840727    7.437984  \n",
       "                      max       3.723394   12.824256  \n",
       "Principal Component 2 count  2287.000000  478.000000  \n",
       "                      mean      0.219288   -0.548914  \n",
       "                      std       0.624243    1.560703  \n",
       "                      min      -1.565502   -3.644115  \n",
       "                      25%      -0.219479   -1.733418  \n",
       "                      50%       0.226910   -0.638981  \n",
       "                      75%       0.647380    0.440005  \n",
       "                      max       2.422312    4.931392  \n",
       "Principal Component 3 count  2287.000000  478.000000  \n",
       "                      mean     -0.846291   -0.552305  \n",
       "                      std       0.657719    1.805776  \n",
       "                      min      -3.787750   -5.156957  \n",
       "                      25%      -1.190432   -1.755726  \n",
       "                      50%      -0.858946   -0.793139  \n",
       "                      75%      -0.501520    0.596901  \n",
       "                      max       1.632761    4.708183  \n",
       "Principal Component 4 count  2287.000000  478.000000  \n",
       "                      mean      0.551884   -0.020482  \n",
       "                      std       0.757287    1.291678  \n",
       "                      min      -3.088281   -3.659407  \n",
       "                      25%       0.105149   -0.841986  \n",
       "                      50%       0.586911   -0.018962  \n",
       "                      75%       1.036069    0.807315  \n",
       "                      max       3.100004    4.173104  \n",
       "Principal Component 5 count  2287.000000  478.000000  \n",
       "                      mean      0.743031    0.208183  \n",
       "                      std       0.630386    0.841634  \n",
       "                      min      -2.589325   -2.972387  \n",
       "                      25%       0.313527   -0.255803  \n",
       "                      50%       0.704075    0.235440  \n",
       "                      75%       1.135570    0.687722  \n",
       "                      max       3.501389    3.497502  "
      ]
     },
     "execution_count": 50,
     "metadata": {},
     "output_type": "execute_result"
    }
   ],
   "source": [
    "# Calcola le statistiche per ciascun cluster\n",
    "cluster_stats = df_pca.groupby('Cluster').describe()\n",
    "print(\"Statistiche per ciascun cluster:\")\n",
    "cluster_stats.transpose()"
   ]
  },
  {
   "cell_type": "markdown",
   "metadata": {},
   "source": []
  },
  {
   "cell_type": "code",
   "execution_count": null,
   "metadata": {},
   "outputs": [],
   "source": []
  }
 ],
 "metadata": {
  "kernelspec": {
   "display_name": "Python 3",
   "language": "python",
   "name": "python3"
  },
  "language_info": {
   "codemirror_mode": {
    "name": "ipython",
    "version": 3
   },
   "file_extension": ".py",
   "mimetype": "text/x-python",
   "name": "python",
   "nbconvert_exporter": "python",
   "pygments_lexer": "ipython3",
   "version": "3.13.0"
  }
 },
 "nbformat": 4,
 "nbformat_minor": 2
}
