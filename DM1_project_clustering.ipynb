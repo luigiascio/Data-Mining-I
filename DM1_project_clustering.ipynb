{
 "cells": [
  {
   "cell_type": "markdown",
   "metadata": {},
   "source": [
    "# Clustering"
   ]
  },
  {
   "cell_type": "code",
   "execution_count": 57,
   "metadata": {},
   "outputs": [],
   "source": [
    "import pandas as pd\n",
    "import numpy as np\n",
    "import matplotlib.pyplot as plt\n",
    "import seaborn as sns"
   ]
  },
  {
   "cell_type": "code",
   "execution_count": 58,
   "metadata": {},
   "outputs": [],
   "source": [
    "#scaling, normalization\n",
    "from sklearn.preprocessing import StandardScaler, MinMaxScaler\n",
    "\n",
    "#kmeans, dbscan, hierarchical (sklearn)\n",
    "from sklearn.cluster import KMeans, DBSCAN, AgglomerativeClustering\n",
    "#evaluation\n",
    "from sklearn.metrics import silhouette_score\n",
    "#import dataset\n",
    "from sklearn.datasets import load_iris\n",
    "\n",
    "#distance matrix (dbscan elbow, hierarchical)\n",
    "from scipy.spatial.distance import pdist, squareform\n",
    "\n",
    "# hierarchical (scipy)\n",
    "from scipy.cluster.hierarchy import linkage, dendrogram, fcluster"
   ]
  },
  {
   "cell_type": "code",
   "execution_count": 59,
   "metadata": {},
   "outputs": [],
   "source": [
    "from sklearn.metrics import *\n",
    "from sklearn.cluster import KMeans, DBSCAN, AgglomerativeClustering\n",
    "from sklearn.neighbors import kneighbors_graph"
   ]
  },
  {
   "cell_type": "code",
   "execution_count": 60,
   "metadata": {},
   "outputs": [],
   "source": [
    "df = pd.read_csv('train_cleaned_v.1.csv')"
   ]
  },
  {
   "cell_type": "code",
   "execution_count": 61,
   "metadata": {},
   "outputs": [
    {
     "data": {
      "text/html": [
       "<div>\n",
       "<style scoped>\n",
       "    .dataframe tbody tr th:only-of-type {\n",
       "        vertical-align: middle;\n",
       "    }\n",
       "\n",
       "    .dataframe tbody tr th {\n",
       "        vertical-align: top;\n",
       "    }\n",
       "\n",
       "    .dataframe thead th {\n",
       "        text-align: right;\n",
       "    }\n",
       "</style>\n",
       "<table border=\"1\" class=\"dataframe\">\n",
       "  <thead>\n",
       "    <tr style=\"text-align: right;\">\n",
       "      <th></th>\n",
       "      <th>originalTitle</th>\n",
       "      <th>rating</th>\n",
       "      <th>startYear</th>\n",
       "      <th>endYear</th>\n",
       "      <th>runtimeMinutes</th>\n",
       "      <th>awardWins</th>\n",
       "      <th>numVotes</th>\n",
       "      <th>worstRating</th>\n",
       "      <th>bestRating</th>\n",
       "      <th>totalImages</th>\n",
       "      <th>...</th>\n",
       "      <th>AwNmExWins</th>\n",
       "      <th>canHaveEpisodes</th>\n",
       "      <th>isRatable</th>\n",
       "      <th>isAdult</th>\n",
       "      <th>numRegions</th>\n",
       "      <th>userReviewsTotal</th>\n",
       "      <th>ratingCount</th>\n",
       "      <th>countryOfOrigin</th>\n",
       "      <th>genres</th>\n",
       "      <th>ratingMean</th>\n",
       "    </tr>\n",
       "  </thead>\n",
       "  <tbody>\n",
       "    <tr>\n",
       "      <th>0</th>\n",
       "      <td>Neogenic Nightmare Chapter 3: Hydro-Man</td>\n",
       "      <td>(7, 8]</td>\n",
       "      <td>1995</td>\n",
       "      <td>NaN</td>\n",
       "      <td>40</td>\n",
       "      <td>0.0</td>\n",
       "      <td>779</td>\n",
       "      <td>1</td>\n",
       "      <td>10</td>\n",
       "      <td>1</td>\n",
       "      <td>...</td>\n",
       "      <td>0</td>\n",
       "      <td>False</td>\n",
       "      <td>True</td>\n",
       "      <td>False</td>\n",
       "      <td>1</td>\n",
       "      <td>0</td>\n",
       "      <td>781</td>\n",
       "      <td>['US']</td>\n",
       "      <td>Action,Adventure,Animation</td>\n",
       "      <td>7.5</td>\n",
       "    </tr>\n",
       "    <tr>\n",
       "      <th>1</th>\n",
       "      <td>Looping</td>\n",
       "      <td>(5, 6]</td>\n",
       "      <td>1982</td>\n",
       "      <td>NaN</td>\n",
       "      <td>28</td>\n",
       "      <td>0.0</td>\n",
       "      <td>11</td>\n",
       "      <td>1</td>\n",
       "      <td>10</td>\n",
       "      <td>1</td>\n",
       "      <td>...</td>\n",
       "      <td>0</td>\n",
       "      <td>False</td>\n",
       "      <td>True</td>\n",
       "      <td>False</td>\n",
       "      <td>1</td>\n",
       "      <td>0</td>\n",
       "      <td>11</td>\n",
       "      <td>['XWG']</td>\n",
       "      <td>Action</td>\n",
       "      <td>5.5</td>\n",
       "    </tr>\n",
       "    <tr>\n",
       "      <th>2</th>\n",
       "      <td>Idealnaya para</td>\n",
       "      <td>(5, 6]</td>\n",
       "      <td>1992</td>\n",
       "      <td>NaN</td>\n",
       "      <td>92</td>\n",
       "      <td>0.0</td>\n",
       "      <td>38</td>\n",
       "      <td>1</td>\n",
       "      <td>10</td>\n",
       "      <td>1</td>\n",
       "      <td>...</td>\n",
       "      <td>0</td>\n",
       "      <td>False</td>\n",
       "      <td>True</td>\n",
       "      <td>False</td>\n",
       "      <td>1</td>\n",
       "      <td>1</td>\n",
       "      <td>38</td>\n",
       "      <td>['RU']</td>\n",
       "      <td>Comedy</td>\n",
       "      <td>5.5</td>\n",
       "    </tr>\n",
       "    <tr>\n",
       "      <th>3</th>\n",
       "      <td>MasterChef Celebrity México</td>\n",
       "      <td>(5, 6]</td>\n",
       "      <td>2021</td>\n",
       "      <td>NaN</td>\n",
       "      <td>53</td>\n",
       "      <td>0.0</td>\n",
       "      <td>15</td>\n",
       "      <td>1</td>\n",
       "      <td>10</td>\n",
       "      <td>22</td>\n",
       "      <td>...</td>\n",
       "      <td>0</td>\n",
       "      <td>True</td>\n",
       "      <td>True</td>\n",
       "      <td>False</td>\n",
       "      <td>1</td>\n",
       "      <td>0</td>\n",
       "      <td>15</td>\n",
       "      <td>['MX']</td>\n",
       "      <td>Reality-TV</td>\n",
       "      <td>5.5</td>\n",
       "    </tr>\n",
       "    <tr>\n",
       "      <th>4</th>\n",
       "      <td>Seutateueob</td>\n",
       "      <td>(7, 8]</td>\n",
       "      <td>2020</td>\n",
       "      <td>2020.0</td>\n",
       "      <td>80</td>\n",
       "      <td>1.0</td>\n",
       "      <td>15718</td>\n",
       "      <td>1</td>\n",
       "      <td>10</td>\n",
       "      <td>347</td>\n",
       "      <td>...</td>\n",
       "      <td>1</td>\n",
       "      <td>True</td>\n",
       "      <td>True</td>\n",
       "      <td>False</td>\n",
       "      <td>32</td>\n",
       "      <td>452</td>\n",
       "      <td>15746</td>\n",
       "      <td>['KR']</td>\n",
       "      <td>Comedy,Drama,Romance</td>\n",
       "      <td>7.5</td>\n",
       "    </tr>\n",
       "  </tbody>\n",
       "</table>\n",
       "<p>5 rows × 24 columns</p>\n",
       "</div>"
      ],
      "text/plain": [
       "                             originalTitle  rating  startYear  endYear  \\\n",
       "0  Neogenic Nightmare Chapter 3: Hydro-Man  (7, 8]       1995      NaN   \n",
       "1                                  Looping  (5, 6]       1982      NaN   \n",
       "2                           Idealnaya para  (5, 6]       1992      NaN   \n",
       "3              MasterChef Celebrity México  (5, 6]       2021      NaN   \n",
       "4                              Seutateueob  (7, 8]       2020   2020.0   \n",
       "\n",
       "   runtimeMinutes  awardWins  numVotes  worstRating  bestRating  totalImages  \\\n",
       "0              40        0.0       779            1          10            1   \n",
       "1              28        0.0        11            1          10            1   \n",
       "2              92        0.0        38            1          10            1   \n",
       "3              53        0.0        15            1          10           22   \n",
       "4              80        1.0     15718            1          10          347   \n",
       "\n",
       "   ...  AwNmExWins  canHaveEpisodes  isRatable isAdult  numRegions  \\\n",
       "0  ...           0            False       True   False           1   \n",
       "1  ...           0            False       True   False           1   \n",
       "2  ...           0            False       True   False           1   \n",
       "3  ...           0             True       True   False           1   \n",
       "4  ...           1             True       True   False          32   \n",
       "\n",
       "   userReviewsTotal  ratingCount  countryOfOrigin                      genres  \\\n",
       "0                 0          781           ['US']  Action,Adventure,Animation   \n",
       "1                 0           11          ['XWG']                      Action   \n",
       "2                 1           38           ['RU']                      Comedy   \n",
       "3                 0           15           ['MX']                  Reality-TV   \n",
       "4               452        15746           ['KR']        Comedy,Drama,Romance   \n",
       "\n",
       "   ratingMean  \n",
       "0         7.5  \n",
       "1         5.5  \n",
       "2         5.5  \n",
       "3         5.5  \n",
       "4         7.5  \n",
       "\n",
       "[5 rows x 24 columns]"
      ]
     },
     "execution_count": 61,
     "metadata": {},
     "output_type": "execute_result"
    }
   ],
   "source": [
    "df.head()"
   ]
  },
  {
   "cell_type": "markdown",
   "metadata": {},
   "source": [
    "#### Fill missing values and convert to numerical (where possible)"
   ]
  },
  {
   "cell_type": "code",
   "execution_count": 62,
   "metadata": {},
   "outputs": [
    {
     "data": {
      "text/plain": [
       "originalTitle          object\n",
       "rating                 object\n",
       "startYear               int64\n",
       "endYear               float64\n",
       "runtimeMinutes          int64\n",
       "awardWins             float64\n",
       "numVotes                int64\n",
       "worstRating             int64\n",
       "bestRating              int64\n",
       "totalImages             int64\n",
       "totalVideos             int64\n",
       "totalCredits            int64\n",
       "criticReviewsTotal      int64\n",
       "titleType              object\n",
       "AwNmExWins              int64\n",
       "canHaveEpisodes          bool\n",
       "isRatable                bool\n",
       "isAdult                  bool\n",
       "numRegions              int64\n",
       "userReviewsTotal        int64\n",
       "ratingCount             int64\n",
       "countryOfOrigin        object\n",
       "genres                 object\n",
       "ratingMean            float64\n",
       "dtype: object"
      ]
     },
     "execution_count": 62,
     "metadata": {},
     "output_type": "execute_result"
    }
   ],
   "source": [
    "df.dtypes"
   ]
  },
  {
   "cell_type": "code",
   "execution_count": 63,
   "metadata": {},
   "outputs": [],
   "source": [
    "del df['originalTitle']\n",
    "del df['rating']\n",
    "del df['titleType']\n",
    "del df['countryOfOrigin']\n",
    "del df['genres']\n",
    "del df['isAdult']\n",
    "del df['isRatable']\n",
    "del df['canHaveEpisodes']"
   ]
  },
  {
   "cell_type": "code",
   "execution_count": 64,
   "metadata": {},
   "outputs": [],
   "source": [
    "del df['endYear']\n",
    "del df['awardWins'] #HA DEI VALORI MANCANTI, VEDIAMO COSA FARNE"
   ]
  },
  {
   "cell_type": "code",
   "execution_count": 65,
   "metadata": {},
   "outputs": [
    {
     "data": {
      "text/html": [
       "<div>\n",
       "<style scoped>\n",
       "    .dataframe tbody tr th:only-of-type {\n",
       "        vertical-align: middle;\n",
       "    }\n",
       "\n",
       "    .dataframe tbody tr th {\n",
       "        vertical-align: top;\n",
       "    }\n",
       "\n",
       "    .dataframe thead th {\n",
       "        text-align: right;\n",
       "    }\n",
       "</style>\n",
       "<table border=\"1\" class=\"dataframe\">\n",
       "  <thead>\n",
       "    <tr style=\"text-align: right;\">\n",
       "      <th></th>\n",
       "      <th>startYear</th>\n",
       "      <th>runtimeMinutes</th>\n",
       "      <th>numVotes</th>\n",
       "      <th>worstRating</th>\n",
       "      <th>bestRating</th>\n",
       "      <th>totalImages</th>\n",
       "      <th>totalVideos</th>\n",
       "      <th>totalCredits</th>\n",
       "      <th>criticReviewsTotal</th>\n",
       "      <th>AwNmExWins</th>\n",
       "      <th>numRegions</th>\n",
       "      <th>userReviewsTotal</th>\n",
       "      <th>ratingCount</th>\n",
       "      <th>ratingMean</th>\n",
       "    </tr>\n",
       "  </thead>\n",
       "  <tbody>\n",
       "    <tr>\n",
       "      <th>0</th>\n",
       "      <td>1995</td>\n",
       "      <td>40</td>\n",
       "      <td>779</td>\n",
       "      <td>1</td>\n",
       "      <td>10</td>\n",
       "      <td>1</td>\n",
       "      <td>0</td>\n",
       "      <td>21</td>\n",
       "      <td>1</td>\n",
       "      <td>0</td>\n",
       "      <td>1</td>\n",
       "      <td>0</td>\n",
       "      <td>781</td>\n",
       "      <td>7.5</td>\n",
       "    </tr>\n",
       "    <tr>\n",
       "      <th>1</th>\n",
       "      <td>1982</td>\n",
       "      <td>28</td>\n",
       "      <td>11</td>\n",
       "      <td>1</td>\n",
       "      <td>10</td>\n",
       "      <td>1</td>\n",
       "      <td>0</td>\n",
       "      <td>1</td>\n",
       "      <td>0</td>\n",
       "      <td>0</td>\n",
       "      <td>1</td>\n",
       "      <td>0</td>\n",
       "      <td>11</td>\n",
       "      <td>5.5</td>\n",
       "    </tr>\n",
       "    <tr>\n",
       "      <th>2</th>\n",
       "      <td>1992</td>\n",
       "      <td>92</td>\n",
       "      <td>38</td>\n",
       "      <td>1</td>\n",
       "      <td>10</td>\n",
       "      <td>1</td>\n",
       "      <td>0</td>\n",
       "      <td>24</td>\n",
       "      <td>0</td>\n",
       "      <td>0</td>\n",
       "      <td>1</td>\n",
       "      <td>1</td>\n",
       "      <td>38</td>\n",
       "      <td>5.5</td>\n",
       "    </tr>\n",
       "    <tr>\n",
       "      <th>3</th>\n",
       "      <td>2021</td>\n",
       "      <td>53</td>\n",
       "      <td>15</td>\n",
       "      <td>1</td>\n",
       "      <td>10</td>\n",
       "      <td>22</td>\n",
       "      <td>0</td>\n",
       "      <td>56</td>\n",
       "      <td>0</td>\n",
       "      <td>0</td>\n",
       "      <td>1</td>\n",
       "      <td>0</td>\n",
       "      <td>15</td>\n",
       "      <td>5.5</td>\n",
       "    </tr>\n",
       "    <tr>\n",
       "      <th>4</th>\n",
       "      <td>2020</td>\n",
       "      <td>80</td>\n",
       "      <td>15718</td>\n",
       "      <td>1</td>\n",
       "      <td>10</td>\n",
       "      <td>347</td>\n",
       "      <td>2</td>\n",
       "      <td>47</td>\n",
       "      <td>4</td>\n",
       "      <td>1</td>\n",
       "      <td>32</td>\n",
       "      <td>452</td>\n",
       "      <td>15746</td>\n",
       "      <td>7.5</td>\n",
       "    </tr>\n",
       "  </tbody>\n",
       "</table>\n",
       "</div>"
      ],
      "text/plain": [
       "   startYear  runtimeMinutes  numVotes  worstRating  bestRating  totalImages  \\\n",
       "0       1995              40       779            1          10            1   \n",
       "1       1982              28        11            1          10            1   \n",
       "2       1992              92        38            1          10            1   \n",
       "3       2021              53        15            1          10           22   \n",
       "4       2020              80     15718            1          10          347   \n",
       "\n",
       "   totalVideos  totalCredits  criticReviewsTotal  AwNmExWins  numRegions  \\\n",
       "0            0            21                   1           0           1   \n",
       "1            0             1                   0           0           1   \n",
       "2            0            24                   0           0           1   \n",
       "3            0            56                   0           0           1   \n",
       "4            2            47                   4           1          32   \n",
       "\n",
       "   userReviewsTotal  ratingCount  ratingMean  \n",
       "0                 0          781         7.5  \n",
       "1                 0           11         5.5  \n",
       "2                 1           38         5.5  \n",
       "3                 0           15         5.5  \n",
       "4               452        15746         7.5  "
      ]
     },
     "execution_count": 65,
     "metadata": {},
     "output_type": "execute_result"
    }
   ],
   "source": [
    "df.head()"
   ]
  },
  {
   "cell_type": "code",
   "execution_count": 66,
   "metadata": {},
   "outputs": [],
   "source": [
    "scaler = MinMaxScaler()\n",
    "train_data = scaler.fit_transform(df)\n",
    "#train_data = pd.DataFrame(train_data, columns=df.columns)\n",
    "#train_data.head()\n"
   ]
  },
  {
   "cell_type": "code",
   "execution_count": 67,
   "metadata": {},
   "outputs": [],
   "source": [
    "#train_data.isnull().sum()"
   ]
  },
  {
   "cell_type": "code",
   "execution_count": 68,
   "metadata": {},
   "outputs": [],
   "source": [
    "#del train_data['awardWins']\n",
    "#train_data.head()"
   ]
  },
  {
   "cell_type": "code",
   "execution_count": 69,
   "metadata": {},
   "outputs": [
    {
     "name": "stdout",
     "output_type": "stream",
     "text": [
      "CPU times: total: 6min 1s\n",
      "Wall time: 3min 43s\n"
     ]
    }
   ],
   "source": [
    "%%time\n",
    "sse_list = []\n",
    "sil_list = []\n",
    "\n",
    "for k in range(2, 51):\n",
    "    kmeans = KMeans(init='k-means++', n_clusters=k, n_init=10, max_iter=100)\n",
    "    kmeans.fit(train_data)\n",
    "    sse_list.append(kmeans.inertia_)\n",
    "    sil_list.append(silhouette_score(train_data, kmeans.labels_))"
   ]
  },
  {
   "cell_type": "code",
   "execution_count": 70,
   "metadata": {},
   "outputs": [
    {
     "data": {
      "image/png": "[encoded data removed]",
      "text/plain": [
       "<Figure size 640x480 with 2 Axes>"
      ]
     },
     "metadata": {},
     "output_type": "display_data"
    }
   ],
   "source": [
    "fig, axs = plt.subplots(2) # 1 row, 2 columns\n",
    "\n",
    "sns.lineplot(x=range(len(sse_list)), y=sse_list, marker='o', ax=axs[0])\n",
    "axs[0].set(xlabel='k', ylabel='SSE')\n",
    "sns.lineplot(x=range(len(sil_list)), y=sil_list, marker='o', ax=axs[1])\n",
    "axs[1].set(xlabel='k', ylabel='Silhouette')\n",
    "\n",
    "plt.tight_layout() # Adjust the padding between and around subplots"
   ]
  },
  {
   "cell_type": "markdown",
   "metadata": {},
   "source": [
    "### Analysis by centroid-based methods"
   ]
  },
  {
   "cell_type": "markdown",
   "metadata": {},
   "source": [
    "- K-Means (mandatory), Bisecting K-Means (optional), X-Means (optional);"
   ]
  },
  {
   "cell_type": "markdown",
   "metadata": {},
   "source": [
    "- Choice the attributes, identify the best value of k, discuss the clusters."
   ]
  },
  {
   "cell_type": "markdown",
   "metadata": {},
   "source": [
    "### Analysis by density-based clustering"
   ]
  },
  {
   "cell_type": "markdown",
   "metadata": {},
   "source": [
    "- DBSCAN (mandatory), OPTICS (optional);"
   ]
  },
  {
   "cell_type": "markdown",
   "metadata": {},
   "source": [
    "- Choice the attributes, identify the best parameter configuration, discuss clusters."
   ]
  },
  {
   "cell_type": "markdown",
   "metadata": {},
   "source": [
    "### Analysis by hierarchical clustering"
   ]
  },
  {
   "cell_type": "markdown",
   "metadata": {},
   "source": [
    "- Choice the attributes, the distance function, analyse several dendrograms."
   ]
  },
  {
   "cell_type": "markdown",
   "metadata": {},
   "source": [
    "### Final discussion"
   ]
  },
  {
   "cell_type": "markdown",
   "metadata": {},
   "source": [
    "- Which is the best algorithm? Remember that best is studied w.r.t. several aggregate \n",
    "statistics, cluster distributions and w.r.t. the typology of algorithm used for that \n",
    "particular dataset;\n"
   ]
  }
 ],
 "metadata": {
  "kernelspec": {
   "display_name": "Python 3",
   "language": "python",
   "name": "python3"
  },
  "language_info": {
   "codemirror_mode": {
    "name": "ipython",
    "version": 3
   },
   "file_extension": ".py",
   "mimetype": "text/x-python",
   "name": "python",
   "nbconvert_exporter": "python",
   "pygments_lexer": "ipython3",
   "version": "3.12.6"
  }
 },
 "nbformat": 4,
 "nbformat_minor": 2
}
