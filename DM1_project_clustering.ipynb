{
 "cells": [
  {
   "cell_type": "markdown",
   "metadata": {},
   "source": [
    "# Clustering"
   ]
  },
  {
   "cell_type": "code",
   "execution_count": 192,
   "metadata": {},
   "outputs": [],
   "source": [
    "import pandas as pd\n",
    "import numpy as np\n",
    "import matplotlib.pyplot as plt\n",
    "import seaborn as sns\n",
    "import kneed as kn\n",
    "import plotly.graph_objects as go\n",
    "import random"
   ]
  },
  {
   "cell_type": "code",
   "execution_count": 193,
   "metadata": {},
   "outputs": [],
   "source": [
    "from plotly.subplots import make_subplots\n",
    "\n",
    "#scaling, normalization\n",
    "from sklearn.preprocessing import StandardScaler, MinMaxScaler\n",
    "\n",
    "#kmeans, dbscan, hierarchical (sklearn)\n",
    "from sklearn.cluster import KMeans, DBSCAN, AgglomerativeClustering\n",
    "#evaluation\n",
    "from sklearn.metrics import silhouette_score\n",
    "\n",
    "#distance matrix (dbscan elbow, hierarchical)\n",
    "from scipy.spatial.distance import pdist, squareform\n",
    "from scipy.stats import pearsonr\n",
    "\n",
    "# hierarchical (scipy)\n",
    "from scipy.cluster.hierarchy import linkage, dendrogram, fcluster\n",
    "\n",
    "from kneed import KneeLocator"
   ]
  },
  {
   "cell_type": "code",
   "execution_count": 194,
   "metadata": {},
   "outputs": [],
   "source": [
    "from sklearn.metrics import *\n",
    "from sklearn.cluster import KMeans, DBSCAN, AgglomerativeClustering\n",
    "from sklearn.neighbors import kneighbors_graph"
   ]
  },
  {
   "cell_type": "code",
   "execution_count": 195,
   "metadata": {},
   "outputs": [],
   "source": [
    "\n",
    "\n",
    "#DATI SENZA (POCHI) OUTLIERS E SENZA VARIABILI IRRILEVANTI E AGGREGATE LE REVIEWS\n",
    "#train_cleaned_v.2 file dati log e norm\n",
    "#train_log_unscaled file dati log non norm\n",
    "#train_cleaned_v.1 file dati non log e non norm\n",
    "\n",
    "df = pd.read_csv('train_nolog.csv')"
   ]
  },
  {
   "cell_type": "code",
   "execution_count": 196,
   "metadata": {},
   "outputs": [
    {
     "data": {
      "text/html": [
       "<div>\n",
       "<style scoped>\n",
       "    .dataframe tbody tr th:only-of-type {\n",
       "        vertical-align: middle;\n",
       "    }\n",
       "\n",
       "    .dataframe tbody tr th {\n",
       "        vertical-align: top;\n",
       "    }\n",
       "\n",
       "    .dataframe thead th {\n",
       "        text-align: right;\n",
       "    }\n",
       "</style>\n",
       "<table border=\"1\" class=\"dataframe\">\n",
       "  <thead>\n",
       "    <tr style=\"text-align: right;\">\n",
       "      <th></th>\n",
       "      <th>originalTitle</th>\n",
       "      <th>rating</th>\n",
       "      <th>startYear</th>\n",
       "      <th>runtimeMinutes</th>\n",
       "      <th>awardWins</th>\n",
       "      <th>numVotes</th>\n",
       "      <th>totalImages</th>\n",
       "      <th>totalVideos</th>\n",
       "      <th>totalCredits</th>\n",
       "      <th>titleType</th>\n",
       "      <th>AwNmExWins</th>\n",
       "      <th>canHaveEpisodes</th>\n",
       "      <th>isAdult</th>\n",
       "      <th>numRegions</th>\n",
       "      <th>countryOfOrigin</th>\n",
       "      <th>genres</th>\n",
       "      <th>ratingMean</th>\n",
       "      <th>ReviewsTotal</th>\n",
       "    </tr>\n",
       "  </thead>\n",
       "  <tbody>\n",
       "    <tr>\n",
       "      <th>0</th>\n",
       "      <td>Neogenic Nightmare Chapter 3: Hydro-Man</td>\n",
       "      <td>(7, 8]</td>\n",
       "      <td>1995</td>\n",
       "      <td>40</td>\n",
       "      <td>0</td>\n",
       "      <td>779</td>\n",
       "      <td>1</td>\n",
       "      <td>0</td>\n",
       "      <td>21</td>\n",
       "      <td>tvEpisode</td>\n",
       "      <td>0</td>\n",
       "      <td>False</td>\n",
       "      <td>False</td>\n",
       "      <td>1</td>\n",
       "      <td>['US']</td>\n",
       "      <td>Action,Adventure,Animation</td>\n",
       "      <td>7.5</td>\n",
       "      <td>1</td>\n",
       "    </tr>\n",
       "    <tr>\n",
       "      <th>1</th>\n",
       "      <td>Looping</td>\n",
       "      <td>(5, 6]</td>\n",
       "      <td>1982</td>\n",
       "      <td>28</td>\n",
       "      <td>0</td>\n",
       "      <td>11</td>\n",
       "      <td>1</td>\n",
       "      <td>0</td>\n",
       "      <td>1</td>\n",
       "      <td>videoGame</td>\n",
       "      <td>0</td>\n",
       "      <td>False</td>\n",
       "      <td>False</td>\n",
       "      <td>1</td>\n",
       "      <td>['XWG']</td>\n",
       "      <td>Action</td>\n",
       "      <td>5.5</td>\n",
       "      <td>0</td>\n",
       "    </tr>\n",
       "    <tr>\n",
       "      <th>2</th>\n",
       "      <td>Idealnaya para</td>\n",
       "      <td>(5, 6]</td>\n",
       "      <td>1992</td>\n",
       "      <td>92</td>\n",
       "      <td>0</td>\n",
       "      <td>38</td>\n",
       "      <td>1</td>\n",
       "      <td>0</td>\n",
       "      <td>24</td>\n",
       "      <td>movie</td>\n",
       "      <td>0</td>\n",
       "      <td>False</td>\n",
       "      <td>False</td>\n",
       "      <td>1</td>\n",
       "      <td>['RU']</td>\n",
       "      <td>Comedy</td>\n",
       "      <td>5.5</td>\n",
       "      <td>1</td>\n",
       "    </tr>\n",
       "    <tr>\n",
       "      <th>3</th>\n",
       "      <td>MasterChef Celebrity México</td>\n",
       "      <td>(5, 6]</td>\n",
       "      <td>2021</td>\n",
       "      <td>53</td>\n",
       "      <td>0</td>\n",
       "      <td>15</td>\n",
       "      <td>22</td>\n",
       "      <td>0</td>\n",
       "      <td>56</td>\n",
       "      <td>tvSeries</td>\n",
       "      <td>0</td>\n",
       "      <td>True</td>\n",
       "      <td>False</td>\n",
       "      <td>1</td>\n",
       "      <td>['MX']</td>\n",
       "      <td>Reality-TV</td>\n",
       "      <td>5.5</td>\n",
       "      <td>0</td>\n",
       "    </tr>\n",
       "    <tr>\n",
       "      <th>4</th>\n",
       "      <td>Seutateueob</td>\n",
       "      <td>(7, 8]</td>\n",
       "      <td>2020</td>\n",
       "      <td>80</td>\n",
       "      <td>1</td>\n",
       "      <td>15718</td>\n",
       "      <td>347</td>\n",
       "      <td>2</td>\n",
       "      <td>47</td>\n",
       "      <td>tvSeries</td>\n",
       "      <td>1</td>\n",
       "      <td>True</td>\n",
       "      <td>False</td>\n",
       "      <td>32</td>\n",
       "      <td>['KR']</td>\n",
       "      <td>Comedy,Drama,Romance</td>\n",
       "      <td>7.5</td>\n",
       "      <td>456</td>\n",
       "    </tr>\n",
       "  </tbody>\n",
       "</table>\n",
       "</div>"
      ],
      "text/plain": [
       "                             originalTitle  rating  startYear  runtimeMinutes  \\\n",
       "0  Neogenic Nightmare Chapter 3: Hydro-Man  (7, 8]       1995              40   \n",
       "1                                  Looping  (5, 6]       1982              28   \n",
       "2                           Idealnaya para  (5, 6]       1992              92   \n",
       "3              MasterChef Celebrity México  (5, 6]       2021              53   \n",
       "4                              Seutateueob  (7, 8]       2020              80   \n",
       "\n",
       "   awardWins  numVotes  totalImages  totalVideos  totalCredits  titleType  \\\n",
       "0          0       779            1            0            21  tvEpisode   \n",
       "1          0        11            1            0             1  videoGame   \n",
       "2          0        38            1            0            24      movie   \n",
       "3          0        15           22            0            56   tvSeries   \n",
       "4          1     15718          347            2            47   tvSeries   \n",
       "\n",
       "   AwNmExWins  canHaveEpisodes  isAdult  numRegions countryOfOrigin  \\\n",
       "0           0            False    False           1          ['US']   \n",
       "1           0            False    False           1         ['XWG']   \n",
       "2           0            False    False           1          ['RU']   \n",
       "3           0             True    False           1          ['MX']   \n",
       "4           1             True    False          32          ['KR']   \n",
       "\n",
       "                       genres  ratingMean  ReviewsTotal  \n",
       "0  Action,Adventure,Animation         7.5             1  \n",
       "1                      Action         5.5             0  \n",
       "2                      Comedy         5.5             1  \n",
       "3                  Reality-TV         5.5             0  \n",
       "4        Comedy,Drama,Romance         7.5           456  "
      ]
     },
     "execution_count": 196,
     "metadata": {},
     "output_type": "execute_result"
    }
   ],
   "source": [
    "df.head()"
   ]
  },
  {
   "cell_type": "markdown",
   "metadata": {},
   "source": [
    "#### Fill missing values and convert to numerical (where possible)"
   ]
  },
  {
   "cell_type": "code",
   "execution_count": 197,
   "metadata": {},
   "outputs": [
    {
     "data": {
      "text/plain": [
       "originalTitle       object\n",
       "rating              object\n",
       "startYear            int64\n",
       "runtimeMinutes       int64\n",
       "awardWins            int64\n",
       "numVotes             int64\n",
       "totalImages          int64\n",
       "totalVideos          int64\n",
       "totalCredits         int64\n",
       "titleType           object\n",
       "AwNmExWins           int64\n",
       "canHaveEpisodes       bool\n",
       "isAdult               bool\n",
       "numRegions           int64\n",
       "countryOfOrigin     object\n",
       "genres              object\n",
       "ratingMean         float64\n",
       "ReviewsTotal         int64\n",
       "dtype: object"
      ]
     },
     "execution_count": 197,
     "metadata": {},
     "output_type": "execute_result"
    }
   ],
   "source": [
    "df.dtypes"
   ]
  },
  {
   "cell_type": "code",
   "execution_count": 198,
   "metadata": {},
   "outputs": [],
   "source": [
    "del df['originalTitle']\n",
    "del df['rating']\n",
    "del df['titleType']\n",
    "del df['countryOfOrigin']\n",
    "del df['genres']\n",
    "del df['isAdult']\n",
    "del df['canHaveEpisodes']"
   ]
  },
  {
   "cell_type": "code",
   "execution_count": 199,
   "metadata": {},
   "outputs": [
    {
     "data": {
      "text/html": [
       "<div>\n",
       "<style scoped>\n",
       "    .dataframe tbody tr th:only-of-type {\n",
       "        vertical-align: middle;\n",
       "    }\n",
       "\n",
       "    .dataframe tbody tr th {\n",
       "        vertical-align: top;\n",
       "    }\n",
       "\n",
       "    .dataframe thead th {\n",
       "        text-align: right;\n",
       "    }\n",
       "</style>\n",
       "<table border=\"1\" class=\"dataframe\">\n",
       "  <thead>\n",
       "    <tr style=\"text-align: right;\">\n",
       "      <th></th>\n",
       "      <th>startYear</th>\n",
       "      <th>runtimeMinutes</th>\n",
       "      <th>awardWins</th>\n",
       "      <th>numVotes</th>\n",
       "      <th>totalImages</th>\n",
       "      <th>totalVideos</th>\n",
       "      <th>totalCredits</th>\n",
       "      <th>AwNmExWins</th>\n",
       "      <th>numRegions</th>\n",
       "      <th>ratingMean</th>\n",
       "      <th>ReviewsTotal</th>\n",
       "    </tr>\n",
       "  </thead>\n",
       "  <tbody>\n",
       "    <tr>\n",
       "      <th>0</th>\n",
       "      <td>1995</td>\n",
       "      <td>40</td>\n",
       "      <td>0</td>\n",
       "      <td>779</td>\n",
       "      <td>1</td>\n",
       "      <td>0</td>\n",
       "      <td>21</td>\n",
       "      <td>0</td>\n",
       "      <td>1</td>\n",
       "      <td>7.5</td>\n",
       "      <td>1</td>\n",
       "    </tr>\n",
       "    <tr>\n",
       "      <th>1</th>\n",
       "      <td>1982</td>\n",
       "      <td>28</td>\n",
       "      <td>0</td>\n",
       "      <td>11</td>\n",
       "      <td>1</td>\n",
       "      <td>0</td>\n",
       "      <td>1</td>\n",
       "      <td>0</td>\n",
       "      <td>1</td>\n",
       "      <td>5.5</td>\n",
       "      <td>0</td>\n",
       "    </tr>\n",
       "    <tr>\n",
       "      <th>2</th>\n",
       "      <td>1992</td>\n",
       "      <td>92</td>\n",
       "      <td>0</td>\n",
       "      <td>38</td>\n",
       "      <td>1</td>\n",
       "      <td>0</td>\n",
       "      <td>24</td>\n",
       "      <td>0</td>\n",
       "      <td>1</td>\n",
       "      <td>5.5</td>\n",
       "      <td>1</td>\n",
       "    </tr>\n",
       "    <tr>\n",
       "      <th>3</th>\n",
       "      <td>2021</td>\n",
       "      <td>53</td>\n",
       "      <td>0</td>\n",
       "      <td>15</td>\n",
       "      <td>22</td>\n",
       "      <td>0</td>\n",
       "      <td>56</td>\n",
       "      <td>0</td>\n",
       "      <td>1</td>\n",
       "      <td>5.5</td>\n",
       "      <td>0</td>\n",
       "    </tr>\n",
       "    <tr>\n",
       "      <th>4</th>\n",
       "      <td>2020</td>\n",
       "      <td>80</td>\n",
       "      <td>1</td>\n",
       "      <td>15718</td>\n",
       "      <td>347</td>\n",
       "      <td>2</td>\n",
       "      <td>47</td>\n",
       "      <td>1</td>\n",
       "      <td>32</td>\n",
       "      <td>7.5</td>\n",
       "      <td>456</td>\n",
       "    </tr>\n",
       "  </tbody>\n",
       "</table>\n",
       "</div>"
      ],
      "text/plain": [
       "   startYear  runtimeMinutes  awardWins  numVotes  totalImages  totalVideos  \\\n",
       "0       1995              40          0       779            1            0   \n",
       "1       1982              28          0        11            1            0   \n",
       "2       1992              92          0        38            1            0   \n",
       "3       2021              53          0        15           22            0   \n",
       "4       2020              80          1     15718          347            2   \n",
       "\n",
       "   totalCredits  AwNmExWins  numRegions  ratingMean  ReviewsTotal  \n",
       "0            21           0           1         7.5             1  \n",
       "1             1           0           1         5.5             0  \n",
       "2            24           0           1         5.5             1  \n",
       "3            56           0           1         5.5             0  \n",
       "4            47           1          32         7.5           456  "
      ]
     },
     "execution_count": 199,
     "metadata": {},
     "output_type": "execute_result"
    }
   ],
   "source": [
    "df.head()"
   ]
  },
  {
   "cell_type": "code",
   "execution_count": 200,
   "metadata": {},
   "outputs": [
    {
     "data": {
      "text/html": [
       "<div>\n",
       "<style scoped>\n",
       "    .dataframe tbody tr th:only-of-type {\n",
       "        vertical-align: middle;\n",
       "    }\n",
       "\n",
       "    .dataframe tbody tr th {\n",
       "        vertical-align: top;\n",
       "    }\n",
       "\n",
       "    .dataframe thead th {\n",
       "        text-align: right;\n",
       "    }\n",
       "</style>\n",
       "<table border=\"1\" class=\"dataframe\">\n",
       "  <thead>\n",
       "    <tr style=\"text-align: right;\">\n",
       "      <th></th>\n",
       "      <th>startYear</th>\n",
       "      <th>runtimeMinutes</th>\n",
       "      <th>awardWins</th>\n",
       "      <th>numVotes</th>\n",
       "      <th>totalImages</th>\n",
       "      <th>totalVideos</th>\n",
       "      <th>totalCredits</th>\n",
       "      <th>AwNmExWins</th>\n",
       "      <th>numRegions</th>\n",
       "      <th>ratingMean</th>\n",
       "      <th>ReviewsTotal</th>\n",
       "    </tr>\n",
       "  </thead>\n",
       "  <tbody>\n",
       "    <tr>\n",
       "      <th>count</th>\n",
       "      <td>15925.000000</td>\n",
       "      <td>15925.000000</td>\n",
       "      <td>15925.000000</td>\n",
       "      <td>15925.000000</td>\n",
       "      <td>15925.000000</td>\n",
       "      <td>15925.000000</td>\n",
       "      <td>15925.000000</td>\n",
       "      <td>15925.000000</td>\n",
       "      <td>15925.000000</td>\n",
       "      <td>15925.000000</td>\n",
       "      <td>15925.000000</td>\n",
       "    </tr>\n",
       "    <tr>\n",
       "      <th>mean</th>\n",
       "      <td>1992.215636</td>\n",
       "      <td>59.348069</td>\n",
       "      <td>0.410235</td>\n",
       "      <td>1413.813375</td>\n",
       "      <td>11.254066</td>\n",
       "      <td>0.261852</td>\n",
       "      <td>59.784364</td>\n",
       "      <td>0.547441</td>\n",
       "      <td>3.595290</td>\n",
       "      <td>6.672245</td>\n",
       "      <td>9.678493</td>\n",
       "    </tr>\n",
       "    <tr>\n",
       "      <th>std</th>\n",
       "      <td>25.923192</td>\n",
       "      <td>39.015371</td>\n",
       "      <td>2.593600</td>\n",
       "      <td>18146.149450</td>\n",
       "      <td>67.679200</td>\n",
       "      <td>2.970572</td>\n",
       "      <td>95.401646</td>\n",
       "      <td>3.565226</td>\n",
       "      <td>5.886415</td>\n",
       "      <td>1.377651</td>\n",
       "      <td>59.385049</td>\n",
       "    </tr>\n",
       "    <tr>\n",
       "      <th>min</th>\n",
       "      <td>1878.000000</td>\n",
       "      <td>0.000000</td>\n",
       "      <td>0.000000</td>\n",
       "      <td>5.000000</td>\n",
       "      <td>0.000000</td>\n",
       "      <td>0.000000</td>\n",
       "      <td>1.000000</td>\n",
       "      <td>0.000000</td>\n",
       "      <td>1.000000</td>\n",
       "      <td>0.500000</td>\n",
       "      <td>0.000000</td>\n",
       "    </tr>\n",
       "    <tr>\n",
       "      <th>25%</th>\n",
       "      <td>1978.000000</td>\n",
       "      <td>29.000000</td>\n",
       "      <td>0.000000</td>\n",
       "      <td>15.000000</td>\n",
       "      <td>1.000000</td>\n",
       "      <td>0.000000</td>\n",
       "      <td>17.000000</td>\n",
       "      <td>0.000000</td>\n",
       "      <td>1.000000</td>\n",
       "      <td>5.500000</td>\n",
       "      <td>0.000000</td>\n",
       "    </tr>\n",
       "    <tr>\n",
       "      <th>50%</th>\n",
       "      <td>1997.000000</td>\n",
       "      <td>53.000000</td>\n",
       "      <td>0.000000</td>\n",
       "      <td>38.000000</td>\n",
       "      <td>2.000000</td>\n",
       "      <td>0.000000</td>\n",
       "      <td>35.000000</td>\n",
       "      <td>0.000000</td>\n",
       "      <td>1.000000</td>\n",
       "      <td>6.500000</td>\n",
       "      <td>1.000000</td>\n",
       "    </tr>\n",
       "    <tr>\n",
       "      <th>75%</th>\n",
       "      <td>2013.000000</td>\n",
       "      <td>90.000000</td>\n",
       "      <td>0.000000</td>\n",
       "      <td>156.000000</td>\n",
       "      <td>6.000000</td>\n",
       "      <td>0.000000</td>\n",
       "      <td>66.000000</td>\n",
       "      <td>0.000000</td>\n",
       "      <td>4.000000</td>\n",
       "      <td>7.500000</td>\n",
       "      <td>3.000000</td>\n",
       "    </tr>\n",
       "    <tr>\n",
       "      <th>max</th>\n",
       "      <td>2024.000000</td>\n",
       "      <td>570.000000</td>\n",
       "      <td>145.000000</td>\n",
       "      <td>825934.000000</td>\n",
       "      <td>3504.000000</td>\n",
       "      <td>258.000000</td>\n",
       "      <td>1885.000000</td>\n",
       "      <td>124.000000</td>\n",
       "      <td>69.000000</td>\n",
       "      <td>9.500000</td>\n",
       "      <td>1772.000000</td>\n",
       "    </tr>\n",
       "  </tbody>\n",
       "</table>\n",
       "</div>"
      ],
      "text/plain": [
       "          startYear  runtimeMinutes     awardWins       numVotes  \\\n",
       "count  15925.000000    15925.000000  15925.000000   15925.000000   \n",
       "mean    1992.215636       59.348069      0.410235    1413.813375   \n",
       "std       25.923192       39.015371      2.593600   18146.149450   \n",
       "min     1878.000000        0.000000      0.000000       5.000000   \n",
       "25%     1978.000000       29.000000      0.000000      15.000000   \n",
       "50%     1997.000000       53.000000      0.000000      38.000000   \n",
       "75%     2013.000000       90.000000      0.000000     156.000000   \n",
       "max     2024.000000      570.000000    145.000000  825934.000000   \n",
       "\n",
       "        totalImages   totalVideos  totalCredits    AwNmExWins    numRegions  \\\n",
       "count  15925.000000  15925.000000  15925.000000  15925.000000  15925.000000   \n",
       "mean      11.254066      0.261852     59.784364      0.547441      3.595290   \n",
       "std       67.679200      2.970572     95.401646      3.565226      5.886415   \n",
       "min        0.000000      0.000000      1.000000      0.000000      1.000000   \n",
       "25%        1.000000      0.000000     17.000000      0.000000      1.000000   \n",
       "50%        2.000000      0.000000     35.000000      0.000000      1.000000   \n",
       "75%        6.000000      0.000000     66.000000      0.000000      4.000000   \n",
       "max     3504.000000    258.000000   1885.000000    124.000000     69.000000   \n",
       "\n",
       "         ratingMean  ReviewsTotal  \n",
       "count  15925.000000  15925.000000  \n",
       "mean       6.672245      9.678493  \n",
       "std        1.377651     59.385049  \n",
       "min        0.500000      0.000000  \n",
       "25%        5.500000      0.000000  \n",
       "50%        6.500000      1.000000  \n",
       "75%        7.500000      3.000000  \n",
       "max        9.500000   1772.000000  "
      ]
     },
     "execution_count": 200,
     "metadata": {},
     "output_type": "execute_result"
    }
   ],
   "source": [
    "df.describe()"
   ]
  },
  {
   "cell_type": "code",
   "execution_count": null,
   "metadata": {},
   "outputs": [],
   "source": [
    "columns = df.columns"
   ]
  },
  {
   "cell_type": "code",
   "execution_count": null,
   "metadata": {},
   "outputs": [],
   "source": [
    "#NORMALIZZAZIONE MINMAX O ZSCORE, COMMMENTARE UNA DELLE DUE RIGHE IN BASE AL TIPO DI NORMALIZZAZIONE CHE SI VUOLE UTILIZZARE\n",
    "#PER I NOSTRI DATI è MEGLIO MIN/MAX, Z-SCORE FA CAGARE PERCHÉ I DATI NON SONO DISTRIBUITI NORMALMENTE (SCRIVERLO NEL REPORT)\n",
    "\n",
    "scaler = MinMaxScaler()\n",
    "#scaler = StandardScaler()\n",
    "train_data = scaler.fit_transform(df)\n",
    "train_data_df = pd.DataFrame(train_data, columns=columns)\n",
    "train_data_df.describe()"
   ]
  },
  {
   "cell_type": "code",
   "execution_count": null,
   "metadata": {},
   "outputs": [],
   "source": [
    "%%time\n",
    "sse_list = []\n",
    "sil_list = []\n",
    "k_values = range(2, 21)\n",
    "\n",
    "for k in k_values:\n",
    "    kmeans = KMeans(init='k-means++', n_clusters=k, n_init=10, max_iter=100)\n",
    "    kmeans.fit(train_data)\n",
    "    sse_list.append(kmeans.inertia_)\n",
    "    sil_list.append(silhouette_score(train_data, kmeans.labels_))\n",
    "\n",
    "kn = KneeLocator(k_values, sse_list, curve='convex', direction='decreasing')\n",
    "elbow_k = kn.elbow\n",
    "print(\"Numero ottimale di cluster (k) secondo il metodo del gomito:\", elbow_k)"
   ]
  },
  {
   "cell_type": "code",
   "execution_count": null,
   "metadata": {},
   "outputs": [],
   "source": [
    "\n",
    "\n",
    "# Crea la figura con due sottotrame (subplots)\n",
    "fig = make_subplots(rows=1, cols=2)\n",
    "\n",
    "# Grafico SSE vs k\n",
    "fig.add_trace(\n",
    "    go.Scatter(x = [x + 2 for x in range(len(sse_list))], y=sse_list, line=dict(color='#FFA500'), mode='lines+markers', name=\"SSE\"),\n",
    "    row=1, col=1\n",
    ")\n",
    "fig.update_xaxes(title_text=\"k\", row=1, col=1)\n",
    "fig.update_yaxes(title_text=\"SSE\", row=1, col=1)\n",
    "\n",
    "# Grafico Silhouette Score vs k\n",
    "fig.add_trace(\n",
    "    go.Scatter(x = [x + 2 for x in range(len(sil_list))], y=sil_list, line=dict(color='black'), mode='lines+markers', name=\"Silhouette\"),\n",
    "    row=1, col=2\n",
    ")\n",
    "fig.update_xaxes(title_text=\"k\", row=1, col=2)\n",
    "fig.update_yaxes(title_text=\"Silhouette Score\", row=1, col=2)\n",
    "\n",
    "# Layout generale della figura\n",
    "fig.update_layout(title_text=\"OD: SSE and Silhouette Score\",\n",
    "                  showlegend=False, title_x=0.5,font=dict(\n",
    "        family=\"Arial\",  # Font family\n",
    "        size=20,         # Font size for all text elements\n",
    "        color=\"Black\"\n",
    "                      ))    # Font color for all text elements)\n",
    "\n",
    "# Mostra il grafico\n",
    "fig.show()"
   ]
  },
  {
   "cell_type": "code",
   "execution_count": null,
   "metadata": {},
   "outputs": [],
   "source": [
    "kmeans = KMeans(init='k-means++', n_clusters=8, n_init=1000, max_iter=100)\n",
    "kmeans.fit(train_data)"
   ]
  },
  {
   "cell_type": "code",
   "execution_count": null,
   "metadata": {},
   "outputs": [],
   "source": [
    "print('centroids', kmeans.cluster_centers_)\n",
    "print('labels', np.unique(kmeans.labels_, return_counts=True))\n",
    "print('sse', kmeans.inertia_)\n",
    "print('silhouette', silhouette_score(train_data, kmeans.labels_))"
   ]
  },
  {
   "cell_type": "code",
   "execution_count": null,
   "metadata": {},
   "outputs": [],
   "source": [
    "'''\n",
    "df['kmeans_labels'] = kmeans.labels_\n",
    "df['kmeans_labels'] = df['kmeans_labels'].map({0:\"A\", 1: \"B\", 2: \"C\"})\n",
    "\n",
    "sns.scatterplot(data=df, \n",
    "                x=\"startYear\", \n",
    "                y=\"ratingCount\", \n",
    "                hue='kmeans_labels', \n",
    "                style='kmeans_labels',\n",
    "                palette=\"bright\", \n",
    "                hue_order=[\"A\", \"B\", \"C\"]\n",
    "               )\n",
    "plt.legend()\n",
    "plt.scatter(centers[:,0], centers[:,2], c='red', marker='*', s=200)\n",
    "plt.show()\n",
    "'''"
   ]
  },
  {
   "cell_type": "code",
   "execution_count": null,
   "metadata": {},
   "outputs": [],
   "source": [
    "n_points = train_data.shape[0]\n",
    "#generate distance matrix\n",
    "distance_matrix = squareform(pdist(train_data, metric='euclidean')) \n",
    "\n",
    "#Otteniamo le etichette di cluster dal modello k-means\n",
    "labels = kmeans.labels_\n",
    "\n",
    "#generate ideal similarity matrix\n",
    "similarity_matrix = np.equal.outer(labels, labels).astype(int)\n",
    "\n",
    "\n",
    "# Convertiamo la matrice delle distanze in una matrice di similarità\n",
    "# (simply similarity_matrix = max_distance - distance_matrix)\n",
    "max_distance = np.max(distance_matrix)\n",
    "similarity_from_distance = distance_matrix - max_distance \n",
    "\n",
    "'''\n",
    "# Rendi entrambe le matrici 1D per il calcolo della correlazione\n",
    "similarity_from_distance_flat = similarity_from_distance.flatten()\n",
    "similarity_matrix_flat = similarity_matrix.flatten()\n",
    "\n",
    "# Calcola la correlazione di Pearson\n",
    "correlation, _ = pearsonr(similarity_from_distance_flat, similarity_matrix_flat)\n",
    "\n",
    "print(\"Correlation between distance and ideal similarity matrices:\", correlation)\n",
    "'''\n",
    "# Selezioniamo solo la parte inferiore della matrice, inclusa la diagonale\n",
    "lower_triangle_indices = np.tril_indices(n_points)\n",
    "\n",
    "# Appiattiamo solo la parte inferiore della matrice\n",
    "similarity_from_distance_flat = similarity_from_distance[lower_triangle_indices]\n",
    "similarity_matrix_flat = similarity_matrix[lower_triangle_indices]\n",
    "\n",
    "# Calcolare la correlazione di Pearson tra i vettori appiattiti\n",
    "correlation, _ = pearsonr(similarity_from_distance_flat, similarity_matrix_flat)\n",
    "\n",
    "print(\"Correlation between distance and ideal similarity matrices:\", correlation)"
   ]
  },
  {
   "cell_type": "code",
   "execution_count": null,
   "metadata": {},
   "outputs": [],
   "source": [
    "import plotly.graph_objects as go\n",
    "\n",
    "# Crea una figura vuota\n",
    "fig = go.Figure()\n",
    "\n",
    "# Aggiungi una linea per ogni centroide del cluster\n",
    "for i, center in enumerate(kmeans.cluster_centers_):\n",
    "    fig.add_trace(go.Scatter(\n",
    "        x=list(df.columns),\n",
    "        y=center,\n",
    "        mode='lines+markers',\n",
    "        name=f'Cluster {i}',\n",
    "        line=dict(width=3)\n",
    "    ))\n",
    "\n",
    "# Imposta il titolo e le etichette\n",
    "fig.update_layout(\n",
    "    title=\"Centroid values for each feature across clusters\",\n",
    "    xaxis_title=\"Features\",\n",
    "    yaxis_title=\"Centroid values\",\n",
    "    legend=dict(x=1, y=1),\n",
    "    width=800, height=400\n",
    ")\n",
    "\n",
    "# Aggiungi la griglia all'asse y\n",
    "fig.update_yaxes(showgrid=True)\n",
    "fig.update_layout(title_x=0.5)\n",
    "\n",
    "# Mostra il grafico\n",
    "fig.show()\n"
   ]
  },
  {
   "cell_type": "markdown",
   "metadata": {},
   "source": [
    "Guardando questo grafico si possono elimare le variabili dove i gruppi sono simili tra loro"
   ]
  },
  {
   "cell_type": "markdown",
   "metadata": {},
   "source": [
    "PROVA CONFRONTO DATI RANDOMIZZATI"
   ]
  },
  {
   "cell_type": "code",
   "execution_count": null,
   "metadata": {},
   "outputs": [],
   "source": [
    "def randomize_data(train_data):\n",
    "    \"\"\"Randomizza l'ordine delle righe del dataset\"\"\"\n",
    "    return np.random.permutation(train_data)\n",
    "\n",
    "# Calcola il clustering per i dati randomizzati\n",
    "def kmeans_on_random_data(train_data, k):\n",
    "    X_randomized = randomize_data(train_data)\n",
    "    kmeans_random = KMeans(n_clusters=k, random_state=42)\n",
    "    kmeans_random.fit(X_randomized)\n",
    "    sse_random = kmeans_random.inertia_\n",
    "    silhouette_random = silhouette_score(X_randomized, kmeans_random.labels_)\n",
    "    return sse_random, silhouette_random"
   ]
  },
  {
   "cell_type": "code",
   "execution_count": null,
   "metadata": {},
   "outputs": [],
   "source": [
    "n_permutations = 100  # Numero di permutazioni per SSE\n",
    "sse_random_results = []\n",
    "silhouette_random_results = []\n",
    "\n",
    "for _ in range(n_permutations):\n",
    "    sse_random, silhouette_random = kmeans_on_random_data(train_data, k)\n",
    "    sse_random_results.append(sse_random)\n",
    "    silhouette_random_results.append(silhouette_random)"
   ]
  },
  {
   "cell_type": "code",
   "execution_count": null,
   "metadata": {},
   "outputs": [],
   "source": [
    "from statistics import mean\n",
    "\n",
    "mean_sse_random = mean(sse_random_results)\n",
    "mean_silhouette_random = mean(silhouette_random_results)\n",
    "\n",
    "print(mean_sse_random)\n",
    "print(mean_silhouette_random)"
   ]
  },
  {
   "cell_type": "code",
   "execution_count": null,
   "metadata": {},
   "outputs": [],
   "source": [
    "sse_real = kmeans.inertia_\n",
    "silhouette_real = silhouette_score(train_data, kmeans.labels_)\n",
    "# Visualizza i risultati di SSE per i dati reali e randomizzati\n",
    "plt.figure(figsize=(10, 10))\n",
    "\n",
    "# Plotta gli histogrammi per SSE\n",
    "plt.subplot(2, 1, 1)\n",
    "sns.histplot(sse_random_results, kde=True, label='Randomized SSE', color='blue', bins=10)\n",
    "plt.axvline(x=sse_real, color='red', linestyle='--', label='Real SSE')\n",
    "plt.legend()\n",
    "plt.xlabel('SSE',fontsize=13)\n",
    "plt.ylabel('Density',fontsize=13)\n",
    "plt.title('SSE Comparison',fontsize=13)\n",
    "\n",
    "# Plotta gli histogrammi per Silhouette\n",
    "plt.subplot(2, 1, 2)\n",
    "sns.histplot(silhouette_random_results, kde=True, label='Randomized Silhouette', color='blue', bins=30)\n",
    "plt.axvline(x=silhouette_real, color='red', linestyle='--', label='Real Silhouette')\n",
    "plt.legend()\n",
    "plt.xlabel('Silhouette Score',fontsize=13)\n",
    "plt.ylabel('Density',fontsize=13)\n",
    "plt.title('Silhouette Score Comparison',fontsize=13)\n",
    "\n",
    "plt.tight_layout()\n",
    "plt.show()"
   ]
  },
  {
   "cell_type": "markdown",
   "metadata": {},
   "source": [
    "FILE TRAIN_CLEANED_V1\n",
    "  \n",
    "SCELTO K=5  \n",
    "CORRELAZIONE -0.49  \n",
    "SSE 460  \n",
    "SILHOUETTE SCORE 0.3\n",
    "\n",
    "-------------   \n",
    "FILE TRAIN_CLEANED_V2  \n",
    "  \n",
    "K=7  \n",
    "CORRELAIONE -0.39  \n",
    "SSE 1588  \n",
    "SILHOUETTE SCORE 0.16  \n",
    "\n",
    "-------  \n",
    "\n",
    "SELEZIONATE VARIABILI NUMVOTES, NUMREG TOTALIMAG E REVIEWSTOTAL  (da file v.2)  \n",
    "k=5  \n",
    "CORRELAZIONE -0.53  \n",
    "sse 304  \n",
    "silhouette 0.38  "
   ]
  },
  {
   "cell_type": "markdown",
   "metadata": {},
   "source": [
    "#### CUT DATASET "
   ]
  },
  {
   "cell_type": "code",
   "execution_count": 201,
   "metadata": {},
   "outputs": [],
   "source": [
    "df_cut = df[['numVotes', 'numRegions', 'ReviewsTotal']]"
   ]
  },
  {
   "cell_type": "code",
   "execution_count": 202,
   "metadata": {},
   "outputs": [
    {
     "data": {
      "text/html": [
       "<div>\n",
       "<style scoped>\n",
       "    .dataframe tbody tr th:only-of-type {\n",
       "        vertical-align: middle;\n",
       "    }\n",
       "\n",
       "    .dataframe tbody tr th {\n",
       "        vertical-align: top;\n",
       "    }\n",
       "\n",
       "    .dataframe thead th {\n",
       "        text-align: right;\n",
       "    }\n",
       "</style>\n",
       "<table border=\"1\" class=\"dataframe\">\n",
       "  <thead>\n",
       "    <tr style=\"text-align: right;\">\n",
       "      <th></th>\n",
       "      <th>numVotes</th>\n",
       "      <th>numRegions</th>\n",
       "      <th>ReviewsTotal</th>\n",
       "    </tr>\n",
       "  </thead>\n",
       "  <tbody>\n",
       "    <tr>\n",
       "      <th>0</th>\n",
       "      <td>779</td>\n",
       "      <td>1</td>\n",
       "      <td>1</td>\n",
       "    </tr>\n",
       "    <tr>\n",
       "      <th>1</th>\n",
       "      <td>11</td>\n",
       "      <td>1</td>\n",
       "      <td>0</td>\n",
       "    </tr>\n",
       "    <tr>\n",
       "      <th>2</th>\n",
       "      <td>38</td>\n",
       "      <td>1</td>\n",
       "      <td>1</td>\n",
       "    </tr>\n",
       "    <tr>\n",
       "      <th>3</th>\n",
       "      <td>15</td>\n",
       "      <td>1</td>\n",
       "      <td>0</td>\n",
       "    </tr>\n",
       "    <tr>\n",
       "      <th>4</th>\n",
       "      <td>15718</td>\n",
       "      <td>32</td>\n",
       "      <td>456</td>\n",
       "    </tr>\n",
       "  </tbody>\n",
       "</table>\n",
       "</div>"
      ],
      "text/plain": [
       "   numVotes  numRegions  ReviewsTotal\n",
       "0       779           1             1\n",
       "1        11           1             0\n",
       "2        38           1             1\n",
       "3        15           1             0\n",
       "4     15718          32           456"
      ]
     },
     "execution_count": 202,
     "metadata": {},
     "output_type": "execute_result"
    }
   ],
   "source": [
    "df_cut.head()"
   ]
  },
  {
   "cell_type": "code",
   "execution_count": 203,
   "metadata": {},
   "outputs": [
    {
     "data": {
      "text/html": [
       "<div>\n",
       "<style scoped>\n",
       "    .dataframe tbody tr th:only-of-type {\n",
       "        vertical-align: middle;\n",
       "    }\n",
       "\n",
       "    .dataframe tbody tr th {\n",
       "        vertical-align: top;\n",
       "    }\n",
       "\n",
       "    .dataframe thead th {\n",
       "        text-align: right;\n",
       "    }\n",
       "</style>\n",
       "<table border=\"1\" class=\"dataframe\">\n",
       "  <thead>\n",
       "    <tr style=\"text-align: right;\">\n",
       "      <th></th>\n",
       "      <th>numVotes</th>\n",
       "      <th>numRegions</th>\n",
       "      <th>ReviewsTotal</th>\n",
       "    </tr>\n",
       "  </thead>\n",
       "  <tbody>\n",
       "    <tr>\n",
       "      <th>count</th>\n",
       "      <td>15925.000000</td>\n",
       "      <td>15925.000000</td>\n",
       "      <td>15925.000000</td>\n",
       "    </tr>\n",
       "    <tr>\n",
       "      <th>mean</th>\n",
       "      <td>0.001706</td>\n",
       "      <td>0.038166</td>\n",
       "      <td>0.005462</td>\n",
       "    </tr>\n",
       "    <tr>\n",
       "      <th>std</th>\n",
       "      <td>0.021971</td>\n",
       "      <td>0.086565</td>\n",
       "      <td>0.033513</td>\n",
       "    </tr>\n",
       "    <tr>\n",
       "      <th>min</th>\n",
       "      <td>0.000000</td>\n",
       "      <td>0.000000</td>\n",
       "      <td>0.000000</td>\n",
       "    </tr>\n",
       "    <tr>\n",
       "      <th>25%</th>\n",
       "      <td>0.000012</td>\n",
       "      <td>0.000000</td>\n",
       "      <td>0.000000</td>\n",
       "    </tr>\n",
       "    <tr>\n",
       "      <th>50%</th>\n",
       "      <td>0.000040</td>\n",
       "      <td>0.000000</td>\n",
       "      <td>0.000564</td>\n",
       "    </tr>\n",
       "    <tr>\n",
       "      <th>75%</th>\n",
       "      <td>0.000183</td>\n",
       "      <td>0.044118</td>\n",
       "      <td>0.001693</td>\n",
       "    </tr>\n",
       "    <tr>\n",
       "      <th>max</th>\n",
       "      <td>1.000000</td>\n",
       "      <td>1.000000</td>\n",
       "      <td>1.000000</td>\n",
       "    </tr>\n",
       "  </tbody>\n",
       "</table>\n",
       "</div>"
      ],
      "text/plain": [
       "           numVotes    numRegions  ReviewsTotal\n",
       "count  15925.000000  15925.000000  15925.000000\n",
       "mean       0.001706      0.038166      0.005462\n",
       "std        0.021971      0.086565      0.033513\n",
       "min        0.000000      0.000000      0.000000\n",
       "25%        0.000012      0.000000      0.000000\n",
       "50%        0.000040      0.000000      0.000564\n",
       "75%        0.000183      0.044118      0.001693\n",
       "max        1.000000      1.000000      1.000000"
      ]
     },
     "execution_count": 203,
     "metadata": {},
     "output_type": "execute_result"
    }
   ],
   "source": [
    "columns = df_cut.columns\n",
    "\n",
    "scaler = MinMaxScaler()\n",
    "train_data = scaler.fit_transform(df_cut)\n",
    "train_data_df = pd.DataFrame(train_data, columns=columns)\n",
    "train_data_df.describe()"
   ]
  },
  {
   "cell_type": "code",
   "execution_count": 206,
   "metadata": {},
   "outputs": [
    {
     "name": "stdout",
     "output_type": "stream",
     "text": [
      "Numero ottimale di cluster (k) secondo il metodo del gomito: 6\n",
      "CPU times: total: 2min 49s\n",
      "Wall time: 1min 37s\n"
     ]
    }
   ],
   "source": [
    "%%time\n",
    "sse_list = []\n",
    "sil_list = []\n",
    "k_values = range(2, 21)\n",
    "\n",
    "for k in k_values:\n",
    "    kmeans = KMeans(init='k-means++', n_clusters=k, n_init=10, max_iter=100)\n",
    "    kmeans.fit(train_data)\n",
    "    sse_list.append(kmeans.inertia_)\n",
    "    sil_list.append(silhouette_score(train_data, kmeans.labels_))\n",
    "\n",
    "kn = KneeLocator(k_values, sse_list, curve='convex', direction='decreasing')\n",
    "elbow_k = kn.elbow\n",
    "print(\"Numero ottimale di cluster (k) secondo il metodo del gomito:\", elbow_k)"
   ]
  },
  {
   "cell_type": "code",
   "execution_count": 207,
   "metadata": {},
   "outputs": [
    {
     "data": {
      "application/vnd.plotly.v1+json": {
       "config": {
        "plotlyServerURL": "https://plot.ly"
       },
       "data": [
        {
         "line": {
          "color": "#FFA500"
         },
         "mode": "lines+markers",
         "name": "SSE",
         "type": "scatter",
         "x": [
          2,
          3,
          4,
          5,
          6,
          7,
          8,
          9,
          10,
          11,
          12,
          13,
          14,
          15,
          16,
          17,
          18,
          19,
          20
         ],
         "xaxis": "x",
         "y": [
          59.7050138962595,
          36.417700839010124,
          21.369628624894325,
          14.800996092887925,
          11.100860980591253,
          8.859898585842641,
          7.394407139347368,
          6.381428328192663,
          5.67707874485948,
          5.147038906940514,
          4.763826175402182,
          4.5137381030908195,
          4.080861941960442,
          3.7506649055554457,
          3.480210138546065,
          3.222628192941025,
          3.1247430867517503,
          2.9236735865189503,
          2.7760938054497855
         ],
         "yaxis": "y"
        },
        {
         "line": {
          "color": "black"
         },
         "mode": "lines+markers",
         "name": "Silhouette",
         "type": "scatter",
         "x": [
          2,
          3,
          4,
          5,
          6,
          7,
          8,
          9,
          10,
          11,
          12,
          13,
          14,
          15,
          16,
          17,
          18,
          19,
          20
         ],
         "xaxis": "x2",
         "y": [
          0.8590220356497635,
          0.8212891626743811,
          0.7819515276437328,
          0.7777912090743656,
          0.7706827831112376,
          0.770723620895281,
          0.7499719230792569,
          0.7493227588557824,
          0.7503247290513634,
          0.750683851566879,
          0.7567676232064421,
          0.7633150758575533,
          0.7633671063595903,
          0.7606008121131818,
          0.7615365837722744,
          0.7633237406598621,
          0.7650832219340178,
          0.7896176589227392,
          0.789591789126977
         ],
         "yaxis": "y2"
        }
       ],
       "layout": {
        "font": {
         "color": "Black",
         "family": "Arial",
         "size": 20
        },
        "showlegend": false,
        "template": {
         "data": {
          "bar": [
           {
            "error_x": {
             "color": "#2a3f5f"
            },
            "error_y": {
             "color": "#2a3f5f"
            },
            "marker": {
             "line": {
              "color": "#E5ECF6",
              "width": 0.5
             },
             "pattern": {
              "fillmode": "overlay",
              "size": 10,
              "solidity": 0.2
             }
            },
            "type": "bar"
           }
          ],
          "barpolar": [
           {
            "marker": {
             "line": {
              "color": "#E5ECF6",
              "width": 0.5
             },
             "pattern": {
              "fillmode": "overlay",
              "size": 10,
              "solidity": 0.2
             }
            },
            "type": "barpolar"
           }
          ],
          "carpet": [
           {
            "aaxis": {
             "endlinecolor": "#2a3f5f",
             "gridcolor": "white",
             "linecolor": "white",
             "minorgridcolor": "white",
             "startlinecolor": "#2a3f5f"
            },
            "baxis": {
             "endlinecolor": "#2a3f5f",
             "gridcolor": "white",
             "linecolor": "white",
             "minorgridcolor": "white",
             "startlinecolor": "#2a3f5f"
            },
            "type": "carpet"
           }
          ],
          "choropleth": [
           {
            "colorbar": {
             "outlinewidth": 0,
             "ticks": ""
            },
            "type": "choropleth"
           }
          ],
          "contour": [
           {
            "colorbar": {
             "outlinewidth": 0,
             "ticks": ""
            },
            "colorscale": [
             [
              0,
              "#0d0887"
             ],
             [
              0.1111111111111111,
              "#46039f"
             ],
             [
              0.2222222222222222,
              "#7201a8"
             ],
             [
              0.3333333333333333,
              "#9c179e"
             ],
             [
              0.4444444444444444,
              "#bd3786"
             ],
             [
              0.5555555555555556,
              "#d8576b"
             ],
             [
              0.6666666666666666,
              "#ed7953"
             ],
             [
              0.7777777777777778,
              "#fb9f3a"
             ],
             [
              0.8888888888888888,
              "#fdca26"
             ],
             [
              1,
              "#f0f921"
             ]
            ],
            "type": "contour"
           }
          ],
          "contourcarpet": [
           {
            "colorbar": {
             "outlinewidth": 0,
             "ticks": ""
            },
            "type": "contourcarpet"
           }
          ],
          "heatmap": [
           {
            "colorbar": {
             "outlinewidth": 0,
             "ticks": ""
            },
            "colorscale": [
             [
              0,
              "#0d0887"
             ],
             [
              0.1111111111111111,
              "#46039f"
             ],
             [
              0.2222222222222222,
              "#7201a8"
             ],
             [
              0.3333333333333333,
              "#9c179e"
             ],
             [
              0.4444444444444444,
              "#bd3786"
             ],
             [
              0.5555555555555556,
              "#d8576b"
             ],
             [
              0.6666666666666666,
              "#ed7953"
             ],
             [
              0.7777777777777778,
              "#fb9f3a"
             ],
             [
              0.8888888888888888,
              "#fdca26"
             ],
             [
              1,
              "#f0f921"
             ]
            ],
            "type": "heatmap"
           }
          ],
          "heatmapgl": [
           {
            "colorbar": {
             "outlinewidth": 0,
             "ticks": ""
            },
            "colorscale": [
             [
              0,
              "#0d0887"
             ],
             [
              0.1111111111111111,
              "#46039f"
             ],
             [
              0.2222222222222222,
              "#7201a8"
             ],
             [
              0.3333333333333333,
              "#9c179e"
             ],
             [
              0.4444444444444444,
              "#bd3786"
             ],
             [
              0.5555555555555556,
              "#d8576b"
             ],
             [
              0.6666666666666666,
              "#ed7953"
             ],
             [
              0.7777777777777778,
              "#fb9f3a"
             ],
             [
              0.8888888888888888,
              "#fdca26"
             ],
             [
              1,
              "#f0f921"
             ]
            ],
            "type": "heatmapgl"
           }
          ],
          "histogram": [
           {
            "marker": {
             "pattern": {
              "fillmode": "overlay",
              "size": 10,
              "solidity": 0.2
             }
            },
            "type": "histogram"
           }
          ],
          "histogram2d": [
           {
            "colorbar": {
             "outlinewidth": 0,
             "ticks": ""
            },
            "colorscale": [
             [
              0,
              "#0d0887"
             ],
             [
              0.1111111111111111,
              "#46039f"
             ],
             [
              0.2222222222222222,
              "#7201a8"
             ],
             [
              0.3333333333333333,
              "#9c179e"
             ],
             [
              0.4444444444444444,
              "#bd3786"
             ],
             [
              0.5555555555555556,
              "#d8576b"
             ],
             [
              0.6666666666666666,
              "#ed7953"
             ],
             [
              0.7777777777777778,
              "#fb9f3a"
             ],
             [
              0.8888888888888888,
              "#fdca26"
             ],
             [
              1,
              "#f0f921"
             ]
            ],
            "type": "histogram2d"
           }
          ],
          "histogram2dcontour": [
           {
            "colorbar": {
             "outlinewidth": 0,
             "ticks": ""
            },
            "colorscale": [
             [
              0,
              "#0d0887"
             ],
             [
              0.1111111111111111,
              "#46039f"
             ],
             [
              0.2222222222222222,
              "#7201a8"
             ],
             [
              0.3333333333333333,
              "#9c179e"
             ],
             [
              0.4444444444444444,
              "#bd3786"
             ],
             [
              0.5555555555555556,
              "#d8576b"
             ],
             [
              0.6666666666666666,
              "#ed7953"
             ],
             [
              0.7777777777777778,
              "#fb9f3a"
             ],
             [
              0.8888888888888888,
              "#fdca26"
             ],
             [
              1,
              "#f0f921"
             ]
            ],
            "type": "histogram2dcontour"
           }
          ],
          "mesh3d": [
           {
            "colorbar": {
             "outlinewidth": 0,
             "ticks": ""
            },
            "type": "mesh3d"
           }
          ],
          "parcoords": [
           {
            "line": {
             "colorbar": {
              "outlinewidth": 0,
              "ticks": ""
             }
            },
            "type": "parcoords"
           }
          ],
          "pie": [
           {
            "automargin": true,
            "type": "pie"
           }
          ],
          "scatter": [
           {
            "fillpattern": {
             "fillmode": "overlay",
             "size": 10,
             "solidity": 0.2
            },
            "type": "scatter"
           }
          ],
          "scatter3d": [
           {
            "line": {
             "colorbar": {
              "outlinewidth": 0,
              "ticks": ""
             }
            },
            "marker": {
             "colorbar": {
              "outlinewidth": 0,
              "ticks": ""
             }
            },
            "type": "scatter3d"
           }
          ],
          "scattercarpet": [
           {
            "marker": {
             "colorbar": {
              "outlinewidth": 0,
              "ticks": ""
             }
            },
            "type": "scattercarpet"
           }
          ],
          "scattergeo": [
           {
            "marker": {
             "colorbar": {
              "outlinewidth": 0,
              "ticks": ""
             }
            },
            "type": "scattergeo"
           }
          ],
          "scattergl": [
           {
            "marker": {
             "colorbar": {
              "outlinewidth": 0,
              "ticks": ""
             }
            },
            "type": "scattergl"
           }
          ],
          "scattermapbox": [
           {
            "marker": {
             "colorbar": {
              "outlinewidth": 0,
              "ticks": ""
             }
            },
            "type": "scattermapbox"
           }
          ],
          "scatterpolar": [
           {
            "marker": {
             "colorbar": {
              "outlinewidth": 0,
              "ticks": ""
             }
            },
            "type": "scatterpolar"
           }
          ],
          "scatterpolargl": [
           {
            "marker": {
             "colorbar": {
              "outlinewidth": 0,
              "ticks": ""
             }
            },
            "type": "scatterpolargl"
           }
          ],
          "scatterternary": [
           {
            "marker": {
             "colorbar": {
              "outlinewidth": 0,
              "ticks": ""
             }
            },
            "type": "scatterternary"
           }
          ],
          "surface": [
           {
            "colorbar": {
             "outlinewidth": 0,
             "ticks": ""
            },
            "colorscale": [
             [
              0,
              "#0d0887"
             ],
             [
              0.1111111111111111,
              "#46039f"
             ],
             [
              0.2222222222222222,
              "#7201a8"
             ],
             [
              0.3333333333333333,
              "#9c179e"
             ],
             [
              0.4444444444444444,
              "#bd3786"
             ],
             [
              0.5555555555555556,
              "#d8576b"
             ],
             [
              0.6666666666666666,
              "#ed7953"
             ],
             [
              0.7777777777777778,
              "#fb9f3a"
             ],
             [
              0.8888888888888888,
              "#fdca26"
             ],
             [
              1,
              "#f0f921"
             ]
            ],
            "type": "surface"
           }
          ],
          "table": [
           {
            "cells": {
             "fill": {
              "color": "#EBF0F8"
             },
             "line": {
              "color": "white"
             }
            },
            "header": {
             "fill": {
              "color": "#C8D4E3"
             },
             "line": {
              "color": "white"
             }
            },
            "type": "table"
           }
          ]
         },
         "layout": {
          "annotationdefaults": {
           "arrowcolor": "#2a3f5f",
           "arrowhead": 0,
           "arrowwidth": 1
          },
          "autotypenumbers": "strict",
          "coloraxis": {
           "colorbar": {
            "outlinewidth": 0,
            "ticks": ""
           }
          },
          "colorscale": {
           "diverging": [
            [
             0,
             "#8e0152"
            ],
            [
             0.1,
             "#c51b7d"
            ],
            [
             0.2,
             "#de77ae"
            ],
            [
             0.3,
             "#f1b6da"
            ],
            [
             0.4,
             "#fde0ef"
            ],
            [
             0.5,
             "#f7f7f7"
            ],
            [
             0.6,
             "#e6f5d0"
            ],
            [
             0.7,
             "#b8e186"
            ],
            [
             0.8,
             "#7fbc41"
            ],
            [
             0.9,
             "#4d9221"
            ],
            [
             1,
             "#276419"
            ]
           ],
           "sequential": [
            [
             0,
             "#0d0887"
            ],
            [
             0.1111111111111111,
             "#46039f"
            ],
            [
             0.2222222222222222,
             "#7201a8"
            ],
            [
             0.3333333333333333,
             "#9c179e"
            ],
            [
             0.4444444444444444,
             "#bd3786"
            ],
            [
             0.5555555555555556,
             "#d8576b"
            ],
            [
             0.6666666666666666,
             "#ed7953"
            ],
            [
             0.7777777777777778,
             "#fb9f3a"
            ],
            [
             0.8888888888888888,
             "#fdca26"
            ],
            [
             1,
             "#f0f921"
            ]
           ],
           "sequentialminus": [
            [
             0,
             "#0d0887"
            ],
            [
             0.1111111111111111,
             "#46039f"
            ],
            [
             0.2222222222222222,
             "#7201a8"
            ],
            [
             0.3333333333333333,
             "#9c179e"
            ],
            [
             0.4444444444444444,
             "#bd3786"
            ],
            [
             0.5555555555555556,
             "#d8576b"
            ],
            [
             0.6666666666666666,
             "#ed7953"
            ],
            [
             0.7777777777777778,
             "#fb9f3a"
            ],
            [
             0.8888888888888888,
             "#fdca26"
            ],
            [
             1,
             "#f0f921"
            ]
           ]
          },
          "colorway": [
           "#636efa",
           "#EF553B",
           "#00cc96",
           "#ab63fa",
           "#FFA15A",
           "#19d3f3",
           "#FF6692",
           "#B6E880",
           "#FF97FF",
           "#FECB52"
          ],
          "font": {
           "color": "#2a3f5f"
          },
          "geo": {
           "bgcolor": "white",
           "lakecolor": "white",
           "landcolor": "#E5ECF6",
           "showlakes": true,
           "showland": true,
           "subunitcolor": "white"
          },
          "hoverlabel": {
           "align": "left"
          },
          "hovermode": "closest",
          "mapbox": {
           "style": "light"
          },
          "paper_bgcolor": "white",
          "plot_bgcolor": "#E5ECF6",
          "polar": {
           "angularaxis": {
            "gridcolor": "white",
            "linecolor": "white",
            "ticks": ""
           },
           "bgcolor": "#E5ECF6",
           "radialaxis": {
            "gridcolor": "white",
            "linecolor": "white",
            "ticks": ""
           }
          },
          "scene": {
           "xaxis": {
            "backgroundcolor": "#E5ECF6",
            "gridcolor": "white",
            "gridwidth": 2,
            "linecolor": "white",
            "showbackground": true,
            "ticks": "",
            "zerolinecolor": "white"
           },
           "yaxis": {
            "backgroundcolor": "#E5ECF6",
            "gridcolor": "white",
            "gridwidth": 2,
            "linecolor": "white",
            "showbackground": true,
            "ticks": "",
            "zerolinecolor": "white"
           },
           "zaxis": {
            "backgroundcolor": "#E5ECF6",
            "gridcolor": "white",
            "gridwidth": 2,
            "linecolor": "white",
            "showbackground": true,
            "ticks": "",
            "zerolinecolor": "white"
           }
          },
          "shapedefaults": {
           "line": {
            "color": "#2a3f5f"
           }
          },
          "ternary": {
           "aaxis": {
            "gridcolor": "white",
            "linecolor": "white",
            "ticks": ""
           },
           "baxis": {
            "gridcolor": "white",
            "linecolor": "white",
            "ticks": ""
           },
           "bgcolor": "#E5ECF6",
           "caxis": {
            "gridcolor": "white",
            "linecolor": "white",
            "ticks": ""
           }
          },
          "title": {
           "x": 0.05
          },
          "xaxis": {
           "automargin": true,
           "gridcolor": "white",
           "linecolor": "white",
           "ticks": "",
           "title": {
            "standoff": 15
           },
           "zerolinecolor": "white",
           "zerolinewidth": 2
          },
          "yaxis": {
           "automargin": true,
           "gridcolor": "white",
           "linecolor": "white",
           "ticks": "",
           "title": {
            "standoff": 15
           },
           "zerolinecolor": "white",
           "zerolinewidth": 2
          }
         }
        },
        "title": {
         "text": "OD_CUT: SSE and Silhouette Score",
         "x": 0.5
        },
        "xaxis": {
         "anchor": "y",
         "domain": [
          0,
          0.45
         ],
         "title": {
          "text": "k"
         }
        },
        "xaxis2": {
         "anchor": "y2",
         "domain": [
          0.55,
          1
         ],
         "title": {
          "text": "k"
         }
        },
        "yaxis": {
         "anchor": "x",
         "domain": [
          0,
          1
         ],
         "title": {
          "text": "SSE"
         }
        },
        "yaxis2": {
         "anchor": "x2",
         "domain": [
          0,
          1
         ],
         "title": {
          "text": "Silhouette Score"
         }
        }
       }
      }
     },
     "metadata": {},
     "output_type": "display_data"
    }
   ],
   "source": [
    "# Crea la figura con due sottotrame (subplots)\n",
    "fig = make_subplots(rows=1, cols=2)\n",
    "\n",
    "# Grafico SSE vs k\n",
    "fig.add_trace(\n",
    "    go.Scatter(x = [x + 2 for x in range(len(sse_list))], y=sse_list, line=dict(color='#FFA500'), mode='lines+markers', name=\"SSE\"),\n",
    "    row=1, col=1\n",
    ")\n",
    "fig.update_xaxes(title_text=\"k\", row=1, col=1)\n",
    "fig.update_yaxes(title_text=\"SSE\", row=1, col=1)\n",
    "\n",
    "# Grafico Silhouette Score vs k\n",
    "fig.add_trace(\n",
    "    go.Scatter(x = [x + 2 for x in range(len(sil_list))], y=sil_list, line=dict(color='black'), mode='lines+markers', name=\"Silhouette\"),\n",
    "    row=1, col=2\n",
    ")\n",
    "fig.update_xaxes(title_text=\"k\", row=1, col=2)\n",
    "fig.update_yaxes(title_text=\"Silhouette Score\", row=1, col=2)\n",
    "\n",
    "# Layout generale della figura\n",
    "fig.update_layout(title_text=\"OD_CUT: SSE and Silhouette Score\",\n",
    "                  showlegend=False, title_x=0.5,font=dict(\n",
    "        family=\"Arial\",  # Font family\n",
    "        size=20,         # Font size for all text elements\n",
    "        color=\"Black\"\n",
    "                      ))    # Font color for all text elements)\n",
    "\n",
    "# Mostra il grafico\n",
    "fig.show()\n",
    "\n",
    "# Mostra il valore dell'SSE per k=6\n",
    "# print(sse_list[4]) # Corrisponde a k = 6, dato che la lista parte da 0\n"
   ]
  },
  {
   "cell_type": "code",
   "execution_count": null,
   "metadata": {},
   "outputs": [],
   "source": [
    "kmeans = KMeans(init='k-means++', n_clusters=6, n_init=1000, max_iter=100)\n",
    "kmeans.fit(train_data)"
   ]
  },
  {
   "cell_type": "code",
   "execution_count": null,
   "metadata": {},
   "outputs": [],
   "source": [
    "print('centroids', kmeans.cluster_centers_)\n",
    "print('labels', np.unique(kmeans.labels_, return_counts=True))\n",
    "print('sse', kmeans.inertia_)\n",
    "print('silhouette', silhouette_score(train_data, kmeans.labels_))"
   ]
  },
  {
   "cell_type": "code",
   "execution_count": null,
   "metadata": {},
   "outputs": [],
   "source": [
    "import matplotlib.pyplot as plt\n",
    "from mpl_toolkits.mplot3d import Axes3D\n",
    "\n",
    "# Supponiamo che 'df' sia il tuo DataFrame e 'variable_3' sia la terza variabile\n",
    "fig = plt.figure()\n",
    "ax = fig.add_subplot(111, projection='3d')\n",
    "\n",
    "# Crea il grafico 3D\n",
    "scatter = ax.scatter(df_cut['numVotes'], df_cut['numRegions'], df_cut['ReviewsTotal'], \n",
    "                     c=kmeans.labels_, cmap='viridis')\n",
    "\n",
    "# Aggiungi etichette agli assi\n",
    "ax.set_xlabel('NumVotes')\n",
    "ax.set_ylabel('numRegions')\n",
    "ax.set_zlabel('ReviewsTotal')\n",
    "\n",
    "# Aggiungi una legenda\n",
    "legend1 = ax.legend(*scatter.legend_elements(), title=\"Labels\")\n",
    "ax.add_artist(legend1)\n",
    "\n",
    "ax.set_box_aspect([1, 1, 1])\n",
    "ax.set_zlabel('ReviewsTotal', labelpad=0)\n",
    "# Mostra il grafico\n",
    "plt.show()"
   ]
  },
  {
   "cell_type": "code",
   "execution_count": null,
   "metadata": {},
   "outputs": [],
   "source": [
    "n_points = train_data.shape[0]\n",
    "#generate distance matrix\n",
    "distance_matrix = squareform(pdist(train_data, metric='euclidean')) \n",
    "\n",
    "#Otteniamo le etichette di cluster dal modello k-means\n",
    "labels = kmeans.labels_\n",
    "\n",
    "#generate ideal similarity matrix\n",
    "similarity_matrix = np.equal.outer(labels, labels).astype(int)\n",
    "\n",
    "\n",
    "# Convertiamo la matrice delle distanze in una matrice di similarità\n",
    "# (simply similarity_matrix = max_distance - distance_matrix)\n",
    "max_distance = np.max(distance_matrix)\n",
    "similarity_from_distance = distance_matrix - max_distance \n",
    "\n",
    "'''\n",
    "# Rendi entrambe le matrici 1D per il calcolo della correlazione\n",
    "similarity_from_distance_flat = similarity_from_distance.flatten()\n",
    "similarity_matrix_flat = similarity_matrix.flatten()\n",
    "\n",
    "# Calcola la correlazione di Pearson\n",
    "correlation, _ = pearsonr(similarity_from_distance_flat, similarity_matrix_flat)\n",
    "\n",
    "print(\"Correlation between distance and ideal similarity matrices:\", correlation)\n",
    "'''\n",
    "# Selezioniamo solo la parte inferiore della matrice, inclusa la diagonale\n",
    "lower_triangle_indices = np.tril_indices(n_points)\n",
    "\n",
    "# Appiattiamo solo la parte inferiore della matrice\n",
    "similarity_from_distance_flat = similarity_from_distance[lower_triangle_indices]\n",
    "similarity_matrix_flat = similarity_matrix[lower_triangle_indices]\n",
    "\n",
    "# Calcolare la correlazione di Pearson tra i vettori appiattiti\n",
    "correlation, _ = pearsonr(similarity_from_distance_flat, similarity_matrix_flat)\n",
    "\n",
    "print(\"Correlation between distance and ideal similarity matrices:\", correlation)"
   ]
  },
  {
   "cell_type": "code",
   "execution_count": null,
   "metadata": {},
   "outputs": [],
   "source": [
    "import plotly.graph_objects as go\n",
    "\n",
    "# Crea una figura vuota\n",
    "fig = go.Figure()\n",
    "\n",
    "# Aggiungi una linea per ogni centroide del cluster\n",
    "for i, center in enumerate(kmeans.cluster_centers_):\n",
    "    fig.add_trace(go.Scatter(\n",
    "        x=list(df_cut.columns),\n",
    "        y=center,\n",
    "        mode='lines+markers',\n",
    "        name=f'Cluster {i}',\n",
    "        line=dict(width=3)\n",
    "    ))\n",
    "\n",
    "# Imposta il titolo e le etichette\n",
    "fig.update_layout(\n",
    "    title=\"Centroid values for each feature across clusters\",\n",
    "    xaxis_title=\"Features\",\n",
    "    yaxis_title=\"Centroid values\",\n",
    "    legend=dict(x=1, y=1),\n",
    "    width=800, height=400\n",
    ")\n",
    "\n",
    "# Aggiungi la griglia all'asse y\n",
    "fig.update_yaxes(showgrid=True)\n",
    "fig.update_layout(title_x=0.5)\n",
    "\n",
    "# Mostra il grafico\n",
    "fig.show()"
   ]
  },
  {
   "cell_type": "code",
   "execution_count": null,
   "metadata": {},
   "outputs": [],
   "source": [
    "def randomize_data(train_data):\n",
    "    \"\"\"Randomizza l'ordine delle righe del dataset\"\"\"\n",
    "    return np.random.permutation(train_data)\n",
    "\n",
    "# Calcola il clustering per i dati randomizzati\n",
    "def kmeans_on_random_data(train_data, k):\n",
    "    X_randomized = randomize_data(train_data)\n",
    "    kmeans_random = KMeans(n_clusters=k, random_state=42)\n",
    "    kmeans_random.fit(X_randomized)\n",
    "    sse_random = kmeans_random.inertia_\n",
    "    silhouette_random = silhouette_score(X_randomized, kmeans_random.labels_)\n",
    "    return sse_random, silhouette_random"
   ]
  },
  {
   "cell_type": "code",
   "execution_count": null,
   "metadata": {},
   "outputs": [],
   "source": [
    "n_permutations = 100  # Numero di permutazioni per SSE\n",
    "sse_random_results = []\n",
    "silhouette_random_results = []\n",
    "\n",
    "for _ in range(n_permutations):\n",
    "    sse_random, silhouette_random = kmeans_on_random_data(train_data, k)\n",
    "    sse_random_results.append(sse_random)\n",
    "    silhouette_random_results.append(silhouette_random)"
   ]
  },
  {
   "cell_type": "code",
   "execution_count": null,
   "metadata": {},
   "outputs": [],
   "source": [
    "from statistics import mean\n",
    "\n",
    "mean_sse_random = mean(sse_random_results)\n",
    "mean_silhouette_random = mean(silhouette_random_results)\n",
    "\n",
    "print(mean_sse_random)\n",
    "print(mean_silhouette_random)"
   ]
  },
  {
   "cell_type": "code",
   "execution_count": null,
   "metadata": {},
   "outputs": [],
   "source": [
    "sse_real = kmeans.inertia_\n",
    "silhouette_real = silhouette_score(train_data, kmeans.labels_)\n",
    "# Visualizza i risultati di SSE per i dati reali e randomizzati\n",
    "plt.figure(figsize=(10, 10))\n",
    "\n",
    "# Plotta gli histogrammi per SSE\n",
    "plt.subplot(2, 1, 1)\n",
    "sns.histplot(sse_random_results, kde=True, label='Randomized SSE', color='blue', bins=10)\n",
    "plt.axvline(x=sse_real, color='red', linestyle='--', label='Real SSE')\n",
    "plt.legend()\n",
    "plt.xlabel('SSE',fontsize=13)\n",
    "plt.ylabel('Density',fontsize=13)\n",
    "plt.title('SSE Comparison',fontsize=13)\n",
    "\n",
    "# Plotta gli histogrammi per Silhouette\n",
    "plt.subplot(2, 1, 2)\n",
    "sns.histplot(silhouette_random_results, kde=True, label='Randomized Silhouette', color='blue', bins=30)\n",
    "plt.axvline(x=silhouette_real, color='red', linestyle='--', label='Real Silhouette')\n",
    "plt.legend()\n",
    "plt.xlabel('Silhouette Score',fontsize=13)\n",
    "plt.ylabel('Density',fontsize=13)\n",
    "plt.title('Silhouette Score Comparison',fontsize=13)\n",
    "\n",
    "plt.tight_layout()\n",
    "plt.show()"
   ]
  },
  {
   "cell_type": "markdown",
   "metadata": {},
   "source": [
    "# Bisecting K-Means"
   ]
  },
  {
   "cell_type": "code",
   "execution_count": null,
   "metadata": {},
   "outputs": [],
   "source": [
    "from sklearn.cluster import BisectingKMeans"
   ]
  },
  {
   "cell_type": "code",
   "execution_count": null,
   "metadata": {},
   "outputs": [],
   "source": [
    "bkmeans = BisectingKMeans(n_clusters=4)\n",
    "bkmeans.fit(train_data_df)"
   ]
  },
  {
   "cell_type": "code",
   "execution_count": null,
   "metadata": {},
   "outputs": [],
   "source": [
    "sse = bkmeans.inertia_\n",
    "print(\"SSE:\", sse)\n",
    "silhouette_avg = silhouette_score(train_data_df, bkmeans.labels_)\n",
    "print(\"Silhouette coefficient:\", silhouette_avg)"
   ]
  },
  {
   "cell_type": "code",
   "execution_count": null,
   "metadata": {},
   "outputs": [],
   "source": [
    "import plotly.express as px\n",
    "\n",
    "# Crea il grafico a dispersione interattivo\n",
    "fig = px.scatter(\n",
    "    train_data_df, \n",
    "    x=\"numRegions\", \n",
    "    y=\"numVotes\", \n",
    "    color=bkmeans.labels_.astype(str),  # Converti i label a stringa per usarli come categorie\n",
    "    symbol=bkmeans.labels_.astype(str), # Usa simboli diversi per ogni cluster\n",
    "    color_discrete_sequence=px.colors.qualitative.Bold,  # Palette colori \"bright\"\n",
    "    title=\"Cluster Visualization with Plotly\",\n",
    "    labels={'startYear': 'startYear', 'popularityIndex': 'Popularity Index', 'color': 'Cluster'},\n",
    ")\n",
    "\n",
    "# Mostra il grafico\n",
    "fig.show()\n"
   ]
  },
  {
   "cell_type": "markdown",
   "metadata": {},
   "source": [
    "### Silhouette bisecting k-means\n"
   ]
  },
  {
   "cell_type": "code",
   "execution_count": null,
   "metadata": {},
   "outputs": [],
   "source": [
    "from yellowbrick.cluster import SilhouetteVisualizer"
   ]
  },
  {
   "cell_type": "code",
   "execution_count": null,
   "metadata": {},
   "outputs": [],
   "source": [
    "\n",
    "colors=['C0', 'C1', 'C2', 'C3', 'C4', 'C5', 'C6', 'C7', 'C8', 'C9']\n",
    "n_clust = 8\n",
    "fig, axs = plt.subplots(2,n_clust-2, figsize=(15,10))\n",
    "for i in range(2, n_clust):\n",
    "    bkmeans = BisectingKMeans(n_clusters=i)\n",
    "    visualizer = SilhouetteVisualizer(bkmeans, colors=colors, ax=axs[0][i-2])\n",
    "    axs[0][i-2].set_ylabel(\"k=\" + str(i), fontsize=12)\n",
    "    axs[0][i-2].set_xlabel(\"Silhouette Coefficient\", fontsize=12)\n",
    "    visualizer.fit(train_data_df)\n",
    "    sns.scatterplot(data=train_data_df, x=\"numRegions\", y=\"numVotes\", hue=bkmeans.labels_, \n",
    "                    palette=sns.color_palette(colors[:i]), style=bkmeans.labels_, ax=axs[1][i-2])\n",
    "plt.tight_layout()\n",
    "\n"
   ]
  },
  {
   "cell_type": "code",
   "execution_count": null,
   "metadata": {},
   "outputs": [],
   "source": [
    "silhouette_score(train_data_df, bkmeans.labels_)"
   ]
  },
  {
   "cell_type": "markdown",
   "metadata": {},
   "source": [
    "### Analysis by centroid-based methods"
   ]
  },
  {
   "cell_type": "markdown",
   "metadata": {},
   "source": [
    "- K-Means (mandatory), Bisecting K-Means (optional), X-Means (optional);"
   ]
  },
  {
   "cell_type": "markdown",
   "metadata": {},
   "source": [
    "- Choice the attributes, identify the best value of k, discuss the clusters."
   ]
  },
  {
   "cell_type": "markdown",
   "metadata": {},
   "source": [
    "### Analysis by density-based clustering"
   ]
  },
  {
   "cell_type": "markdown",
   "metadata": {},
   "source": [
    "- DBSCAN (mandatory), OPTICS (optional);"
   ]
  },
  {
   "cell_type": "markdown",
   "metadata": {},
   "source": [
    "- Choice the attributes, identify the best parameter configuration, discuss clusters."
   ]
  },
  {
   "cell_type": "markdown",
   "metadata": {},
   "source": [
    "### Analysis by hierarchical clustering"
   ]
  },
  {
   "cell_type": "markdown",
   "metadata": {},
   "source": [
    "- Choice the attributes, the distance function, analyse several dendrograms."
   ]
  },
  {
   "cell_type": "markdown",
   "metadata": {},
   "source": [
    "### Final discussion"
   ]
  },
  {
   "cell_type": "markdown",
   "metadata": {},
   "source": [
    "- Which is the best algorithm? Remember that best is studied w.r.t. several aggregate \n",
    "statistics, cluster distributions and w.r.t. the typology of algorithm used for that \n",
    "particular dataset;\n"
   ]
  }
 ],
 "metadata": {
  "kernelspec": {
   "display_name": "Python 3",
   "language": "python",
   "name": "python3"
  },
  "language_info": {
   "codemirror_mode": {
    "name": "ipython",
    "version": 3
   },
   "file_extension": ".py",
   "mimetype": "text/x-python",
   "name": "python",
   "nbconvert_exporter": "python",
   "pygments_lexer": "ipython3",
   "version": "3.12.7"
  }
 },
 "nbformat": 4,
 "nbformat_minor": 2
}
