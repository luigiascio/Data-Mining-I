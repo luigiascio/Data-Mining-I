{
 "cells": [
  {
   "cell_type": "code",
   "execution_count": 32,
   "metadata": {},
   "outputs": [],
   "source": [
    "from sklearn.datasets import load_wine\n",
    "import numpy as np\n",
    "import matplotlib.pyplot as plt\n",
    "import seaborn as sns\n",
    "import pandas as pd\n",
    "from sklearn.model_selection import train_test_split"
   ]
  },
  {
   "cell_type": "code",
   "execution_count": 33,
   "metadata": {},
   "outputs": [],
   "source": [
    "from sklearn.model_selection import train_test_split"
   ]
  },
  {
   "cell_type": "markdown",
   "metadata": {},
   "source": [
    "### Unione tabelle"
   ]
  },
  {
   "cell_type": "code",
   "execution_count": 44,
   "metadata": {},
   "outputs": [
    {
     "data": {
      "text/html": [
       "<div>\n",
       "<style scoped>\n",
       "    .dataframe tbody tr th:only-of-type {\n",
       "        vertical-align: middle;\n",
       "    }\n",
       "\n",
       "    .dataframe tbody tr th {\n",
       "        vertical-align: top;\n",
       "    }\n",
       "\n",
       "    .dataframe thead th {\n",
       "        text-align: right;\n",
       "    }\n",
       "</style>\n",
       "<table border=\"1\" class=\"dataframe\">\n",
       "  <thead>\n",
       "    <tr style=\"text-align: right;\">\n",
       "      <th></th>\n",
       "      <th>originalTitle</th>\n",
       "      <th>rating</th>\n",
       "      <th>startYear</th>\n",
       "      <th>runtimeMinutes</th>\n",
       "      <th>awardWins</th>\n",
       "      <th>numVotes</th>\n",
       "      <th>totalImages</th>\n",
       "      <th>totalVideos</th>\n",
       "      <th>totalCredits</th>\n",
       "      <th>titleType</th>\n",
       "      <th>AwNmExWins</th>\n",
       "      <th>canHaveEpisodes</th>\n",
       "      <th>isAdult</th>\n",
       "      <th>numRegions</th>\n",
       "      <th>countryOfOrigin</th>\n",
       "      <th>genres</th>\n",
       "      <th>ratingMean</th>\n",
       "      <th>ReviewsTotal</th>\n",
       "      <th>averageRating</th>\n",
       "    </tr>\n",
       "  </thead>\n",
       "  <tbody>\n",
       "    <tr>\n",
       "      <th>0</th>\n",
       "      <td>Geologist of Animal Collective Performs Live a...</td>\n",
       "      <td>(9, 10]</td>\n",
       "      <td>2015</td>\n",
       "      <td>21</td>\n",
       "      <td>0.0</td>\n",
       "      <td>2.772589</td>\n",
       "      <td>2.079442</td>\n",
       "      <td>1.098612</td>\n",
       "      <td>11</td>\n",
       "      <td>video</td>\n",
       "      <td>0.0</td>\n",
       "      <td>False</td>\n",
       "      <td>False</td>\n",
       "      <td>1</td>\n",
       "      <td>['US']</td>\n",
       "      <td>Music,Short</td>\n",
       "      <td>9.5</td>\n",
       "      <td>0.000000</td>\n",
       "      <td>9.6</td>\n",
       "    </tr>\n",
       "    <tr>\n",
       "      <th>1</th>\n",
       "      <td>Shan gou 1999</td>\n",
       "      <td>(4, 5]</td>\n",
       "      <td>1999</td>\n",
       "      <td>93</td>\n",
       "      <td>0.0</td>\n",
       "      <td>5.720312</td>\n",
       "      <td>2.397895</td>\n",
       "      <td>0.000000</td>\n",
       "      <td>40</td>\n",
       "      <td>movie</td>\n",
       "      <td>0.0</td>\n",
       "      <td>False</td>\n",
       "      <td>False</td>\n",
       "      <td>4</td>\n",
       "      <td>['HK']</td>\n",
       "      <td>Horror</td>\n",
       "      <td>4.5</td>\n",
       "      <td>2.890372</td>\n",
       "      <td>4.3</td>\n",
       "    </tr>\n",
       "    <tr>\n",
       "      <th>2</th>\n",
       "      <td>The Craftsman: Preserving the Last Higgins Boat</td>\n",
       "      <td>(8, 9]</td>\n",
       "      <td>2023</td>\n",
       "      <td>113</td>\n",
       "      <td>0.0</td>\n",
       "      <td>2.397895</td>\n",
       "      <td>1.098612</td>\n",
       "      <td>0.000000</td>\n",
       "      <td>6</td>\n",
       "      <td>tvSpecial</td>\n",
       "      <td>0.0</td>\n",
       "      <td>False</td>\n",
       "      <td>False</td>\n",
       "      <td>1</td>\n",
       "      <td>['US']</td>\n",
       "      <td>Reality-TV</td>\n",
       "      <td>8.5</td>\n",
       "      <td>0.000000</td>\n",
       "      <td>8.8</td>\n",
       "    </tr>\n",
       "    <tr>\n",
       "      <th>3</th>\n",
       "      <td>Week 3: Tuesday</td>\n",
       "      <td>(6, 7]</td>\n",
       "      <td>2020</td>\n",
       "      <td>40</td>\n",
       "      <td>0.0</td>\n",
       "      <td>2.484907</td>\n",
       "      <td>0.000000</td>\n",
       "      <td>0.000000</td>\n",
       "      <td>52</td>\n",
       "      <td>tvEpisode</td>\n",
       "      <td>0.0</td>\n",
       "      <td>False</td>\n",
       "      <td>False</td>\n",
       "      <td>1</td>\n",
       "      <td>['GB']</td>\n",
       "      <td>Game-Show</td>\n",
       "      <td>6.5</td>\n",
       "      <td>0.000000</td>\n",
       "      <td>6.9</td>\n",
       "    </tr>\n",
       "    <tr>\n",
       "      <th>4</th>\n",
       "      <td>Traumhaus</td>\n",
       "      <td>(5, 6]</td>\n",
       "      <td>1999</td>\n",
       "      <td>90</td>\n",
       "      <td>0.0</td>\n",
       "      <td>4.983607</td>\n",
       "      <td>1.098612</td>\n",
       "      <td>0.000000</td>\n",
       "      <td>44</td>\n",
       "      <td>tvEpisode</td>\n",
       "      <td>0.0</td>\n",
       "      <td>False</td>\n",
       "      <td>False</td>\n",
       "      <td>1</td>\n",
       "      <td>['DE']</td>\n",
       "      <td>Crime,Drama,Mystery</td>\n",
       "      <td>5.5</td>\n",
       "      <td>0.693147</td>\n",
       "      <td>6.0</td>\n",
       "    </tr>\n",
       "  </tbody>\n",
       "</table>\n",
       "</div>"
      ],
      "text/plain": [
       "                                       originalTitle   rating  startYear  \\\n",
       "0  Geologist of Animal Collective Performs Live a...  (9, 10]       2015   \n",
       "1                                      Shan gou 1999   (4, 5]       1999   \n",
       "2    The Craftsman: Preserving the Last Higgins Boat   (8, 9]       2023   \n",
       "3                                    Week 3: Tuesday   (6, 7]       2020   \n",
       "4                                          Traumhaus   (5, 6]       1999   \n",
       "\n",
       "   runtimeMinutes  awardWins  numVotes  totalImages  totalVideos  \\\n",
       "0              21        0.0  2.772589     2.079442     1.098612   \n",
       "1              93        0.0  5.720312     2.397895     0.000000   \n",
       "2             113        0.0  2.397895     1.098612     0.000000   \n",
       "3              40        0.0  2.484907     0.000000     0.000000   \n",
       "4              90        0.0  4.983607     1.098612     0.000000   \n",
       "\n",
       "   totalCredits  titleType  AwNmExWins  canHaveEpisodes  isAdult  numRegions  \\\n",
       "0            11      video         0.0            False    False           1   \n",
       "1            40      movie         0.0            False    False           4   \n",
       "2             6  tvSpecial         0.0            False    False           1   \n",
       "3            52  tvEpisode         0.0            False    False           1   \n",
       "4            44  tvEpisode         0.0            False    False           1   \n",
       "\n",
       "  countryOfOrigin               genres  ratingMean  ReviewsTotal  \\\n",
       "0          ['US']          Music,Short         9.5      0.000000   \n",
       "1          ['HK']               Horror         4.5      2.890372   \n",
       "2          ['US']           Reality-TV         8.5      0.000000   \n",
       "3          ['GB']            Game-Show         6.5      0.000000   \n",
       "4          ['DE']  Crime,Drama,Mystery         5.5      0.693147   \n",
       "\n",
       "   averageRating  \n",
       "0            9.6  \n",
       "1            4.3  \n",
       "2            8.8  \n",
       "3            6.9  \n",
       "4            6.0  "
      ]
     },
     "execution_count": 44,
     "metadata": {},
     "output_type": "execute_result"
    }
   ],
   "source": [
    "import pandas as pd\n",
    "\n",
    "# Supponiamo di avere due DataFrame df1 e df2\n",
    "df_train_reg = pd.read_csv('train_reg.csv')\n",
    "\n",
    "df_train = pd.read_csv('train_log.csv')\n",
    "\n",
    "# Eseguiamo la left join\n",
    "df_train = pd.merge(df_train, df_train_reg, on='originalTitle', how='left')\n",
    "df_train.head()\n",
    "\n",
    "df_test_reg = pd.read_csv('test_reg.csv')\n",
    "\n",
    "df_test = pd.read_csv('test_log.csv')\n",
    "\n",
    "# Eseguiamo la left join\n",
    "df_test = pd.merge(df_test, df_test_reg, on='originalTitle', how='left')\n",
    "df_test.head()"
   ]
  },
  {
   "cell_type": "markdown",
   "metadata": {},
   "source": [
    "# Simple Regression"
   ]
  },
  {
   "cell_type": "markdown",
   "metadata": {},
   "source": [
    "### Reviews - numVotes"
   ]
  },
  {
   "cell_type": "markdown",
   "metadata": {},
   "source": [
    "#### Reg"
   ]
  },
  {
   "cell_type": "code",
   "execution_count": 45,
   "metadata": {},
   "outputs": [],
   "source": [
    "from sklearn.metrics import r2_score, mean_squared_error, mean_absolute_error\n",
    "from sklearn.linear_model import LinearRegression, Ridge, Lasso"
   ]
  },
  {
   "cell_type": "code",
   "execution_count": 46,
   "metadata": {},
   "outputs": [
    {
     "name": "stdout",
     "output_type": "stream",
     "text": [
      "Coefficients: \n",
      " [1.20565371]\n",
      "Intercept: \n",
      " 3.016752817897713\n"
     ]
    }
   ],
   "source": [
    "# Selezioniamo la variabile indipendente (input) e la variabile dipendente (target)\n",
    "X_train = df_train[['ReviewsTotal']]\n",
    "y_train = df_train['numVotes']\n",
    "\n",
    "X_test = df_test[['ReviewsTotal']]\n",
    "y_test = df_test['numVotes']\n",
    "\n",
    "# Dividiamo i dati in set di addestramento e di test\n",
    "# X_train, X_test, y_train, y_test = train_test_split(X, y, test_size=0.4)\n",
    "\n",
    "# Creiamo il modello di regressione lineare\n",
    "model = LinearRegression()\n",
    "\n",
    "# Addestriamo il modello sui dati di addestramento\n",
    "model.fit(X_train, y_train)\n",
    "\n",
    "print('Coefficients: \\n', model.coef_)\n",
    "print('Intercept: \\n', model.intercept_)\n",
    "\n",
    "# Facciamo previsioni sui dati di test\n",
    "y_pred = model.predict(X_test)\n",
    "\n",
    "# Calcoliamo le metriche di valutazione del modello\n",
    "mse = mean_squared_error(y_test, y_pred)\n",
    "r2 = r2_score(y_test, y_pred)"
   ]
  },
  {
   "cell_type": "code",
   "execution_count": 47,
   "metadata": {},
   "outputs": [
    {
     "name": "stdout",
     "output_type": "stream",
     "text": [
      "R2: 0.647\n",
      "MSE: 1.052\n",
      "MAE: 0.790\n"
     ]
    }
   ],
   "source": [
    "print('R2: %.3f' % r2_score(y_test, y_pred))\n",
    "print('MSE: %.3f' % mean_squared_error(y_test, y_pred))\n",
    "print('MAE: %.3f' % mean_absolute_error(y_test, y_pred))"
   ]
  },
  {
   "cell_type": "code",
   "execution_count": 48,
   "metadata": {},
   "outputs": [
    {
     "data": {
      "text/plain": [
       "[<matplotlib.lines.Line2D at 0x256ae884e10>]"
      ]
     },
     "execution_count": 48,
     "metadata": {},
     "output_type": "execute_result"
    },
    {
     "data": {
      "image/png": "[encoded data removed]",
      "text/plain": [
       "<Figure size 640x480 with 1 Axes>"
      ]
     },
     "metadata": {},
     "output_type": "display_data"
    }
   ],
   "source": [
    "sns.scatterplot(data=df_train, x=\"ReviewsTotal\", y=\"numVotes\")\n",
    "plt.plot(X_train, model.coef_[0]*X_train+model.intercept_, c=\"red\")"
   ]
  },
  {
   "cell_type": "markdown",
   "metadata": {},
   "source": [
    "#### Ridge"
   ]
  },
  {
   "cell_type": "code",
   "execution_count": 49,
   "metadata": {},
   "outputs": [],
   "source": [
    "# Puoi usare la cross-validation per trovare il miglior valore di alpha\n",
    "from sklearn.model_selection import GridSearchCV\n",
    "\n",
    "# Definire i valori di alpha da testare\n",
    "alphas = np.logspace(-4, 4, 50)\n",
    "\n",
    "\n",
    "ridge = Ridge()\n",
    "param_grid = {'alpha': alphas}\n",
    "grid_search = GridSearchCV(ridge, param_grid, cv=5, scoring='neg_mean_squared_error')"
   ]
  },
  {
   "cell_type": "code",
   "execution_count": null,
   "metadata": {},
   "outputs": [
    {
     "name": "stdout",
     "output_type": "stream",
     "text": [
      "Coefficients: \n",
      " [1.20565371]\n",
      "Intercept: \n",
      " 3.016752817897713\n"
     ]
    }
   ],
   "source": [
    "grid_search.fit(X_train, y_train)\n",
    "\n",
    "# print('Coefficients: \\n', model.coef_)\n",
    "# print('Intercept: \\n', model.intercept_)"
   ]
  },
  {
   "cell_type": "code",
   "execution_count": 51,
   "metadata": {},
   "outputs": [
    {
     "name": "stdout",
     "output_type": "stream",
     "text": [
      "Best alpha: 0.0001\n",
      "Coefficients: [1.2056537]\n",
      "Intercept: 3.016752821727607\n",
      "R²: 0.6473051232645011\n",
      "Mean Squared Error (MSE): 1.0523559483947116\n",
      "Mean Absolute Error (MAE): 0.7896828590712623\n"
     ]
    }
   ],
   "source": [
    "from sklearn.metrics import r2_score, mean_squared_error, mean_absolute_error\n",
    "\n",
    "best_alpha = grid_search.best_params_['alpha']\n",
    "print(f'Best alpha: {best_alpha}')\n",
    "\n",
    "best_ridge_model = grid_search.best_estimator_\n",
    "y_pred = best_ridge_model.predict(X_test)\n",
    "\n",
    "# Visualizzare i coefficienti e l'intercetta\n",
    "print(\"Coefficients:\", best_ridge_model.coef_)\n",
    "print(\"Intercept:\", best_ridge_model.intercept_)\n",
    "\n",
    "# Calcolare l'R²\n",
    "r2 = r2_score(y_test, y_pred)\n",
    "print(f'R²: {r2}')\n",
    "\n",
    "# Calcolare il Mean Squared Error (MSE)\n",
    "mse = mean_squared_error(y_test, y_pred)\n",
    "print(f'Mean Squared Error (MSE): {mse}')\n",
    "\n",
    "# Calcolare il Mean Absolute Error (MAE)\n",
    "mae = mean_absolute_error(y_test, y_pred)\n",
    "print(f'Mean Absolute Error (MAE): {mae}')"
   ]
  },
  {
   "cell_type": "markdown",
   "metadata": {},
   "source": [
    "#### Lasso"
   ]
  },
  {
   "cell_type": "code",
   "execution_count": 52,
   "metadata": {},
   "outputs": [],
   "source": [
    "# Puoi usare la cross-validation per trovare il miglior valore di alpha\n",
    "from sklearn.model_selection import GridSearchCV\n",
    "\n",
    "# Definire i valori di alpha da testare\n",
    "alphas = np.logspace(-4, 4, 50)\n",
    "\n",
    "\n",
    "lasso = Lasso()\n",
    "param_grid = {'alpha': alphas}\n",
    "grid_search = GridSearchCV(lasso, param_grid, cv=5, scoring='neg_mean_squared_error')"
   ]
  },
  {
   "cell_type": "code",
   "execution_count": 53,
   "metadata": {},
   "outputs": [
    {
     "name": "stdout",
     "output_type": "stream",
     "text": [
      "Coefficients: \n",
      " [1.20565371]\n",
      "Intercept: \n",
      " 3.016752817897713\n"
     ]
    }
   ],
   "source": [
    "grid_search.fit(X_train, y_train)\n",
    "\n",
    "print('Coefficients: \\n', model.coef_)\n",
    "print('Intercept: \\n', model.intercept_)"
   ]
  },
  {
   "cell_type": "code",
   "execution_count": 54,
   "metadata": {},
   "outputs": [
    {
     "name": "stdout",
     "output_type": "stream",
     "text": [
      "Best alpha: 0.0001\n",
      "R²: 0.6473079087436606\n",
      "Mean Squared Error (MSE): 1.0523476372006566\n",
      "Mean Absolute Error (MAE): 0.7896839553585134\n"
     ]
    }
   ],
   "source": [
    "from sklearn.metrics import r2_score, mean_squared_error, mean_absolute_error\n",
    "\n",
    "best_alpha = grid_search.best_params_['alpha']\n",
    "print(f'Best alpha: {best_alpha}')\n",
    "\n",
    "best_lasso_model = grid_search.best_estimator_\n",
    "y_pred = best_lasso_model.predict(X_test)\n",
    "\n",
    "# Calcolare l'R²\n",
    "r2 = r2_score(y_test, y_pred)\n",
    "print(f'R²: {r2}')\n",
    "\n",
    "# Calcolare il Mean Squared Error (MSE)\n",
    "mse = mean_squared_error(y_test, y_pred)\n",
    "print(f'Mean Squared Error (MSE): {mse}')\n",
    "\n",
    "# Calcolare il Mean Absolute Error (MAE)\n",
    "mae = mean_absolute_error(y_test, y_pred)\n",
    "print(f'Mean Absolute Error (MAE): {mae}')"
   ]
  },
  {
   "cell_type": "markdown",
   "metadata": {},
   "source": [
    "#### DecisionTree"
   ]
  },
  {
   "cell_type": "code",
   "execution_count": 55,
   "metadata": {},
   "outputs": [],
   "source": [
    "from sklearn.tree import DecisionTreeRegressor"
   ]
  },
  {
   "cell_type": "code",
   "execution_count": 56,
   "metadata": {},
   "outputs": [],
   "source": [
    "# from sklearn.model_selection import RandomizedSearchCV, cross_val_score\n",
    "# from sklearn.metrics import make_scorer, r2_score, mean_squared_error, mean_absolute_error\n",
    "# from sklearn.tree import DecisionTreeRegressor\n",
    "# from scipy.stats import randint\n",
    "# import numpy as np\n",
    "\n",
    "# # Definisci la griglia dei parametri (solo max_depth)\n",
    "# param_dist = {\n",
    "#     'max_depth': randint(1, 20)\n",
    "# }\n",
    "\n",
    "# # Crea il modello\n",
    "# model = DecisionTreeRegressor()\n",
    "\n",
    "# # Definisci le metriche di valutazione\n",
    "# scoring = {\n",
    "#     'R2': make_scorer(r2_score),\n",
    "#     'MSE': make_scorer(mean_squared_error),\n",
    "#     'MAE': make_scorer(mean_absolute_error)\n",
    "# }\n",
    "\n",
    "# # Esegui la Random Search\n",
    "# random_search = RandomizedSearchCV(model, param_distributions=param_dist, n_iter=100, cv=10, scoring=scoring, refit='R2', random_state=42)\n",
    "# random_search.fit(X_train, y_train)\n",
    "\n",
    "# # Stampa i migliori parametri trovati\n",
    "# print(\"Best parameters found: \", random_search.best_params_)\n",
    "\n",
    "# # Stampa i punteggi per le metriche\n",
    "# print(\"Best R2: \", random_search.best_score_)\n",
    "# print(\"Best MSE: \", random_search.cv_results_['mean_test_MSE'][random_search.best_index_])\n",
    "# print(\"Best MAE: \", random_search.cv_results_['mean_test_MAE'][random_search.best_index_])"
   ]
  },
  {
   "cell_type": "code",
   "execution_count": 57,
   "metadata": {},
   "outputs": [
    {
     "name": "stdout",
     "output_type": "stream",
     "text": [
      "Best parameters found:  {'max_depth': 5, 'min_samples_leaf': 3, 'min_samples_split': 13}\n",
      "Best R2:  0.6604548517452073\n",
      "Best MSE:  1.017989654637741\n",
      "Best MAE:  0.7932279467573716\n"
     ]
    }
   ],
   "source": [
    "from sklearn.model_selection import RandomizedSearchCV, cross_val_score\n",
    "from sklearn.metrics import make_scorer, r2_score, mean_squared_error, mean_absolute_error\n",
    "from sklearn.tree import DecisionTreeRegressor\n",
    "from scipy.stats import randint\n",
    "import numpy as np\n",
    "\n",
    "# Definisci la griglia dei parametri (includendo max_depth, min_samples_split e min_samples_leaf)\n",
    "param_dist = {\n",
    "    'max_depth': randint(1, 20),\n",
    "    'min_samples_split': randint(2, 20),\n",
    "    'min_samples_leaf': randint(1, 20)\n",
    "}\n",
    "\n",
    "# Crea il modello\n",
    "model = DecisionTreeRegressor()\n",
    "\n",
    "# Definisci le metriche di valutazione\n",
    "scoring = {\n",
    "    'R2': make_scorer(r2_score),\n",
    "    'MSE': make_scorer(mean_squared_error),\n",
    "    'MAE': make_scorer(mean_absolute_error)\n",
    "}\n",
    "\n",
    "# Esegui la Random Search\n",
    "random_search = RandomizedSearchCV(model, param_distributions=param_dist, n_iter=100, cv=10, scoring=scoring, refit='R2', random_state=42)\n",
    "random_search.fit(X_train, y_train)\n",
    "\n",
    "# Stampa i migliori parametri trovati\n",
    "print(\"Best parameters found: \", random_search.best_params_)\n",
    "\n",
    "# Stampa i punteggi per le metriche\n",
    "print(\"Best R2: \", random_search.best_score_)\n",
    "print(\"Best MSE: \", random_search.cv_results_['mean_test_MSE'][random_search.best_index_])\n",
    "print(\"Best MAE: \", random_search.cv_results_['mean_test_MAE'][random_search.best_index_])"
   ]
  },
  {
   "cell_type": "code",
   "execution_count": 58,
   "metadata": {},
   "outputs": [
    {
     "name": "stdout",
     "output_type": "stream",
     "text": [
      "R2: 0.648\n",
      "MSE: 1.049\n",
      "MAE: 0.790\n"
     ]
    },
    {
     "data": {
      "text/plain": [
       "array([3.06167207, 6.51195756, 3.06167207, ..., 3.06167207, 4.703491  ,\n",
       "       3.06167207])"
      ]
     },
     "execution_count": 58,
     "metadata": {},
     "output_type": "execute_result"
    }
   ],
   "source": [
    "# Crea il modello\n",
    "model = DecisionTreeRegressor(max_depth=5, min_samples_leaf = 3, min_samples_split = 13)\n",
    "model.fit(X_train, y_train)\n",
    "\n",
    "y_pred = model.predict(X_test)  # Use X_test for predictions\n",
    "print('R2: %.3f' % r2_score(y_test, y_pred))\n",
    "print('MSE: %.3f' % mean_squared_error(y_test, y_pred))\n",
    "print('MAE: %.3f' % mean_absolute_error(y_test, y_pred))\n",
    "y_pred"
   ]
  },
  {
   "cell_type": "code",
   "execution_count": 59,
   "metadata": {},
   "outputs": [
    {
     "data": {
      "image/png": "[encoded data removed]",
      "text/plain": [
       "<Figure size 640x480 with 1 Axes>"
      ]
     },
     "metadata": {},
     "output_type": "display_data"
    }
   ],
   "source": [
    "# Crea un nuovo DataFrame con le previsioni\n",
    "df_test_pred = pd.DataFrame({\n",
    "    'ReviewsTotal': df_train.loc[X_test.index, 'ReviewsTotal'],\n",
    "    'numVotes': y_test,\n",
    "    'Predicted': y_pred\n",
    "})\n",
    "\n",
    "# Crea il grafico usando il nuovo DataFrame\n",
    "sns.scatterplot(data=df_test_pred, x=\"ReviewsTotal\", y=\"numVotes\", label=\"True\")\n",
    "sns.scatterplot(data=df_test_pred, x=\"ReviewsTotal\", y=\"Predicted\", label=\"Predicted\", marker=\"X\")\n",
    "plt.legend()\n",
    "plt.show()"
   ]
  },
  {
   "cell_type": "markdown",
   "metadata": {},
   "source": [
    "#### KNN Regressor"
   ]
  },
  {
   "cell_type": "code",
   "execution_count": 60,
   "metadata": {},
   "outputs": [],
   "source": [
    "from sklearn.neighbors import KNeighborsRegressor"
   ]
  },
  {
   "cell_type": "code",
   "execution_count": 61,
   "metadata": {},
   "outputs": [
    {
     "name": "stdout",
     "output_type": "stream",
     "text": [
      "k=1: R2=-0.134, MSE=3.385, MAE=1.526\n",
      "k=2: R2=0.477, MSE=1.560, MAE=0.997\n",
      "k=3: R2=0.567, MSE=1.291, MAE=0.900\n",
      "k=4: R2=0.603, MSE=1.185, MAE=0.852\n",
      "k=5: R2=0.630, MSE=1.103, MAE=0.820\n",
      "k=6: R2=0.619, MSE=1.136, MAE=0.849\n",
      "k=7: R2=0.617, MSE=1.142, MAE=0.851\n",
      "k=8: R2=0.624, MSE=1.121, MAE=0.836\n",
      "k=9: R2=0.631, MSE=1.101, MAE=0.829\n",
      "k=10: R2=0.636, MSE=1.086, MAE=0.812\n",
      "k=11: R2=0.641, MSE=1.070, MAE=0.803\n",
      "k=12: R2=0.641, MSE=1.072, MAE=0.804\n",
      "k=13: R2=0.640, MSE=1.073, MAE=0.797\n",
      "k=14: R2=0.642, MSE=1.067, MAE=0.798\n",
      "k=15: R2=0.641, MSE=1.071, MAE=0.797\n",
      "k=16: R2=0.639, MSE=1.077, MAE=0.812\n",
      "k=17: R2=0.640, MSE=1.073, MAE=0.805\n",
      "k=18: R2=0.640, MSE=1.073, MAE=0.800\n",
      "k=19: R2=0.640, MSE=1.075, MAE=0.802\n",
      "k=20: R2=0.642, MSE=1.069, MAE=0.797\n",
      "k=21: R2=0.642, MSE=1.067, MAE=0.795\n",
      "k=22: R2=0.642, MSE=1.069, MAE=0.792\n",
      "k=23: R2=0.642, MSE=1.069, MAE=0.791\n",
      "k=24: R2=0.640, MSE=1.075, MAE=0.790\n",
      "k=25: R2=0.641, MSE=1.071, MAE=0.792\n",
      "k=26: R2=0.640, MSE=1.074, MAE=0.792\n",
      "k=27: R2=0.638, MSE=1.079, MAE=0.793\n",
      "k=28: R2=0.641, MSE=1.072, MAE=0.795\n",
      "k=29: R2=0.639, MSE=1.076, MAE=0.795\n",
      "k=30: R2=0.640, MSE=1.075, MAE=0.796\n",
      "k=31: R2=0.638, MSE=1.081, MAE=0.796\n",
      "k=32: R2=0.638, MSE=1.080, MAE=0.794\n",
      "k=33: R2=0.639, MSE=1.079, MAE=0.796\n",
      "k=34: R2=0.641, MSE=1.072, MAE=0.794\n",
      "k=35: R2=0.642, MSE=1.069, MAE=0.797\n",
      "k=36: R2=0.642, MSE=1.067, MAE=0.799\n",
      "k=37: R2=0.642, MSE=1.068, MAE=0.799\n",
      "k=38: R2=0.643, MSE=1.065, MAE=0.800\n",
      "k=39: R2=0.643, MSE=1.066, MAE=0.803\n",
      "k=40: R2=0.643, MSE=1.066, MAE=0.804\n",
      "k=41: R2=0.643, MSE=1.065, MAE=0.806\n",
      "k=42: R2=0.642, MSE=1.067, MAE=0.809\n",
      "k=43: R2=0.642, MSE=1.068, MAE=0.810\n",
      "k=44: R2=0.641, MSE=1.071, MAE=0.813\n",
      "k=45: R2=0.641, MSE=1.072, MAE=0.815\n",
      "k=46: R2=0.640, MSE=1.075, MAE=0.818\n",
      "k=47: R2=0.639, MSE=1.078, MAE=0.820\n",
      "k=48: R2=0.637, MSE=1.083, MAE=0.823\n",
      "k=49: R2=0.636, MSE=1.086, MAE=0.824\n",
      "k=50: R2=0.636, MSE=1.087, MAE=0.826\n",
      "k=51: R2=0.635, MSE=1.089, MAE=0.829\n",
      "k=52: R2=0.634, MSE=1.093, MAE=0.833\n",
      "k=53: R2=0.633, MSE=1.095, MAE=0.835\n",
      "k=54: R2=0.632, MSE=1.099, MAE=0.837\n",
      "k=55: R2=0.631, MSE=1.100, MAE=0.839\n",
      "k=56: R2=0.630, MSE=1.105, MAE=0.841\n",
      "k=57: R2=0.629, MSE=1.106, MAE=0.842\n",
      "k=58: R2=0.630, MSE=1.103, MAE=0.840\n",
      "k=59: R2=0.632, MSE=1.098, MAE=0.836\n",
      "k=60: R2=0.632, MSE=1.097, MAE=0.836\n",
      "k=61: R2=0.633, MSE=1.095, MAE=0.835\n",
      "k=62: R2=0.633, MSE=1.096, MAE=0.836\n",
      "k=63: R2=0.634, MSE=1.092, MAE=0.833\n",
      "k=64: R2=0.635, MSE=1.089, MAE=0.831\n",
      "k=65: R2=0.635, MSE=1.089, MAE=0.831\n",
      "k=66: R2=0.635, MSE=1.088, MAE=0.830\n",
      "k=67: R2=0.635, MSE=1.089, MAE=0.831\n",
      "k=68: R2=0.635, MSE=1.088, MAE=0.830\n",
      "k=69: R2=0.636, MSE=1.086, MAE=0.829\n",
      "k=70: R2=0.635, MSE=1.088, MAE=0.830\n",
      "k=71: R2=0.636, MSE=1.087, MAE=0.828\n",
      "k=72: R2=0.636, MSE=1.085, MAE=0.826\n",
      "k=73: R2=0.636, MSE=1.085, MAE=0.827\n",
      "k=74: R2=0.637, MSE=1.083, MAE=0.825\n",
      "k=75: R2=0.634, MSE=1.092, MAE=0.832\n",
      "k=76: R2=0.635, MSE=1.089, MAE=0.830\n",
      "k=77: R2=0.636, MSE=1.085, MAE=0.828\n",
      "k=78: R2=0.637, MSE=1.084, MAE=0.827\n",
      "k=79: R2=0.637, MSE=1.084, MAE=0.826\n",
      "k=80: R2=0.637, MSE=1.084, MAE=0.826\n",
      "k=81: R2=0.638, MSE=1.081, MAE=0.823\n",
      "k=82: R2=0.638, MSE=1.079, MAE=0.821\n",
      "k=83: R2=0.639, MSE=1.077, MAE=0.820\n",
      "k=84: R2=0.640, MSE=1.074, MAE=0.817\n",
      "k=85: R2=0.636, MSE=1.086, MAE=0.826\n",
      "k=86: R2=0.637, MSE=1.083, MAE=0.824\n",
      "k=87: R2=0.638, MSE=1.081, MAE=0.823\n",
      "k=88: R2=0.638, MSE=1.080, MAE=0.823\n",
      "k=89: R2=0.638, MSE=1.079, MAE=0.822\n",
      "k=90: R2=0.639, MSE=1.078, MAE=0.821\n",
      "k=91: R2=0.638, MSE=1.080, MAE=0.823\n",
      "k=92: R2=0.637, MSE=1.082, MAE=0.825\n",
      "k=93: R2=0.638, MSE=1.081, MAE=0.823\n",
      "k=94: R2=0.638, MSE=1.081, MAE=0.823\n",
      "k=95: R2=0.637, MSE=1.082, MAE=0.824\n",
      "k=96: R2=0.637, MSE=1.082, MAE=0.824\n",
      "k=97: R2=0.639, MSE=1.078, MAE=0.821\n",
      "k=98: R2=0.639, MSE=1.077, MAE=0.819\n",
      "k=99: R2=0.640, MSE=1.075, MAE=0.818\n",
      "k=100: R2=0.640, MSE=1.073, MAE=0.817\n",
      "k=101: R2=0.639, MSE=1.077, MAE=0.820\n",
      "k=102: R2=0.638, MSE=1.080, MAE=0.823\n",
      "k=103: R2=0.638, MSE=1.081, MAE=0.822\n",
      "k=104: R2=0.637, MSE=1.083, MAE=0.824\n",
      "k=105: R2=0.638, MSE=1.080, MAE=0.822\n",
      "k=106: R2=0.638, MSE=1.080, MAE=0.822\n",
      "k=107: R2=0.639, MSE=1.076, MAE=0.820\n",
      "k=108: R2=0.640, MSE=1.073, MAE=0.818\n",
      "k=109: R2=0.640, MSE=1.075, MAE=0.820\n",
      "k=110: R2=0.640, MSE=1.075, MAE=0.820\n",
      "k=111: R2=0.639, MSE=1.076, MAE=0.821\n",
      "k=112: R2=0.639, MSE=1.077, MAE=0.821\n",
      "k=113: R2=0.639, MSE=1.078, MAE=0.822\n",
      "k=114: R2=0.639, MSE=1.078, MAE=0.822\n",
      "k=115: R2=0.638, MSE=1.080, MAE=0.823\n",
      "k=116: R2=0.638, MSE=1.080, MAE=0.824\n",
      "k=117: R2=0.637, MSE=1.082, MAE=0.825\n",
      "k=118: R2=0.637, MSE=1.083, MAE=0.827\n",
      "k=119: R2=0.637, MSE=1.084, MAE=0.827\n",
      "k=120: R2=0.636, MSE=1.085, MAE=0.828\n",
      "k=121: R2=0.636, MSE=1.087, MAE=0.830\n",
      "k=122: R2=0.635, MSE=1.090, MAE=0.832\n",
      "k=123: R2=0.636, MSE=1.087, MAE=0.830\n",
      "k=124: R2=0.636, MSE=1.086, MAE=0.829\n",
      "k=125: R2=0.636, MSE=1.086, MAE=0.830\n",
      "k=126: R2=0.636, MSE=1.087, MAE=0.831\n",
      "k=127: R2=0.635, MSE=1.089, MAE=0.832\n"
     ]
    }
   ],
   "source": [
    "from sklearn.neighbors import KNeighborsRegressor\n",
    "from sklearn.metrics import r2_score, mean_squared_error, mean_absolute_error\n",
    "\n",
    "# Lista dei valori di k da testare, includendo anche k=50\n",
    "k_values = list(range(1, 128))\n",
    "\n",
    "# Dizionari per memorizzare i risultati\n",
    "results = {\n",
    "    'k': [],\n",
    "    'R2': [],\n",
    "    'MSE': [],\n",
    "    'MAE': []\n",
    "}\n",
    "\n",
    "# Loop attraverso i diversi valori di k\n",
    "for k in k_values:\n",
    "    # Crea e addestra il modello\n",
    "    reg = KNeighborsRegressor(n_neighbors=k)\n",
    "    reg.fit(X_train, y_train)\n",
    "    \n",
    "    # Fai le previsioni sui dati di test\n",
    "    y_pred = reg.predict(X_test)\n",
    "    \n",
    "    # Calcola le metriche\n",
    "    r2 = r2_score(y_test, y_pred)\n",
    "    mse = mean_squared_error(y_test, y_pred)\n",
    "    mae = mean_absolute_error(y_test, y_pred)\n",
    "    \n",
    "    # Memorizza i risultati\n",
    "    results['k'].append(k)\n",
    "    results['R2'].append(r2)\n",
    "    results['MSE'].append(mse)\n",
    "    results['MAE'].append(mae)\n",
    "\n",
    "# Stampa i risultati\n",
    "for i in range(len(k_values)):\n",
    "    print(f\"k={results['k'][i]}: R2={results['R2'][i]:.3f}, MSE={results['MSE'][i]:.3f}, MAE={results['MAE'][i]:.3f}\")"
   ]
  },
  {
   "cell_type": "code",
   "execution_count": 62,
   "metadata": {},
   "outputs": [
    {
     "name": "stdout",
     "output_type": "stream",
     "text": [
      "R2: 0.640\n",
      "MSE: 1.075\n",
      "MAE: 0.818\n"
     ]
    }
   ],
   "source": [
    "reg = KNeighborsRegressor(n_neighbors=99)\n",
    "reg.fit(X_train, y_train)\n",
    "\n",
    "y_pred = reg.predict(X_test)\n",
    "print('R2: %.3f' % r2_score(y_test, y_pred))\n",
    "print('MSE: %.3f' % mean_squared_error(y_test, y_pred))\n",
    "print('MAE: %.3f' % mean_absolute_error(y_test, y_pred))"
   ]
  },
  {
   "cell_type": "code",
   "execution_count": 63,
   "metadata": {},
   "outputs": [
    {
     "data": {
      "image/png": "[encoded data removed]",
      "text/plain": [
       "<Figure size 640x480 with 1 Axes>"
      ]
     },
     "metadata": {},
     "output_type": "display_data"
    }
   ],
   "source": [
    "# Crea un nuovo DataFrame con le previsioni\n",
    "df_test_pred = pd.DataFrame({\n",
    "    'ReviewsTotal': df_train.loc[X_test.index, 'ReviewsTotal'],\n",
    "    'numVotes': y_test,\n",
    "    'Predicted': y_pred\n",
    "})\n",
    "\n",
    "# Crea il grafico usando il nuovo DataFrame\n",
    "sns.scatterplot(data=df_test_pred, x=\"ReviewsTotal\", y=\"numVotes\", label=\"True\")\n",
    "sns.scatterplot(data=df_test_pred, x=\"ReviewsTotal\", y=\"Predicted\", label=\"Predicted\", marker=\"X\")\n",
    "plt.legend()\n",
    "plt.show()"
   ]
  },
  {
   "cell_type": "markdown",
   "metadata": {},
   "source": [
    "### ReviewsTotal - ratingMean"
   ]
  },
  {
   "cell_type": "markdown",
   "metadata": {},
   "source": [
    "#### Reg"
   ]
  },
  {
   "cell_type": "code",
   "execution_count": 64,
   "metadata": {},
   "outputs": [],
   "source": [
    "from sklearn.metrics import r2_score, mean_squared_error, mean_absolute_error\n",
    "from sklearn.linear_model import LinearRegression, Ridge, Lasso"
   ]
  },
  {
   "cell_type": "code",
   "execution_count": 65,
   "metadata": {},
   "outputs": [
    {
     "data": {
      "text/html": [
       "<div>\n",
       "<style scoped>\n",
       "    .dataframe tbody tr th:only-of-type {\n",
       "        vertical-align: middle;\n",
       "    }\n",
       "\n",
       "    .dataframe tbody tr th {\n",
       "        vertical-align: top;\n",
       "    }\n",
       "\n",
       "    .dataframe thead th {\n",
       "        text-align: right;\n",
       "    }\n",
       "</style>\n",
       "<table border=\"1\" class=\"dataframe\">\n",
       "  <thead>\n",
       "    <tr style=\"text-align: right;\">\n",
       "      <th></th>\n",
       "      <th>originalTitle</th>\n",
       "      <th>rating</th>\n",
       "      <th>startYear</th>\n",
       "      <th>runtimeMinutes</th>\n",
       "      <th>awardWins</th>\n",
       "      <th>numVotes</th>\n",
       "      <th>totalImages</th>\n",
       "      <th>totalVideos</th>\n",
       "      <th>totalCredits</th>\n",
       "      <th>titleType</th>\n",
       "      <th>AwNmExWins</th>\n",
       "      <th>canHaveEpisodes</th>\n",
       "      <th>isAdult</th>\n",
       "      <th>numRegions</th>\n",
       "      <th>countryOfOrigin</th>\n",
       "      <th>genres</th>\n",
       "      <th>ratingMean</th>\n",
       "      <th>ReviewsTotal</th>\n",
       "      <th>averageRating</th>\n",
       "    </tr>\n",
       "  </thead>\n",
       "  <tbody>\n",
       "    <tr>\n",
       "      <th>0</th>\n",
       "      <td>Geologist of Animal Collective Performs Live a...</td>\n",
       "      <td>(9, 10]</td>\n",
       "      <td>2015</td>\n",
       "      <td>21</td>\n",
       "      <td>0.0</td>\n",
       "      <td>2.772589</td>\n",
       "      <td>2.079442</td>\n",
       "      <td>1.098612</td>\n",
       "      <td>11</td>\n",
       "      <td>video</td>\n",
       "      <td>0.0</td>\n",
       "      <td>False</td>\n",
       "      <td>False</td>\n",
       "      <td>1</td>\n",
       "      <td>['US']</td>\n",
       "      <td>Music,Short</td>\n",
       "      <td>9.5</td>\n",
       "      <td>0.000000</td>\n",
       "      <td>9.6</td>\n",
       "    </tr>\n",
       "    <tr>\n",
       "      <th>1</th>\n",
       "      <td>Shan gou 1999</td>\n",
       "      <td>(4, 5]</td>\n",
       "      <td>1999</td>\n",
       "      <td>93</td>\n",
       "      <td>0.0</td>\n",
       "      <td>5.720312</td>\n",
       "      <td>2.397895</td>\n",
       "      <td>0.000000</td>\n",
       "      <td>40</td>\n",
       "      <td>movie</td>\n",
       "      <td>0.0</td>\n",
       "      <td>False</td>\n",
       "      <td>False</td>\n",
       "      <td>4</td>\n",
       "      <td>['HK']</td>\n",
       "      <td>Horror</td>\n",
       "      <td>4.5</td>\n",
       "      <td>2.890372</td>\n",
       "      <td>4.3</td>\n",
       "    </tr>\n",
       "    <tr>\n",
       "      <th>2</th>\n",
       "      <td>The Craftsman: Preserving the Last Higgins Boat</td>\n",
       "      <td>(8, 9]</td>\n",
       "      <td>2023</td>\n",
       "      <td>113</td>\n",
       "      <td>0.0</td>\n",
       "      <td>2.397895</td>\n",
       "      <td>1.098612</td>\n",
       "      <td>0.000000</td>\n",
       "      <td>6</td>\n",
       "      <td>tvSpecial</td>\n",
       "      <td>0.0</td>\n",
       "      <td>False</td>\n",
       "      <td>False</td>\n",
       "      <td>1</td>\n",
       "      <td>['US']</td>\n",
       "      <td>Reality-TV</td>\n",
       "      <td>8.5</td>\n",
       "      <td>0.000000</td>\n",
       "      <td>8.8</td>\n",
       "    </tr>\n",
       "    <tr>\n",
       "      <th>3</th>\n",
       "      <td>Week 3: Tuesday</td>\n",
       "      <td>(6, 7]</td>\n",
       "      <td>2020</td>\n",
       "      <td>40</td>\n",
       "      <td>0.0</td>\n",
       "      <td>2.484907</td>\n",
       "      <td>0.000000</td>\n",
       "      <td>0.000000</td>\n",
       "      <td>52</td>\n",
       "      <td>tvEpisode</td>\n",
       "      <td>0.0</td>\n",
       "      <td>False</td>\n",
       "      <td>False</td>\n",
       "      <td>1</td>\n",
       "      <td>['GB']</td>\n",
       "      <td>Game-Show</td>\n",
       "      <td>6.5</td>\n",
       "      <td>0.000000</td>\n",
       "      <td>6.9</td>\n",
       "    </tr>\n",
       "    <tr>\n",
       "      <th>4</th>\n",
       "      <td>Traumhaus</td>\n",
       "      <td>(5, 6]</td>\n",
       "      <td>1999</td>\n",
       "      <td>90</td>\n",
       "      <td>0.0</td>\n",
       "      <td>4.983607</td>\n",
       "      <td>1.098612</td>\n",
       "      <td>0.000000</td>\n",
       "      <td>44</td>\n",
       "      <td>tvEpisode</td>\n",
       "      <td>0.0</td>\n",
       "      <td>False</td>\n",
       "      <td>False</td>\n",
       "      <td>1</td>\n",
       "      <td>['DE']</td>\n",
       "      <td>Crime,Drama,Mystery</td>\n",
       "      <td>5.5</td>\n",
       "      <td>0.693147</td>\n",
       "      <td>6.0</td>\n",
       "    </tr>\n",
       "    <tr>\n",
       "      <th>...</th>\n",
       "      <td>...</td>\n",
       "      <td>...</td>\n",
       "      <td>...</td>\n",
       "      <td>...</td>\n",
       "      <td>...</td>\n",
       "      <td>...</td>\n",
       "      <td>...</td>\n",
       "      <td>...</td>\n",
       "      <td>...</td>\n",
       "      <td>...</td>\n",
       "      <td>...</td>\n",
       "      <td>...</td>\n",
       "      <td>...</td>\n",
       "      <td>...</td>\n",
       "      <td>...</td>\n",
       "      <td>...</td>\n",
       "      <td>...</td>\n",
       "      <td>...</td>\n",
       "      <td>...</td>\n",
       "    </tr>\n",
       "    <tr>\n",
       "      <th>5692</th>\n",
       "      <td>Parasiz yasamak pahali</td>\n",
       "      <td>(7, 8]</td>\n",
       "      <td>1994</td>\n",
       "      <td>141</td>\n",
       "      <td>0.0</td>\n",
       "      <td>3.828641</td>\n",
       "      <td>0.693147</td>\n",
       "      <td>0.000000</td>\n",
       "      <td>12</td>\n",
       "      <td>video</td>\n",
       "      <td>0.0</td>\n",
       "      <td>False</td>\n",
       "      <td>False</td>\n",
       "      <td>1</td>\n",
       "      <td>['TR']</td>\n",
       "      <td>Comedy</td>\n",
       "      <td>7.5</td>\n",
       "      <td>0.000000</td>\n",
       "      <td>7.2</td>\n",
       "    </tr>\n",
       "    <tr>\n",
       "      <th>5693</th>\n",
       "      <td>Wedding Bell Blues</td>\n",
       "      <td>(6, 7]</td>\n",
       "      <td>1994</td>\n",
       "      <td>22</td>\n",
       "      <td>0.0</td>\n",
       "      <td>2.995732</td>\n",
       "      <td>2.890372</td>\n",
       "      <td>0.000000</td>\n",
       "      <td>35</td>\n",
       "      <td>tvEpisode</td>\n",
       "      <td>0.0</td>\n",
       "      <td>False</td>\n",
       "      <td>False</td>\n",
       "      <td>1</td>\n",
       "      <td>['US']</td>\n",
       "      <td>Comedy,Family,Sport</td>\n",
       "      <td>6.5</td>\n",
       "      <td>0.000000</td>\n",
       "      <td>6.5</td>\n",
       "    </tr>\n",
       "    <tr>\n",
       "      <th>5694</th>\n",
       "      <td>O anthropos pou to 'paize poly!</td>\n",
       "      <td>(3, 4]</td>\n",
       "      <td>1983</td>\n",
       "      <td>85</td>\n",
       "      <td>0.0</td>\n",
       "      <td>2.708050</td>\n",
       "      <td>0.693147</td>\n",
       "      <td>0.000000</td>\n",
       "      <td>30</td>\n",
       "      <td>movie</td>\n",
       "      <td>0.0</td>\n",
       "      <td>False</td>\n",
       "      <td>False</td>\n",
       "      <td>1</td>\n",
       "      <td>['GR']</td>\n",
       "      <td>Comedy</td>\n",
       "      <td>3.5</td>\n",
       "      <td>0.000000</td>\n",
       "      <td>3.5</td>\n",
       "    </tr>\n",
       "    <tr>\n",
       "      <th>5695</th>\n",
       "      <td>Above Average Presents</td>\n",
       "      <td>(6, 7]</td>\n",
       "      <td>2012</td>\n",
       "      <td>50</td>\n",
       "      <td>0.0</td>\n",
       "      <td>4.718499</td>\n",
       "      <td>4.043051</td>\n",
       "      <td>0.000000</td>\n",
       "      <td>992</td>\n",
       "      <td>tvSeries</td>\n",
       "      <td>0.0</td>\n",
       "      <td>True</td>\n",
       "      <td>False</td>\n",
       "      <td>2</td>\n",
       "      <td>['US']</td>\n",
       "      <td>Comedy</td>\n",
       "      <td>6.5</td>\n",
       "      <td>1.386294</td>\n",
       "      <td>6.5</td>\n",
       "    </tr>\n",
       "    <tr>\n",
       "      <th>5696</th>\n",
       "      <td>Omae wa mada Gunma wo shiranai</td>\n",
       "      <td>(4, 5]</td>\n",
       "      <td>2017</td>\n",
       "      <td>30</td>\n",
       "      <td>0.0</td>\n",
       "      <td>2.484907</td>\n",
       "      <td>0.693147</td>\n",
       "      <td>0.000000</td>\n",
       "      <td>17</td>\n",
       "      <td>tvMiniSeries</td>\n",
       "      <td>0.0</td>\n",
       "      <td>True</td>\n",
       "      <td>False</td>\n",
       "      <td>1</td>\n",
       "      <td>['JP']</td>\n",
       "      <td>Comedy</td>\n",
       "      <td>4.5</td>\n",
       "      <td>0.000000</td>\n",
       "      <td>4.7</td>\n",
       "    </tr>\n",
       "  </tbody>\n",
       "</table>\n",
       "<p>5697 rows × 19 columns</p>\n",
       "</div>"
      ],
      "text/plain": [
       "                                          originalTitle   rating  startYear  \\\n",
       "0     Geologist of Animal Collective Performs Live a...  (9, 10]       2015   \n",
       "1                                         Shan gou 1999   (4, 5]       1999   \n",
       "2       The Craftsman: Preserving the Last Higgins Boat   (8, 9]       2023   \n",
       "3                                       Week 3: Tuesday   (6, 7]       2020   \n",
       "4                                             Traumhaus   (5, 6]       1999   \n",
       "...                                                 ...      ...        ...   \n",
       "5692                             Parasiz yasamak pahali   (7, 8]       1994   \n",
       "5693                                 Wedding Bell Blues   (6, 7]       1994   \n",
       "5694                    O anthropos pou to 'paize poly!   (3, 4]       1983   \n",
       "5695                             Above Average Presents   (6, 7]       2012   \n",
       "5696                     Omae wa mada Gunma wo shiranai   (4, 5]       2017   \n",
       "\n",
       "      runtimeMinutes  awardWins  numVotes  totalImages  totalVideos  \\\n",
       "0                 21        0.0  2.772589     2.079442     1.098612   \n",
       "1                 93        0.0  5.720312     2.397895     0.000000   \n",
       "2                113        0.0  2.397895     1.098612     0.000000   \n",
       "3                 40        0.0  2.484907     0.000000     0.000000   \n",
       "4                 90        0.0  4.983607     1.098612     0.000000   \n",
       "...              ...        ...       ...          ...          ...   \n",
       "5692             141        0.0  3.828641     0.693147     0.000000   \n",
       "5693              22        0.0  2.995732     2.890372     0.000000   \n",
       "5694              85        0.0  2.708050     0.693147     0.000000   \n",
       "5695              50        0.0  4.718499     4.043051     0.000000   \n",
       "5696              30        0.0  2.484907     0.693147     0.000000   \n",
       "\n",
       "      totalCredits     titleType  AwNmExWins  canHaveEpisodes  isAdult  \\\n",
       "0               11         video         0.0            False    False   \n",
       "1               40         movie         0.0            False    False   \n",
       "2                6     tvSpecial         0.0            False    False   \n",
       "3               52     tvEpisode         0.0            False    False   \n",
       "4               44     tvEpisode         0.0            False    False   \n",
       "...            ...           ...         ...              ...      ...   \n",
       "5692            12         video         0.0            False    False   \n",
       "5693            35     tvEpisode         0.0            False    False   \n",
       "5694            30         movie         0.0            False    False   \n",
       "5695           992      tvSeries         0.0             True    False   \n",
       "5696            17  tvMiniSeries         0.0             True    False   \n",
       "\n",
       "      numRegions countryOfOrigin               genres  ratingMean  \\\n",
       "0              1          ['US']          Music,Short         9.5   \n",
       "1              4          ['HK']               Horror         4.5   \n",
       "2              1          ['US']           Reality-TV         8.5   \n",
       "3              1          ['GB']            Game-Show         6.5   \n",
       "4              1          ['DE']  Crime,Drama,Mystery         5.5   \n",
       "...          ...             ...                  ...         ...   \n",
       "5692           1          ['TR']               Comedy         7.5   \n",
       "5693           1          ['US']  Comedy,Family,Sport         6.5   \n",
       "5694           1          ['GR']               Comedy         3.5   \n",
       "5695           2          ['US']               Comedy         6.5   \n",
       "5696           1          ['JP']               Comedy         4.5   \n",
       "\n",
       "      ReviewsTotal  averageRating  \n",
       "0         0.000000            9.6  \n",
       "1         2.890372            4.3  \n",
       "2         0.000000            8.8  \n",
       "3         0.000000            6.9  \n",
       "4         0.693147            6.0  \n",
       "...            ...            ...  \n",
       "5692      0.000000            7.2  \n",
       "5693      0.000000            6.5  \n",
       "5694      0.000000            3.5  \n",
       "5695      1.386294            6.5  \n",
       "5696      0.000000            4.7  \n",
       "\n",
       "[5697 rows x 19 columns]"
      ]
     },
     "execution_count": 65,
     "metadata": {},
     "output_type": "execute_result"
    }
   ],
   "source": [
    "# # Select only numeric columns\n",
    "# numeric_df = df_train.select_dtypes(include=['number'])\n",
    "\n",
    "# # Calculate correlation matrix\n",
    "# corr_matrix = numeric_df.corr()\n",
    "# corr_matrix\n",
    "df_test"
   ]
  },
  {
   "cell_type": "code",
   "execution_count": 66,
   "metadata": {},
   "outputs": [
    {
     "name": "stdout",
     "output_type": "stream",
     "text": [
      "                                 originalTitle   rating  startYear  \\\n",
      "0      Neogenic Nightmare Chapter 3: Hydro-Man   (7, 8]       1995   \n",
      "1                                      Looping   (5, 6]       1982   \n",
      "2                               Idealnaya para   (5, 6]       1992   \n",
      "3                  MasterChef Celebrity México   (5, 6]       2021   \n",
      "4                                  Seutateueob   (7, 8]       2020   \n",
      "...                                        ...      ...        ...   \n",
      "19419                                 Caprices   (5, 6]       1942   \n",
      "19420                                Haar Jeet   (4, 5]       1990   \n",
      "19421                              Kotigobba 3   (5, 6]       2021   \n",
      "19422                       Ator l'invincibile   (3, 4]       1982   \n",
      "19423                        Anniversary Night  (9, 10]       2022   \n",
      "\n",
      "       runtimeMinutes  awardWins  numVotes  totalImages  totalVideos  \\\n",
      "0                  40   0.000000  6.659294     0.693147     0.000000   \n",
      "1                   0   0.000000  2.484907     0.693147     0.000000   \n",
      "2                  92   0.000000  3.663562     0.693147     0.000000   \n",
      "3                  53   0.000000  2.772589     3.135494     0.000000   \n",
      "4                  80   0.693147  9.662625     5.852202     1.098612   \n",
      "...               ...        ...       ...          ...          ...   \n",
      "19419              92   0.000000  4.304065     1.609438     0.000000   \n",
      "19420              92   0.000000  2.772589     1.098612     0.000000   \n",
      "19421             140   0.000000  7.848153     3.688879     1.386294   \n",
      "19422              92   0.000000  8.010360     3.970292     0.693147   \n",
      "19423              13   0.000000  2.302585     2.079442     0.000000   \n",
      "\n",
      "       totalCredits  titleType  AwNmExWins  canHaveEpisodes  isAdult  \\\n",
      "0                21  tvEpisode    0.000000            False    False   \n",
      "1                 1  videoGame    0.000000            False    False   \n",
      "2                24      movie    0.000000            False    False   \n",
      "3                56   tvSeries    0.000000             True    False   \n",
      "4                47   tvSeries    0.693147             True    False   \n",
      "...             ...        ...         ...              ...      ...   \n",
      "19419            45      movie    0.000000            False    False   \n",
      "19420            22      movie    0.000000            False    False   \n",
      "19421           129      movie    1.791759            False    False   \n",
      "19422            53      movie    0.000000            False    False   \n",
      "19423            19      short    0.000000            False    False   \n",
      "\n",
      "       numRegions countryOfOrigin                      genres  ratingMean  \\\n",
      "0               1          ['US']  Action,Adventure,Animation         7.5   \n",
      "1               1         ['XWG']                      Action         5.5   \n",
      "2               1          ['RU']                      Comedy         5.5   \n",
      "3               1          ['MX']                  Reality-TV         5.5   \n",
      "4              32          ['KR']        Comedy,Drama,Romance         7.5   \n",
      "...           ...             ...                         ...         ...   \n",
      "19419          14          ['FR']                      Comedy         5.5   \n",
      "19420           1          ['IN']       Action,Drama,Thriller         4.5   \n",
      "19421           5          ['IN']        Action,Drama,Romance         5.5   \n",
      "19422          26          ['IT']    Action,Adventure,Fantasy         3.5   \n",
      "19423           1          ['IN']                 Drama,Short         9.5   \n",
      "\n",
      "       ReviewsTotal  averageRating  \n",
      "0          0.693147            7.5  \n",
      "1          0.000000            5.9  \n",
      "2          0.693147            5.7  \n",
      "3          0.000000            5.7  \n",
      "4          6.124683            8.0  \n",
      "...             ...            ...  \n",
      "19419      1.791759            5.8  \n",
      "19420      0.693147            4.4  \n",
      "19421      3.912023            5.5  \n",
      "19422      4.736198            3.3  \n",
      "19423      0.000000            9.1  \n",
      "\n",
      "[19424 rows x 19 columns]\n",
      "Coefficients: \n",
      " [0.01114809]\n",
      "Intercept: \n",
      " -15.401138914707976\n"
     ]
    }
   ],
   "source": [
    "# Selezioniamo la variabile indipendente (input) e la variabile dipendente (target)\n",
    "print(df_train)\n",
    "X_train = df_train[['startYear']]\n",
    "y_train = df_train['averageRating']\n",
    "\n",
    "X_test = df_test[['startYear']]\n",
    "y_test = df_test['averageRating']\n",
    "\n",
    "# Dividiamo i dati in set di addestramento e di test\n",
    "# X_train, X_test, y_train, y_test = train_test_split(X, y, test_size=0.4)\n",
    "\n",
    "# Creiamo il modello di regressione lineare\n",
    "model = LinearRegression()\n",
    "\n",
    "# Addestriamo il modello sui dati di addestramento\n",
    "model.fit(X_train, y_train)\n",
    "\n",
    "print('Coefficients: \\n', model.coef_)\n",
    "print('Intercept: \\n', model.intercept_)\n",
    "\n",
    "# Facciamo previsioni sui dati di test\n",
    "y_pred = model.predict(X_test)\n",
    "\n",
    "# Calcoliamo le metriche di valutazione del modello\n",
    "mse = mean_squared_error(y_test, y_pred)\n",
    "r2 = r2_score(y_test, y_pred)"
   ]
  },
  {
   "cell_type": "code",
   "execution_count": 67,
   "metadata": {},
   "outputs": [
    {
     "name": "stdout",
     "output_type": "stream",
     "text": [
      "R2: 0.032\n",
      "MSE: 1.691\n",
      "MAE: 0.989\n"
     ]
    }
   ],
   "source": [
    "print('R2: %.3f' % r2_score(y_test, y_pred))\n",
    "print('MSE: %.3f' % mean_squared_error(y_test, y_pred))\n",
    "print('MAE: %.3f' % mean_absolute_error(y_test, y_pred))"
   ]
  },
  {
   "cell_type": "code",
   "execution_count": 68,
   "metadata": {},
   "outputs": [
    {
     "data": {
      "text/plain": [
       "[<matplotlib.lines.Line2D at 0x256b5fa74d0>]"
      ]
     },
     "execution_count": 68,
     "metadata": {},
     "output_type": "execute_result"
    },
    {
     "data": {
      "image/png": "[encoded data removed]",
      "text/plain": [
       "<Figure size 640x480 with 1 Axes>"
      ]
     },
     "metadata": {},
     "output_type": "display_data"
    }
   ],
   "source": [
    "sns.scatterplot(data=df_train, x=\"startYear\", y=\"averageRating\")\n",
    "plt.plot(X_train, model.coef_[0]*X_train+model.intercept_, c=\"red\")"
   ]
  },
  {
   "cell_type": "markdown",
   "metadata": {},
   "source": [
    "#### Ridge"
   ]
  },
  {
   "cell_type": "code",
   "execution_count": 69,
   "metadata": {},
   "outputs": [],
   "source": [
    "# Puoi usare la cross-validation per trovare il miglior valore di alpha\n",
    "from sklearn.model_selection import GridSearchCV\n",
    "\n",
    "# Definire i valori di alpha da testare\n",
    "alphas = np.logspace(-4, 4, 50)\n",
    "alphas = [0.0001]\n",
    "\n",
    "ridge = Ridge()\n",
    "param_grid = {'alpha': alphas}\n",
    "grid_search = GridSearchCV(ridge, param_grid, cv=5, scoring='neg_mean_squared_error')"
   ]
  },
  {
   "cell_type": "code",
   "execution_count": 70,
   "metadata": {},
   "outputs": [
    {
     "name": "stdout",
     "output_type": "stream",
     "text": [
      "Coefficients: \n",
      " [0.01114809]\n",
      "Intercept: \n",
      " -15.401138914707976\n"
     ]
    }
   ],
   "source": [
    "grid_search.fit(X_train, y_train)\n",
    "\n",
    "print('Coefficients: \\n', model.coef_)\n",
    "print('Intercept: \\n', model.intercept_)"
   ]
  },
  {
   "cell_type": "code",
   "execution_count": 71,
   "metadata": {},
   "outputs": [
    {
     "name": "stdout",
     "output_type": "stream",
     "text": [
      "Best alpha: 0.0001\n",
      "R²: 0.03211370145124115\n",
      "Mean Squared Error (MSE): 1.6910568372203447\n",
      "Mean Absolute Error (MAE): 0.9889885208057193\n"
     ]
    }
   ],
   "source": [
    "from sklearn.metrics import r2_score, mean_squared_error, mean_absolute_error\n",
    "\n",
    "best_alpha = grid_search.best_params_['alpha']\n",
    "print(f'Best alpha: {best_alpha}')\n",
    "\n",
    "best_ridge_model = grid_search.best_estimator_\n",
    "y_pred = best_ridge_model.predict(X_test)\n",
    "\n",
    "# Calcolare l'R²\n",
    "r2 = r2_score(y_test, y_pred)\n",
    "print(f'R²: {r2}')\n",
    "\n",
    "# Calcolare il Mean Squared Error (MSE)\n",
    "mse = mean_squared_error(y_test, y_pred)\n",
    "print(f'Mean Squared Error (MSE): {mse}')\n",
    "\n",
    "# Calcolare il Mean Absolute Error (MAE)\n",
    "mae = mean_absolute_error(y_test, y_pred)\n",
    "print(f'Mean Absolute Error (MAE): {mae}')"
   ]
  },
  {
   "cell_type": "markdown",
   "metadata": {},
   "source": [
    "#### Lasso"
   ]
  },
  {
   "cell_type": "code",
   "execution_count": 72,
   "metadata": {},
   "outputs": [],
   "source": [
    "# Puoi usare la cross-validation per trovare il miglior valore di alpha\n",
    "from sklearn.model_selection import GridSearchCV\n",
    "\n",
    "# Definire i valori di alpha da testare\n",
    "alphas = np.logspace(-4, 4, 50)\n",
    "\n",
    "\n",
    "lasso = Lasso()\n",
    "param_grid = {'alpha': alphas}\n",
    "grid_search = GridSearchCV(lasso, param_grid, cv=5, scoring='neg_mean_squared_error')"
   ]
  },
  {
   "cell_type": "code",
   "execution_count": 73,
   "metadata": {},
   "outputs": [
    {
     "name": "stdout",
     "output_type": "stream",
     "text": [
      "Coefficients: \n",
      " [0.01114809]\n",
      "Intercept: \n",
      " -15.401138914707976\n"
     ]
    }
   ],
   "source": [
    "grid_search.fit(X_train, y_train)\n",
    "\n",
    "print('Coefficients: \\n', model.coef_)\n",
    "print('Intercept: \\n', model.intercept_)"
   ]
  },
  {
   "cell_type": "code",
   "execution_count": 74,
   "metadata": {},
   "outputs": [
    {
     "name": "stdout",
     "output_type": "stream",
     "text": [
      "Best alpha: 0.0001\n",
      "R²: 0.03211382983817013\n",
      "Mean Squared Error (MSE): 1.691056612907226\n",
      "Mean Absolute Error (MAE): 0.9889886403719071\n"
     ]
    }
   ],
   "source": [
    "from sklearn.metrics import r2_score, mean_squared_error, mean_absolute_error\n",
    "\n",
    "best_alpha = grid_search.best_params_['alpha']\n",
    "print(f'Best alpha: {best_alpha}')\n",
    "\n",
    "best_lasso_model = grid_search.best_estimator_\n",
    "y_pred = best_lasso_model.predict(X_test)\n",
    "\n",
    "# Calcolare l'R²\n",
    "r2 = r2_score(y_test, y_pred)\n",
    "print(f'R²: {r2}')\n",
    "\n",
    "# Calcolare il Mean Squared Error (MSE)\n",
    "mse = mean_squared_error(y_test, y_pred)\n",
    "print(f'Mean Squared Error (MSE): {mse}')\n",
    "\n",
    "# Calcolare il Mean Absolute Error (MAE)\n",
    "mae = mean_absolute_error(y_test, y_pred)\n",
    "print(f'Mean Absolute Error (MAE): {mae}')"
   ]
  },
  {
   "cell_type": "markdown",
   "metadata": {},
   "source": [
    "#### DecisionTree"
   ]
  },
  {
   "cell_type": "code",
   "execution_count": 75,
   "metadata": {},
   "outputs": [],
   "source": [
    "from sklearn.tree import DecisionTreeRegressor"
   ]
  },
  {
   "cell_type": "code",
   "execution_count": 76,
   "metadata": {},
   "outputs": [
    {
     "name": "stdout",
     "output_type": "stream",
     "text": [
      "Best parameters found:  {'max_depth': 4, 'min_samples_leaf': 14, 'min_samples_split': 19}\n",
      "Best R2:  0.05121554785907727\n",
      "Best MSE:  1.5410772637452494\n",
      "Best MAE:  0.9387709267772534\n"
     ]
    }
   ],
   "source": [
    "from sklearn.model_selection import RandomizedSearchCV, cross_val_score\n",
    "from sklearn.metrics import make_scorer, r2_score, mean_squared_error, mean_absolute_error\n",
    "from sklearn.tree import DecisionTreeRegressor\n",
    "from scipy.stats import randint\n",
    "import numpy as np\n",
    "\n",
    "# Definisci la griglia dei parametri (includendo max_depth, min_samples_split e min_samples_leaf)\n",
    "param_dist = {\n",
    "    'max_depth': randint(1, 20),\n",
    "    'min_samples_split': randint(2, 20),\n",
    "    'min_samples_leaf': randint(1, 20)\n",
    "}\n",
    "\n",
    "# Crea il modello\n",
    "model = DecisionTreeRegressor()\n",
    "\n",
    "# Definisci le metriche di valutazione\n",
    "scoring = {\n",
    "    'R2': make_scorer(r2_score),\n",
    "    'MSE': make_scorer(mean_squared_error),\n",
    "    'MAE': make_scorer(mean_absolute_error)\n",
    "}\n",
    "\n",
    "# Esegui la Random Search\n",
    "random_search = RandomizedSearchCV(model, param_distributions=param_dist, n_iter=100, cv=10, scoring=scoring, refit='R2', random_state=42)\n",
    "random_search.fit(X_train, y_train)\n",
    "\n",
    "# Stampa i migliori parametri trovati\n",
    "print(\"Best parameters found: \", random_search.best_params_)\n",
    "\n",
    "# Stampa i punteggi per le metriche\n",
    "print(\"Best R2: \", random_search.best_score_)\n",
    "print(\"Best MSE: \", random_search.cv_results_['mean_test_MSE'][random_search.best_index_])\n",
    "print(\"Best MAE: \", random_search.cv_results_['mean_test_MAE'][random_search.best_index_])"
   ]
  },
  {
   "cell_type": "code",
   "execution_count": 77,
   "metadata": {},
   "outputs": [
    {
     "name": "stdout",
     "output_type": "stream",
     "text": [
      "R2: 0.041\n",
      "MSE: 1.676\n",
      "MAE: 0.982\n"
     ]
    },
    {
     "data": {
      "text/plain": [
       "array([7.09202351, 6.78253425, 7.09202351, ..., 6.69246231, 6.9789172 ,\n",
       "       7.09202351])"
      ]
     },
     "execution_count": 77,
     "metadata": {},
     "output_type": "execute_result"
    }
   ],
   "source": [
    "# Crea il modello\n",
    "model = DecisionTreeRegressor(max_depth=4)\n",
    "model.fit(X_train, y_train)\n",
    "\n",
    "y_pred = model.predict(X_test)  # Use X_test for predictions\n",
    "print('R2: %.3f' % r2_score(y_test, y_pred))\n",
    "print('MSE: %.3f' % mean_squared_error(y_test, y_pred))\n",
    "print('MAE: %.3f' % mean_absolute_error(y_test, y_pred))\n",
    "y_pred"
   ]
  },
  {
   "cell_type": "code",
   "execution_count": 78,
   "metadata": {},
   "outputs": [
    {
     "data": {
      "image/png": "[encoded data removed]",
      "text/plain": [
       "<Figure size 640x480 with 1 Axes>"
      ]
     },
     "metadata": {},
     "output_type": "display_data"
    }
   ],
   "source": [
    "# Crea un nuovo DataFrame con le previsioni\n",
    "df_test_pred = pd.DataFrame({\n",
    "    'startYear': df_train.loc[X_test.index, 'startYear'],\n",
    "    'averageRating': y_test,\n",
    "    'Predicted': y_pred\n",
    "})\n",
    "\n",
    "# Crea il grafico usando il nuovo DataFrame\n",
    "sns.scatterplot(data=df_test_pred, x=\"startYear\", y=\"averageRating\", label=\"True\")\n",
    "sns.scatterplot(data=df_test_pred, x=\"startYear\", y=\"Predicted\", label=\"Predicted\", marker=\"X\")\n",
    "plt.legend()\n",
    "plt.show()"
   ]
  },
  {
   "cell_type": "markdown",
   "metadata": {},
   "source": [
    "#### KNN Regressor"
   ]
  },
  {
   "cell_type": "code",
   "execution_count": 79,
   "metadata": {},
   "outputs": [],
   "source": [
    "from sklearn.neighbors import KNeighborsRegressor"
   ]
  },
  {
   "cell_type": "code",
   "execution_count": 80,
   "metadata": {},
   "outputs": [
    {
     "name": "stdout",
     "output_type": "stream",
     "text": [
      "k=1: R2=-0.768, MSE=3.089, MAE=1.379\n",
      "k=2: R2=-0.337, MSE=2.335, MAE=1.196\n",
      "k=3: R2=-0.285, MSE=2.245, MAE=1.164\n",
      "k=4: R2=-0.212, MSE=2.118, MAE=1.125\n",
      "k=5: R2=-0.186, MSE=2.072, MAE=1.114\n",
      "k=6: R2=-0.157, MSE=2.022, MAE=1.102\n",
      "k=7: R2=-0.133, MSE=1.980, MAE=1.089\n",
      "k=8: R2=-0.112, MSE=1.943, MAE=1.078\n",
      "k=9: R2=-0.098, MSE=1.918, MAE=1.070\n",
      "k=10: R2=-0.075, MSE=1.877, MAE=1.057\n",
      "k=11: R2=-0.053, MSE=1.840, MAE=1.047\n",
      "k=12: R2=-0.039, MSE=1.815, MAE=1.037\n",
      "k=13: R2=-0.050, MSE=1.834, MAE=1.047\n",
      "k=14: R2=-0.050, MSE=1.835, MAE=1.049\n",
      "k=15: R2=-0.047, MSE=1.829, MAE=1.048\n",
      "k=16: R2=-0.030, MSE=1.799, MAE=1.039\n",
      "k=17: R2=-0.023, MSE=1.788, MAE=1.035\n",
      "k=18: R2=-0.019, MSE=1.781, MAE=1.033\n",
      "k=19: R2=-0.021, MSE=1.784, MAE=1.034\n",
      "k=20: R2=-0.019, MSE=1.780, MAE=1.033\n",
      "k=21: R2=-0.015, MSE=1.773, MAE=1.032\n",
      "k=22: R2=-0.011, MSE=1.767, MAE=1.030\n",
      "k=23: R2=-0.005, MSE=1.756, MAE=1.029\n",
      "k=24: R2=-0.000, MSE=1.747, MAE=1.026\n",
      "k=25: R2=-0.002, MSE=1.750, MAE=1.027\n",
      "k=26: R2=-0.004, MSE=1.755, MAE=1.029\n",
      "k=27: R2=-0.003, MSE=1.753, MAE=1.029\n",
      "k=28: R2=0.000, MSE=1.746, MAE=1.029\n",
      "k=29: R2=0.001, MSE=1.745, MAE=1.029\n",
      "k=30: R2=0.007, MSE=1.736, MAE=1.024\n",
      "k=31: R2=0.012, MSE=1.726, MAE=1.021\n",
      "k=32: R2=0.013, MSE=1.724, MAE=1.020\n",
      "k=33: R2=0.014, MSE=1.723, MAE=1.021\n",
      "k=34: R2=0.011, MSE=1.727, MAE=1.022\n",
      "k=35: R2=0.011, MSE=1.728, MAE=1.021\n",
      "k=36: R2=0.014, MSE=1.722, MAE=1.019\n",
      "k=37: R2=0.016, MSE=1.719, MAE=1.017\n",
      "k=38: R2=0.017, MSE=1.718, MAE=1.018\n",
      "k=39: R2=0.019, MSE=1.715, MAE=1.016\n",
      "k=40: R2=0.019, MSE=1.713, MAE=1.015\n",
      "k=41: R2=0.020, MSE=1.712, MAE=1.015\n",
      "k=42: R2=0.021, MSE=1.710, MAE=1.014\n",
      "k=43: R2=0.023, MSE=1.706, MAE=1.012\n",
      "k=44: R2=0.025, MSE=1.704, MAE=1.011\n",
      "k=45: R2=0.025, MSE=1.704, MAE=1.010\n",
      "k=46: R2=0.025, MSE=1.704, MAE=1.009\n",
      "k=47: R2=0.026, MSE=1.702, MAE=1.007\n",
      "k=48: R2=0.028, MSE=1.699, MAE=1.006\n",
      "k=49: R2=0.028, MSE=1.698, MAE=1.005\n",
      "k=50: R2=0.027, MSE=1.699, MAE=1.005\n",
      "k=51: R2=0.028, MSE=1.698, MAE=1.004\n",
      "k=52: R2=0.029, MSE=1.697, MAE=1.003\n",
      "k=53: R2=0.029, MSE=1.696, MAE=1.003\n",
      "k=54: R2=0.030, MSE=1.695, MAE=1.002\n",
      "k=55: R2=0.030, MSE=1.695, MAE=1.001\n",
      "k=56: R2=0.030, MSE=1.695, MAE=1.000\n",
      "k=57: R2=0.030, MSE=1.695, MAE=0.999\n",
      "k=58: R2=0.031, MSE=1.693, MAE=0.998\n",
      "k=59: R2=0.030, MSE=1.694, MAE=0.999\n",
      "k=60: R2=0.031, MSE=1.694, MAE=0.998\n",
      "k=61: R2=0.031, MSE=1.694, MAE=0.997\n",
      "k=62: R2=0.030, MSE=1.695, MAE=0.997\n",
      "k=63: R2=0.030, MSE=1.695, MAE=0.997\n",
      "k=64: R2=0.029, MSE=1.696, MAE=0.997\n",
      "k=65: R2=0.029, MSE=1.697, MAE=0.998\n",
      "k=66: R2=0.029, MSE=1.696, MAE=0.998\n",
      "k=67: R2=0.030, MSE=1.696, MAE=0.997\n",
      "k=68: R2=0.030, MSE=1.696, MAE=0.997\n",
      "k=69: R2=0.030, MSE=1.694, MAE=0.996\n",
      "k=70: R2=0.031, MSE=1.693, MAE=0.996\n",
      "k=71: R2=0.030, MSE=1.694, MAE=0.995\n",
      "k=72: R2=0.031, MSE=1.693, MAE=0.994\n",
      "k=73: R2=0.032, MSE=1.692, MAE=0.994\n",
      "k=74: R2=0.031, MSE=1.693, MAE=0.995\n",
      "k=75: R2=0.031, MSE=1.692, MAE=0.995\n",
      "k=76: R2=0.032, MSE=1.692, MAE=0.994\n",
      "k=77: R2=0.032, MSE=1.691, MAE=0.994\n",
      "k=78: R2=0.032, MSE=1.692, MAE=0.994\n",
      "k=79: R2=0.032, MSE=1.692, MAE=0.994\n",
      "k=80: R2=0.032, MSE=1.692, MAE=0.994\n",
      "k=81: R2=0.032, MSE=1.692, MAE=0.995\n",
      "k=82: R2=0.032, MSE=1.692, MAE=0.994\n",
      "k=83: R2=0.032, MSE=1.691, MAE=0.994\n",
      "k=84: R2=0.032, MSE=1.692, MAE=0.995\n",
      "k=85: R2=0.031, MSE=1.692, MAE=0.995\n",
      "k=86: R2=0.031, MSE=1.693, MAE=0.994\n",
      "k=87: R2=0.031, MSE=1.693, MAE=0.995\n",
      "k=88: R2=0.031, MSE=1.694, MAE=0.995\n",
      "k=89: R2=0.031, MSE=1.692, MAE=0.994\n",
      "k=90: R2=0.031, MSE=1.693, MAE=0.994\n",
      "k=91: R2=0.031, MSE=1.693, MAE=0.993\n",
      "k=92: R2=0.031, MSE=1.693, MAE=0.994\n",
      "k=93: R2=0.031, MSE=1.693, MAE=0.994\n",
      "k=94: R2=0.031, MSE=1.693, MAE=0.993\n",
      "k=95: R2=0.032, MSE=1.691, MAE=0.993\n",
      "k=96: R2=0.033, MSE=1.690, MAE=0.992\n",
      "k=97: R2=0.032, MSE=1.691, MAE=0.993\n",
      "k=98: R2=0.033, MSE=1.690, MAE=0.992\n",
      "k=99: R2=0.033, MSE=1.690, MAE=0.992\n",
      "k=100: R2=0.033, MSE=1.690, MAE=0.992\n",
      "k=101: R2=0.033, MSE=1.690, MAE=0.991\n",
      "k=102: R2=0.032, MSE=1.691, MAE=0.992\n",
      "k=103: R2=0.032, MSE=1.691, MAE=0.992\n",
      "k=104: R2=0.032, MSE=1.692, MAE=0.992\n",
      "k=105: R2=0.031, MSE=1.693, MAE=0.992\n",
      "k=106: R2=0.030, MSE=1.694, MAE=0.992\n",
      "k=107: R2=0.031, MSE=1.693, MAE=0.992\n",
      "k=108: R2=0.031, MSE=1.693, MAE=0.991\n",
      "k=109: R2=0.031, MSE=1.693, MAE=0.991\n",
      "k=110: R2=0.031, MSE=1.693, MAE=0.991\n",
      "k=111: R2=0.031, MSE=1.694, MAE=0.991\n",
      "k=112: R2=0.031, MSE=1.693, MAE=0.990\n",
      "k=113: R2=0.031, MSE=1.693, MAE=0.990\n",
      "k=114: R2=0.031, MSE=1.692, MAE=0.990\n",
      "k=115: R2=0.031, MSE=1.693, MAE=0.989\n",
      "k=116: R2=0.031, MSE=1.692, MAE=0.989\n",
      "k=117: R2=0.031, MSE=1.692, MAE=0.989\n",
      "k=118: R2=0.032, MSE=1.691, MAE=0.989\n",
      "k=119: R2=0.033, MSE=1.690, MAE=0.989\n",
      "k=120: R2=0.033, MSE=1.690, MAE=0.989\n",
      "k=121: R2=0.033, MSE=1.689, MAE=0.989\n",
      "k=122: R2=0.033, MSE=1.689, MAE=0.989\n",
      "k=123: R2=0.033, MSE=1.689, MAE=0.988\n",
      "k=124: R2=0.034, MSE=1.688, MAE=0.988\n",
      "k=125: R2=0.034, MSE=1.687, MAE=0.988\n",
      "k=126: R2=0.034, MSE=1.687, MAE=0.988\n",
      "k=127: R2=0.034, MSE=1.687, MAE=0.988\n"
     ]
    }
   ],
   "source": [
    "from sklearn.neighbors import KNeighborsRegressor\n",
    "from sklearn.metrics import r2_score, mean_squared_error, mean_absolute_error\n",
    "\n",
    "# Lista dei valori di k da testare, includendo anche k=50\n",
    "k_values = list(range(1, 128))\n",
    "\n",
    "# Dizionari per memorizzare i risultati\n",
    "results = {\n",
    "    'k': [],\n",
    "    'R2': [],\n",
    "    'MSE': [],\n",
    "    'MAE': []\n",
    "}\n",
    "\n",
    "# Loop attraverso i diversi valori di k\n",
    "for k in k_values:\n",
    "    # Crea e addestra il modello\n",
    "    reg = KNeighborsRegressor(n_neighbors=k)\n",
    "    reg.fit(X_train, y_train)\n",
    "    \n",
    "    # Fai le previsioni sui dati di test\n",
    "    y_pred = reg.predict(X_test)\n",
    "    \n",
    "    # Calcola le metriche\n",
    "    r2 = r2_score(y_test, y_pred)\n",
    "    mse = mean_squared_error(y_test, y_pred)\n",
    "    mae = mean_absolute_error(y_test, y_pred)\n",
    "    \n",
    "    # Memorizza i risultati\n",
    "    results['k'].append(k)\n",
    "    results['R2'].append(r2)\n",
    "    results['MSE'].append(mse)\n",
    "    results['MAE'].append(mae)\n",
    "\n",
    "# Stampa i risultati\n",
    "for i in range(len(k_values)):\n",
    "    print(f\"k={results['k'][i]}: R2={results['R2'][i]:.3f}, MSE={results['MSE'][i]:.3f}, MAE={results['MAE'][i]:.3f}\")"
   ]
  },
  {
   "cell_type": "code",
   "execution_count": 81,
   "metadata": {},
   "outputs": [
    {
     "name": "stdout",
     "output_type": "stream",
     "text": [
      "R2: 0.034\n",
      "MSE: 1.687\n",
      "MAE: 0.988\n"
     ]
    }
   ],
   "source": [
    "reg = KNeighborsRegressor(n_neighbors=127)\n",
    "reg.fit(X_train, y_train)\n",
    "\n",
    "y_pred = reg.predict(X_test)\n",
    "print('R2: %.3f' % r2_score(y_test, y_pred))\n",
    "print('MSE: %.3f' % mean_squared_error(y_test, y_pred))\n",
    "print('MAE: %.3f' % mean_absolute_error(y_test, y_pred))"
   ]
  },
  {
   "cell_type": "code",
   "execution_count": 82,
   "metadata": {},
   "outputs": [
    {
     "data": {
      "image/png": "[encoded data removed]",
      "text/plain": [
       "<Figure size 640x480 with 1 Axes>"
      ]
     },
     "metadata": {},
     "output_type": "display_data"
    }
   ],
   "source": [
    "# Crea un nuovo DataFrame con le previsioni\n",
    "df_test_pred = pd.DataFrame({\n",
    "    'ReviewsTotal': df_train.loc[X_test.index, 'ReviewsTotal'],\n",
    "    'averageRating': y_test,\n",
    "    'Predicted': y_pred\n",
    "})\n",
    "\n",
    "# Crea il grafico usando il nuovo DataFrame\n",
    "sns.scatterplot(data=df_test_pred, x=\"ReviewsTotal\", y=\"averageRating\", label=\"True\")\n",
    "sns.scatterplot(data=df_test_pred, x=\"ReviewsTotal\", y=\"Predicted\", label=\"Predicted\", marker=\"X\")\n",
    "plt.legend()\n",
    "plt.show()"
   ]
  },
  {
   "cell_type": "markdown",
   "metadata": {},
   "source": [
    "# Multiple Regression"
   ]
  },
  {
   "cell_type": "markdown",
   "metadata": {},
   "source": [
    "### Num Votes"
   ]
  },
  {
   "cell_type": "code",
   "execution_count": 83,
   "metadata": {},
   "outputs": [
    {
     "data": {
      "text/html": [
       "<div>\n",
       "<style scoped>\n",
       "    .dataframe tbody tr th:only-of-type {\n",
       "        vertical-align: middle;\n",
       "    }\n",
       "\n",
       "    .dataframe tbody tr th {\n",
       "        vertical-align: top;\n",
       "    }\n",
       "\n",
       "    .dataframe thead th {\n",
       "        text-align: right;\n",
       "    }\n",
       "</style>\n",
       "<table border=\"1\" class=\"dataframe\">\n",
       "  <thead>\n",
       "    <tr style=\"text-align: right;\">\n",
       "      <th></th>\n",
       "      <th>originalTitle</th>\n",
       "      <th>rating</th>\n",
       "      <th>startYear</th>\n",
       "      <th>runtimeMinutes</th>\n",
       "      <th>awardWins</th>\n",
       "      <th>numVotes</th>\n",
       "      <th>totalImages</th>\n",
       "      <th>totalVideos</th>\n",
       "      <th>totalCredits</th>\n",
       "      <th>titleType</th>\n",
       "      <th>AwNmExWins</th>\n",
       "      <th>canHaveEpisodes</th>\n",
       "      <th>isAdult</th>\n",
       "      <th>numRegions</th>\n",
       "      <th>countryOfOrigin</th>\n",
       "      <th>genres</th>\n",
       "      <th>ratingMean</th>\n",
       "      <th>ReviewsTotal</th>\n",
       "      <th>averageRating</th>\n",
       "    </tr>\n",
       "  </thead>\n",
       "  <tbody>\n",
       "    <tr>\n",
       "      <th>0</th>\n",
       "      <td>Geologist of Animal Collective Performs Live a...</td>\n",
       "      <td>(9, 10]</td>\n",
       "      <td>2015</td>\n",
       "      <td>21</td>\n",
       "      <td>0.0</td>\n",
       "      <td>2.772589</td>\n",
       "      <td>2.079442</td>\n",
       "      <td>1.098612</td>\n",
       "      <td>11</td>\n",
       "      <td>video</td>\n",
       "      <td>0.0</td>\n",
       "      <td>False</td>\n",
       "      <td>False</td>\n",
       "      <td>1</td>\n",
       "      <td>['US']</td>\n",
       "      <td>Music,Short</td>\n",
       "      <td>9.5</td>\n",
       "      <td>0.000000</td>\n",
       "      <td>9.6</td>\n",
       "    </tr>\n",
       "    <tr>\n",
       "      <th>1</th>\n",
       "      <td>Shan gou 1999</td>\n",
       "      <td>(4, 5]</td>\n",
       "      <td>1999</td>\n",
       "      <td>93</td>\n",
       "      <td>0.0</td>\n",
       "      <td>5.720312</td>\n",
       "      <td>2.397895</td>\n",
       "      <td>0.000000</td>\n",
       "      <td>40</td>\n",
       "      <td>movie</td>\n",
       "      <td>0.0</td>\n",
       "      <td>False</td>\n",
       "      <td>False</td>\n",
       "      <td>4</td>\n",
       "      <td>['HK']</td>\n",
       "      <td>Horror</td>\n",
       "      <td>4.5</td>\n",
       "      <td>2.890372</td>\n",
       "      <td>4.3</td>\n",
       "    </tr>\n",
       "    <tr>\n",
       "      <th>2</th>\n",
       "      <td>The Craftsman: Preserving the Last Higgins Boat</td>\n",
       "      <td>(8, 9]</td>\n",
       "      <td>2023</td>\n",
       "      <td>113</td>\n",
       "      <td>0.0</td>\n",
       "      <td>2.397895</td>\n",
       "      <td>1.098612</td>\n",
       "      <td>0.000000</td>\n",
       "      <td>6</td>\n",
       "      <td>tvSpecial</td>\n",
       "      <td>0.0</td>\n",
       "      <td>False</td>\n",
       "      <td>False</td>\n",
       "      <td>1</td>\n",
       "      <td>['US']</td>\n",
       "      <td>Reality-TV</td>\n",
       "      <td>8.5</td>\n",
       "      <td>0.000000</td>\n",
       "      <td>8.8</td>\n",
       "    </tr>\n",
       "    <tr>\n",
       "      <th>3</th>\n",
       "      <td>Week 3: Tuesday</td>\n",
       "      <td>(6, 7]</td>\n",
       "      <td>2020</td>\n",
       "      <td>40</td>\n",
       "      <td>0.0</td>\n",
       "      <td>2.484907</td>\n",
       "      <td>0.000000</td>\n",
       "      <td>0.000000</td>\n",
       "      <td>52</td>\n",
       "      <td>tvEpisode</td>\n",
       "      <td>0.0</td>\n",
       "      <td>False</td>\n",
       "      <td>False</td>\n",
       "      <td>1</td>\n",
       "      <td>['GB']</td>\n",
       "      <td>Game-Show</td>\n",
       "      <td>6.5</td>\n",
       "      <td>0.000000</td>\n",
       "      <td>6.9</td>\n",
       "    </tr>\n",
       "    <tr>\n",
       "      <th>4</th>\n",
       "      <td>Traumhaus</td>\n",
       "      <td>(5, 6]</td>\n",
       "      <td>1999</td>\n",
       "      <td>90</td>\n",
       "      <td>0.0</td>\n",
       "      <td>4.983607</td>\n",
       "      <td>1.098612</td>\n",
       "      <td>0.000000</td>\n",
       "      <td>44</td>\n",
       "      <td>tvEpisode</td>\n",
       "      <td>0.0</td>\n",
       "      <td>False</td>\n",
       "      <td>False</td>\n",
       "      <td>1</td>\n",
       "      <td>['DE']</td>\n",
       "      <td>Crime,Drama,Mystery</td>\n",
       "      <td>5.5</td>\n",
       "      <td>0.693147</td>\n",
       "      <td>6.0</td>\n",
       "    </tr>\n",
       "  </tbody>\n",
       "</table>\n",
       "</div>"
      ],
      "text/plain": [
       "                                       originalTitle   rating  startYear  \\\n",
       "0  Geologist of Animal Collective Performs Live a...  (9, 10]       2015   \n",
       "1                                      Shan gou 1999   (4, 5]       1999   \n",
       "2    The Craftsman: Preserving the Last Higgins Boat   (8, 9]       2023   \n",
       "3                                    Week 3: Tuesday   (6, 7]       2020   \n",
       "4                                          Traumhaus   (5, 6]       1999   \n",
       "\n",
       "   runtimeMinutes  awardWins  numVotes  totalImages  totalVideos  \\\n",
       "0              21        0.0  2.772589     2.079442     1.098612   \n",
       "1              93        0.0  5.720312     2.397895     0.000000   \n",
       "2             113        0.0  2.397895     1.098612     0.000000   \n",
       "3              40        0.0  2.484907     0.000000     0.000000   \n",
       "4              90        0.0  4.983607     1.098612     0.000000   \n",
       "\n",
       "   totalCredits  titleType  AwNmExWins  canHaveEpisodes  isAdult  numRegions  \\\n",
       "0            11      video         0.0            False    False           1   \n",
       "1            40      movie         0.0            False    False           4   \n",
       "2             6  tvSpecial         0.0            False    False           1   \n",
       "3            52  tvEpisode         0.0            False    False           1   \n",
       "4            44  tvEpisode         0.0            False    False           1   \n",
       "\n",
       "  countryOfOrigin               genres  ratingMean  ReviewsTotal  \\\n",
       "0          ['US']          Music,Short         9.5      0.000000   \n",
       "1          ['HK']               Horror         4.5      2.890372   \n",
       "2          ['US']           Reality-TV         8.5      0.000000   \n",
       "3          ['GB']            Game-Show         6.5      0.000000   \n",
       "4          ['DE']  Crime,Drama,Mystery         5.5      0.693147   \n",
       "\n",
       "   averageRating  \n",
       "0            9.6  \n",
       "1            4.3  \n",
       "2            8.8  \n",
       "3            6.9  \n",
       "4            6.0  "
      ]
     },
     "execution_count": 83,
     "metadata": {},
     "output_type": "execute_result"
    }
   ],
   "source": [
    "import pandas as pd\n",
    "\n",
    "# Supponiamo di avere due DataFrame df1 e df2\n",
    "df_train_reg = pd.read_csv('train_reg.csv')\n",
    "\n",
    "df_train = pd.read_csv('train_log.csv')\n",
    "\n",
    "# Eseguiamo la left join\n",
    "df_train = pd.merge(df_train, df_train_reg, on='originalTitle', how='left')\n",
    "df_train.head()\n",
    "\n",
    "df_test_reg = pd.read_csv('test_reg.csv')\n",
    "\n",
    "df_test = pd.read_csv('test_log.csv')\n",
    "\n",
    "# Eseguiamo la left join\n",
    "df_test = pd.merge(df_test, df_test_reg, on='originalTitle', how='left')\n",
    "df_test.head()"
   ]
  },
  {
   "cell_type": "code",
   "execution_count": 84,
   "metadata": {},
   "outputs": [],
   "source": [
    "del df_train['originalTitle']\n",
    "del df_train['rating']\n",
    "del df_train['genres']\n",
    "del df_train['countryOfOrigin']\n",
    "del df_train['isAdult']\n",
    "del df_train['canHaveEpisodes']\n",
    "del df_train['titleType'] \n",
    "del df_train['ratingMean']"
   ]
  },
  {
   "cell_type": "code",
   "execution_count": 85,
   "metadata": {},
   "outputs": [],
   "source": [
    "del df_test['originalTitle']\n",
    "del df_test['rating']\n",
    "del df_test['genres']\n",
    "del df_test['countryOfOrigin']\n",
    "del df_test['isAdult']\n",
    "del df_test['canHaveEpisodes']\n",
    "del df_test['titleType'] \n",
    "del df_test['ratingMean']"
   ]
  },
  {
   "cell_type": "markdown",
   "metadata": {},
   "source": [
    "#### Reg"
   ]
  },
  {
   "cell_type": "code",
   "execution_count": 86,
   "metadata": {},
   "outputs": [],
   "source": [
    "from sklearn.metrics import r2_score, mean_squared_error, mean_absolute_error\n",
    "from sklearn.linear_model import LinearRegression, Ridge, Lasso"
   ]
  },
  {
   "cell_type": "code",
   "execution_count": 87,
   "metadata": {},
   "outputs": [],
   "source": [
    "# Selezioniamo le variabili indipendenti (input) e la variabile dipendente (target)\n",
    "X_train = df_train.drop(columns='numVotes')\n",
    "y_train = df_train['numVotes']\n",
    "\n",
    "X_test = df_test.drop(columns='numVotes')\n",
    "y_test = df_test['numVotes']\n",
    "# Dividiamo i dati in set di addestramento e di test\n",
    "#X_train, X_test, y_train, y_test = train_test_split(X, y, test_size=0.4)\n",
    "\n",
    "# Creiamo il modello di regressione lineare\n",
    "model = LinearRegression()"
   ]
  },
  {
   "cell_type": "code",
   "execution_count": 88,
   "metadata": {},
   "outputs": [],
   "source": [
    "from sklearn.preprocessing import StandardScaler\n",
    "\n",
    "scaler = StandardScaler()\n",
    "X_train_scaled = scaler.fit_transform(X_train)\n",
    "\n",
    "X_test_scaled = scaler.fit_transform(X_test)\n",
    "\n",
    "X_train_scaled = pd.DataFrame(X_train_scaled, columns=X_train.columns)\n",
    "X_test_scaled = pd.DataFrame(X_test_scaled, columns=X_test.columns)"
   ]
  },
  {
   "cell_type": "code",
   "execution_count": 89,
   "metadata": {},
   "outputs": [],
   "source": [
    "X_train_lin = X_train_scaled\n",
    "X_test_lin = X_test_scaled"
   ]
  },
  {
   "cell_type": "code",
   "execution_count": 90,
   "metadata": {},
   "outputs": [
    {
     "name": "stdout",
     "output_type": "stream",
     "text": [
      "          feature   VIF\n",
      "0       startYear  1.15\n",
      "1  runtimeMinutes  1.13\n",
      "2       awardWins  1.89\n",
      "3     totalImages  1.59\n",
      "4     totalVideos  1.52\n",
      "5    totalCredits  1.42\n",
      "6      AwNmExWins  2.14\n",
      "7      numRegions  1.79\n",
      "8    ReviewsTotal  2.19\n",
      "9   averageRating  1.10\n"
     ]
    }
   ],
   "source": [
    "from statsmodels.stats.outliers_influence import variance_inflation_factor\n",
    "import pandas as pd\n",
    "\n",
    "# Supponiamo che 'X' sia il DataFrame delle caratteristiche\n",
    "vif_data = pd.DataFrame()\n",
    "vif_data[\"feature\"] = X_train_lin.columns\n",
    "vif_data[\"VIF\"] = [variance_inflation_factor(X_train_lin.values, i) for i in range(len(X_train_lin.columns))]\n",
    "\n",
    "print(vif_data.round(2))"
   ]
  },
  {
   "cell_type": "code",
   "execution_count": 91,
   "metadata": {},
   "outputs": [],
   "source": [
    "# del X_train_lin['startYear']\n",
    "# # #del X_train['averageRating']\n",
    "\n",
    "# del X_test_lin['startYear']\n",
    "# # #del X_test['averageRating']"
   ]
  },
  {
   "cell_type": "code",
   "execution_count": 92,
   "metadata": {},
   "outputs": [],
   "source": [
    "# from statsmodels.stats.outliers_influence import variance_inflation_factor\n",
    "# import pandas as pd\n",
    "\n",
    "# # Supponiamo che 'X' sia il DataFrame delle caratteristiche\n",
    "# vif_data = pd.DataFrame()\n",
    "# vif_data[\"feature\"] =X_train_lin.columns\n",
    "# vif_data[\"VIF\"] = [variance_inflation_factor(X_train_lin.values, i) for i in range(len(X_train_lin.columns))]\n",
    "\n",
    "# print(vif_data)"
   ]
  },
  {
   "cell_type": "code",
   "execution_count": 93,
   "metadata": {},
   "outputs": [
    {
     "name": "stdout",
     "output_type": "stream",
     "text": [
      "Coefficients: \n",
      " [ 0.0056711 -0.0075317  0.013883   0.2659466 -0.0020942  0.2546774\n",
      " -0.0308766  0.0096762  1.1727236  0.067996 ]\n",
      "Intercept: \n",
      " 4.041986429992915\n"
     ]
    }
   ],
   "source": [
    "# Addestriamo il modello sui dati di addestramento\n",
    "model.fit(X_train_lin, y_train)\n",
    "\n",
    "print('Coefficients: \\n', model.coef_.round(7))\n",
    "print('Intercept: \\n', model.intercept_)\n",
    "\n",
    "# Facciamo previsioni sui dati di test\n",
    "y_pred = model.predict(X_test_lin)"
   ]
  },
  {
   "cell_type": "markdown",
   "metadata": {},
   "source": [
    "Vengono eliminate in contemporanea e cosi che numvotes arriva a un vif accettabili e la bonta del modello resta buona"
   ]
  },
  {
   "cell_type": "code",
   "execution_count": 94,
   "metadata": {},
   "outputs": [
    {
     "name": "stdout",
     "output_type": "stream",
     "text": [
      "R2: 0.687\n",
      "MSE: 0.933\n",
      "MAE: 0.734\n"
     ]
    }
   ],
   "source": [
    "print('R2: %.3f' % r2_score(y_test, y_pred))\n",
    "print('MSE: %.3f' % mean_squared_error(y_test, y_pred))\n",
    "print('MAE: %.3f' % mean_absolute_error(y_test, y_pred))"
   ]
  },
  {
   "cell_type": "markdown",
   "metadata": {},
   "source": [
    "Migliorato"
   ]
  },
  {
   "cell_type": "markdown",
   "metadata": {},
   "source": [
    "#### Ridge"
   ]
  },
  {
   "cell_type": "code",
   "execution_count": 95,
   "metadata": {},
   "outputs": [],
   "source": [
    "# Puoi usare la cross-validation per trovare il miglior valore di alpha\n",
    "from sklearn.model_selection import GridSearchCV\n",
    "\n",
    "# Definire i valori di alpha da testare\n",
    "alphas = np.logspace(-4, 4, 50)\n",
    "#alphas = [0.0001]\n",
    "\n",
    "ridge = Ridge()\n",
    "param_grid = {'alpha': alphas}\n",
    "grid_search = GridSearchCV(ridge, param_grid, cv=5, scoring='neg_mean_squared_error')"
   ]
  },
  {
   "cell_type": "code",
   "execution_count": 96,
   "metadata": {},
   "outputs": [
    {
     "name": "stdout",
     "output_type": "stream",
     "text": [
      "Coefficients: \n",
      " [ 0.00567107 -0.00753166  0.01388299  0.26594656 -0.00209421  0.25467744\n",
      " -0.03087665  0.00967621  1.17272357  0.06799597]\n",
      "Intercept: \n",
      " 4.041986429992915\n"
     ]
    }
   ],
   "source": [
    "grid_search.fit(X_train_scaled, y_train)\n",
    "\n",
    "print('Coefficients: \\n', model.coef_)\n",
    "print('Intercept: \\n', model.intercept_)"
   ]
  },
  {
   "cell_type": "code",
   "execution_count": 97,
   "metadata": {},
   "outputs": [
    {
     "name": "stdout",
     "output_type": "stream",
     "text": [
      "Best alpha: 11.513953993264458\n",
      "R²: 0.6874809166434466\n",
      "Mean Squared Error (MSE): 0.9324811276002003\n",
      "Mean Absolute Error (MAE): 0.7336896751101012\n"
     ]
    }
   ],
   "source": [
    "from sklearn.metrics import r2_score, mean_squared_error, mean_absolute_error\n",
    "\n",
    "best_alpha = grid_search.best_params_['alpha']\n",
    "print(f'Best alpha: {best_alpha}')\n",
    "\n",
    "best_ridge_model = grid_search.best_estimator_\n",
    "y_pred = best_ridge_model.predict(X_test_scaled)\n",
    "\n",
    "# Calcolare l'R²\n",
    "r2 = r2_score(y_test, y_pred)\n",
    "print(f'R²: {r2}')\n",
    "\n",
    "# Calcolare il Mean Squared Error (MSE)\n",
    "mse = mean_squared_error(y_test, y_pred)\n",
    "print(f'Mean Squared Error (MSE): {mse}')\n",
    "\n",
    "# Calcolare il Mean Absolute Error (MAE)\n",
    "mae = mean_absolute_error(y_test, y_pred)\n",
    "print(f'Mean Absolute Error (MAE): {mae}')"
   ]
  },
  {
   "cell_type": "markdown",
   "metadata": {},
   "source": [
    "#### Lasso"
   ]
  },
  {
   "cell_type": "code",
   "execution_count": 98,
   "metadata": {},
   "outputs": [],
   "source": [
    "# Puoi usare la cross-validation per trovare il miglior valore di alpha\n",
    "from sklearn.model_selection import GridSearchCV\n",
    "\n",
    "# Definire i valori di alpha da testare\n",
    "alphas = np.logspace(-4, 4, 50)\n",
    "\n",
    "\n",
    "lasso = Lasso()\n",
    "param_grid = {'alpha': alphas}\n",
    "grid_search = GridSearchCV(lasso, param_grid, cv=5, scoring='neg_mean_squared_error')"
   ]
  },
  {
   "cell_type": "code",
   "execution_count": 99,
   "metadata": {},
   "outputs": [
    {
     "name": "stdout",
     "output_type": "stream",
     "text": [
      "Coefficients: \n",
      " [ 0.00567107 -0.00753166  0.01388299  0.26594656 -0.00209421  0.25467744\n",
      " -0.03087665  0.00967621  1.17272357  0.06799597]\n",
      "Intercept: \n",
      " 4.041986429992915\n"
     ]
    }
   ],
   "source": [
    "grid_search.fit(X_train_scaled, y_train)\n",
    "\n",
    "print('Coefficients: \\n', model.coef_)\n",
    "print('Intercept: \\n', model.intercept_)"
   ]
  },
  {
   "cell_type": "code",
   "execution_count": 100,
   "metadata": {},
   "outputs": [
    {
     "name": "stdout",
     "output_type": "stream",
     "text": [
      "Best alpha: 0.0062505519252739694\n",
      "R²: 0.6876938391609255\n",
      "Mean Squared Error (MSE): 0.9318458184630499\n",
      "Mean Absolute Error (MAE): 0.733714053096254\n"
     ]
    }
   ],
   "source": [
    "from sklearn.metrics import r2_score, mean_squared_error, mean_absolute_error\n",
    "\n",
    "best_alpha = grid_search.best_params_['alpha']\n",
    "print(f'Best alpha: {best_alpha}')\n",
    "\n",
    "best_lasso_model = grid_search.best_estimator_\n",
    "y_pred = best_lasso_model.predict(X_test_scaled)\n",
    "\n",
    "# Calcolare l'R²\n",
    "r2 = r2_score(y_test, y_pred)\n",
    "print(f'R²: {r2}')\n",
    "\n",
    "# Calcolare il Mean Squared Error (MSE)\n",
    "mse = mean_squared_error(y_test, y_pred)\n",
    "print(f'Mean Squared Error (MSE): {mse}')\n",
    "\n",
    "# Calcolare il Mean Absolute Error (MAE)\n",
    "mae = mean_absolute_error(y_test, y_pred)\n",
    "print(f'Mean Absolute Error (MAE): {mae}')"
   ]
  },
  {
   "cell_type": "markdown",
   "metadata": {},
   "source": [
    "#### Decision Tree"
   ]
  },
  {
   "cell_type": "code",
   "execution_count": 101,
   "metadata": {},
   "outputs": [],
   "source": [
    "from sklearn.metrics import r2_score, mean_squared_error, mean_absolute_error\n",
    "from sklearn.linear_model import LinearRegression, Ridge, Lasso\n",
    "from sklearn.neighbors import KNeighborsRegressor\n",
    "from sklearn.tree import DecisionTreeRegressor"
   ]
  },
  {
   "cell_type": "code",
   "execution_count": 103,
   "metadata": {},
   "outputs": [
    {
     "name": "stdout",
     "output_type": "stream",
     "text": [
      "Best parameters found:  {'max_depth': 9, 'min_samples_leaf': 15, 'min_samples_split': 16}\n",
      "Best R2:  0.7166043480395317\n",
      "Best MSE:  0.8482677258301943\n",
      "Best MAE:  0.7021046074954731\n"
     ]
    }
   ],
   "source": [
    "from sklearn.model_selection import RandomizedSearchCV, cross_val_score\n",
    "from sklearn.metrics import make_scorer, r2_score, mean_squared_error, mean_absolute_error\n",
    "from sklearn.tree import DecisionTreeRegressor\n",
    "from scipy.stats import randint\n",
    "import numpy as np\n",
    "\n",
    "# Definisci la griglia dei parametri (includendo max_depth, min_samples_split e min_samples_leaf)\n",
    "param_dist = {\n",
    "    'max_depth': randint(1, 20),\n",
    "    'min_samples_split': randint(2, 20),\n",
    "    'min_samples_leaf': randint(1, 20)\n",
    "}\n",
    "\n",
    "# Crea il modello\n",
    "model = DecisionTreeRegressor()\n",
    "\n",
    "# Definisci le metriche di valutazione\n",
    "scoring = {\n",
    "    'R2': make_scorer(r2_score),\n",
    "    'MSE': make_scorer(mean_squared_error),\n",
    "    'MAE': make_scorer(mean_absolute_error)\n",
    "}\n",
    "\n",
    "# Esegui la Random Search\n",
    "random_search = RandomizedSearchCV(model, param_distributions=param_dist, n_iter=100, cv=10, scoring=scoring, refit='R2', random_state=42)\n",
    "random_search.fit(X_train, y_train)\n",
    "\n",
    "# Stampa i migliori parametri trovati\n",
    "print(\"Best parameters found: \", random_search.best_params_)\n",
    "\n",
    "# Stampa i punteggi per le metriche\n",
    "print(\"Best R2: \", random_search.best_score_)\n",
    "print(\"Best MSE: \", random_search.cv_results_['mean_test_MSE'][random_search.best_index_])\n",
    "print(\"Best MAE: \", random_search.cv_results_['mean_test_MAE'][random_search.best_index_])"
   ]
  },
  {
   "cell_type": "code",
   "execution_count": 104,
   "metadata": {},
   "outputs": [],
   "source": [
    "# Creiamo il modello di regressione lineare\n",
    "model = DecisionTreeRegressor(max_depth=7)\n",
    "\n",
    "# Addestriamo il modello sui dati di addestramento\n",
    "model.fit(X_train, y_train)\n",
    "\n",
    "# Facciamo previsioni sui dati di test\n",
    "y_pred = model.predict(X_test)"
   ]
  },
  {
   "cell_type": "code",
   "execution_count": 105,
   "metadata": {},
   "outputs": [
    {
     "name": "stdout",
     "output_type": "stream",
     "text": [
      "R2: 0.701\n",
      "MSE: 0.891\n",
      "MAE: 0.710\n"
     ]
    }
   ],
   "source": [
    "print('R2: %.3f' % r2_score(y_test, y_pred))\n",
    "print('MSE: %.3f' % mean_squared_error(y_test, y_pred))\n",
    "print('MAE: %.3f' % mean_absolute_error(y_test, y_pred))"
   ]
  },
  {
   "cell_type": "markdown",
   "metadata": {},
   "source": [
    "Migliorato"
   ]
  },
  {
   "cell_type": "markdown",
   "metadata": {},
   "source": [
    "#### K-nn"
   ]
  },
  {
   "cell_type": "code",
   "execution_count": 106,
   "metadata": {},
   "outputs": [
    {
     "name": "stdout",
     "output_type": "stream",
     "text": [
      "k=1: R2=0.501, MSE=1.489, MAE=0.890\n",
      "k=2: R2=0.613, MSE=1.154, MAE=0.788\n",
      "k=3: R2=0.650, MSE=1.045, MAE=0.755\n",
      "k=4: R2=0.666, MSE=0.996, MAE=0.739\n",
      "k=5: R2=0.679, MSE=0.959, MAE=0.726\n",
      "k=6: R2=0.688, MSE=0.930, MAE=0.718\n",
      "k=7: R2=0.694, MSE=0.913, MAE=0.713\n",
      "k=8: R2=0.698, MSE=0.901, MAE=0.708\n",
      "k=9: R2=0.701, MSE=0.891, MAE=0.703\n",
      "k=10: R2=0.703, MSE=0.887, MAE=0.700\n",
      "k=11: R2=0.703, MSE=0.885, MAE=0.700\n",
      "k=12: R2=0.704, MSE=0.882, MAE=0.700\n",
      "k=13: R2=0.704, MSE=0.882, MAE=0.700\n",
      "k=14: R2=0.704, MSE=0.884, MAE=0.701\n",
      "k=15: R2=0.704, MSE=0.883, MAE=0.701\n",
      "k=16: R2=0.705, MSE=0.881, MAE=0.701\n",
      "k=17: R2=0.705, MSE=0.879, MAE=0.701\n",
      "k=18: R2=0.706, MSE=0.877, MAE=0.700\n",
      "k=19: R2=0.707, MSE=0.875, MAE=0.699\n",
      "k=20: R2=0.706, MSE=0.876, MAE=0.700\n",
      "k=21: R2=0.707, MSE=0.876, MAE=0.701\n",
      "k=22: R2=0.707, MSE=0.874, MAE=0.701\n",
      "k=23: R2=0.707, MSE=0.873, MAE=0.701\n",
      "k=24: R2=0.708, MSE=0.872, MAE=0.701\n",
      "k=25: R2=0.708, MSE=0.872, MAE=0.701\n",
      "k=26: R2=0.708, MSE=0.871, MAE=0.702\n",
      "k=27: R2=0.708, MSE=0.871, MAE=0.702\n",
      "k=28: R2=0.709, MSE=0.869, MAE=0.702\n",
      "k=29: R2=0.709, MSE=0.869, MAE=0.702\n",
      "k=30: R2=0.709, MSE=0.869, MAE=0.702\n",
      "k=31: R2=0.709, MSE=0.868, MAE=0.701\n",
      "k=32: R2=0.709, MSE=0.867, MAE=0.701\n",
      "k=33: R2=0.709, MSE=0.868, MAE=0.702\n",
      "k=34: R2=0.709, MSE=0.869, MAE=0.702\n",
      "k=35: R2=0.709, MSE=0.869, MAE=0.703\n",
      "k=36: R2=0.708, MSE=0.871, MAE=0.703\n",
      "k=37: R2=0.708, MSE=0.873, MAE=0.704\n",
      "k=38: R2=0.707, MSE=0.873, MAE=0.704\n",
      "k=39: R2=0.708, MSE=0.872, MAE=0.704\n",
      "k=40: R2=0.708, MSE=0.872, MAE=0.704\n",
      "k=41: R2=0.707, MSE=0.873, MAE=0.704\n",
      "k=42: R2=0.707, MSE=0.874, MAE=0.704\n",
      "k=43: R2=0.707, MSE=0.874, MAE=0.705\n",
      "k=44: R2=0.707, MSE=0.875, MAE=0.705\n",
      "k=45: R2=0.707, MSE=0.875, MAE=0.705\n",
      "k=46: R2=0.707, MSE=0.876, MAE=0.705\n",
      "k=47: R2=0.706, MSE=0.877, MAE=0.706\n",
      "k=48: R2=0.706, MSE=0.877, MAE=0.706\n",
      "k=49: R2=0.706, MSE=0.877, MAE=0.707\n",
      "k=50: R2=0.706, MSE=0.878, MAE=0.707\n",
      "k=51: R2=0.706, MSE=0.879, MAE=0.707\n",
      "k=52: R2=0.705, MSE=0.879, MAE=0.707\n",
      "k=53: R2=0.705, MSE=0.880, MAE=0.707\n",
      "k=54: R2=0.705, MSE=0.880, MAE=0.707\n",
      "k=55: R2=0.705, MSE=0.880, MAE=0.707\n",
      "k=56: R2=0.705, MSE=0.881, MAE=0.707\n",
      "k=57: R2=0.704, MSE=0.882, MAE=0.708\n",
      "k=58: R2=0.704, MSE=0.883, MAE=0.708\n",
      "k=59: R2=0.704, MSE=0.884, MAE=0.708\n",
      "k=60: R2=0.704, MSE=0.884, MAE=0.708\n",
      "k=61: R2=0.704, MSE=0.884, MAE=0.708\n",
      "k=62: R2=0.704, MSE=0.884, MAE=0.708\n",
      "k=63: R2=0.704, MSE=0.885, MAE=0.709\n",
      "k=64: R2=0.703, MSE=0.885, MAE=0.709\n",
      "k=65: R2=0.703, MSE=0.885, MAE=0.709\n",
      "k=66: R2=0.703, MSE=0.887, MAE=0.710\n",
      "k=67: R2=0.703, MSE=0.887, MAE=0.710\n",
      "k=68: R2=0.703, MSE=0.886, MAE=0.710\n",
      "k=69: R2=0.703, MSE=0.886, MAE=0.710\n",
      "k=70: R2=0.703, MSE=0.886, MAE=0.710\n",
      "k=71: R2=0.703, MSE=0.886, MAE=0.710\n",
      "k=72: R2=0.703, MSE=0.886, MAE=0.710\n",
      "k=73: R2=0.703, MSE=0.887, MAE=0.710\n",
      "k=74: R2=0.703, MSE=0.887, MAE=0.710\n",
      "k=75: R2=0.703, MSE=0.887, MAE=0.711\n",
      "k=76: R2=0.703, MSE=0.887, MAE=0.711\n",
      "k=77: R2=0.703, MSE=0.887, MAE=0.711\n",
      "k=78: R2=0.703, MSE=0.887, MAE=0.711\n",
      "k=79: R2=0.702, MSE=0.888, MAE=0.711\n",
      "k=80: R2=0.702, MSE=0.888, MAE=0.711\n",
      "k=81: R2=0.702, MSE=0.889, MAE=0.711\n",
      "k=82: R2=0.702, MSE=0.889, MAE=0.712\n",
      "k=83: R2=0.702, MSE=0.889, MAE=0.712\n",
      "k=84: R2=0.702, MSE=0.889, MAE=0.712\n",
      "k=85: R2=0.702, MSE=0.890, MAE=0.712\n",
      "k=86: R2=0.702, MSE=0.890, MAE=0.713\n",
      "k=87: R2=0.702, MSE=0.890, MAE=0.713\n",
      "k=88: R2=0.701, MSE=0.891, MAE=0.713\n",
      "k=89: R2=0.701, MSE=0.892, MAE=0.714\n",
      "k=90: R2=0.701, MSE=0.892, MAE=0.714\n",
      "k=91: R2=0.701, MSE=0.893, MAE=0.715\n",
      "k=92: R2=0.701, MSE=0.893, MAE=0.715\n",
      "k=93: R2=0.701, MSE=0.894, MAE=0.715\n",
      "k=94: R2=0.700, MSE=0.894, MAE=0.716\n",
      "k=95: R2=0.700, MSE=0.895, MAE=0.716\n",
      "k=96: R2=0.700, MSE=0.896, MAE=0.716\n",
      "k=97: R2=0.700, MSE=0.896, MAE=0.716\n",
      "k=98: R2=0.700, MSE=0.896, MAE=0.716\n",
      "k=99: R2=0.700, MSE=0.896, MAE=0.716\n",
      "k=100: R2=0.699, MSE=0.897, MAE=0.717\n",
      "k=101: R2=0.699, MSE=0.897, MAE=0.717\n",
      "k=102: R2=0.699, MSE=0.898, MAE=0.717\n",
      "k=103: R2=0.699, MSE=0.898, MAE=0.717\n",
      "k=104: R2=0.699, MSE=0.898, MAE=0.717\n",
      "k=105: R2=0.699, MSE=0.899, MAE=0.717\n",
      "k=106: R2=0.699, MSE=0.900, MAE=0.717\n",
      "k=107: R2=0.698, MSE=0.900, MAE=0.718\n",
      "k=108: R2=0.698, MSE=0.901, MAE=0.718\n",
      "k=109: R2=0.698, MSE=0.901, MAE=0.718\n",
      "k=110: R2=0.698, MSE=0.902, MAE=0.718\n",
      "k=111: R2=0.698, MSE=0.902, MAE=0.718\n",
      "k=112: R2=0.697, MSE=0.903, MAE=0.719\n",
      "k=113: R2=0.697, MSE=0.903, MAE=0.719\n",
      "k=114: R2=0.697, MSE=0.904, MAE=0.719\n",
      "k=115: R2=0.697, MSE=0.904, MAE=0.719\n",
      "k=116: R2=0.697, MSE=0.904, MAE=0.719\n",
      "k=117: R2=0.697, MSE=0.904, MAE=0.719\n",
      "k=118: R2=0.697, MSE=0.904, MAE=0.719\n",
      "k=119: R2=0.697, MSE=0.904, MAE=0.719\n",
      "k=120: R2=0.697, MSE=0.904, MAE=0.719\n",
      "k=121: R2=0.697, MSE=0.905, MAE=0.719\n",
      "k=122: R2=0.697, MSE=0.905, MAE=0.719\n",
      "k=123: R2=0.697, MSE=0.906, MAE=0.719\n",
      "k=124: R2=0.696, MSE=0.906, MAE=0.720\n",
      "k=125: R2=0.696, MSE=0.906, MAE=0.720\n",
      "k=126: R2=0.696, MSE=0.907, MAE=0.720\n",
      "k=127: R2=0.696, MSE=0.906, MAE=0.720\n"
     ]
    }
   ],
   "source": [
    "from sklearn.neighbors import KNeighborsRegressor\n",
    "from sklearn.metrics import r2_score, mean_squared_error, mean_absolute_error\n",
    "\n",
    "# Lista dei valori di k da testare, includendo anche k=50\n",
    "k_values = list(range(1, 128))\n",
    "\n",
    "# Dizionari per memorizzare i risultati\n",
    "results = {\n",
    "    'k': [],\n",
    "    'R2': [],\n",
    "    'MSE': [],\n",
    "    'MAE': []\n",
    "}\n",
    "\n",
    "# Loop attraverso i diversi valori di k\n",
    "for k in k_values:\n",
    "    # Crea e addestra il modello\n",
    "    reg = KNeighborsRegressor(n_neighbors=k)\n",
    "    reg.fit(X_train_scaled, y_train)\n",
    "    \n",
    "    # Fai le previsioni sui dati di test\n",
    "    y_pred = reg.predict(X_test_scaled)\n",
    "    \n",
    "    # Calcola le metriche\n",
    "    r2 = r2_score(y_test, y_pred)\n",
    "    mse = mean_squared_error(y_test, y_pred)\n",
    "    mae = mean_absolute_error(y_test, y_pred)\n",
    "    \n",
    "    # Memorizza i risultati\n",
    "    results['k'].append(k)\n",
    "    results['R2'].append(r2)\n",
    "    results['MSE'].append(mse)\n",
    "    results['MAE'].append(mae)\n",
    "\n",
    "# Stampa i risultati\n",
    "for i in range(len(k_values)):\n",
    "    print(f\"k={results['k'][i]}: R2={results['R2'][i]:.3f}, MSE={results['MSE'][i]:.3f}, MAE={results['MAE'][i]:.3f}\")"
   ]
  },
  {
   "cell_type": "code",
   "execution_count": 107,
   "metadata": {},
   "outputs": [],
   "source": [
    "# Creiamo il modello di regressione lineare\n",
    "model = KNeighborsRegressor(n_neighbors = 32)\n",
    "\n",
    "# Addestriamo il modello sui dati di addestramento\n",
    "model.fit(X_train_scaled, y_train)\n",
    "\n",
    "# Facciamo previsioni sui dati di test\n",
    "y_pred = model.predict(X_test_scaled)"
   ]
  },
  {
   "cell_type": "code",
   "execution_count": 108,
   "metadata": {},
   "outputs": [
    {
     "name": "stdout",
     "output_type": "stream",
     "text": [
      "R2: 0.709\n",
      "MSE: 0.867\n",
      "MAE: 0.701\n"
     ]
    }
   ],
   "source": [
    "print('R2: %.3f' % r2_score(y_test, y_pred))\n",
    "print('MSE: %.3f' % mean_squared_error(y_test, y_pred))\n",
    "print('MAE: %.3f' % mean_absolute_error(y_test, y_pred))"
   ]
  },
  {
   "cell_type": "markdown",
   "metadata": {},
   "source": [
    "### Average Rating"
   ]
  },
  {
   "cell_type": "code",
   "execution_count": 109,
   "metadata": {},
   "outputs": [
    {
     "data": {
      "text/html": [
       "<div>\n",
       "<style scoped>\n",
       "    .dataframe tbody tr th:only-of-type {\n",
       "        vertical-align: middle;\n",
       "    }\n",
       "\n",
       "    .dataframe tbody tr th {\n",
       "        vertical-align: top;\n",
       "    }\n",
       "\n",
       "    .dataframe thead th {\n",
       "        text-align: right;\n",
       "    }\n",
       "</style>\n",
       "<table border=\"1\" class=\"dataframe\">\n",
       "  <thead>\n",
       "    <tr style=\"text-align: right;\">\n",
       "      <th></th>\n",
       "      <th>originalTitle</th>\n",
       "      <th>rating</th>\n",
       "      <th>startYear</th>\n",
       "      <th>runtimeMinutes</th>\n",
       "      <th>awardWins</th>\n",
       "      <th>numVotes</th>\n",
       "      <th>totalImages</th>\n",
       "      <th>totalVideos</th>\n",
       "      <th>totalCredits</th>\n",
       "      <th>titleType</th>\n",
       "      <th>AwNmExWins</th>\n",
       "      <th>canHaveEpisodes</th>\n",
       "      <th>isAdult</th>\n",
       "      <th>numRegions</th>\n",
       "      <th>countryOfOrigin</th>\n",
       "      <th>genres</th>\n",
       "      <th>ratingMean</th>\n",
       "      <th>ReviewsTotal</th>\n",
       "      <th>averageRating</th>\n",
       "    </tr>\n",
       "  </thead>\n",
       "  <tbody>\n",
       "    <tr>\n",
       "      <th>0</th>\n",
       "      <td>Geologist of Animal Collective Performs Live a...</td>\n",
       "      <td>(9, 10]</td>\n",
       "      <td>2015</td>\n",
       "      <td>21</td>\n",
       "      <td>0.0</td>\n",
       "      <td>2.772589</td>\n",
       "      <td>2.079442</td>\n",
       "      <td>1.098612</td>\n",
       "      <td>11</td>\n",
       "      <td>video</td>\n",
       "      <td>0.0</td>\n",
       "      <td>False</td>\n",
       "      <td>False</td>\n",
       "      <td>1</td>\n",
       "      <td>['US']</td>\n",
       "      <td>Music,Short</td>\n",
       "      <td>9.5</td>\n",
       "      <td>0.000000</td>\n",
       "      <td>9.6</td>\n",
       "    </tr>\n",
       "    <tr>\n",
       "      <th>1</th>\n",
       "      <td>Shan gou 1999</td>\n",
       "      <td>(4, 5]</td>\n",
       "      <td>1999</td>\n",
       "      <td>93</td>\n",
       "      <td>0.0</td>\n",
       "      <td>5.720312</td>\n",
       "      <td>2.397895</td>\n",
       "      <td>0.000000</td>\n",
       "      <td>40</td>\n",
       "      <td>movie</td>\n",
       "      <td>0.0</td>\n",
       "      <td>False</td>\n",
       "      <td>False</td>\n",
       "      <td>4</td>\n",
       "      <td>['HK']</td>\n",
       "      <td>Horror</td>\n",
       "      <td>4.5</td>\n",
       "      <td>2.890372</td>\n",
       "      <td>4.3</td>\n",
       "    </tr>\n",
       "    <tr>\n",
       "      <th>2</th>\n",
       "      <td>The Craftsman: Preserving the Last Higgins Boat</td>\n",
       "      <td>(8, 9]</td>\n",
       "      <td>2023</td>\n",
       "      <td>113</td>\n",
       "      <td>0.0</td>\n",
       "      <td>2.397895</td>\n",
       "      <td>1.098612</td>\n",
       "      <td>0.000000</td>\n",
       "      <td>6</td>\n",
       "      <td>tvSpecial</td>\n",
       "      <td>0.0</td>\n",
       "      <td>False</td>\n",
       "      <td>False</td>\n",
       "      <td>1</td>\n",
       "      <td>['US']</td>\n",
       "      <td>Reality-TV</td>\n",
       "      <td>8.5</td>\n",
       "      <td>0.000000</td>\n",
       "      <td>8.8</td>\n",
       "    </tr>\n",
       "    <tr>\n",
       "      <th>3</th>\n",
       "      <td>Week 3: Tuesday</td>\n",
       "      <td>(6, 7]</td>\n",
       "      <td>2020</td>\n",
       "      <td>40</td>\n",
       "      <td>0.0</td>\n",
       "      <td>2.484907</td>\n",
       "      <td>0.000000</td>\n",
       "      <td>0.000000</td>\n",
       "      <td>52</td>\n",
       "      <td>tvEpisode</td>\n",
       "      <td>0.0</td>\n",
       "      <td>False</td>\n",
       "      <td>False</td>\n",
       "      <td>1</td>\n",
       "      <td>['GB']</td>\n",
       "      <td>Game-Show</td>\n",
       "      <td>6.5</td>\n",
       "      <td>0.000000</td>\n",
       "      <td>6.9</td>\n",
       "    </tr>\n",
       "    <tr>\n",
       "      <th>4</th>\n",
       "      <td>Traumhaus</td>\n",
       "      <td>(5, 6]</td>\n",
       "      <td>1999</td>\n",
       "      <td>90</td>\n",
       "      <td>0.0</td>\n",
       "      <td>4.983607</td>\n",
       "      <td>1.098612</td>\n",
       "      <td>0.000000</td>\n",
       "      <td>44</td>\n",
       "      <td>tvEpisode</td>\n",
       "      <td>0.0</td>\n",
       "      <td>False</td>\n",
       "      <td>False</td>\n",
       "      <td>1</td>\n",
       "      <td>['DE']</td>\n",
       "      <td>Crime,Drama,Mystery</td>\n",
       "      <td>5.5</td>\n",
       "      <td>0.693147</td>\n",
       "      <td>6.0</td>\n",
       "    </tr>\n",
       "  </tbody>\n",
       "</table>\n",
       "</div>"
      ],
      "text/plain": [
       "                                       originalTitle   rating  startYear  \\\n",
       "0  Geologist of Animal Collective Performs Live a...  (9, 10]       2015   \n",
       "1                                      Shan gou 1999   (4, 5]       1999   \n",
       "2    The Craftsman: Preserving the Last Higgins Boat   (8, 9]       2023   \n",
       "3                                    Week 3: Tuesday   (6, 7]       2020   \n",
       "4                                          Traumhaus   (5, 6]       1999   \n",
       "\n",
       "   runtimeMinutes  awardWins  numVotes  totalImages  totalVideos  \\\n",
       "0              21        0.0  2.772589     2.079442     1.098612   \n",
       "1              93        0.0  5.720312     2.397895     0.000000   \n",
       "2             113        0.0  2.397895     1.098612     0.000000   \n",
       "3              40        0.0  2.484907     0.000000     0.000000   \n",
       "4              90        0.0  4.983607     1.098612     0.000000   \n",
       "\n",
       "   totalCredits  titleType  AwNmExWins  canHaveEpisodes  isAdult  numRegions  \\\n",
       "0            11      video         0.0            False    False           1   \n",
       "1            40      movie         0.0            False    False           4   \n",
       "2             6  tvSpecial         0.0            False    False           1   \n",
       "3            52  tvEpisode         0.0            False    False           1   \n",
       "4            44  tvEpisode         0.0            False    False           1   \n",
       "\n",
       "  countryOfOrigin               genres  ratingMean  ReviewsTotal  \\\n",
       "0          ['US']          Music,Short         9.5      0.000000   \n",
       "1          ['HK']               Horror         4.5      2.890372   \n",
       "2          ['US']           Reality-TV         8.5      0.000000   \n",
       "3          ['GB']            Game-Show         6.5      0.000000   \n",
       "4          ['DE']  Crime,Drama,Mystery         5.5      0.693147   \n",
       "\n",
       "   averageRating  \n",
       "0            9.6  \n",
       "1            4.3  \n",
       "2            8.8  \n",
       "3            6.9  \n",
       "4            6.0  "
      ]
     },
     "execution_count": 109,
     "metadata": {},
     "output_type": "execute_result"
    }
   ],
   "source": [
    "import pandas as pd\n",
    "\n",
    "# Supponiamo di avere due DataFrame df1 e df2\n",
    "df_train_reg = pd.read_csv('train_reg.csv')\n",
    "\n",
    "df_train = pd.read_csv('train_log.csv')\n",
    "\n",
    "# Eseguiamo la left join\n",
    "df_train = pd.merge(df_train, df_train_reg, on='originalTitle', how='left')\n",
    "df_train.head()\n",
    "\n",
    "df_test_reg = pd.read_csv('test_reg.csv')\n",
    "\n",
    "df_test = pd.read_csv('test_log.csv')\n",
    "\n",
    "# Eseguiamo la left join\n",
    "df_test = pd.merge(df_test, df_test_reg, on='originalTitle', how='left')\n",
    "df_test.head()"
   ]
  },
  {
   "cell_type": "code",
   "execution_count": 110,
   "metadata": {},
   "outputs": [],
   "source": [
    "del df_train['originalTitle']\n",
    "del df_train['rating']\n",
    "del df_train['genres']\n",
    "del df_train['countryOfOrigin']\n",
    "del df_train['isAdult']\n",
    "del df_train['canHaveEpisodes']\n",
    "del df_train['titleType'] \n",
    "del df_train['ratingMean']"
   ]
  },
  {
   "cell_type": "code",
   "execution_count": 111,
   "metadata": {},
   "outputs": [],
   "source": [
    "del df_test['originalTitle']\n",
    "del df_test['rating']\n",
    "del df_test['genres']\n",
    "del df_test['countryOfOrigin']\n",
    "del df_test['isAdult']\n",
    "del df_test['canHaveEpisodes']\n",
    "del df_test['titleType'] \n",
    "del df_test['ratingMean']"
   ]
  },
  {
   "cell_type": "markdown",
   "metadata": {},
   "source": [
    "#### Reg"
   ]
  },
  {
   "cell_type": "code",
   "execution_count": 112,
   "metadata": {},
   "outputs": [],
   "source": [
    "from sklearn.metrics import r2_score, mean_squared_error, mean_absolute_error\n",
    "from sklearn.linear_model import LinearRegression, Ridge, Lasso"
   ]
  },
  {
   "cell_type": "code",
   "execution_count": 113,
   "metadata": {},
   "outputs": [],
   "source": [
    "# Selezioniamo le variabili indipendenti (input) e la variabile dipendente (target)\n",
    "X_train = df_train.drop(columns='averageRating')\n",
    "y_train = df_train['averageRating']\n",
    "\n",
    "X_test = df_test.drop(columns='averageRating')\n",
    "y_test = df_test['averageRating']\n",
    "# Dividiamo i dati in set di addestramento e di test\n",
    "#X_train, X_test, y_train, y_test = train_test_split(X, y, test_size=0.4)\n",
    "\n",
    "# Creiamo il modello di regressione lineare\n",
    "model = LinearRegression()"
   ]
  },
  {
   "cell_type": "code",
   "execution_count": 114,
   "metadata": {},
   "outputs": [],
   "source": [
    "from sklearn.preprocessing import StandardScaler\n",
    "\n",
    "scaler = StandardScaler()\n",
    "X_train_scaled = scaler.fit_transform(X_train)\n",
    "\n",
    "X_test_scaled = scaler.fit_transform(X_test)\n",
    "\n",
    "X_train_scaled = pd.DataFrame(X_train_scaled, columns=X_train.columns)\n",
    "X_test_scaled = pd.DataFrame(X_test_scaled, columns=X_test.columns)"
   ]
  },
  {
   "cell_type": "code",
   "execution_count": 115,
   "metadata": {},
   "outputs": [],
   "source": [
    "X_train_lin = X_train_scaled\n",
    "X_test_lin = X_test_scaled"
   ]
  },
  {
   "cell_type": "code",
   "execution_count": 116,
   "metadata": {},
   "outputs": [
    {
     "name": "stdout",
     "output_type": "stream",
     "text": [
      "          feature   VIF\n",
      "0       startYear  1.11\n",
      "1  runtimeMinutes  1.10\n",
      "2       awardWins  1.89\n",
      "3        numVotes  3.39\n",
      "4     totalImages  1.66\n",
      "5     totalVideos  1.52\n",
      "6    totalCredits  1.49\n",
      "7      AwNmExWins  2.14\n",
      "8      numRegions  1.79\n",
      "9    ReviewsTotal  3.70\n"
     ]
    }
   ],
   "source": [
    "from statsmodels.stats.outliers_influence import variance_inflation_factor\n",
    "import pandas as pd\n",
    "\n",
    "# Supponiamo che 'X' sia il DataFrame delle caratteristiche\n",
    "vif_data = pd.DataFrame()\n",
    "vif_data[\"feature\"] = X_train_lin.columns\n",
    "vif_data[\"VIF\"] = [variance_inflation_factor(X_train_lin.values, i) for i in range(len(X_train_lin.columns))]\n",
    "\n",
    "print(vif_data.round(2))"
   ]
  },
  {
   "cell_type": "code",
   "execution_count": 117,
   "metadata": {},
   "outputs": [
    {
     "name": "stdout",
     "output_type": "stream",
     "text": [
      "Coefficients: \n",
      " [ 0.2476579 -0.2018385  0.0858825  0.1534807  0.0418078 -0.0687101\n",
      "  0.0647669 -0.0132861  0.0065485 -0.2497965]\n",
      "Intercept: \n",
      " 6.8423805601317955\n"
     ]
    }
   ],
   "source": [
    "# Addestriamo il modello sui dati di addestramento\n",
    "model.fit(X_train_lin, y_train)\n",
    "\n",
    "print('Coefficients: \\n', model.coef_.round(7))\n",
    "print('Intercept: \\n', model.intercept_)\n",
    "\n",
    "# Facciamo previsioni sui dati di test\n",
    "y_pred = model.predict(X_test_lin)"
   ]
  },
  {
   "cell_type": "code",
   "execution_count": 118,
   "metadata": {},
   "outputs": [
    {
     "name": "stdout",
     "output_type": "stream",
     "text": [
      "R2: 0.080\n",
      "MSE: 1.608\n",
      "MAE: 0.955\n"
     ]
    }
   ],
   "source": [
    "print('R2: %.3f' % r2_score(y_test, y_pred))\n",
    "print('MSE: %.3f' % mean_squared_error(y_test, y_pred))\n",
    "print('MAE: %.3f' % mean_absolute_error(y_test, y_pred))"
   ]
  },
  {
   "cell_type": "markdown",
   "metadata": {},
   "source": [
    "#### Ridge"
   ]
  },
  {
   "cell_type": "code",
   "execution_count": 119,
   "metadata": {},
   "outputs": [],
   "source": [
    "# Puoi usare la cross-validation per trovare il miglior valore di alpha\n",
    "from sklearn.model_selection import GridSearchCV\n",
    "\n",
    "# Definire i valori di alpha da testare\n",
    "alphas = np.logspace(-4, 4, 50)\n",
    "alphas = [0.0001]\n",
    "\n",
    "ridge = Ridge()\n",
    "param_grid = {'alpha': alphas}\n",
    "grid_search = GridSearchCV(ridge, param_grid, cv=5, scoring='neg_mean_squared_error')"
   ]
  },
  {
   "cell_type": "code",
   "execution_count": 120,
   "metadata": {},
   "outputs": [
    {
     "name": "stdout",
     "output_type": "stream",
     "text": [
      "Coefficients: \n",
      " [ 0.24765793 -0.2018385   0.08588245  0.1534807   0.0418078  -0.06871013\n",
      "  0.06476686 -0.01328612  0.00654849 -0.2497965 ]\n",
      "Intercept: \n",
      " 6.8423805601317955\n"
     ]
    }
   ],
   "source": [
    "grid_search.fit(X_train_scaled, y_train)\n",
    "\n",
    "print('Coefficients: \\n', model.coef_)\n",
    "print('Intercept: \\n', model.intercept_)"
   ]
  },
  {
   "cell_type": "code",
   "execution_count": 121,
   "metadata": {},
   "outputs": [
    {
     "name": "stdout",
     "output_type": "stream",
     "text": [
      "Best alpha: 0.0001\n",
      "R²: 0.0797145869520367\n",
      "Mean Squared Error (MSE): 1.6078902472969643\n",
      "Mean Absolute Error (MAE): 0.9545879065884946\n"
     ]
    }
   ],
   "source": [
    "from sklearn.metrics import r2_score, mean_squared_error, mean_absolute_error\n",
    "\n",
    "best_alpha = grid_search.best_params_['alpha']\n",
    "print(f'Best alpha: {best_alpha}')\n",
    "\n",
    "best_ridge_model = grid_search.best_estimator_\n",
    "y_pred = best_ridge_model.predict(X_test_scaled)\n",
    "\n",
    "# Calcolare l'R²\n",
    "r2 = r2_score(y_test, y_pred)\n",
    "print(f'R²: {r2}')\n",
    "\n",
    "# Calcolare il Mean Squared Error (MSE)\n",
    "mse = mean_squared_error(y_test, y_pred)\n",
    "print(f'Mean Squared Error (MSE): {mse}')\n",
    "\n",
    "# Calcolare il Mean Absolute Error (MAE)\n",
    "mae = mean_absolute_error(y_test, y_pred)\n",
    "print(f'Mean Absolute Error (MAE): {mae}')"
   ]
  },
  {
   "cell_type": "markdown",
   "metadata": {},
   "source": [
    "#### Lasso"
   ]
  },
  {
   "cell_type": "code",
   "execution_count": 122,
   "metadata": {},
   "outputs": [],
   "source": [
    "# Puoi usare la cross-validation per trovare il miglior valore di alpha\n",
    "from sklearn.model_selection import GridSearchCV\n",
    "\n",
    "# Definire i valori di alpha da testare\n",
    "alphas = np.logspace(-4, 4, 50)\n",
    "\n",
    "\n",
    "lasso = Lasso()\n",
    "param_grid = {'alpha': alphas}\n",
    "grid_search = GridSearchCV(lasso, param_grid, cv=5, scoring='neg_mean_squared_error')"
   ]
  },
  {
   "cell_type": "code",
   "execution_count": 123,
   "metadata": {},
   "outputs": [
    {
     "name": "stdout",
     "output_type": "stream",
     "text": [
      "Coefficients: \n",
      " [ 0.24765793 -0.2018385   0.08588245  0.1534807   0.0418078  -0.06871013\n",
      "  0.06476686 -0.01328612  0.00654849 -0.2497965 ]\n",
      "Intercept: \n",
      " 6.8423805601317955\n"
     ]
    }
   ],
   "source": [
    "grid_search.fit(X_train_scaled, y_train)\n",
    "\n",
    "print('Coefficients: \\n', model.coef_)\n",
    "print('Intercept: \\n', model.intercept_)"
   ]
  },
  {
   "cell_type": "code",
   "execution_count": 124,
   "metadata": {},
   "outputs": [
    {
     "name": "stdout",
     "output_type": "stream",
     "text": [
      "Best alpha: 0.0029470517025518097\n",
      "R²: 0.0796811291093188\n",
      "Mean Squared Error (MSE): 1.6079487036608693\n",
      "Mean Absolute Error (MAE): 0.9545234266145509\n"
     ]
    }
   ],
   "source": [
    "from sklearn.metrics import r2_score, mean_squared_error, mean_absolute_error\n",
    "\n",
    "best_alpha = grid_search.best_params_['alpha']\n",
    "print(f'Best alpha: {best_alpha}')\n",
    "\n",
    "best_lasso_model = grid_search.best_estimator_\n",
    "y_pred = best_lasso_model.predict(X_test_scaled)\n",
    "\n",
    "# Calcolare l'R²\n",
    "r2 = r2_score(y_test, y_pred)\n",
    "print(f'R²: {r2}')\n",
    "\n",
    "# Calcolare il Mean Squared Error (MSE)\n",
    "mse = mean_squared_error(y_test, y_pred)\n",
    "print(f'Mean Squared Error (MSE): {mse}')\n",
    "\n",
    "# Calcolare il Mean Absolute Error (MAE)\n",
    "mae = mean_absolute_error(y_test, y_pred)\n",
    "print(f'Mean Absolute Error (MAE): {mae}')"
   ]
  },
  {
   "cell_type": "markdown",
   "metadata": {},
   "source": [
    "#### Decision Tree"
   ]
  },
  {
   "cell_type": "code",
   "execution_count": 125,
   "metadata": {},
   "outputs": [],
   "source": [
    "from sklearn.metrics import r2_score, mean_squared_error, mean_absolute_error\n",
    "from sklearn.linear_model import LinearRegression, Ridge, Lasso\n",
    "from sklearn.neighbors import KNeighborsRegressor\n",
    "from sklearn.tree import DecisionTreeRegressor"
   ]
  },
  {
   "cell_type": "code",
   "execution_count": 126,
   "metadata": {},
   "outputs": [
    {
     "name": "stdout",
     "output_type": "stream",
     "text": [
      "Best parameters found:  {'max_depth': 7, 'min_samples_leaf': 19, 'min_samples_split': 3}\n",
      "Best R2:  0.2075148201789415\n",
      "Best MSE:  1.2876582571708612\n",
      "Best MAE:  0.8290517322524884\n"
     ]
    }
   ],
   "source": [
    "from sklearn.model_selection import RandomizedSearchCV, cross_val_score\n",
    "from sklearn.metrics import make_scorer, r2_score, mean_squared_error, mean_absolute_error\n",
    "from sklearn.tree import DecisionTreeRegressor\n",
    "from scipy.stats import randint\n",
    "import numpy as np\n",
    "\n",
    "# Definisci la griglia dei parametri (includendo max_depth, min_samples_split e min_samples_leaf)\n",
    "param_dist = {\n",
    "    'max_depth': randint(1, 20),\n",
    "    'min_samples_split': randint(2, 20),\n",
    "    'min_samples_leaf': randint(1, 20)\n",
    "}\n",
    "\n",
    "# Crea il modello\n",
    "model = DecisionTreeRegressor()\n",
    "\n",
    "# Definisci le metriche di valutazione\n",
    "scoring = {\n",
    "    'R2': make_scorer(r2_score),\n",
    "    'MSE': make_scorer(mean_squared_error),\n",
    "    'MAE': make_scorer(mean_absolute_error)\n",
    "}\n",
    "\n",
    "# Esegui la Random Search\n",
    "random_search = RandomizedSearchCV(model, param_distributions=param_dist, n_iter=100, cv=10, scoring=scoring, refit='R2', random_state=42)\n",
    "random_search.fit(X_train, y_train)\n",
    "\n",
    "# Stampa i migliori parametri trovati\n",
    "print(\"Best parameters found: \", random_search.best_params_)\n",
    "\n",
    "# Stampa i punteggi per le metriche\n",
    "print(\"Best R2: \", random_search.best_score_)\n",
    "print(\"Best MSE: \", random_search.cv_results_['mean_test_MSE'][random_search.best_index_])\n",
    "print(\"Best MAE: \", random_search.cv_results_['mean_test_MAE'][random_search.best_index_])"
   ]
  },
  {
   "cell_type": "code",
   "execution_count": 127,
   "metadata": {},
   "outputs": [],
   "source": [
    "# Creiamo il modello di regressione lineare\n",
    "model = DecisionTreeRegressor(max_depth=7)\n",
    "\n",
    "# Addestriamo il modello sui dati di addestramento\n",
    "model.fit(X_train, y_train)\n",
    "\n",
    "# Facciamo previsioni sui dati di test\n",
    "y_pred = model.predict(X_test)"
   ]
  },
  {
   "cell_type": "code",
   "execution_count": 128,
   "metadata": {},
   "outputs": [
    {
     "name": "stdout",
     "output_type": "stream",
     "text": [
      "R2: 0.200\n",
      "MSE: 1.398\n",
      "MAE: 0.870\n"
     ]
    }
   ],
   "source": [
    "print('R2: %.3f' % r2_score(y_test, y_pred))\n",
    "print('MSE: %.3f' % mean_squared_error(y_test, y_pred))\n",
    "print('MAE: %.3f' % mean_absolute_error(y_test, y_pred))"
   ]
  },
  {
   "cell_type": "markdown",
   "metadata": {},
   "source": [
    "#### K-nn"
   ]
  },
  {
   "cell_type": "code",
   "execution_count": 129,
   "metadata": {},
   "outputs": [
    {
     "name": "stdout",
     "output_type": "stream",
     "text": [
      "k=1: R2=-0.473, MSE=2.573, MAE=1.174\n",
      "k=2: R2=-0.142, MSE=1.995, MAE=1.047\n",
      "k=3: R2=-0.019, MSE=1.781, MAE=0.988\n",
      "k=4: R2=0.056, MSE=1.650, MAE=0.951\n",
      "k=5: R2=0.088, MSE=1.593, MAE=0.934\n",
      "k=6: R2=0.115, MSE=1.546, MAE=0.920\n",
      "k=7: R2=0.132, MSE=1.517, MAE=0.910\n",
      "k=8: R2=0.142, MSE=1.500, MAE=0.904\n",
      "k=9: R2=0.155, MSE=1.476, MAE=0.896\n",
      "k=10: R2=0.171, MSE=1.449, MAE=0.888\n",
      "k=11: R2=0.178, MSE=1.436, MAE=0.882\n",
      "k=12: R2=0.185, MSE=1.424, MAE=0.879\n",
      "k=13: R2=0.188, MSE=1.418, MAE=0.877\n",
      "k=14: R2=0.192, MSE=1.412, MAE=0.874\n",
      "k=15: R2=0.191, MSE=1.414, MAE=0.874\n",
      "k=16: R2=0.189, MSE=1.417, MAE=0.874\n",
      "k=17: R2=0.190, MSE=1.415, MAE=0.873\n",
      "k=18: R2=0.189, MSE=1.416, MAE=0.873\n",
      "k=19: R2=0.192, MSE=1.412, MAE=0.872\n",
      "k=20: R2=0.195, MSE=1.407, MAE=0.871\n",
      "k=21: R2=0.196, MSE=1.405, MAE=0.871\n",
      "k=22: R2=0.197, MSE=1.403, MAE=0.869\n",
      "k=23: R2=0.199, MSE=1.400, MAE=0.868\n",
      "k=24: R2=0.199, MSE=1.399, MAE=0.868\n",
      "k=25: R2=0.202, MSE=1.395, MAE=0.866\n",
      "k=26: R2=0.203, MSE=1.392, MAE=0.866\n",
      "k=27: R2=0.206, MSE=1.388, MAE=0.865\n",
      "k=28: R2=0.205, MSE=1.389, MAE=0.865\n",
      "k=29: R2=0.206, MSE=1.388, MAE=0.864\n",
      "k=30: R2=0.207, MSE=1.386, MAE=0.863\n",
      "k=31: R2=0.207, MSE=1.385, MAE=0.863\n",
      "k=32: R2=0.207, MSE=1.386, MAE=0.863\n",
      "k=33: R2=0.207, MSE=1.385, MAE=0.863\n",
      "k=34: R2=0.207, MSE=1.385, MAE=0.864\n",
      "k=35: R2=0.207, MSE=1.386, MAE=0.865\n",
      "k=36: R2=0.207, MSE=1.385, MAE=0.864\n",
      "k=37: R2=0.207, MSE=1.385, MAE=0.864\n",
      "k=38: R2=0.207, MSE=1.386, MAE=0.864\n",
      "k=39: R2=0.208, MSE=1.384, MAE=0.864\n",
      "k=40: R2=0.208, MSE=1.384, MAE=0.864\n",
      "k=41: R2=0.209, MSE=1.382, MAE=0.864\n",
      "k=42: R2=0.208, MSE=1.384, MAE=0.864\n",
      "k=43: R2=0.208, MSE=1.383, MAE=0.864\n",
      "k=44: R2=0.209, MSE=1.382, MAE=0.864\n",
      "k=45: R2=0.209, MSE=1.382, MAE=0.864\n",
      "k=46: R2=0.207, MSE=1.385, MAE=0.865\n",
      "k=47: R2=0.208, MSE=1.384, MAE=0.865\n",
      "k=48: R2=0.208, MSE=1.384, MAE=0.865\n",
      "k=49: R2=0.208, MSE=1.383, MAE=0.865\n",
      "k=50: R2=0.208, MSE=1.384, MAE=0.865\n",
      "k=51: R2=0.208, MSE=1.384, MAE=0.865\n",
      "k=52: R2=0.209, MSE=1.383, MAE=0.864\n",
      "k=53: R2=0.209, MSE=1.382, MAE=0.864\n",
      "k=54: R2=0.209, MSE=1.382, MAE=0.864\n",
      "k=55: R2=0.208, MSE=1.383, MAE=0.864\n",
      "k=56: R2=0.208, MSE=1.383, MAE=0.864\n",
      "k=57: R2=0.209, MSE=1.382, MAE=0.864\n",
      "k=58: R2=0.209, MSE=1.381, MAE=0.864\n",
      "k=59: R2=0.209, MSE=1.381, MAE=0.864\n",
      "k=60: R2=0.209, MSE=1.381, MAE=0.864\n",
      "k=61: R2=0.209, MSE=1.382, MAE=0.865\n",
      "k=62: R2=0.209, MSE=1.382, MAE=0.865\n",
      "k=63: R2=0.209, MSE=1.382, MAE=0.865\n",
      "k=64: R2=0.209, MSE=1.383, MAE=0.865\n",
      "k=65: R2=0.209, MSE=1.383, MAE=0.865\n",
      "k=66: R2=0.209, MSE=1.382, MAE=0.865\n",
      "k=67: R2=0.208, MSE=1.384, MAE=0.866\n",
      "k=68: R2=0.208, MSE=1.384, MAE=0.866\n",
      "k=69: R2=0.208, MSE=1.384, MAE=0.866\n",
      "k=70: R2=0.209, MSE=1.383, MAE=0.866\n",
      "k=71: R2=0.208, MSE=1.383, MAE=0.866\n",
      "k=72: R2=0.207, MSE=1.385, MAE=0.867\n",
      "k=73: R2=0.207, MSE=1.386, MAE=0.867\n",
      "k=74: R2=0.207, MSE=1.386, MAE=0.867\n",
      "k=75: R2=0.207, MSE=1.386, MAE=0.867\n",
      "k=76: R2=0.206, MSE=1.386, MAE=0.867\n",
      "k=77: R2=0.206, MSE=1.387, MAE=0.868\n",
      "k=78: R2=0.205, MSE=1.388, MAE=0.868\n",
      "k=79: R2=0.205, MSE=1.388, MAE=0.868\n",
      "k=80: R2=0.205, MSE=1.388, MAE=0.868\n",
      "k=81: R2=0.205, MSE=1.389, MAE=0.868\n",
      "k=82: R2=0.205, MSE=1.389, MAE=0.868\n",
      "k=83: R2=0.205, MSE=1.390, MAE=0.868\n",
      "k=84: R2=0.205, MSE=1.389, MAE=0.868\n",
      "k=85: R2=0.205, MSE=1.389, MAE=0.868\n",
      "k=86: R2=0.205, MSE=1.389, MAE=0.868\n",
      "k=87: R2=0.205, MSE=1.389, MAE=0.868\n",
      "k=88: R2=0.205, MSE=1.389, MAE=0.868\n",
      "k=89: R2=0.205, MSE=1.390, MAE=0.868\n",
      "k=90: R2=0.205, MSE=1.390, MAE=0.868\n",
      "k=91: R2=0.204, MSE=1.390, MAE=0.868\n",
      "k=92: R2=0.205, MSE=1.389, MAE=0.868\n",
      "k=93: R2=0.205, MSE=1.389, MAE=0.868\n",
      "k=94: R2=0.205, MSE=1.389, MAE=0.868\n",
      "k=95: R2=0.205, MSE=1.389, MAE=0.868\n",
      "k=96: R2=0.205, MSE=1.389, MAE=0.869\n",
      "k=97: R2=0.204, MSE=1.391, MAE=0.869\n",
      "k=98: R2=0.204, MSE=1.391, MAE=0.869\n",
      "k=99: R2=0.204, MSE=1.391, MAE=0.869\n",
      "k=100: R2=0.204, MSE=1.390, MAE=0.869\n",
      "k=101: R2=0.204, MSE=1.390, MAE=0.869\n",
      "k=102: R2=0.204, MSE=1.391, MAE=0.870\n",
      "k=103: R2=0.204, MSE=1.391, MAE=0.869\n",
      "k=104: R2=0.204, MSE=1.390, MAE=0.869\n",
      "k=105: R2=0.204, MSE=1.391, MAE=0.870\n",
      "k=106: R2=0.204, MSE=1.391, MAE=0.870\n",
      "k=107: R2=0.204, MSE=1.391, MAE=0.870\n",
      "k=108: R2=0.204, MSE=1.391, MAE=0.870\n",
      "k=109: R2=0.204, MSE=1.391, MAE=0.870\n",
      "k=110: R2=0.204, MSE=1.391, MAE=0.870\n",
      "k=111: R2=0.204, MSE=1.391, MAE=0.870\n",
      "k=112: R2=0.204, MSE=1.391, MAE=0.870\n",
      "k=113: R2=0.204, MSE=1.391, MAE=0.870\n",
      "k=114: R2=0.203, MSE=1.392, MAE=0.871\n",
      "k=115: R2=0.203, MSE=1.393, MAE=0.871\n",
      "k=116: R2=0.203, MSE=1.393, MAE=0.871\n",
      "k=117: R2=0.203, MSE=1.393, MAE=0.871\n",
      "k=118: R2=0.203, MSE=1.393, MAE=0.871\n",
      "k=119: R2=0.202, MSE=1.394, MAE=0.872\n",
      "k=120: R2=0.202, MSE=1.394, MAE=0.872\n",
      "k=121: R2=0.202, MSE=1.394, MAE=0.872\n",
      "k=122: R2=0.203, MSE=1.393, MAE=0.872\n",
      "k=123: R2=0.203, MSE=1.393, MAE=0.872\n",
      "k=124: R2=0.203, MSE=1.393, MAE=0.872\n",
      "k=125: R2=0.203, MSE=1.393, MAE=0.872\n",
      "k=126: R2=0.203, MSE=1.393, MAE=0.872\n",
      "k=127: R2=0.203, MSE=1.393, MAE=0.872\n"
     ]
    }
   ],
   "source": [
    "from sklearn.neighbors import KNeighborsRegressor\n",
    "from sklearn.metrics import r2_score, mean_squared_error, mean_absolute_error\n",
    "\n",
    "# Lista dei valori di k da testare, includendo anche k=50\n",
    "k_values = list(range(1, 128))\n",
    "\n",
    "# Dizionari per memorizzare i risultati\n",
    "results = {\n",
    "    'k': [],\n",
    "    'R2': [],\n",
    "    'MSE': [],\n",
    "    'MAE': []\n",
    "}\n",
    "\n",
    "# Loop attraverso i diversi valori di k\n",
    "for k in k_values:\n",
    "    # Crea e addestra il modello\n",
    "    reg = KNeighborsRegressor(n_neighbors=k)\n",
    "    reg.fit(X_train_scaled, y_train)\n",
    "    \n",
    "    # Fai le previsioni sui dati di test\n",
    "    y_pred = reg.predict(X_test_scaled)\n",
    "    \n",
    "    # Calcola le metriche\n",
    "    r2 = r2_score(y_test, y_pred)\n",
    "    mse = mean_squared_error(y_test, y_pred)\n",
    "    mae = mean_absolute_error(y_test, y_pred)\n",
    "    \n",
    "    # Memorizza i risultati\n",
    "    results['k'].append(k)\n",
    "    results['R2'].append(r2)\n",
    "    results['MSE'].append(mse)\n",
    "    results['MAE'].append(mae)\n",
    "\n",
    "# Stampa i risultati\n",
    "for i in range(len(k_values)):\n",
    "    print(f\"k={results['k'][i]}: R2={results['R2'][i]:.3f}, MSE={results['MSE'][i]:.3f}, MAE={results['MAE'][i]:.3f}\")"
   ]
  },
  {
   "cell_type": "code",
   "execution_count": 130,
   "metadata": {},
   "outputs": [],
   "source": [
    "# Creiamo il modello di regressione lineare\n",
    "model = KNeighborsRegressor(n_neighbors = 66)\n",
    "\n",
    "# Addestriamo il modello sui dati di addestramento\n",
    "model.fit(X_train_scaled, y_train)\n",
    "\n",
    "# Facciamo previsioni sui dati di test\n",
    "y_pred = model.predict(X_test_scaled)"
   ]
  },
  {
   "cell_type": "code",
   "execution_count": 131,
   "metadata": {},
   "outputs": [
    {
     "name": "stdout",
     "output_type": "stream",
     "text": [
      "R2: 0.209\n",
      "MSE: 1.382\n",
      "MAE: 0.865\n"
     ]
    }
   ],
   "source": [
    "print('R2: %.3f' % r2_score(y_test, y_pred))\n",
    "print('MSE: %.3f' % mean_squared_error(y_test, y_pred))\n",
    "print('MAE: %.3f' % mean_absolute_error(y_test, y_pred))"
   ]
  },
  {
   "cell_type": "markdown",
   "metadata": {},
   "source": [
    "## MULTIVARIATE"
   ]
  },
  {
   "cell_type": "markdown",
   "metadata": {},
   "source": [
    "### num votes e num Regions"
   ]
  },
  {
   "cell_type": "code",
   "execution_count": 132,
   "metadata": {},
   "outputs": [
    {
     "data": {
      "text/html": [
       "<div>\n",
       "<style scoped>\n",
       "    .dataframe tbody tr th:only-of-type {\n",
       "        vertical-align: middle;\n",
       "    }\n",
       "\n",
       "    .dataframe tbody tr th {\n",
       "        vertical-align: top;\n",
       "    }\n",
       "\n",
       "    .dataframe thead th {\n",
       "        text-align: right;\n",
       "    }\n",
       "</style>\n",
       "<table border=\"1\" class=\"dataframe\">\n",
       "  <thead>\n",
       "    <tr style=\"text-align: right;\">\n",
       "      <th></th>\n",
       "      <th>originalTitle</th>\n",
       "      <th>rating</th>\n",
       "      <th>startYear</th>\n",
       "      <th>runtimeMinutes</th>\n",
       "      <th>awardWins</th>\n",
       "      <th>numVotes</th>\n",
       "      <th>totalImages</th>\n",
       "      <th>totalVideos</th>\n",
       "      <th>totalCredits</th>\n",
       "      <th>titleType</th>\n",
       "      <th>AwNmExWins</th>\n",
       "      <th>canHaveEpisodes</th>\n",
       "      <th>isAdult</th>\n",
       "      <th>numRegions</th>\n",
       "      <th>countryOfOrigin</th>\n",
       "      <th>genres</th>\n",
       "      <th>ratingMean</th>\n",
       "      <th>ReviewsTotal</th>\n",
       "      <th>averageRating</th>\n",
       "    </tr>\n",
       "  </thead>\n",
       "  <tbody>\n",
       "    <tr>\n",
       "      <th>0</th>\n",
       "      <td>Geologist of Animal Collective Performs Live a...</td>\n",
       "      <td>(9, 10]</td>\n",
       "      <td>2015</td>\n",
       "      <td>21</td>\n",
       "      <td>0.0</td>\n",
       "      <td>2.772589</td>\n",
       "      <td>2.079442</td>\n",
       "      <td>1.098612</td>\n",
       "      <td>11</td>\n",
       "      <td>video</td>\n",
       "      <td>0.0</td>\n",
       "      <td>False</td>\n",
       "      <td>False</td>\n",
       "      <td>1</td>\n",
       "      <td>['US']</td>\n",
       "      <td>Music,Short</td>\n",
       "      <td>9.5</td>\n",
       "      <td>0.000000</td>\n",
       "      <td>9.6</td>\n",
       "    </tr>\n",
       "    <tr>\n",
       "      <th>1</th>\n",
       "      <td>Shan gou 1999</td>\n",
       "      <td>(4, 5]</td>\n",
       "      <td>1999</td>\n",
       "      <td>93</td>\n",
       "      <td>0.0</td>\n",
       "      <td>5.720312</td>\n",
       "      <td>2.397895</td>\n",
       "      <td>0.000000</td>\n",
       "      <td>40</td>\n",
       "      <td>movie</td>\n",
       "      <td>0.0</td>\n",
       "      <td>False</td>\n",
       "      <td>False</td>\n",
       "      <td>4</td>\n",
       "      <td>['HK']</td>\n",
       "      <td>Horror</td>\n",
       "      <td>4.5</td>\n",
       "      <td>2.890372</td>\n",
       "      <td>4.3</td>\n",
       "    </tr>\n",
       "    <tr>\n",
       "      <th>2</th>\n",
       "      <td>The Craftsman: Preserving the Last Higgins Boat</td>\n",
       "      <td>(8, 9]</td>\n",
       "      <td>2023</td>\n",
       "      <td>113</td>\n",
       "      <td>0.0</td>\n",
       "      <td>2.397895</td>\n",
       "      <td>1.098612</td>\n",
       "      <td>0.000000</td>\n",
       "      <td>6</td>\n",
       "      <td>tvSpecial</td>\n",
       "      <td>0.0</td>\n",
       "      <td>False</td>\n",
       "      <td>False</td>\n",
       "      <td>1</td>\n",
       "      <td>['US']</td>\n",
       "      <td>Reality-TV</td>\n",
       "      <td>8.5</td>\n",
       "      <td>0.000000</td>\n",
       "      <td>8.8</td>\n",
       "    </tr>\n",
       "    <tr>\n",
       "      <th>3</th>\n",
       "      <td>Week 3: Tuesday</td>\n",
       "      <td>(6, 7]</td>\n",
       "      <td>2020</td>\n",
       "      <td>40</td>\n",
       "      <td>0.0</td>\n",
       "      <td>2.484907</td>\n",
       "      <td>0.000000</td>\n",
       "      <td>0.000000</td>\n",
       "      <td>52</td>\n",
       "      <td>tvEpisode</td>\n",
       "      <td>0.0</td>\n",
       "      <td>False</td>\n",
       "      <td>False</td>\n",
       "      <td>1</td>\n",
       "      <td>['GB']</td>\n",
       "      <td>Game-Show</td>\n",
       "      <td>6.5</td>\n",
       "      <td>0.000000</td>\n",
       "      <td>6.9</td>\n",
       "    </tr>\n",
       "    <tr>\n",
       "      <th>4</th>\n",
       "      <td>Traumhaus</td>\n",
       "      <td>(5, 6]</td>\n",
       "      <td>1999</td>\n",
       "      <td>90</td>\n",
       "      <td>0.0</td>\n",
       "      <td>4.983607</td>\n",
       "      <td>1.098612</td>\n",
       "      <td>0.000000</td>\n",
       "      <td>44</td>\n",
       "      <td>tvEpisode</td>\n",
       "      <td>0.0</td>\n",
       "      <td>False</td>\n",
       "      <td>False</td>\n",
       "      <td>1</td>\n",
       "      <td>['DE']</td>\n",
       "      <td>Crime,Drama,Mystery</td>\n",
       "      <td>5.5</td>\n",
       "      <td>0.693147</td>\n",
       "      <td>6.0</td>\n",
       "    </tr>\n",
       "  </tbody>\n",
       "</table>\n",
       "</div>"
      ],
      "text/plain": [
       "                                       originalTitle   rating  startYear  \\\n",
       "0  Geologist of Animal Collective Performs Live a...  (9, 10]       2015   \n",
       "1                                      Shan gou 1999   (4, 5]       1999   \n",
       "2    The Craftsman: Preserving the Last Higgins Boat   (8, 9]       2023   \n",
       "3                                    Week 3: Tuesday   (6, 7]       2020   \n",
       "4                                          Traumhaus   (5, 6]       1999   \n",
       "\n",
       "   runtimeMinutes  awardWins  numVotes  totalImages  totalVideos  \\\n",
       "0              21        0.0  2.772589     2.079442     1.098612   \n",
       "1              93        0.0  5.720312     2.397895     0.000000   \n",
       "2             113        0.0  2.397895     1.098612     0.000000   \n",
       "3              40        0.0  2.484907     0.000000     0.000000   \n",
       "4              90        0.0  4.983607     1.098612     0.000000   \n",
       "\n",
       "   totalCredits  titleType  AwNmExWins  canHaveEpisodes  isAdult  numRegions  \\\n",
       "0            11      video         0.0            False    False           1   \n",
       "1            40      movie         0.0            False    False           4   \n",
       "2             6  tvSpecial         0.0            False    False           1   \n",
       "3            52  tvEpisode         0.0            False    False           1   \n",
       "4            44  tvEpisode         0.0            False    False           1   \n",
       "\n",
       "  countryOfOrigin               genres  ratingMean  ReviewsTotal  \\\n",
       "0          ['US']          Music,Short         9.5      0.000000   \n",
       "1          ['HK']               Horror         4.5      2.890372   \n",
       "2          ['US']           Reality-TV         8.5      0.000000   \n",
       "3          ['GB']            Game-Show         6.5      0.000000   \n",
       "4          ['DE']  Crime,Drama,Mystery         5.5      0.693147   \n",
       "\n",
       "   averageRating  \n",
       "0            9.6  \n",
       "1            4.3  \n",
       "2            8.8  \n",
       "3            6.9  \n",
       "4            6.0  "
      ]
     },
     "execution_count": 132,
     "metadata": {},
     "output_type": "execute_result"
    }
   ],
   "source": [
    "import pandas as pd\n",
    "\n",
    "# Supponiamo di avere due DataFrame df1 e df2\n",
    "df_train_reg = pd.read_csv('train_reg.csv')\n",
    "\n",
    "df_train = pd.read_csv('train_log.csv')\n",
    "\n",
    "# Eseguiamo la left join\n",
    "df_train = pd.merge(df_train, df_train_reg, on='originalTitle', how='left')\n",
    "df_train.head()\n",
    "\n",
    "df_test_reg = pd.read_csv('test_reg.csv')\n",
    "\n",
    "df_test = pd.read_csv('test_log.csv')\n",
    "\n",
    "# Eseguiamo la left join\n",
    "df_test = pd.merge(df_test, df_test_reg, on='originalTitle', how='left')\n",
    "df_test.head()"
   ]
  },
  {
   "cell_type": "code",
   "execution_count": 133,
   "metadata": {},
   "outputs": [],
   "source": [
    "del df_train['originalTitle']\n",
    "del df_train['rating']\n",
    "del df_train['genres']\n",
    "del df_train['countryOfOrigin']\n",
    "del df_train['isAdult']\n",
    "del df_train['canHaveEpisodes']\n",
    "del df_train['titleType'] \n",
    "del df_train['ratingMean']"
   ]
  },
  {
   "cell_type": "code",
   "execution_count": 134,
   "metadata": {},
   "outputs": [],
   "source": [
    "del df_test['originalTitle']\n",
    "del df_test['rating']\n",
    "del df_test['genres']\n",
    "del df_test['countryOfOrigin']\n",
    "del df_test['isAdult']\n",
    "del df_test['canHaveEpisodes']\n",
    "del df_test['titleType'] \n",
    "del df_test['ratingMean']"
   ]
  },
  {
   "cell_type": "code",
   "execution_count": 135,
   "metadata": {},
   "outputs": [],
   "source": [
    "from sklearn.metrics import r2_score, mean_squared_error, mean_absolute_error\n",
    "from sklearn.linear_model import LinearRegression, Ridge, Lasso"
   ]
  },
  {
   "cell_type": "code",
   "execution_count": 136,
   "metadata": {},
   "outputs": [],
   "source": [
    "# Selezioniamo le variabili indipendenti (input) e la variabile dipendente (target)\n",
    "X_train = df_train.drop(columns=['numVotes', 'numRegions'])\n",
    "y_train = df_train[['numVotes', 'numRegions']]\n",
    "\n",
    "X_test = df_test.drop(columns=['numVotes', 'numRegions'])\n",
    "y_test = df_test[['numVotes', 'numRegions']]\n",
    "# Dividiamo i dati in set di addestramento e di test\n",
    "#X_train, X_test, y_train, y_test = train_test_split(X, y, test_size=0.4)\n",
    "\n",
    "# Creiamo il modello di regressione lineare\n",
    "model = LinearRegression()"
   ]
  },
  {
   "cell_type": "code",
   "execution_count": 137,
   "metadata": {},
   "outputs": [],
   "source": [
    "from sklearn.preprocessing import StandardScaler\n",
    "\n",
    "scaler = StandardScaler()\n",
    "X_train_scaled = scaler.fit_transform(X_train)\n",
    "\n",
    "X_test_scaled = scaler.fit_transform(X_test)\n",
    "\n",
    "X_train_scaled = pd.DataFrame(X_train_scaled, columns=X_train.columns)\n",
    "X_test_scaled = pd.DataFrame(X_test_scaled, columns=X_test.columns)"
   ]
  },
  {
   "cell_type": "code",
   "execution_count": 138,
   "metadata": {},
   "outputs": [],
   "source": [
    "X_train_lin = X_train_scaled\n",
    "X_test_lin = X_test_scaled"
   ]
  },
  {
   "cell_type": "code",
   "execution_count": 139,
   "metadata": {},
   "outputs": [
    {
     "name": "stdout",
     "output_type": "stream",
     "text": [
      "          feature   VIF\n",
      "0       startYear  1.15\n",
      "1  runtimeMinutes  1.12\n",
      "2       awardWins  1.89\n",
      "3     totalImages  1.58\n",
      "4     totalVideos  1.47\n",
      "5    totalCredits  1.40\n",
      "6      AwNmExWins  2.12\n",
      "7    ReviewsTotal  1.96\n",
      "8   averageRating  1.10\n"
     ]
    }
   ],
   "source": [
    "from statsmodels.stats.outliers_influence import variance_inflation_factor\n",
    "import pandas as pd\n",
    "\n",
    "# Supponiamo che 'X' sia il DataFrame delle caratteristiche\n",
    "vif_data = pd.DataFrame()\n",
    "vif_data[\"feature\"] = X_train_lin.columns\n",
    "vif_data[\"VIF\"] = [variance_inflation_factor(X_train_lin.values, i) for i in range(len(X_train_lin.columns))]\n",
    "\n",
    "print(vif_data.round(2))"
   ]
  },
  {
   "cell_type": "code",
   "execution_count": 140,
   "metadata": {},
   "outputs": [
    {
     "name": "stdout",
     "output_type": "stream",
     "text": [
      "Coefficients: \n",
      " [[ 5.4572000e-03 -6.7195000e-03  1.3957400e-02  2.6668210e-01\n",
      "  -5.1010000e-04  2.5575010e-01 -2.9679100e-02  1.1761983e+00\n",
      "   6.8030700e-02]\n",
      " [-1.2236390e-01  4.6471720e-01  4.2554000e-02  4.2083980e-01\n",
      "   9.0639380e-01  6.1374640e-01  6.8519190e-01  1.9881649e+00\n",
      "   1.9898900e-02]]\n",
      "Intercept: \n",
      " [4.04198643 4.04200988]\n"
     ]
    }
   ],
   "source": [
    "# Addestriamo il modello sui dati di addestramento\n",
    "model.fit(X_train_lin, y_train)\n",
    "\n",
    "print('Coefficients: \\n', model.coef_.round(7))\n",
    "print('Intercept: \\n', model.intercept_)\n",
    "\n",
    "# Facciamo previsioni sui dati di test\n",
    "y_pred = model.predict(X_test_lin)"
   ]
  },
  {
   "cell_type": "code",
   "execution_count": 141,
   "metadata": {},
   "outputs": [
    {
     "name": "stdout",
     "output_type": "stream",
     "text": [
      "R2: 0.598\n",
      "MSE: 8.333\n",
      "MAE: 1.678\n"
     ]
    }
   ],
   "source": [
    "print('R2: %.3f' % r2_score(y_test, y_pred))\n",
    "print('MSE: %.3f' % mean_squared_error(y_test, y_pred))\n",
    "print('MAE: %.3f' % mean_absolute_error(y_test, y_pred))"
   ]
  },
  {
   "cell_type": "markdown",
   "metadata": {},
   "source": [
    "#### Ridge"
   ]
  },
  {
   "cell_type": "code",
   "execution_count": 142,
   "metadata": {},
   "outputs": [],
   "source": [
    "# Puoi usare la cross-validation per trovare il miglior valore di alpha\n",
    "from sklearn.model_selection import GridSearchCV\n",
    "\n",
    "# Definire i valori di alpha da testare\n",
    "alphas = np.logspace(-4, 4, 50)\n",
    "alphas = [0.0001]\n",
    "\n",
    "ridge = Ridge()\n",
    "param_grid = {'alpha': alphas}\n",
    "grid_search = GridSearchCV(ridge, param_grid, cv=5, scoring='neg_mean_squared_error')"
   ]
  },
  {
   "cell_type": "code",
   "execution_count": 143,
   "metadata": {},
   "outputs": [
    {
     "name": "stdout",
     "output_type": "stream",
     "text": [
      "Coefficients: \n",
      " [[ 5.45721644e-03 -6.71947999e-03  1.39573577e-02  2.66682056e-01\n",
      "  -5.10121573e-04  2.55750078e-01 -2.96791473e-02  1.17619826e+00\n",
      "   6.80307426e-02]\n",
      " [-1.22363896e-01  4.64717249e-01  4.25539657e-02  4.20839829e-01\n",
      "   9.06393814e-01  6.13746395e-01  6.85191918e-01  1.98816493e+00\n",
      "   1.98989424e-02]]\n",
      "Intercept: \n",
      " [4.04198643 4.04200988]\n"
     ]
    }
   ],
   "source": [
    "grid_search.fit(X_train_scaled, y_train)\n",
    "\n",
    "print('Coefficients: \\n', model.coef_)\n",
    "print('Intercept: \\n', model.intercept_)"
   ]
  },
  {
   "cell_type": "code",
   "execution_count": 144,
   "metadata": {},
   "outputs": [
    {
     "name": "stdout",
     "output_type": "stream",
     "text": [
      "Best alpha: 0.0001\n",
      "R²: 0.5983873724184319\n",
      "Mean Squared Error (MSE): 8.333119668099405\n",
      "Mean Absolute Error (MAE): 1.6776110753414775\n"
     ]
    }
   ],
   "source": [
    "from sklearn.metrics import r2_score, mean_squared_error, mean_absolute_error\n",
    "\n",
    "best_alpha = grid_search.best_params_['alpha']\n",
    "print(f'Best alpha: {best_alpha}')\n",
    "\n",
    "best_ridge_model = grid_search.best_estimator_\n",
    "y_pred = best_ridge_model.predict(X_test_scaled)\n",
    "\n",
    "# Calcolare l'R²\n",
    "r2 = r2_score(y_test, y_pred)\n",
    "print(f'R²: {r2}')\n",
    "\n",
    "# Calcolare il Mean Squared Error (MSE)\n",
    "mse = mean_squared_error(y_test, y_pred)\n",
    "print(f'Mean Squared Error (MSE): {mse}')\n",
    "\n",
    "# Calcolare il Mean Absolute Error (MAE)\n",
    "mae = mean_absolute_error(y_test, y_pred)\n",
    "print(f'Mean Absolute Error (MAE): {mae}')"
   ]
  },
  {
   "cell_type": "markdown",
   "metadata": {},
   "source": [
    "#### Lasso"
   ]
  },
  {
   "cell_type": "code",
   "execution_count": 145,
   "metadata": {},
   "outputs": [],
   "source": [
    "# Puoi usare la cross-validation per trovare il miglior valore di alpha\n",
    "from sklearn.model_selection import GridSearchCV\n",
    "\n",
    "# Definire i valori di alpha da testare\n",
    "alphas = np.logspace(-4, 4, 50)\n",
    "\n",
    "lasso = Lasso()\n",
    "param_grid = {'alpha': alphas}\n",
    "grid_search = GridSearchCV(lasso, param_grid, cv=5, scoring='neg_mean_squared_error')"
   ]
  },
  {
   "cell_type": "code",
   "execution_count": 146,
   "metadata": {},
   "outputs": [
    {
     "name": "stdout",
     "output_type": "stream",
     "text": [
      "Coefficients: \n",
      " [[ 5.45721644e-03 -6.71947999e-03  1.39573577e-02  2.66682056e-01\n",
      "  -5.10121573e-04  2.55750078e-01 -2.96791473e-02  1.17619826e+00\n",
      "   6.80307426e-02]\n",
      " [-1.22363896e-01  4.64717249e-01  4.25539657e-02  4.20839829e-01\n",
      "   9.06393814e-01  6.13746395e-01  6.85191918e-01  1.98816493e+00\n",
      "   1.98989424e-02]]\n",
      "Intercept: \n",
      " [4.04198643 4.04200988]\n"
     ]
    }
   ],
   "source": [
    "grid_search.fit(X_train_scaled, y_train)\n",
    "\n",
    "print('Coefficients: \\n', model.coef_)\n",
    "print('Intercept: \\n', model.intercept_)"
   ]
  },
  {
   "cell_type": "code",
   "execution_count": 147,
   "metadata": {},
   "outputs": [
    {
     "name": "stdout",
     "output_type": "stream",
     "text": [
      "Best alpha: 0.019306977288832496\n",
      "R²: 0.5981275918635313\n",
      "Mean Squared Error (MSE): 8.348431689028548\n",
      "Mean Absolute Error (MAE): 1.6779322094178781\n"
     ]
    }
   ],
   "source": [
    "from sklearn.metrics import r2_score, mean_squared_error, mean_absolute_error\n",
    "\n",
    "best_alpha = grid_search.best_params_['alpha']\n",
    "print(f'Best alpha: {best_alpha}')\n",
    "\n",
    "best_lasso_model = grid_search.best_estimator_\n",
    "y_pred = best_lasso_model.predict(X_test_scaled)\n",
    "\n",
    "# Calcolare l'R²\n",
    "r2 = r2_score(y_test, y_pred)\n",
    "print(f'R²: {r2}')\n",
    "\n",
    "# Calcolare il Mean Squared Error (MSE)\n",
    "mse = mean_squared_error(y_test, y_pred)\n",
    "print(f'Mean Squared Error (MSE): {mse}')\n",
    "\n",
    "# Calcolare il Mean Absolute Error (MAE)\n",
    "mae = mean_absolute_error(y_test, y_pred)\n",
    "print(f'Mean Absolute Error (MAE): {mae}')"
   ]
  },
  {
   "cell_type": "markdown",
   "metadata": {},
   "source": [
    "#### Decision Tree"
   ]
  },
  {
   "cell_type": "code",
   "execution_count": 148,
   "metadata": {},
   "outputs": [],
   "source": [
    "from sklearn.metrics import r2_score, mean_squared_error, mean_absolute_error\n",
    "from sklearn.linear_model import LinearRegression, Ridge, Lasso\n",
    "from sklearn.neighbors import KNeighborsRegressor\n",
    "from sklearn.tree import DecisionTreeRegressor"
   ]
  },
  {
   "cell_type": "code",
   "execution_count": 149,
   "metadata": {},
   "outputs": [],
   "source": [
    "# from sklearn.model_selection import RandomizedSearchCV, cross_val_score\n",
    "# from sklearn.metrics import make_scorer, r2_score, mean_squared_error, mean_absolute_error\n",
    "# from sklearn.tree import DecisionTreeRegressor\n",
    "# from scipy.stats import randint\n",
    "# import numpy as np\n",
    "\n",
    "# # Definisci la griglia dei parametri (solo max_depth)\n",
    "# param_dist = {\n",
    "#     'max_depth': randint(1, 20)\n",
    "# }\n",
    "\n",
    "# # Crea il modello\n",
    "# model = DecisionTreeRegressor()\n",
    "\n",
    "# # Definisci le metriche di valutazione\n",
    "# scoring = {\n",
    "#     'R2': make_scorer(r2_score),\n",
    "#     'MSE': make_scorer(mean_squared_error),\n",
    "#     'MAE': make_scorer(mean_absolute_error)\n",
    "# }\n",
    "\n",
    "# # Esegui la Random Search\n",
    "# random_search = RandomizedSearchCV(model, param_distributions=param_dist, n_iter=100, cv=10, scoring=scoring, refit='R2', random_state=42)\n",
    "# random_search.fit(X_train, y_train)\n",
    "\n",
    "# # Stampa i migliori parametri trovati\n",
    "# print(\"Best parameters found: \", random_search.best_params_)\n",
    "\n",
    "# # Stampa i punteggi per le metriche\n",
    "# print(\"Best R2: \", random_search.best_score_)\n",
    "# print(\"Best MSE: \", random_search.cv_results_['mean_test_MSE'][random_search.best_index_])\n",
    "# print(\"Best MAE: \", random_search.cv_results_['mean_test_MAE'][random_search.best_index_])"
   ]
  },
  {
   "cell_type": "code",
   "execution_count": 150,
   "metadata": {},
   "outputs": [
    {
     "name": "stdout",
     "output_type": "stream",
     "text": [
      "Best parameters found:  {'max_depth': 11, 'min_samples_leaf': 17, 'min_samples_split': 9}\n",
      "Best R2:  0.6559353239186354\n",
      "Best MSE:  6.146231676092176\n",
      "Best MAE:  1.4219100342645\n"
     ]
    }
   ],
   "source": [
    "from sklearn.model_selection import RandomizedSearchCV, cross_val_score\n",
    "from sklearn.metrics import make_scorer, r2_score, mean_squared_error, mean_absolute_error\n",
    "from sklearn.tree import DecisionTreeRegressor\n",
    "from scipy.stats import randint\n",
    "import numpy as np\n",
    "\n",
    "# Definisci la griglia dei parametri (includendo max_depth, min_samples_split e min_samples_leaf)\n",
    "param_dist = {\n",
    "    'max_depth': randint(1, 20),\n",
    "    'min_samples_split': randint(2, 20),\n",
    "    'min_samples_leaf': randint(1, 20)\n",
    "}\n",
    "\n",
    "# Crea il modello\n",
    "model = DecisionTreeRegressor()\n",
    "\n",
    "# Definisci le metriche di valutazione\n",
    "scoring = {\n",
    "    'R2': make_scorer(r2_score),\n",
    "    'MSE': make_scorer(mean_squared_error),\n",
    "    'MAE': make_scorer(mean_absolute_error)\n",
    "}\n",
    "\n",
    "# Esegui la Random Search\n",
    "random_search = RandomizedSearchCV(model, param_distributions=param_dist, n_iter=100, cv=10, scoring=scoring, refit='R2', random_state=42)\n",
    "random_search.fit(X_train, y_train)\n",
    "\n",
    "# Stampa i migliori parametri trovati\n",
    "print(\"Best parameters found: \", random_search.best_params_)\n",
    "\n",
    "# Stampa i punteggi per le metriche\n",
    "print(\"Best R2: \", random_search.best_score_)\n",
    "print(\"Best MSE: \", random_search.cv_results_['mean_test_MSE'][random_search.best_index_])\n",
    "print(\"Best MAE: \", random_search.cv_results_['mean_test_MAE'][random_search.best_index_])"
   ]
  },
  {
   "cell_type": "code",
   "execution_count": 151,
   "metadata": {},
   "outputs": [],
   "source": [
    "# Creiamo il modello di regressione lineare\n",
    "model = DecisionTreeRegressor(max_depth=10)\n",
    "\n",
    "# Addestriamo il modello sui dati di addestramento\n",
    "model.fit(X_train, y_train)\n",
    "\n",
    "# Facciamo previsioni sui dati di test\n",
    "y_pred = model.predict(X_test)"
   ]
  },
  {
   "cell_type": "code",
   "execution_count": 152,
   "metadata": {},
   "outputs": [
    {
     "name": "stdout",
     "output_type": "stream",
     "text": [
      "R2: 0.611\n",
      "MSE: 7.389\n",
      "MAE: 1.480\n"
     ]
    }
   ],
   "source": [
    "print('R2: %.3f' % r2_score(y_test, y_pred))\n",
    "print('MSE: %.3f' % mean_squared_error(y_test, y_pred))\n",
    "print('MAE: %.3f' % mean_absolute_error(y_test, y_pred))"
   ]
  },
  {
   "cell_type": "markdown",
   "metadata": {},
   "source": [
    "#### K-nn"
   ]
  },
  {
   "cell_type": "code",
   "execution_count": 153,
   "metadata": {},
   "outputs": [
    {
     "name": "stdout",
     "output_type": "stream",
     "text": [
      "k=1: R2=0.485, MSE=8.895, MAE=1.547\n",
      "k=2: R2=0.597, MSE=7.065, MAE=1.418\n",
      "k=3: R2=0.640, MSE=6.317, MAE=1.373\n",
      "k=4: R2=0.658, MSE=5.995, MAE=1.345\n",
      "k=5: R2=0.667, MSE=5.847, MAE=1.336\n",
      "k=6: R2=0.673, MSE=5.748, MAE=1.332\n",
      "k=7: R2=0.677, MSE=5.713, MAE=1.332\n",
      "k=8: R2=0.679, MSE=5.746, MAE=1.332\n",
      "k=9: R2=0.681, MSE=5.717, MAE=1.334\n",
      "k=10: R2=0.682, MSE=5.714, MAE=1.337\n",
      "k=11: R2=0.684, MSE=5.680, MAE=1.343\n",
      "k=12: R2=0.685, MSE=5.677, MAE=1.346\n",
      "k=13: R2=0.686, MSE=5.669, MAE=1.350\n",
      "k=14: R2=0.685, MSE=5.701, MAE=1.357\n",
      "k=15: R2=0.684, MSE=5.708, MAE=1.360\n",
      "k=16: R2=0.684, MSE=5.724, MAE=1.362\n",
      "k=17: R2=0.684, MSE=5.731, MAE=1.363\n",
      "k=18: R2=0.683, MSE=5.746, MAE=1.367\n",
      "k=19: R2=0.684, MSE=5.716, MAE=1.368\n",
      "k=20: R2=0.684, MSE=5.713, MAE=1.370\n",
      "k=21: R2=0.684, MSE=5.711, MAE=1.373\n",
      "k=22: R2=0.684, MSE=5.718, MAE=1.376\n",
      "k=23: R2=0.683, MSE=5.739, MAE=1.380\n",
      "k=24: R2=0.682, MSE=5.767, MAE=1.383\n",
      "k=25: R2=0.682, MSE=5.784, MAE=1.385\n",
      "k=26: R2=0.682, MSE=5.779, MAE=1.385\n",
      "k=27: R2=0.682, MSE=5.785, MAE=1.387\n",
      "k=28: R2=0.681, MSE=5.802, MAE=1.390\n",
      "k=29: R2=0.680, MSE=5.831, MAE=1.393\n",
      "k=30: R2=0.680, MSE=5.836, MAE=1.395\n",
      "k=31: R2=0.679, MSE=5.850, MAE=1.398\n",
      "k=32: R2=0.679, MSE=5.844, MAE=1.399\n",
      "k=33: R2=0.679, MSE=5.843, MAE=1.401\n",
      "k=34: R2=0.679, MSE=5.840, MAE=1.401\n",
      "k=35: R2=0.679, MSE=5.850, MAE=1.403\n",
      "k=36: R2=0.679, MSE=5.850, MAE=1.404\n",
      "k=37: R2=0.679, MSE=5.846, MAE=1.405\n",
      "k=38: R2=0.679, MSE=5.858, MAE=1.408\n",
      "k=39: R2=0.679, MSE=5.857, MAE=1.409\n",
      "k=40: R2=0.679, MSE=5.868, MAE=1.410\n",
      "k=41: R2=0.679, MSE=5.871, MAE=1.412\n",
      "k=42: R2=0.678, MSE=5.886, MAE=1.414\n",
      "k=43: R2=0.678, MSE=5.895, MAE=1.415\n",
      "k=44: R2=0.677, MSE=5.900, MAE=1.416\n",
      "k=45: R2=0.678, MSE=5.897, MAE=1.417\n",
      "k=46: R2=0.678, MSE=5.887, MAE=1.417\n",
      "k=47: R2=0.677, MSE=5.897, MAE=1.419\n",
      "k=48: R2=0.677, MSE=5.896, MAE=1.419\n",
      "k=49: R2=0.677, MSE=5.889, MAE=1.420\n",
      "k=50: R2=0.678, MSE=5.881, MAE=1.421\n",
      "k=51: R2=0.677, MSE=5.886, MAE=1.422\n",
      "k=52: R2=0.678, MSE=5.882, MAE=1.423\n",
      "k=53: R2=0.678, MSE=5.876, MAE=1.423\n",
      "k=54: R2=0.678, MSE=5.880, MAE=1.424\n",
      "k=55: R2=0.677, MSE=5.887, MAE=1.425\n",
      "k=56: R2=0.677, MSE=5.891, MAE=1.427\n",
      "k=57: R2=0.677, MSE=5.900, MAE=1.428\n",
      "k=58: R2=0.677, MSE=5.910, MAE=1.430\n",
      "k=59: R2=0.676, MSE=5.923, MAE=1.432\n",
      "k=60: R2=0.676, MSE=5.924, MAE=1.433\n",
      "k=61: R2=0.676, MSE=5.932, MAE=1.434\n",
      "k=62: R2=0.676, MSE=5.927, MAE=1.434\n",
      "k=63: R2=0.676, MSE=5.934, MAE=1.436\n",
      "k=64: R2=0.675, MSE=5.955, MAE=1.437\n",
      "k=65: R2=0.675, MSE=5.958, MAE=1.438\n",
      "k=66: R2=0.675, MSE=5.960, MAE=1.438\n",
      "k=67: R2=0.674, MSE=5.967, MAE=1.438\n",
      "k=68: R2=0.674, MSE=5.972, MAE=1.439\n",
      "k=69: R2=0.674, MSE=5.977, MAE=1.439\n",
      "k=70: R2=0.674, MSE=5.979, MAE=1.439\n",
      "k=71: R2=0.674, MSE=5.984, MAE=1.440\n",
      "k=72: R2=0.674, MSE=5.983, MAE=1.440\n",
      "k=73: R2=0.673, MSE=5.985, MAE=1.441\n",
      "k=74: R2=0.673, MSE=6.002, MAE=1.442\n",
      "k=75: R2=0.673, MSE=6.009, MAE=1.444\n",
      "k=76: R2=0.672, MSE=6.010, MAE=1.444\n",
      "k=77: R2=0.672, MSE=6.017, MAE=1.445\n",
      "k=78: R2=0.672, MSE=6.031, MAE=1.446\n",
      "k=79: R2=0.671, MSE=6.042, MAE=1.448\n",
      "k=80: R2=0.671, MSE=6.052, MAE=1.449\n",
      "k=81: R2=0.671, MSE=6.064, MAE=1.450\n",
      "k=82: R2=0.671, MSE=6.067, MAE=1.451\n",
      "k=83: R2=0.671, MSE=6.070, MAE=1.452\n",
      "k=84: R2=0.670, MSE=6.084, MAE=1.453\n",
      "k=85: R2=0.670, MSE=6.088, MAE=1.453\n",
      "k=86: R2=0.669, MSE=6.100, MAE=1.454\n",
      "k=87: R2=0.669, MSE=6.109, MAE=1.456\n",
      "k=88: R2=0.669, MSE=6.106, MAE=1.456\n",
      "k=89: R2=0.669, MSE=6.118, MAE=1.458\n",
      "k=90: R2=0.668, MSE=6.123, MAE=1.459\n",
      "k=91: R2=0.668, MSE=6.140, MAE=1.460\n",
      "k=92: R2=0.667, MSE=6.153, MAE=1.461\n",
      "k=93: R2=0.667, MSE=6.162, MAE=1.462\n",
      "k=94: R2=0.667, MSE=6.170, MAE=1.463\n",
      "k=95: R2=0.667, MSE=6.177, MAE=1.463\n",
      "k=96: R2=0.666, MSE=6.189, MAE=1.464\n",
      "k=97: R2=0.666, MSE=6.190, MAE=1.465\n",
      "k=98: R2=0.666, MSE=6.198, MAE=1.465\n",
      "k=99: R2=0.666, MSE=6.198, MAE=1.466\n",
      "k=100: R2=0.665, MSE=6.209, MAE=1.466\n",
      "k=101: R2=0.665, MSE=6.211, MAE=1.467\n",
      "k=102: R2=0.665, MSE=6.219, MAE=1.468\n",
      "k=103: R2=0.664, MSE=6.234, MAE=1.469\n",
      "k=104: R2=0.664, MSE=6.245, MAE=1.470\n",
      "k=105: R2=0.664, MSE=6.253, MAE=1.471\n",
      "k=106: R2=0.663, MSE=6.259, MAE=1.472\n",
      "k=107: R2=0.663, MSE=6.264, MAE=1.472\n",
      "k=108: R2=0.663, MSE=6.275, MAE=1.473\n",
      "k=109: R2=0.662, MSE=6.280, MAE=1.474\n",
      "k=110: R2=0.662, MSE=6.282, MAE=1.474\n",
      "k=111: R2=0.662, MSE=6.284, MAE=1.474\n",
      "k=112: R2=0.662, MSE=6.296, MAE=1.475\n",
      "k=113: R2=0.661, MSE=6.300, MAE=1.476\n",
      "k=114: R2=0.661, MSE=6.303, MAE=1.476\n",
      "k=115: R2=0.661, MSE=6.313, MAE=1.477\n",
      "k=116: R2=0.660, MSE=6.324, MAE=1.478\n",
      "k=117: R2=0.660, MSE=6.337, MAE=1.480\n",
      "k=118: R2=0.660, MSE=6.344, MAE=1.481\n",
      "k=119: R2=0.659, MSE=6.354, MAE=1.482\n",
      "k=120: R2=0.659, MSE=6.362, MAE=1.483\n",
      "k=121: R2=0.658, MSE=6.374, MAE=1.484\n",
      "k=122: R2=0.658, MSE=6.383, MAE=1.485\n",
      "k=123: R2=0.658, MSE=6.395, MAE=1.486\n",
      "k=124: R2=0.657, MSE=6.410, MAE=1.487\n",
      "k=125: R2=0.657, MSE=6.416, MAE=1.488\n",
      "k=126: R2=0.656, MSE=6.427, MAE=1.489\n",
      "k=127: R2=0.656, MSE=6.437, MAE=1.490\n"
     ]
    }
   ],
   "source": [
    "from sklearn.neighbors import KNeighborsRegressor\n",
    "from sklearn.metrics import r2_score, mean_squared_error, mean_absolute_error\n",
    "\n",
    "# Lista dei valori di k da testare, includendo anche k=50\n",
    "k_values = list(range(1, 128))\n",
    "\n",
    "# Dizionari per memorizzare i risultati\n",
    "results = {\n",
    "    'k': [],\n",
    "    'R2': [],\n",
    "    'MSE': [],\n",
    "    'MAE': []\n",
    "}\n",
    "\n",
    "# Loop attraverso i diversi valori di k\n",
    "for k in k_values:\n",
    "    # Crea e addestra il modello\n",
    "    reg = KNeighborsRegressor(n_neighbors=k)\n",
    "    reg.fit(X_train_scaled, y_train)\n",
    "    \n",
    "    # Fai le previsioni sui dati di test\n",
    "    y_pred = reg.predict(X_test_scaled)\n",
    "    \n",
    "    # Calcola le metriche\n",
    "    r2 = r2_score(y_test, y_pred)\n",
    "    mse = mean_squared_error(y_test, y_pred)\n",
    "    mae = mean_absolute_error(y_test, y_pred)\n",
    "    \n",
    "    # Memorizza i risultati\n",
    "    results['k'].append(k)\n",
    "    results['R2'].append(r2)\n",
    "    results['MSE'].append(mse)\n",
    "    results['MAE'].append(mae)\n",
    "\n",
    "# Stampa i risultati\n",
    "for i in range(len(k_values)):\n",
    "    print(f\"k={results['k'][i]}: R2={results['R2'][i]:.3f}, MSE={results['MSE'][i]:.3f}, MAE={results['MAE'][i]:.3f}\")"
   ]
  },
  {
   "cell_type": "code",
   "execution_count": 154,
   "metadata": {},
   "outputs": [],
   "source": [
    "# Creiamo il modello di regressione lineare\n",
    "model = KNeighborsRegressor(n_neighbors = 13)\n",
    "\n",
    "# Addestriamo il modello sui dati di addestramento\n",
    "model.fit(X_train_scaled, y_train)\n",
    "\n",
    "# Facciamo previsioni sui dati di test\n",
    "y_pred = model.predict(X_test_scaled)"
   ]
  },
  {
   "cell_type": "code",
   "execution_count": 155,
   "metadata": {},
   "outputs": [
    {
     "name": "stdout",
     "output_type": "stream",
     "text": [
      "R2: 0.686\n",
      "MSE: 5.669\n",
      "MAE: 1.350\n"
     ]
    }
   ],
   "source": [
    "print('R2: %.3f' % r2_score(y_test, y_pred))\n",
    "print('MSE: %.3f' % mean_squared_error(y_test, y_pred))\n",
    "print('MAE: %.3f' % mean_absolute_error(y_test, y_pred))"
   ]
  },
  {
   "cell_type": "markdown",
   "metadata": {},
   "source": [
    "## PROVA"
   ]
  },
  {
   "cell_type": "code",
   "execution_count": 34,
   "metadata": {},
   "outputs": [
    {
     "data": {
      "text/html": [
       "<div>\n",
       "<style scoped>\n",
       "    .dataframe tbody tr th:only-of-type {\n",
       "        vertical-align: middle;\n",
       "    }\n",
       "\n",
       "    .dataframe tbody tr th {\n",
       "        vertical-align: top;\n",
       "    }\n",
       "\n",
       "    .dataframe thead th {\n",
       "        text-align: right;\n",
       "    }\n",
       "</style>\n",
       "<table border=\"1\" class=\"dataframe\">\n",
       "  <thead>\n",
       "    <tr style=\"text-align: right;\">\n",
       "      <th></th>\n",
       "      <th>originalTitle</th>\n",
       "      <th>rating</th>\n",
       "      <th>startYear</th>\n",
       "      <th>runtimeMinutes</th>\n",
       "      <th>awardWins</th>\n",
       "      <th>numVotes</th>\n",
       "      <th>totalImages</th>\n",
       "      <th>totalVideos</th>\n",
       "      <th>totalCredits</th>\n",
       "      <th>titleType</th>\n",
       "      <th>AwNmExWins</th>\n",
       "      <th>canHaveEpisodes</th>\n",
       "      <th>isAdult</th>\n",
       "      <th>numRegions</th>\n",
       "      <th>countryOfOrigin</th>\n",
       "      <th>genres</th>\n",
       "      <th>ratingMean</th>\n",
       "      <th>ReviewsTotal</th>\n",
       "      <th>averageRating</th>\n",
       "    </tr>\n",
       "  </thead>\n",
       "  <tbody>\n",
       "    <tr>\n",
       "      <th>0</th>\n",
       "      <td>Geologist of Animal Collective Performs Live a...</td>\n",
       "      <td>(9, 10]</td>\n",
       "      <td>2015</td>\n",
       "      <td>21</td>\n",
       "      <td>0.0</td>\n",
       "      <td>2.772589</td>\n",
       "      <td>2.079442</td>\n",
       "      <td>1.098612</td>\n",
       "      <td>11</td>\n",
       "      <td>video</td>\n",
       "      <td>0.0</td>\n",
       "      <td>False</td>\n",
       "      <td>False</td>\n",
       "      <td>1</td>\n",
       "      <td>['US']</td>\n",
       "      <td>Music,Short</td>\n",
       "      <td>9.5</td>\n",
       "      <td>0.000000</td>\n",
       "      <td>9.6</td>\n",
       "    </tr>\n",
       "    <tr>\n",
       "      <th>1</th>\n",
       "      <td>Shan gou 1999</td>\n",
       "      <td>(4, 5]</td>\n",
       "      <td>1999</td>\n",
       "      <td>93</td>\n",
       "      <td>0.0</td>\n",
       "      <td>5.720312</td>\n",
       "      <td>2.397895</td>\n",
       "      <td>0.000000</td>\n",
       "      <td>40</td>\n",
       "      <td>movie</td>\n",
       "      <td>0.0</td>\n",
       "      <td>False</td>\n",
       "      <td>False</td>\n",
       "      <td>4</td>\n",
       "      <td>['HK']</td>\n",
       "      <td>Horror</td>\n",
       "      <td>4.5</td>\n",
       "      <td>2.890372</td>\n",
       "      <td>4.3</td>\n",
       "    </tr>\n",
       "    <tr>\n",
       "      <th>2</th>\n",
       "      <td>The Craftsman: Preserving the Last Higgins Boat</td>\n",
       "      <td>(8, 9]</td>\n",
       "      <td>2023</td>\n",
       "      <td>113</td>\n",
       "      <td>0.0</td>\n",
       "      <td>2.397895</td>\n",
       "      <td>1.098612</td>\n",
       "      <td>0.000000</td>\n",
       "      <td>6</td>\n",
       "      <td>tvSpecial</td>\n",
       "      <td>0.0</td>\n",
       "      <td>False</td>\n",
       "      <td>False</td>\n",
       "      <td>1</td>\n",
       "      <td>['US']</td>\n",
       "      <td>Reality-TV</td>\n",
       "      <td>8.5</td>\n",
       "      <td>0.000000</td>\n",
       "      <td>8.8</td>\n",
       "    </tr>\n",
       "    <tr>\n",
       "      <th>3</th>\n",
       "      <td>Week 3: Tuesday</td>\n",
       "      <td>(6, 7]</td>\n",
       "      <td>2020</td>\n",
       "      <td>40</td>\n",
       "      <td>0.0</td>\n",
       "      <td>2.484907</td>\n",
       "      <td>0.000000</td>\n",
       "      <td>0.000000</td>\n",
       "      <td>52</td>\n",
       "      <td>tvEpisode</td>\n",
       "      <td>0.0</td>\n",
       "      <td>False</td>\n",
       "      <td>False</td>\n",
       "      <td>1</td>\n",
       "      <td>['GB']</td>\n",
       "      <td>Game-Show</td>\n",
       "      <td>6.5</td>\n",
       "      <td>0.000000</td>\n",
       "      <td>6.9</td>\n",
       "    </tr>\n",
       "    <tr>\n",
       "      <th>4</th>\n",
       "      <td>Traumhaus</td>\n",
       "      <td>(5, 6]</td>\n",
       "      <td>1999</td>\n",
       "      <td>90</td>\n",
       "      <td>0.0</td>\n",
       "      <td>4.983607</td>\n",
       "      <td>1.098612</td>\n",
       "      <td>0.000000</td>\n",
       "      <td>44</td>\n",
       "      <td>tvEpisode</td>\n",
       "      <td>0.0</td>\n",
       "      <td>False</td>\n",
       "      <td>False</td>\n",
       "      <td>1</td>\n",
       "      <td>['DE']</td>\n",
       "      <td>Crime,Drama,Mystery</td>\n",
       "      <td>5.5</td>\n",
       "      <td>0.693147</td>\n",
       "      <td>6.0</td>\n",
       "    </tr>\n",
       "  </tbody>\n",
       "</table>\n",
       "</div>"
      ],
      "text/plain": [
       "                                       originalTitle   rating  startYear  \\\n",
       "0  Geologist of Animal Collective Performs Live a...  (9, 10]       2015   \n",
       "1                                      Shan gou 1999   (4, 5]       1999   \n",
       "2    The Craftsman: Preserving the Last Higgins Boat   (8, 9]       2023   \n",
       "3                                    Week 3: Tuesday   (6, 7]       2020   \n",
       "4                                          Traumhaus   (5, 6]       1999   \n",
       "\n",
       "   runtimeMinutes  awardWins  numVotes  totalImages  totalVideos  \\\n",
       "0              21        0.0  2.772589     2.079442     1.098612   \n",
       "1              93        0.0  5.720312     2.397895     0.000000   \n",
       "2             113        0.0  2.397895     1.098612     0.000000   \n",
       "3              40        0.0  2.484907     0.000000     0.000000   \n",
       "4              90        0.0  4.983607     1.098612     0.000000   \n",
       "\n",
       "   totalCredits  titleType  AwNmExWins  canHaveEpisodes  isAdult  numRegions  \\\n",
       "0            11      video         0.0            False    False           1   \n",
       "1            40      movie         0.0            False    False           4   \n",
       "2             6  tvSpecial         0.0            False    False           1   \n",
       "3            52  tvEpisode         0.0            False    False           1   \n",
       "4            44  tvEpisode         0.0            False    False           1   \n",
       "\n",
       "  countryOfOrigin               genres  ratingMean  ReviewsTotal  \\\n",
       "0          ['US']          Music,Short         9.5      0.000000   \n",
       "1          ['HK']               Horror         4.5      2.890372   \n",
       "2          ['US']           Reality-TV         8.5      0.000000   \n",
       "3          ['GB']            Game-Show         6.5      0.000000   \n",
       "4          ['DE']  Crime,Drama,Mystery         5.5      0.693147   \n",
       "\n",
       "   averageRating  \n",
       "0            9.6  \n",
       "1            4.3  \n",
       "2            8.8  \n",
       "3            6.9  \n",
       "4            6.0  "
      ]
     },
     "execution_count": 34,
     "metadata": {},
     "output_type": "execute_result"
    }
   ],
   "source": [
    "import pandas as pd\n",
    "\n",
    "# Supponiamo di avere due DataFrame df1 e df2\n",
    "df_train_reg = pd.read_csv('train_reg.csv')\n",
    "\n",
    "df_train = pd.read_csv('train_log.csv')\n",
    "\n",
    "# Eseguiamo la left join\n",
    "df_train = pd.merge(df_train, df_train_reg, on='originalTitle', how='left')\n",
    "df_train.head()\n",
    "\n",
    "df_test_reg = pd.read_csv('test_reg.csv')\n",
    "\n",
    "df_test = pd.read_csv('test_log.csv')\n",
    "\n",
    "# Eseguiamo la left join\n",
    "df_test = pd.merge(df_test, df_test_reg, on='originalTitle', how='left')\n",
    "df_test.head()"
   ]
  },
  {
   "cell_type": "code",
   "execution_count": 35,
   "metadata": {},
   "outputs": [],
   "source": [
    "del df_train['originalTitle']\n",
    "del df_train['rating']\n",
    "del df_train['genres']\n",
    "del df_train['countryOfOrigin']\n",
    "del df_train['isAdult']\n",
    "del df_train['canHaveEpisodes']\n",
    "del df_train['titleType'] \n",
    "del df_train['ratingMean']"
   ]
  },
  {
   "cell_type": "code",
   "execution_count": 36,
   "metadata": {},
   "outputs": [],
   "source": [
    "del df_test['originalTitle']\n",
    "del df_test['rating']\n",
    "del df_test['genres']\n",
    "del df_test['countryOfOrigin']\n",
    "del df_test['isAdult']\n",
    "del df_test['canHaveEpisodes']\n",
    "del df_test['titleType'] \n",
    "del df_test['ratingMean']"
   ]
  },
  {
   "cell_type": "markdown",
   "metadata": {},
   "source": [
    "#### Reg"
   ]
  },
  {
   "cell_type": "code",
   "execution_count": 37,
   "metadata": {},
   "outputs": [],
   "source": [
    "from sklearn.metrics import r2_score, mean_squared_error, mean_absolute_error\n",
    "from sklearn.linear_model import LinearRegression, Ridge, Lasso"
   ]
  },
  {
   "cell_type": "code",
   "execution_count": 38,
   "metadata": {},
   "outputs": [],
   "source": [
    "# Selezioniamo le variabili indipendenti (input) e la variabile dipendente (target)\n",
    "X_train = df_train.drop(columns='ReviewsTotal')\n",
    "y_train = df_train['ReviewsTotal']\n",
    "\n",
    "X_test = df_test.drop(columns='ReviewsTotal')\n",
    "y_test = df_test['ReviewsTotal']\n",
    "# Dividiamo i dati in set di addestramento e di test\n",
    "#X_train, X_test, y_train, y_test = train_test_split(X, y, test_size=0.4)\n",
    "\n",
    "# Creiamo il modello di regressione lineare\n",
    "model = LinearRegression()"
   ]
  },
  {
   "cell_type": "code",
   "execution_count": 39,
   "metadata": {},
   "outputs": [],
   "source": [
    "from sklearn.preprocessing import StandardScaler\n",
    "\n",
    "scaler = StandardScaler()\n",
    "X_train_scaled = scaler.fit_transform(X_train)\n",
    "\n",
    "X_test_scaled = scaler.fit_transform(X_test)\n",
    "\n",
    "X_train_scaled = pd.DataFrame(X_train_scaled, columns=X_train.columns)\n",
    "X_test_scaled = pd.DataFrame(X_test_scaled, columns=X_test.columns)"
   ]
  },
  {
   "cell_type": "code",
   "execution_count": 40,
   "metadata": {},
   "outputs": [],
   "source": [
    "X_train_lin = X_train_scaled\n",
    "X_test_lin = X_test_scaled"
   ]
  },
  {
   "cell_type": "code",
   "execution_count": 41,
   "metadata": {},
   "outputs": [
    {
     "name": "stdout",
     "output_type": "stream",
     "text": [
      "          feature   VIF\n",
      "0       startYear  1.13\n",
      "1  runtimeMinutes  1.12\n",
      "2       awardWins  1.89\n",
      "3        numVotes  1.99\n",
      "4     totalImages  1.64\n",
      "5     totalVideos  1.49\n",
      "6    totalCredits  1.50\n",
      "7      AwNmExWins  2.14\n",
      "8      numRegions  1.68\n",
      "9   averageRating  1.09\n"
     ]
    }
   ],
   "source": [
    "from statsmodels.stats.outliers_influence import variance_inflation_factor\n",
    "import pandas as pd\n",
    "\n",
    "# Supponiamo che 'X' sia il DataFrame delle caratteristiche\n",
    "vif_data = pd.DataFrame()\n",
    "vif_data[\"feature\"] = X_train_lin.columns\n",
    "vif_data[\"VIF\"] = [variance_inflation_factor(X_train_lin.values, i) for i in range(len(X_train_lin.columns))]\n",
    "\n",
    "print(vif_data.round(2))"
   ]
  },
  {
   "cell_type": "code",
   "execution_count": 42,
   "metadata": {},
   "outputs": [
    {
     "name": "stdout",
     "output_type": "stream",
     "text": [
      "Coefficients: \n",
      " [-0.0890273  0.0562097  0.0280731  0.7212318  0.0898876  0.1157562\n",
      " -0.025385   0.042847   0.1975143 -0.0680605]\n",
      "Intercept: \n",
      " 0.8503549607561084\n"
     ]
    }
   ],
   "source": [
    "# Addestriamo il modello sui dati di addestramento\n",
    "model.fit(X_train_lin, y_train)\n",
    "\n",
    "print('Coefficients: \\n', model.coef_.round(7))\n",
    "print('Intercept: \\n', model.intercept_)\n",
    "\n",
    "# Facciamo previsioni sui dati di test\n",
    "y_pred = model.predict(X_test_lin)"
   ]
  },
  {
   "cell_type": "code",
   "execution_count": 43,
   "metadata": {},
   "outputs": [
    {
     "name": "stdout",
     "output_type": "stream",
     "text": [
      "R2: 0.724\n",
      "MSE: 0.393\n",
      "MAE: 0.480\n"
     ]
    }
   ],
   "source": [
    "print('R2: %.3f' % r2_score(y_test, y_pred))\n",
    "print('MSE: %.3f' % mean_squared_error(y_test, y_pred))\n",
    "print('MAE: %.3f' % mean_absolute_error(y_test, y_pred))"
   ]
  },
  {
   "cell_type": "markdown",
   "metadata": {},
   "source": [
    "#### Ridge"
   ]
  },
  {
   "cell_type": "code",
   "execution_count": 44,
   "metadata": {},
   "outputs": [],
   "source": [
    "# Puoi usare la cross-validation per trovare il miglior valore di alpha\n",
    "from sklearn.model_selection import GridSearchCV\n",
    "\n",
    "# Definire i valori di alpha da testare\n",
    "alphas = np.logspace(-4, 4, 50)\n",
    "#alphas = [0.0001]\n",
    "\n",
    "ridge = Ridge()\n",
    "param_grid = {'alpha': alphas}\n",
    "grid_search = GridSearchCV(ridge, param_grid, cv=5, scoring='neg_mean_squared_error')"
   ]
  },
  {
   "cell_type": "code",
   "execution_count": 45,
   "metadata": {},
   "outputs": [
    {
     "name": "stdout",
     "output_type": "stream",
     "text": [
      "Coefficients: \n",
      " [-0.08902734  0.05620967  0.02807305  0.72123178  0.08988761  0.1157562\n",
      " -0.02538495  0.04284702  0.19751426 -0.06806047]\n",
      "Intercept: \n",
      " 0.8503549607561084\n"
     ]
    }
   ],
   "source": [
    "grid_search.fit(X_train_scaled, y_train)\n",
    "\n",
    "print('Coefficients: \\n', model.coef_)\n",
    "print('Intercept: \\n', model.intercept_)"
   ]
  },
  {
   "cell_type": "code",
   "execution_count": 46,
   "metadata": {},
   "outputs": [
    {
     "name": "stdout",
     "output_type": "stream",
     "text": [
      "Best alpha: 11.513953993264458\n",
      "R²: 0.7239693940110903\n",
      "Mean Squared Error (MSE): 0.39315885526533095\n",
      "Mean Absolute Error (MAE): 0.4801843238493048\n"
     ]
    }
   ],
   "source": [
    "from sklearn.metrics import r2_score, mean_squared_error, mean_absolute_error\n",
    "\n",
    "best_alpha = grid_search.best_params_['alpha']\n",
    "print(f'Best alpha: {best_alpha}')\n",
    "\n",
    "best_ridge_model = grid_search.best_estimator_\n",
    "y_pred = best_ridge_model.predict(X_test_scaled)\n",
    "\n",
    "# Calcolare l'R²\n",
    "r2 = r2_score(y_test, y_pred)\n",
    "print(f'R²: {r2}')\n",
    "\n",
    "# Calcolare il Mean Squared Error (MSE)\n",
    "mse = mean_squared_error(y_test, y_pred)\n",
    "print(f'Mean Squared Error (MSE): {mse}')\n",
    "\n",
    "# Calcolare il Mean Absolute Error (MAE)\n",
    "mae = mean_absolute_error(y_test, y_pred)\n",
    "print(f'Mean Absolute Error (MAE): {mae}')"
   ]
  },
  {
   "cell_type": "markdown",
   "metadata": {},
   "source": [
    "#### Lasso"
   ]
  },
  {
   "cell_type": "code",
   "execution_count": 47,
   "metadata": {},
   "outputs": [],
   "source": [
    "# Puoi usare la cross-validation per trovare il miglior valore di alpha\n",
    "from sklearn.model_selection import GridSearchCV\n",
    "\n",
    "# Definire i valori di alpha da testare\n",
    "alphas = np.logspace(-4, 4, 50)\n",
    "\n",
    "\n",
    "lasso = Lasso()\n",
    "param_grid = {'alpha': alphas}\n",
    "grid_search = GridSearchCV(lasso, param_grid, cv=5, scoring='neg_mean_squared_error')"
   ]
  },
  {
   "cell_type": "code",
   "execution_count": 48,
   "metadata": {},
   "outputs": [
    {
     "name": "stdout",
     "output_type": "stream",
     "text": [
      "Coefficients: \n",
      " [-0.08902734  0.05620967  0.02807305  0.72123178  0.08988761  0.1157562\n",
      " -0.02538495  0.04284702  0.19751426 -0.06806047]\n",
      "Intercept: \n",
      " 0.8503549607561084\n"
     ]
    }
   ],
   "source": [
    "grid_search.fit(X_train_scaled, y_train)\n",
    "\n",
    "print('Coefficients: \\n', model.coef_)\n",
    "print('Intercept: \\n', model.intercept_)"
   ]
  },
  {
   "cell_type": "code",
   "execution_count": 49,
   "metadata": {},
   "outputs": [
    {
     "name": "stdout",
     "output_type": "stream",
     "text": [
      "Best alpha: 0.0001\n",
      "R²: 0.7239546094848326\n",
      "Mean Squared Error (MSE): 0.3931799133193763\n",
      "Mean Absolute Error (MAE): 0.4801807863747728\n"
     ]
    }
   ],
   "source": [
    "from sklearn.metrics import r2_score, mean_squared_error, mean_absolute_error\n",
    "\n",
    "best_alpha = grid_search.best_params_['alpha']\n",
    "print(f'Best alpha: {best_alpha}')\n",
    "\n",
    "best_lasso_model = grid_search.best_estimator_\n",
    "y_pred = best_lasso_model.predict(X_test_scaled)\n",
    "\n",
    "# Calcolare l'R²\n",
    "r2 = r2_score(y_test, y_pred)\n",
    "print(f'R²: {r2}')\n",
    "\n",
    "# Calcolare il Mean Squared Error (MSE)\n",
    "mse = mean_squared_error(y_test, y_pred)\n",
    "print(f'Mean Squared Error (MSE): {mse}')\n",
    "\n",
    "# Calcolare il Mean Absolute Error (MAE)\n",
    "mae = mean_absolute_error(y_test, y_pred)\n",
    "print(f'Mean Absolute Error (MAE): {mae}')"
   ]
  },
  {
   "cell_type": "markdown",
   "metadata": {},
   "source": [
    "#### Decision Tree"
   ]
  },
  {
   "cell_type": "code",
   "execution_count": 50,
   "metadata": {},
   "outputs": [],
   "source": [
    "from sklearn.metrics import r2_score, mean_squared_error, mean_absolute_error\n",
    "from sklearn.linear_model import LinearRegression, Ridge, Lasso\n",
    "from sklearn.neighbors import KNeighborsRegressor\n",
    "from sklearn.tree import DecisionTreeRegressor"
   ]
  },
  {
   "cell_type": "code",
   "execution_count": 51,
   "metadata": {},
   "outputs": [
    {
     "name": "stdout",
     "output_type": "stream",
     "text": [
      "Best parameters found:  {'max_depth': 8, 'min_samples_leaf': 14, 'min_samples_split': 19}\n",
      "Best R2:  0.7399434680965781\n",
      "Best MSE:  0.35563384662170394\n",
      "Best MAE:  0.4393734542384845\n"
     ]
    }
   ],
   "source": [
    "from sklearn.model_selection import RandomizedSearchCV, cross_val_score\n",
    "from sklearn.metrics import make_scorer, r2_score, mean_squared_error, mean_absolute_error\n",
    "from sklearn.tree import DecisionTreeRegressor\n",
    "from scipy.stats import randint\n",
    "import numpy as np\n",
    "\n",
    "# Definisci la griglia dei parametri (includendo max_depth, min_samples_split e min_samples_leaf)\n",
    "param_dist = {\n",
    "    'max_depth': randint(1, 20),\n",
    "    'min_samples_split': randint(2, 20),\n",
    "    'min_samples_leaf': randint(1, 20)\n",
    "}\n",
    "\n",
    "# Crea il modello\n",
    "model = DecisionTreeRegressor()\n",
    "\n",
    "# Definisci le metriche di valutazione\n",
    "scoring = {\n",
    "    'R2': make_scorer(r2_score),\n",
    "    'MSE': make_scorer(mean_squared_error),\n",
    "    'MAE': make_scorer(mean_absolute_error)\n",
    "}\n",
    "\n",
    "# Esegui la Random Search\n",
    "random_search = RandomizedSearchCV(model, param_distributions=param_dist, n_iter=100, cv=10, scoring=scoring, refit='R2', random_state=42)\n",
    "random_search.fit(X_train, y_train)\n",
    "\n",
    "# Stampa i migliori parametri trovati\n",
    "print(\"Best parameters found: \", random_search.best_params_)\n",
    "\n",
    "# Stampa i punteggi per le metriche\n",
    "print(\"Best R2: \", random_search.best_score_)\n",
    "print(\"Best MSE: \", random_search.cv_results_['mean_test_MSE'][random_search.best_index_])\n",
    "print(\"Best MAE: \", random_search.cv_results_['mean_test_MAE'][random_search.best_index_])"
   ]
  },
  {
   "cell_type": "code",
   "execution_count": 52,
   "metadata": {},
   "outputs": [],
   "source": [
    "# Creiamo il modello di regressione lineare\n",
    "model = DecisionTreeRegressor(max_depth=8, min_samples_leaf = 14, min_samples_split=19)\n",
    "\n",
    "# Addestriamo il modello sui dati di addestramento\n",
    "model.fit(X_train, y_train)\n",
    "\n",
    "# Facciamo previsioni sui dati di test\n",
    "y_pred = model.predict(X_test)"
   ]
  },
  {
   "cell_type": "code",
   "execution_count": 53,
   "metadata": {},
   "outputs": [
    {
     "name": "stdout",
     "output_type": "stream",
     "text": [
      "R2: 0.735\n",
      "MSE: 0.377\n",
      "MAE: 0.453\n"
     ]
    }
   ],
   "source": [
    "print('R2: %.3f' % r2_score(y_test, y_pred))\n",
    "print('MSE: %.3f' % mean_squared_error(y_test, y_pred))\n",
    "print('MAE: %.3f' % mean_absolute_error(y_test, y_pred))"
   ]
  },
  {
   "cell_type": "markdown",
   "metadata": {},
   "source": [
    "#### K-nn"
   ]
  },
  {
   "cell_type": "code",
   "execution_count": 54,
   "metadata": {},
   "outputs": [
    {
     "name": "stdout",
     "output_type": "stream",
     "text": [
      "k=1: R2=0.564, MSE=0.622, MAE=0.520\n",
      "k=2: R2=0.658, MSE=0.487, MAE=0.478\n",
      "k=3: R2=0.693, MSE=0.438, MAE=0.467\n",
      "k=4: R2=0.709, MSE=0.415, MAE=0.459\n",
      "k=5: R2=0.718, MSE=0.401, MAE=0.455\n",
      "k=6: R2=0.723, MSE=0.394, MAE=0.453\n",
      "k=7: R2=0.726, MSE=0.390, MAE=0.452\n",
      "k=8: R2=0.728, MSE=0.387, MAE=0.451\n",
      "k=9: R2=0.729, MSE=0.386, MAE=0.452\n",
      "k=10: R2=0.731, MSE=0.383, MAE=0.451\n",
      "k=11: R2=0.734, MSE=0.379, MAE=0.449\n",
      "k=12: R2=0.734, MSE=0.378, MAE=0.450\n",
      "k=13: R2=0.735, MSE=0.377, MAE=0.451\n",
      "k=14: R2=0.736, MSE=0.376, MAE=0.451\n",
      "k=15: R2=0.736, MSE=0.376, MAE=0.452\n",
      "k=16: R2=0.736, MSE=0.376, MAE=0.452\n",
      "k=17: R2=0.736, MSE=0.376, MAE=0.453\n",
      "k=18: R2=0.736, MSE=0.376, MAE=0.454\n",
      "k=19: R2=0.736, MSE=0.376, MAE=0.454\n",
      "k=20: R2=0.736, MSE=0.376, MAE=0.454\n",
      "k=21: R2=0.736, MSE=0.377, MAE=0.455\n",
      "k=22: R2=0.735, MSE=0.378, MAE=0.456\n",
      "k=23: R2=0.735, MSE=0.378, MAE=0.456\n",
      "k=24: R2=0.735, MSE=0.377, MAE=0.457\n",
      "k=25: R2=0.735, MSE=0.377, MAE=0.457\n",
      "k=26: R2=0.735, MSE=0.377, MAE=0.457\n",
      "k=27: R2=0.735, MSE=0.377, MAE=0.457\n",
      "k=28: R2=0.735, MSE=0.377, MAE=0.458\n",
      "k=29: R2=0.735, MSE=0.377, MAE=0.458\n",
      "k=30: R2=0.735, MSE=0.378, MAE=0.459\n",
      "k=31: R2=0.735, MSE=0.377, MAE=0.459\n",
      "k=32: R2=0.736, MSE=0.377, MAE=0.458\n",
      "k=33: R2=0.736, MSE=0.376, MAE=0.458\n",
      "k=34: R2=0.736, MSE=0.376, MAE=0.458\n",
      "k=35: R2=0.736, MSE=0.375, MAE=0.459\n",
      "k=36: R2=0.737, MSE=0.375, MAE=0.459\n",
      "k=37: R2=0.737, MSE=0.375, MAE=0.459\n",
      "k=38: R2=0.737, MSE=0.375, MAE=0.459\n",
      "k=39: R2=0.737, MSE=0.375, MAE=0.460\n",
      "k=40: R2=0.737, MSE=0.375, MAE=0.460\n",
      "k=41: R2=0.737, MSE=0.374, MAE=0.460\n",
      "k=42: R2=0.738, MSE=0.373, MAE=0.460\n",
      "k=43: R2=0.738, MSE=0.373, MAE=0.460\n",
      "k=44: R2=0.739, MSE=0.372, MAE=0.460\n",
      "k=45: R2=0.739, MSE=0.372, MAE=0.459\n",
      "k=46: R2=0.739, MSE=0.372, MAE=0.460\n",
      "k=47: R2=0.739, MSE=0.372, MAE=0.460\n",
      "k=48: R2=0.739, MSE=0.372, MAE=0.460\n",
      "k=49: R2=0.739, MSE=0.372, MAE=0.460\n",
      "k=50: R2=0.739, MSE=0.372, MAE=0.460\n",
      "k=51: R2=0.739, MSE=0.372, MAE=0.460\n",
      "k=52: R2=0.739, MSE=0.372, MAE=0.460\n",
      "k=53: R2=0.739, MSE=0.372, MAE=0.460\n",
      "k=54: R2=0.738, MSE=0.373, MAE=0.461\n",
      "k=55: R2=0.738, MSE=0.373, MAE=0.461\n",
      "k=56: R2=0.738, MSE=0.373, MAE=0.461\n",
      "k=57: R2=0.738, MSE=0.373, MAE=0.461\n",
      "k=58: R2=0.738, MSE=0.373, MAE=0.461\n",
      "k=59: R2=0.738, MSE=0.373, MAE=0.461\n",
      "k=60: R2=0.738, MSE=0.374, MAE=0.462\n",
      "k=61: R2=0.738, MSE=0.374, MAE=0.462\n",
      "k=62: R2=0.738, MSE=0.374, MAE=0.462\n",
      "k=63: R2=0.738, MSE=0.374, MAE=0.462\n",
      "k=64: R2=0.737, MSE=0.374, MAE=0.462\n",
      "k=65: R2=0.737, MSE=0.374, MAE=0.463\n",
      "k=66: R2=0.737, MSE=0.375, MAE=0.463\n",
      "k=67: R2=0.737, MSE=0.375, MAE=0.463\n",
      "k=68: R2=0.737, MSE=0.375, MAE=0.463\n",
      "k=69: R2=0.736, MSE=0.376, MAE=0.463\n",
      "k=70: R2=0.736, MSE=0.376, MAE=0.464\n",
      "k=71: R2=0.736, MSE=0.376, MAE=0.464\n",
      "k=72: R2=0.736, MSE=0.376, MAE=0.464\n",
      "k=73: R2=0.736, MSE=0.377, MAE=0.464\n",
      "k=74: R2=0.735, MSE=0.377, MAE=0.465\n",
      "k=75: R2=0.735, MSE=0.377, MAE=0.465\n",
      "k=76: R2=0.735, MSE=0.378, MAE=0.465\n",
      "k=77: R2=0.734, MSE=0.378, MAE=0.466\n",
      "k=78: R2=0.734, MSE=0.378, MAE=0.466\n",
      "k=79: R2=0.734, MSE=0.379, MAE=0.466\n",
      "k=80: R2=0.734, MSE=0.379, MAE=0.466\n",
      "k=81: R2=0.734, MSE=0.379, MAE=0.467\n",
      "k=82: R2=0.734, MSE=0.379, MAE=0.467\n",
      "k=83: R2=0.734, MSE=0.379, MAE=0.467\n",
      "k=84: R2=0.734, MSE=0.379, MAE=0.467\n",
      "k=85: R2=0.734, MSE=0.379, MAE=0.467\n",
      "k=86: R2=0.734, MSE=0.379, MAE=0.467\n",
      "k=87: R2=0.734, MSE=0.379, MAE=0.467\n",
      "k=88: R2=0.734, MSE=0.380, MAE=0.468\n",
      "k=89: R2=0.733, MSE=0.380, MAE=0.468\n",
      "k=90: R2=0.733, MSE=0.380, MAE=0.468\n",
      "k=91: R2=0.733, MSE=0.380, MAE=0.468\n",
      "k=92: R2=0.733, MSE=0.381, MAE=0.469\n",
      "k=93: R2=0.732, MSE=0.381, MAE=0.469\n",
      "k=94: R2=0.732, MSE=0.381, MAE=0.469\n",
      "k=95: R2=0.732, MSE=0.381, MAE=0.469\n",
      "k=96: R2=0.732, MSE=0.382, MAE=0.469\n",
      "k=97: R2=0.732, MSE=0.382, MAE=0.469\n",
      "k=98: R2=0.732, MSE=0.382, MAE=0.470\n",
      "k=99: R2=0.732, MSE=0.382, MAE=0.470\n",
      "k=100: R2=0.731, MSE=0.383, MAE=0.470\n",
      "k=101: R2=0.731, MSE=0.383, MAE=0.470\n",
      "k=102: R2=0.731, MSE=0.384, MAE=0.470\n",
      "k=103: R2=0.730, MSE=0.384, MAE=0.471\n",
      "k=104: R2=0.730, MSE=0.384, MAE=0.471\n",
      "k=105: R2=0.730, MSE=0.385, MAE=0.471\n",
      "k=106: R2=0.730, MSE=0.385, MAE=0.471\n",
      "k=107: R2=0.729, MSE=0.385, MAE=0.472\n",
      "k=108: R2=0.729, MSE=0.386, MAE=0.472\n",
      "k=109: R2=0.729, MSE=0.386, MAE=0.472\n",
      "k=110: R2=0.729, MSE=0.386, MAE=0.472\n",
      "k=111: R2=0.728, MSE=0.387, MAE=0.472\n",
      "k=112: R2=0.728, MSE=0.387, MAE=0.472\n",
      "k=113: R2=0.728, MSE=0.387, MAE=0.473\n",
      "k=114: R2=0.728, MSE=0.387, MAE=0.473\n",
      "k=115: R2=0.728, MSE=0.388, MAE=0.473\n",
      "k=116: R2=0.728, MSE=0.388, MAE=0.473\n",
      "k=117: R2=0.727, MSE=0.388, MAE=0.474\n",
      "k=118: R2=0.727, MSE=0.388, MAE=0.474\n",
      "k=119: R2=0.727, MSE=0.388, MAE=0.474\n",
      "k=120: R2=0.727, MSE=0.389, MAE=0.474\n",
      "k=121: R2=0.727, MSE=0.389, MAE=0.474\n",
      "k=122: R2=0.727, MSE=0.389, MAE=0.474\n",
      "k=123: R2=0.727, MSE=0.389, MAE=0.475\n",
      "k=124: R2=0.726, MSE=0.390, MAE=0.475\n",
      "k=125: R2=0.726, MSE=0.390, MAE=0.475\n",
      "k=126: R2=0.726, MSE=0.390, MAE=0.475\n",
      "k=127: R2=0.726, MSE=0.391, MAE=0.475\n"
     ]
    }
   ],
   "source": [
    "from sklearn.neighbors import KNeighborsRegressor\n",
    "from sklearn.metrics import r2_score, mean_squared_error, mean_absolute_error\n",
    "\n",
    "# Lista dei valori di k da testare, includendo anche k=50\n",
    "k_values = list(range(1, 128))\n",
    "\n",
    "# Dizionari per memorizzare i risultati\n",
    "results = {\n",
    "    'k': [],\n",
    "    'R2': [],\n",
    "    'MSE': [],\n",
    "    'MAE': []\n",
    "}\n",
    "\n",
    "# Loop attraverso i diversi valori di k\n",
    "for k in k_values:\n",
    "    # Crea e addestra il modello\n",
    "    reg = KNeighborsRegressor(n_neighbors=k)\n",
    "    reg.fit(X_train_scaled, y_train)\n",
    "    \n",
    "    # Fai le previsioni sui dati di test\n",
    "    y_pred = reg.predict(X_test_scaled)\n",
    "    \n",
    "    # Calcola le metriche\n",
    "    r2 = r2_score(y_test, y_pred)\n",
    "    mse = mean_squared_error(y_test, y_pred)\n",
    "    mae = mean_absolute_error(y_test, y_pred)\n",
    "    \n",
    "    # Memorizza i risultati\n",
    "    results['k'].append(k)\n",
    "    results['R2'].append(r2)\n",
    "    results['MSE'].append(mse)\n",
    "    results['MAE'].append(mae)\n",
    "\n",
    "# Stampa i risultati\n",
    "for i in range(len(k_values)):\n",
    "    print(f\"k={results['k'][i]}: R2={results['R2'][i]:.3f}, MSE={results['MSE'][i]:.3f}, MAE={results['MAE'][i]:.3f}\")"
   ]
  },
  {
   "cell_type": "code",
   "execution_count": 57,
   "metadata": {},
   "outputs": [],
   "source": [
    "# Creiamo il modello di regressione lineare\n",
    "model = KNeighborsRegressor(n_neighbors = 58)\n",
    "\n",
    "# Addestriamo il modello sui dati di addestramento\n",
    "model.fit(X_train_scaled, y_train)\n",
    "\n",
    "# Facciamo previsioni sui dati di test\n",
    "y_pred = model.predict(X_test_scaled)"
   ]
  },
  {
   "cell_type": "code",
   "execution_count": 58,
   "metadata": {},
   "outputs": [
    {
     "name": "stdout",
     "output_type": "stream",
     "text": [
      "R2: 0.738\n",
      "MSE: 0.373\n",
      "MAE: 0.461\n"
     ]
    }
   ],
   "source": [
    "print('R2: %.3f' % r2_score(y_test, y_pred))\n",
    "print('MSE: %.3f' % mean_squared_error(y_test, y_pred))\n",
    "print('MAE: %.3f' % mean_absolute_error(y_test, y_pred))"
   ]
  },
  {
   "cell_type": "code",
   "execution_count": null,
   "metadata": {},
   "outputs": [],
   "source": []
  }
 ],
 "metadata": {
  "kernelspec": {
   "display_name": "Python 3",
   "language": "python",
   "name": "python3"
  },
  "language_info": {
   "codemirror_mode": {
    "name": "ipython",
    "version": 3
   },
   "file_extension": ".py",
   "mimetype": "text/x-python",
   "name": "python",
   "nbconvert_exporter": "python",
   "pygments_lexer": "ipython3",
   "version": "3.13.0"
  }
 },
 "nbformat": 4,
 "nbformat_minor": 2
}
